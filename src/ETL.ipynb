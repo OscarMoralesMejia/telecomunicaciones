{
 "cells": [
  {
   "cell_type": "code",
   "execution_count": 11,
   "metadata": {},
   "outputs": [],
   "source": [
    "import pandas as pd\n",
    "import os\n",
    "from dotenv import load_dotenv\n",
    "from sqlalchemy import create_engine,Table, Column, Integer, String, Float, MetaData\n"
   ]
  },
  {
   "cell_type": "code",
   "execution_count": null,
   "metadata": {},
   "outputs": [],
   "source": [
    "#!pip show python-dotenv"
   ]
  },
  {
   "cell_type": "markdown",
   "metadata": {},
   "source": [
    "# 1.- Accesos Por Tecnología"
   ]
  },
  {
   "cell_type": "code",
   "execution_count": 343,
   "metadata": {},
   "outputs": [],
   "source": [
    "df_acceso_por_tecnologia=pd.read_excel('../DatasetCrudos/Internet.xlsx',sheet_name='Accesos Por Tecnología')"
   ]
  },
  {
   "cell_type": "code",
   "execution_count": 344,
   "metadata": {},
   "outputs": [
    {
     "data": {
      "text/html": [
       "<div>\n",
       "<style scoped>\n",
       "    .dataframe tbody tr th:only-of-type {\n",
       "        vertical-align: middle;\n",
       "    }\n",
       "\n",
       "    .dataframe tbody tr th {\n",
       "        vertical-align: top;\n",
       "    }\n",
       "\n",
       "    .dataframe thead th {\n",
       "        text-align: right;\n",
       "    }\n",
       "</style>\n",
       "<table border=\"1\" class=\"dataframe\">\n",
       "  <thead>\n",
       "    <tr style=\"text-align: right;\">\n",
       "      <th></th>\n",
       "      <th>ADSL</th>\n",
       "      <th>Cablemodem</th>\n",
       "      <th>Fibra óptica</th>\n",
       "      <th>Wireless</th>\n",
       "      <th>Otros</th>\n",
       "      <th>Total</th>\n",
       "    </tr>\n",
       "  </thead>\n",
       "  <tbody>\n",
       "    <tr>\n",
       "      <th>count</th>\n",
       "      <td>9.600000e+02</td>\n",
       "      <td>9.600000e+02</td>\n",
       "      <td>9.600000e+02</td>\n",
       "      <td>960.00000</td>\n",
       "      <td>960.000000</td>\n",
       "      <td>9.600000e+02</td>\n",
       "    </tr>\n",
       "    <tr>\n",
       "      <th>mean</th>\n",
       "      <td>1.171007e+05</td>\n",
       "      <td>1.816350e+05</td>\n",
       "      <td>4.428212e+04</td>\n",
       "      <td>12071.28750</td>\n",
       "      <td>6451.996875</td>\n",
       "      <td>3.615411e+05</td>\n",
       "    </tr>\n",
       "    <tr>\n",
       "      <th>std</th>\n",
       "      <td>2.411026e+05</td>\n",
       "      <td>4.461057e+05</td>\n",
       "      <td>1.681546e+05</td>\n",
       "      <td>20544.30774</td>\n",
       "      <td>11192.518329</td>\n",
       "      <td>7.778954e+05</td>\n",
       "    </tr>\n",
       "    <tr>\n",
       "      <th>min</th>\n",
       "      <td>3.296000e+03</td>\n",
       "      <td>0.000000e+00</td>\n",
       "      <td>0.000000e+00</td>\n",
       "      <td>0.00000</td>\n",
       "      <td>2.000000</td>\n",
       "      <td>1.255700e+04</td>\n",
       "    </tr>\n",
       "    <tr>\n",
       "      <th>25%</th>\n",
       "      <td>2.123025e+04</td>\n",
       "      <td>1.054450e+04</td>\n",
       "      <td>3.470000e+02</td>\n",
       "      <td>676.00000</td>\n",
       "      <td>330.000000</td>\n",
       "      <td>5.900025e+04</td>\n",
       "    </tr>\n",
       "    <tr>\n",
       "      <th>50%</th>\n",
       "      <td>4.547550e+04</td>\n",
       "      <td>3.967000e+04</td>\n",
       "      <td>2.541000e+03</td>\n",
       "      <td>4947.00000</td>\n",
       "      <td>1881.000000</td>\n",
       "      <td>1.111385e+05</td>\n",
       "    </tr>\n",
       "    <tr>\n",
       "      <th>75%</th>\n",
       "      <td>9.190500e+04</td>\n",
       "      <td>7.549325e+04</td>\n",
       "      <td>2.347675e+04</td>\n",
       "      <td>13694.25000</td>\n",
       "      <td>7278.750000</td>\n",
       "      <td>1.883518e+05</td>\n",
       "    </tr>\n",
       "    <tr>\n",
       "      <th>max</th>\n",
       "      <td>1.586343e+06</td>\n",
       "      <td>2.797700e+06</td>\n",
       "      <td>1.784593e+06</td>\n",
       "      <td>138405.00000</td>\n",
       "      <td>73415.000000</td>\n",
       "      <td>5.011620e+06</td>\n",
       "    </tr>\n",
       "  </tbody>\n",
       "</table>\n",
       "</div>"
      ],
      "text/plain": [
       "               ADSL    Cablemodem  Fibra óptica      Wireless         Otros  \\\n",
       "count  9.600000e+02  9.600000e+02  9.600000e+02     960.00000    960.000000   \n",
       "mean   1.171007e+05  1.816350e+05  4.428212e+04   12071.28750   6451.996875   \n",
       "std    2.411026e+05  4.461057e+05  1.681546e+05   20544.30774  11192.518329   \n",
       "min    3.296000e+03  0.000000e+00  0.000000e+00       0.00000      2.000000   \n",
       "25%    2.123025e+04  1.054450e+04  3.470000e+02     676.00000    330.000000   \n",
       "50%    4.547550e+04  3.967000e+04  2.541000e+03    4947.00000   1881.000000   \n",
       "75%    9.190500e+04  7.549325e+04  2.347675e+04   13694.25000   7278.750000   \n",
       "max    1.586343e+06  2.797700e+06  1.784593e+06  138405.00000  73415.000000   \n",
       "\n",
       "              Total  \n",
       "count  9.600000e+02  \n",
       "mean   3.615411e+05  \n",
       "std    7.778954e+05  \n",
       "min    1.255700e+04  \n",
       "25%    5.900025e+04  \n",
       "50%    1.111385e+05  \n",
       "75%    1.883518e+05  \n",
       "max    5.011620e+06  "
      ]
     },
     "execution_count": 344,
     "metadata": {},
     "output_type": "execute_result"
    }
   ],
   "source": [
    "df_acceso_por_tecnologia.describe()"
   ]
  },
  {
   "cell_type": "code",
   "execution_count": 345,
   "metadata": {},
   "outputs": [
    {
     "name": "stdout",
     "output_type": "stream",
     "text": [
      "<class 'pandas.core.frame.DataFrame'>\n",
      "RangeIndex: 962 entries, 0 to 961\n",
      "Data columns (total 9 columns):\n",
      " #   Column        Non-Null Count  Dtype  \n",
      "---  ------        --------------  -----  \n",
      " 0   Año           961 non-null    object \n",
      " 1   Trimestre     961 non-null    object \n",
      " 2   Provincia     960 non-null    object \n",
      " 3   ADSL          960 non-null    float64\n",
      " 4   Cablemodem    960 non-null    float64\n",
      " 5   Fibra óptica  960 non-null    float64\n",
      " 6   Wireless      960 non-null    float64\n",
      " 7   Otros         960 non-null    float64\n",
      " 8   Total         960 non-null    float64\n",
      "dtypes: float64(6), object(3)\n",
      "memory usage: 67.8+ KB\n"
     ]
    }
   ],
   "source": [
    "df_acceso_por_tecnologia.info()"
   ]
  },
  {
   "cell_type": "markdown",
   "metadata": {},
   "source": [
    "En este punto podemos ver que hay 962 registros con 9 columnas , 3 son de tipo string y 6 son númericos"
   ]
  },
  {
   "cell_type": "code",
   "execution_count": 346,
   "metadata": {},
   "outputs": [
    {
     "data": {
      "text/plain": [
       "Año             1\n",
       "Trimestre       1\n",
       "Provincia       2\n",
       "ADSL            2\n",
       "Cablemodem      2\n",
       "Fibra óptica    2\n",
       "Wireless        2\n",
       "Otros           2\n",
       "Total           2\n",
       "dtype: int64"
      ]
     },
     "execution_count": 346,
     "metadata": {},
     "output_type": "execute_result"
    }
   ],
   "source": [
    "df_acceso_por_tecnologia.isna().sum()"
   ]
  },
  {
   "cell_type": "code",
   "execution_count": 347,
   "metadata": {},
   "outputs": [
    {
     "data": {
      "text/plain": [
       "array([2023, 2022, 2021, 2020, 2019, '2019 *', 2018, 2017, 2016, 2015,\n",
       "       2014, nan, '*'], dtype=object)"
      ]
     },
     "execution_count": 347,
     "metadata": {},
     "output_type": "execute_result"
    }
   ],
   "source": [
    "df_acceso_por_tecnologia['Año'].unique()"
   ]
  },
  {
   "cell_type": "code",
   "execution_count": 348,
   "metadata": {},
   "outputs": [
    {
     "name": "stdout",
     "output_type": "stream",
     "text": [
      "961    Los datos provinciales no coinciden a nivel na...\n",
      "Name: Trimestre, dtype: object\n"
     ]
    }
   ],
   "source": [
    "last_row=df_acceso_por_tecnologia.loc[df_acceso_por_tecnologia['Año']=='*']\n",
    "print(last_row['Trimestre'])"
   ]
  },
  {
   "cell_type": "markdown",
   "metadata": {},
   "source": [
    "Borramos los registros con na ya que solo son 2 registros y con esto logramos tener datos desde 2014 hasta 2023"
   ]
  },
  {
   "cell_type": "code",
   "execution_count": 349,
   "metadata": {},
   "outputs": [],
   "source": [
    "df_acceso_por_tecnologia=df_acceso_por_tecnologia.dropna()"
   ]
  },
  {
   "cell_type": "code",
   "execution_count": 350,
   "metadata": {},
   "outputs": [
    {
     "data": {
      "text/html": [
       "<div>\n",
       "<style scoped>\n",
       "    .dataframe tbody tr th:only-of-type {\n",
       "        vertical-align: middle;\n",
       "    }\n",
       "\n",
       "    .dataframe tbody tr th {\n",
       "        vertical-align: top;\n",
       "    }\n",
       "\n",
       "    .dataframe thead th {\n",
       "        text-align: right;\n",
       "    }\n",
       "</style>\n",
       "<table border=\"1\" class=\"dataframe\">\n",
       "  <thead>\n",
       "    <tr style=\"text-align: right;\">\n",
       "      <th></th>\n",
       "      <th>Año</th>\n",
       "      <th>Trimestre</th>\n",
       "      <th>Provincia</th>\n",
       "      <th>ADSL</th>\n",
       "      <th>Cablemodem</th>\n",
       "      <th>Fibra óptica</th>\n",
       "      <th>Wireless</th>\n",
       "      <th>Otros</th>\n",
       "      <th>Total</th>\n",
       "    </tr>\n",
       "  </thead>\n",
       "  <tbody>\n",
       "    <tr>\n",
       "      <th>408</th>\n",
       "      <td>2019 *</td>\n",
       "      <td>3 *</td>\n",
       "      <td>Buenos Aires</td>\n",
       "      <td>1277249.0</td>\n",
       "      <td>2144956.0</td>\n",
       "      <td>425386.0</td>\n",
       "      <td>85572.0</td>\n",
       "      <td>27070.0</td>\n",
       "      <td>3960233.0</td>\n",
       "    </tr>\n",
       "    <tr>\n",
       "      <th>409</th>\n",
       "      <td>2019 *</td>\n",
       "      <td>3 *</td>\n",
       "      <td>Capital Federal</td>\n",
       "      <td>300288.0</td>\n",
       "      <td>1080973.0</td>\n",
       "      <td>24900.0</td>\n",
       "      <td>3895.0</td>\n",
       "      <td>31155.0</td>\n",
       "      <td>1441211.0</td>\n",
       "    </tr>\n",
       "    <tr>\n",
       "      <th>410</th>\n",
       "      <td>2019 *</td>\n",
       "      <td>3 *</td>\n",
       "      <td>Catamarca</td>\n",
       "      <td>24349.0</td>\n",
       "      <td>5543.0</td>\n",
       "      <td>13.0</td>\n",
       "      <td>244.0</td>\n",
       "      <td>2251.0</td>\n",
       "      <td>32400.0</td>\n",
       "    </tr>\n",
       "    <tr>\n",
       "      <th>411</th>\n",
       "      <td>2019 *</td>\n",
       "      <td>3 *</td>\n",
       "      <td>Chaco</td>\n",
       "      <td>50416.0</td>\n",
       "      <td>49156.0</td>\n",
       "      <td>8063.0</td>\n",
       "      <td>5224.0</td>\n",
       "      <td>1592.0</td>\n",
       "      <td>114451.0</td>\n",
       "    </tr>\n",
       "    <tr>\n",
       "      <th>412</th>\n",
       "      <td>2019 *</td>\n",
       "      <td>3 *</td>\n",
       "      <td>Chubut</td>\n",
       "      <td>37298.0</td>\n",
       "      <td>27090.0</td>\n",
       "      <td>1917.0</td>\n",
       "      <td>15149.0</td>\n",
       "      <td>7551.0</td>\n",
       "      <td>89005.0</td>\n",
       "    </tr>\n",
       "    <tr>\n",
       "      <th>...</th>\n",
       "      <td>...</td>\n",
       "      <td>...</td>\n",
       "      <td>...</td>\n",
       "      <td>...</td>\n",
       "      <td>...</td>\n",
       "      <td>...</td>\n",
       "      <td>...</td>\n",
       "      <td>...</td>\n",
       "      <td>...</td>\n",
       "    </tr>\n",
       "    <tr>\n",
       "      <th>475</th>\n",
       "      <td>2019 *</td>\n",
       "      <td>1 *</td>\n",
       "      <td>Santa Cruz</td>\n",
       "      <td>10659.0</td>\n",
       "      <td>4615.0</td>\n",
       "      <td>382.0</td>\n",
       "      <td>6514.0</td>\n",
       "      <td>2735.0</td>\n",
       "      <td>24905.0</td>\n",
       "    </tr>\n",
       "    <tr>\n",
       "      <th>476</th>\n",
       "      <td>2019 *</td>\n",
       "      <td>1 *</td>\n",
       "      <td>Santa Fe</td>\n",
       "      <td>340038.0</td>\n",
       "      <td>340344.0</td>\n",
       "      <td>15621.0</td>\n",
       "      <td>23215.0</td>\n",
       "      <td>17860.0</td>\n",
       "      <td>737078.0</td>\n",
       "    </tr>\n",
       "    <tr>\n",
       "      <th>477</th>\n",
       "      <td>2019 *</td>\n",
       "      <td>1 *</td>\n",
       "      <td>Santiago Del Estero</td>\n",
       "      <td>25337.0</td>\n",
       "      <td>61547.0</td>\n",
       "      <td>23.0</td>\n",
       "      <td>2847.0</td>\n",
       "      <td>99.0</td>\n",
       "      <td>89853.0</td>\n",
       "    </tr>\n",
       "    <tr>\n",
       "      <th>478</th>\n",
       "      <td>2019 *</td>\n",
       "      <td>1 *</td>\n",
       "      <td>Tierra Del Fuego</td>\n",
       "      <td>19789.0</td>\n",
       "      <td>23549.0</td>\n",
       "      <td>1623.0</td>\n",
       "      <td>0.0</td>\n",
       "      <td>1486.0</td>\n",
       "      <td>46447.0</td>\n",
       "    </tr>\n",
       "    <tr>\n",
       "      <th>479</th>\n",
       "      <td>2019 *</td>\n",
       "      <td>1 *</td>\n",
       "      <td>Tucumán</td>\n",
       "      <td>159215.0</td>\n",
       "      <td>11670.0</td>\n",
       "      <td>118.0</td>\n",
       "      <td>678.0</td>\n",
       "      <td>321.0</td>\n",
       "      <td>172002.0</td>\n",
       "    </tr>\n",
       "  </tbody>\n",
       "</table>\n",
       "<p>72 rows × 9 columns</p>\n",
       "</div>"
      ],
      "text/plain": [
       "        Año Trimestre            Provincia       ADSL  Cablemodem  \\\n",
       "408  2019 *       3 *         Buenos Aires  1277249.0   2144956.0   \n",
       "409  2019 *       3 *      Capital Federal   300288.0   1080973.0   \n",
       "410  2019 *       3 *            Catamarca    24349.0      5543.0   \n",
       "411  2019 *       3 *                Chaco    50416.0     49156.0   \n",
       "412  2019 *       3 *               Chubut    37298.0     27090.0   \n",
       "..      ...       ...                  ...        ...         ...   \n",
       "475  2019 *       1 *           Santa Cruz    10659.0      4615.0   \n",
       "476  2019 *       1 *             Santa Fe   340038.0    340344.0   \n",
       "477  2019 *       1 *  Santiago Del Estero    25337.0     61547.0   \n",
       "478  2019 *       1 *     Tierra Del Fuego    19789.0     23549.0   \n",
       "479  2019 *       1 *              Tucumán   159215.0     11670.0   \n",
       "\n",
       "     Fibra óptica  Wireless    Otros      Total  \n",
       "408      425386.0   85572.0  27070.0  3960233.0  \n",
       "409       24900.0    3895.0  31155.0  1441211.0  \n",
       "410          13.0     244.0   2251.0    32400.0  \n",
       "411        8063.0    5224.0   1592.0   114451.0  \n",
       "412        1917.0   15149.0   7551.0    89005.0  \n",
       "..            ...       ...      ...        ...  \n",
       "475         382.0    6514.0   2735.0    24905.0  \n",
       "476       15621.0   23215.0  17860.0   737078.0  \n",
       "477          23.0    2847.0     99.0    89853.0  \n",
       "478        1623.0       0.0   1486.0    46447.0  \n",
       "479         118.0     678.0    321.0   172002.0  \n",
       "\n",
       "[72 rows x 9 columns]"
      ]
     },
     "execution_count": 350,
     "metadata": {},
     "output_type": "execute_result"
    }
   ],
   "source": [
    "df_acceso_por_tecnologia.loc[df_acceso_por_tecnologia['Año']=='2019 *']\n",
    "#podemos ver que hay que limpiar Año y Trimestre"
   ]
  },
  {
   "cell_type": "code",
   "execution_count": 351,
   "metadata": {},
   "outputs": [
    {
     "data": {
      "text/html": [
       "<div>\n",
       "<style scoped>\n",
       "    .dataframe tbody tr th:only-of-type {\n",
       "        vertical-align: middle;\n",
       "    }\n",
       "\n",
       "    .dataframe tbody tr th {\n",
       "        vertical-align: top;\n",
       "    }\n",
       "\n",
       "    .dataframe thead th {\n",
       "        text-align: right;\n",
       "    }\n",
       "</style>\n",
       "<table border=\"1\" class=\"dataframe\">\n",
       "  <thead>\n",
       "    <tr style=\"text-align: right;\">\n",
       "      <th></th>\n",
       "      <th>Año</th>\n",
       "      <th>Trimestre</th>\n",
       "      <th>Provincia</th>\n",
       "      <th>ADSL</th>\n",
       "      <th>Cablemodem</th>\n",
       "      <th>Fibra óptica</th>\n",
       "      <th>Wireless</th>\n",
       "      <th>Otros</th>\n",
       "      <th>Total</th>\n",
       "    </tr>\n",
       "  </thead>\n",
       "  <tbody>\n",
       "  </tbody>\n",
       "</table>\n",
       "</div>"
      ],
      "text/plain": [
       "Empty DataFrame\n",
       "Columns: [Año, Trimestre, Provincia, ADSL, Cablemodem, Fibra óptica, Wireless, Otros, Total]\n",
       "Index: []"
      ]
     },
     "execution_count": 351,
     "metadata": {},
     "output_type": "execute_result"
    }
   ],
   "source": [
    "df_acceso_por_tecnologia.loc[df_acceso_por_tecnologia['Año']=='2019 *','Año']=2019\n",
    "df_acceso_por_tecnologia.loc[df_acceso_por_tecnologia['Año']=='2019 *']"
   ]
  },
  {
   "cell_type": "code",
   "execution_count": 352,
   "metadata": {},
   "outputs": [
    {
     "data": {
      "text/plain": [
       "array([4, 3, 2, 1, '3 *', '2 *', '1 *'], dtype=object)"
      ]
     },
     "execution_count": 352,
     "metadata": {},
     "output_type": "execute_result"
    }
   ],
   "source": [
    "df_acceso_por_tecnologia['Trimestre'].unique()\n",
    "#podemos observar que hay 3 valores que tienen un caracter que hay que quitar"
   ]
  },
  {
   "cell_type": "code",
   "execution_count": 353,
   "metadata": {},
   "outputs": [],
   "source": [
    "df_acceso_por_tecnologia.loc[df_acceso_por_tecnologia['Trimestre']=='1 *','Trimestre']=1\n",
    "df_acceso_por_tecnologia.loc[df_acceso_por_tecnologia['Trimestre']=='2 *','Trimestre']=2\n",
    "df_acceso_por_tecnologia.loc[df_acceso_por_tecnologia['Trimestre']=='3 *','Trimestre']=3"
   ]
  },
  {
   "cell_type": "code",
   "execution_count": 354,
   "metadata": {},
   "outputs": [
    {
     "data": {
      "text/plain": [
       "array([4, 3, 2, 1], dtype=object)"
      ]
     },
     "execution_count": 354,
     "metadata": {},
     "output_type": "execute_result"
    }
   ],
   "source": [
    "df_acceso_por_tecnologia['Trimestre'].unique()"
   ]
  },
  {
   "cell_type": "code",
   "execution_count": 355,
   "metadata": {},
   "outputs": [
    {
     "data": {
      "text/plain": [
       "array(['Buenos Aires', 'Capital Federal', 'Catamarca', 'Chaco', 'Chubut',\n",
       "       'Córdoba', 'Corrientes', 'Entre Ríos', 'Formosa', 'Jujuy',\n",
       "       'La Pampa', 'La Rioja', 'Mendoza', 'Misiones', 'Neuquén',\n",
       "       'Río Negro', 'Salta', 'San Juan', 'San Luis', 'Santa Cruz',\n",
       "       'Santa Fe', 'Santiago Del Estero', 'Tierra Del Fuego', 'Tucumán'],\n",
       "      dtype=object)"
      ]
     },
     "execution_count": 355,
     "metadata": {},
     "output_type": "execute_result"
    }
   ],
   "source": [
    "df_acceso_por_tecnologia['Provincia'].unique()"
   ]
  },
  {
   "cell_type": "markdown",
   "metadata": {},
   "source": [
    "Hay 24 provincias"
   ]
  },
  {
   "cell_type": "code",
   "execution_count": 356,
   "metadata": {},
   "outputs": [
    {
     "data": {
      "text/plain": [
       "Año             0\n",
       "Trimestre       0\n",
       "Provincia       0\n",
       "ADSL            0\n",
       "Cablemodem      0\n",
       "Fibra óptica    0\n",
       "Wireless        0\n",
       "Otros           0\n",
       "Total           0\n",
       "dtype: int64"
      ]
     },
     "execution_count": 356,
     "metadata": {},
     "output_type": "execute_result"
    }
   ],
   "source": [
    "df_acceso_por_tecnologia.isna().sum()"
   ]
  },
  {
   "cell_type": "code",
   "execution_count": 357,
   "metadata": {},
   "outputs": [
    {
     "data": {
      "text/plain": [
       "np.int64(0)"
      ]
     },
     "execution_count": 357,
     "metadata": {},
     "output_type": "execute_result"
    }
   ],
   "source": [
    "df_acceso_por_tecnologia.duplicated().sum()"
   ]
  },
  {
   "cell_type": "code",
   "execution_count": 358,
   "metadata": {},
   "outputs": [],
   "source": [
    "#Modificamos el tipo de dato de año y trimestre\n",
    "df_acceso_por_tecnologia['Año'] = df_acceso_por_tecnologia['Año'].astype('int64')\n",
    "df_acceso_por_tecnologia['Trimestre'] = df_acceso_por_tecnologia['Trimestre'].astype('int64')"
   ]
  },
  {
   "cell_type": "code",
   "execution_count": 359,
   "metadata": {},
   "outputs": [],
   "source": [
    "# Crear la conexión a la base de datos\n",
    "engine = crear_conexion_mysql()"
   ]
  },
  {
   "cell_type": "code",
   "execution_count": 360,
   "metadata": {},
   "outputs": [],
   "source": [
    "#Crear un objeto MetaData\n",
    "metadata = MetaData()\n",
    "\n",
    "# Definir la estructura de la tabla\n",
    "tabla = Table(\n",
    "    'internet_accesos_tecnologia', metadata,\n",
    "    Column('idTabla', Integer, primary_key=True,autoincrement=\"auto\" ),\n",
    "    Column('año', Integer, nullable=False),\n",
    "    Column('trimestre', Integer,nullable=False),\n",
    "    Column('provincia', String(50)),\n",
    "    Column('adsl', Float),\n",
    "    Column('cableModem', Float),\n",
    "    Column('fibraOptica', Float),\n",
    "    Column('wireless', Float),\n",
    "    Column('otros', Float),\n",
    "    Column('total', Float)\n",
    ")"
   ]
  },
  {
   "cell_type": "code",
   "execution_count": 361,
   "metadata": {},
   "outputs": [],
   "source": [
    "metadata.create_all(engine)"
   ]
  },
  {
   "cell_type": "code",
   "execution_count": 364,
   "metadata": {},
   "outputs": [
    {
     "data": {
      "text/plain": [
       "Index(['año', 'trimestre', 'provincia', 'adsl', 'cableModem', 'fibraOptica',\n",
       "       'wireless', 'otros', 'total'],\n",
       "      dtype='object')"
      ]
     },
     "execution_count": 364,
     "metadata": {},
     "output_type": "execute_result"
    }
   ],
   "source": [
    "df_acceso_por_tecnologia.columns"
   ]
  },
  {
   "cell_type": "code",
   "execution_count": 363,
   "metadata": {},
   "outputs": [],
   "source": [
    "df_acceso_por_tecnologia=df_acceso_por_tecnologia.rename(columns={\n",
    "    'Año':'año' ,\n",
    "    'Trimestre':'trimestre' ,\n",
    "    'Provincia':'provincia' ,\n",
    "    'ADSL':'adsl' ,\n",
    "    'Cablemodem':'cableModem' ,\n",
    "    'Fibra óptica':'fibraOptica' ,\n",
    "    'Wireless':'wireless' ,\n",
    "    'Otros':'otros' ,\n",
    "    'Total':'total' \n",
    "})"
   ]
  },
  {
   "cell_type": "code",
   "execution_count": 365,
   "metadata": {},
   "outputs": [
    {
     "data": {
      "text/plain": [
       "960"
      ]
     },
     "execution_count": 365,
     "metadata": {},
     "output_type": "execute_result"
    }
   ],
   "source": [
    "# Nombre de la tabla en la base de datos\n",
    "tablename = 'internet_accesos_tecnologia'\n",
    "\n",
    "# Subir el DataFrame a la base de datos\n",
    "df_acceso_por_tecnologia.to_sql(tablename, con=engine, if_exists='append', index=False)\n",
    "\n"
   ]
  },
  {
   "cell_type": "markdown",
   "metadata": {},
   "source": [
    "# 2.- Accesos por velocidad"
   ]
  },
  {
   "cell_type": "code",
   "execution_count": 10,
   "metadata": {},
   "outputs": [],
   "source": [
    "df_acceso_por_velocidad=pd.read_excel('../DatasetCrudos/Internet.xlsx',sheet_name='Accesos por velocidad') "
   ]
  },
  {
   "cell_type": "code",
   "execution_count": 11,
   "metadata": {},
   "outputs": [
    {
     "data": {
      "text/plain": [
       "<bound method NDFrame.describe of       Año  Trimestre            Provincia  HASTA 512 kbps  \\\n",
       "0    2024          4         Buenos Aires         26909.0   \n",
       "1    2024          4      Capital Federal           516.0   \n",
       "2    2024          4            Catamarca            71.0   \n",
       "3    2024          4                Chaco           236.0   \n",
       "4    2024          4               Chubut           111.0   \n",
       "..    ...        ...                  ...             ...   \n",
       "955  2014          1           Santa Cruz           161.0   \n",
       "956  2014          1             Santa Fe          8456.0   \n",
       "957  2014          1  Santiago Del Estero          1234.0   \n",
       "958  2014          1     Tierra Del Fuego            12.0   \n",
       "959  2014          1              Tucumán             6.0   \n",
       "\n",
       "     + 512 Kbps - 1 Mbps  + 1 Mbps - 6 Mbps  + 6 Mbps - 10 Mbps  \\\n",
       "0                23962.0           228393.0            239339.0   \n",
       "1                 4544.0            26409.0             48083.0   \n",
       "2                  209.0             3065.0              3734.0   \n",
       "3                  477.0            14811.0             10361.0   \n",
       "4                 1088.0            44276.0             31402.0   \n",
       "..                   ...                ...                 ...   \n",
       "955               1625.0            24972.0                 1.0   \n",
       "956             124468.0           345225.0             20328.0   \n",
       "957              10531.0            22817.0              2422.0   \n",
       "958                607.0            30902.0                 6.0   \n",
       "959              34672.0            83210.0             11779.0   \n",
       "\n",
       "     + 10 Mbps - 20 Mbps  + 20 Mbps - 30 Mbps  + 30 Mbps    OTROS      Total  \n",
       "0               246144.0             110876.0  4042646.0  93351.0  5011620.0  \n",
       "1                33925.0               5829.0  1355061.0      0.0  1474367.0  \n",
       "2                 4423.0               1827.0    61181.0     77.0    74587.0  \n",
       "3                 6247.0               5729.0   105485.0   4040.0   147386.0  \n",
       "4                22843.0              20196.0    33665.0  16589.0   170170.0  \n",
       "..                   ...                  ...        ...      ...        ...  \n",
       "955                  1.0                  0.0        0.0      0.0    26760.0  \n",
       "956               6845.0                 23.0      668.0      0.0   506013.0  \n",
       "957                109.0                  0.0        0.0      0.0    37113.0  \n",
       "958                  0.0                  0.0        0.0      0.0    31527.0  \n",
       "959                362.0                  3.0        0.0      0.0   130032.0  \n",
       "\n",
       "[960 rows x 12 columns]>"
      ]
     },
     "execution_count": 11,
     "metadata": {},
     "output_type": "execute_result"
    }
   ],
   "source": [
    "df_acceso_por_velocidad.describe"
   ]
  },
  {
   "cell_type": "code",
   "execution_count": 12,
   "metadata": {},
   "outputs": [
    {
     "name": "stdout",
     "output_type": "stream",
     "text": [
      "<class 'pandas.core.frame.DataFrame'>\n",
      "RangeIndex: 960 entries, 0 to 959\n",
      "Data columns (total 12 columns):\n",
      " #   Column               Non-Null Count  Dtype  \n",
      "---  ------               --------------  -----  \n",
      " 0   Año                  960 non-null    int64  \n",
      " 1   Trimestre            960 non-null    int64  \n",
      " 2   Provincia            960 non-null    object \n",
      " 3   HASTA 512 kbps       960 non-null    float64\n",
      " 4   + 512 Kbps - 1 Mbps  960 non-null    float64\n",
      " 5   + 1 Mbps - 6 Mbps    960 non-null    float64\n",
      " 6   + 6 Mbps - 10 Mbps   960 non-null    float64\n",
      " 7   + 10 Mbps - 20 Mbps  960 non-null    float64\n",
      " 8   + 20 Mbps - 30 Mbps  960 non-null    float64\n",
      " 9   + 30 Mbps            960 non-null    float64\n",
      " 10  OTROS                954 non-null    float64\n",
      " 11  Total                960 non-null    float64\n",
      "dtypes: float64(9), int64(2), object(1)\n",
      "memory usage: 90.1+ KB\n"
     ]
    }
   ],
   "source": [
    "df_acceso_por_velocidad.info()"
   ]
  },
  {
   "cell_type": "code",
   "execution_count": 13,
   "metadata": {},
   "outputs": [
    {
     "data": {
      "text/plain": [
       "Año                    0\n",
       "Trimestre              0\n",
       "Provincia              0\n",
       "HASTA 512 kbps         0\n",
       "+ 512 Kbps - 1 Mbps    0\n",
       "+ 1 Mbps - 6 Mbps      0\n",
       "+ 6 Mbps - 10 Mbps     0\n",
       "+ 10 Mbps - 20 Mbps    0\n",
       "+ 20 Mbps - 30 Mbps    0\n",
       "+ 30 Mbps              0\n",
       "OTROS                  6\n",
       "Total                  0\n",
       "dtype: int64"
      ]
     },
     "execution_count": 13,
     "metadata": {},
     "output_type": "execute_result"
    }
   ],
   "source": [
    "df_acceso_por_velocidad.isna().sum()"
   ]
  },
  {
   "cell_type": "code",
   "execution_count": 22,
   "metadata": {},
   "outputs": [
    {
     "data": {
      "text/plain": [
       "np.int64(0)"
      ]
     },
     "execution_count": 22,
     "metadata": {},
     "output_type": "execute_result"
    }
   ],
   "source": [
    "df_acceso_por_velocidad.duplicated().sum()"
   ]
  },
  {
   "cell_type": "code",
   "execution_count": 367,
   "metadata": {},
   "outputs": [],
   "source": [
    "df_acceso_por_velocidad['OTROS']=df_acceso_por_velocidad['OTROS'].fillna(0)"
   ]
  },
  {
   "cell_type": "code",
   "execution_count": 369,
   "metadata": {},
   "outputs": [],
   "source": [
    "# Crear la conexión a la base de datos\n",
    "engine = crear_conexion_mysql()"
   ]
  },
  {
   "cell_type": "code",
   "execution_count": 370,
   "metadata": {},
   "outputs": [],
   "source": [
    "#Crear un objeto MetaData\n",
    "metadata = MetaData()\n",
    "\n",
    "# Definir la estructura de la tabla df_acceso_por_velocidad\n",
    "tabla = Table(\n",
    "    'internet_accesos_velocidad', metadata,\n",
    "    Column('idTabla', Integer, primary_key=True,autoincrement=\"auto\" ),\n",
    "    Column('año', Integer, nullable=False),\n",
    "    Column('trimestre', Integer,nullable=False),\n",
    "    Column('provincia', String(50)),\n",
    "    Column('hasta512', Float),\n",
    "    Column('De512_1mbps', Float),\n",
    "    Column('De1_6mbps', Float),\n",
    "    Column('De6_10mbps', Float),\n",
    "    Column('De10_20mbps', Float),\n",
    "    Column('De20_30mbps', Float),\n",
    "    Column('mas30mbps', Float),\n",
    "    Column('otros', Float),\n",
    "    Column('total', Float)\n",
    ")"
   ]
  },
  {
   "cell_type": "code",
   "execution_count": 371,
   "metadata": {},
   "outputs": [],
   "source": [
    "metadata.create_all(engine)"
   ]
  },
  {
   "cell_type": "code",
   "execution_count": 374,
   "metadata": {},
   "outputs": [
    {
     "data": {
      "text/plain": [
       "Index(['año', 'trimestre', 'provincia', 'hasta512', 'De512_1mbps', 'De1_6mbps',\n",
       "       'De6_10mbps', 'De10_20mbps', 'De20_30mbps', 'mas30mbps', 'otros',\n",
       "       'total'],\n",
       "      dtype='object')"
      ]
     },
     "execution_count": 374,
     "metadata": {},
     "output_type": "execute_result"
    }
   ],
   "source": [
    "df_acceso_por_velocidad.columns"
   ]
  },
  {
   "cell_type": "code",
   "execution_count": 373,
   "metadata": {},
   "outputs": [],
   "source": [
    "df_acceso_por_velocidad=df_acceso_por_velocidad.rename(columns={\n",
    "    'Año':'año' ,\n",
    "    'Trimestre':'trimestre' ,\n",
    "    'Provincia':'provincia' ,\n",
    "    'HASTA 512 kbps':'hasta512' ,\n",
    "    '+ 512 Kbps - 1 Mbps':'De512_1mbps' ,\n",
    "    '+ 1 Mbps - 6 Mbps':'De1_6mbps' ,\n",
    "    '+ 6 Mbps - 10 Mbps':'De6_10mbps' ,\n",
    "    '+ 10 Mbps - 20 Mbps':'De10_20mbps' ,\n",
    "    '+ 20 Mbps - 30 Mbps':'De20_30mbps',\n",
    "    '+ 30 Mbps':'mas30mbps',\n",
    "    'OTROS':'otros',\n",
    "    'Total':'total', \n",
    "})"
   ]
  },
  {
   "cell_type": "code",
   "execution_count": 375,
   "metadata": {},
   "outputs": [
    {
     "data": {
      "text/plain": [
       "960"
      ]
     },
     "execution_count": 375,
     "metadata": {},
     "output_type": "execute_result"
    }
   ],
   "source": [
    "# Nombre de la tabla en la base de datos\n",
    "tablename = 'internet_accesos_velocidad'\n",
    "\n",
    "# Subir el DataFrame a la base de datos\n",
    "df_acceso_por_velocidad.to_sql(tablename, con=engine, if_exists='append', index=False)"
   ]
  },
  {
   "cell_type": "markdown",
   "metadata": {},
   "source": [
    "# 3.- Penetración en la población"
   ]
  },
  {
   "cell_type": "code",
   "execution_count": 14,
   "metadata": {},
   "outputs": [],
   "source": [
    "df_penetracion_poblacion=pd.read_excel('../DatasetCrudos/Internet.xlsx',sheet_name='Penetración-poblacion') "
   ]
  },
  {
   "cell_type": "code",
   "execution_count": 15,
   "metadata": {},
   "outputs": [
    {
     "data": {
      "text/html": [
       "<div>\n",
       "<style scoped>\n",
       "    .dataframe tbody tr th:only-of-type {\n",
       "        vertical-align: middle;\n",
       "    }\n",
       "\n",
       "    .dataframe tbody tr th {\n",
       "        vertical-align: top;\n",
       "    }\n",
       "\n",
       "    .dataframe thead th {\n",
       "        text-align: right;\n",
       "    }\n",
       "</style>\n",
       "<table border=\"1\" class=\"dataframe\">\n",
       "  <thead>\n",
       "    <tr style=\"text-align: right;\">\n",
       "      <th></th>\n",
       "      <th>Año</th>\n",
       "      <th>Trimestre</th>\n",
       "      <th>Accesos por cada 100 hab</th>\n",
       "    </tr>\n",
       "  </thead>\n",
       "  <tbody>\n",
       "    <tr>\n",
       "      <th>count</th>\n",
       "      <td>960.000000</td>\n",
       "      <td>960.000000</td>\n",
       "      <td>960.000000</td>\n",
       "    </tr>\n",
       "    <tr>\n",
       "      <th>mean</th>\n",
       "      <td>2018.500000</td>\n",
       "      <td>2.500000</td>\n",
       "      <td>15.394079</td>\n",
       "    </tr>\n",
       "    <tr>\n",
       "      <th>std</th>\n",
       "      <td>2.873778</td>\n",
       "      <td>1.118617</td>\n",
       "      <td>9.168959</td>\n",
       "    </tr>\n",
       "    <tr>\n",
       "      <th>min</th>\n",
       "      <td>2014.000000</td>\n",
       "      <td>1.000000</td>\n",
       "      <td>2.684669</td>\n",
       "    </tr>\n",
       "    <tr>\n",
       "      <th>25%</th>\n",
       "      <td>2016.000000</td>\n",
       "      <td>1.750000</td>\n",
       "      <td>8.764189</td>\n",
       "    </tr>\n",
       "    <tr>\n",
       "      <th>50%</th>\n",
       "      <td>2018.500000</td>\n",
       "      <td>2.500000</td>\n",
       "      <td>13.417453</td>\n",
       "    </tr>\n",
       "    <tr>\n",
       "      <th>75%</th>\n",
       "      <td>2021.000000</td>\n",
       "      <td>3.250000</td>\n",
       "      <td>19.657928</td>\n",
       "    </tr>\n",
       "    <tr>\n",
       "      <th>max</th>\n",
       "      <td>2023.000000</td>\n",
       "      <td>4.000000</td>\n",
       "      <td>52.236739</td>\n",
       "    </tr>\n",
       "  </tbody>\n",
       "</table>\n",
       "</div>"
      ],
      "text/plain": [
       "               Año   Trimestre  Accesos por cada 100 hab\n",
       "count   960.000000  960.000000                960.000000\n",
       "mean   2018.500000    2.500000                 15.394079\n",
       "std       2.873778    1.118617                  9.168959\n",
       "min    2014.000000    1.000000                  2.684669\n",
       "25%    2016.000000    1.750000                  8.764189\n",
       "50%    2018.500000    2.500000                 13.417453\n",
       "75%    2021.000000    3.250000                 19.657928\n",
       "max    2023.000000    4.000000                 52.236739"
      ]
     },
     "execution_count": 15,
     "metadata": {},
     "output_type": "execute_result"
    }
   ],
   "source": [
    "df_penetracion_poblacion.describe()"
   ]
  },
  {
   "cell_type": "code",
   "execution_count": 16,
   "metadata": {},
   "outputs": [
    {
     "name": "stdout",
     "output_type": "stream",
     "text": [
      "<class 'pandas.core.frame.DataFrame'>\n",
      "RangeIndex: 960 entries, 0 to 959\n",
      "Data columns (total 4 columns):\n",
      " #   Column                    Non-Null Count  Dtype  \n",
      "---  ------                    --------------  -----  \n",
      " 0   Año                       960 non-null    int64  \n",
      " 1   Trimestre                 960 non-null    int64  \n",
      " 2   Provincia                 960 non-null    object \n",
      " 3   Accesos por cada 100 hab  960 non-null    float64\n",
      "dtypes: float64(1), int64(2), object(1)\n",
      "memory usage: 30.1+ KB\n"
     ]
    }
   ],
   "source": [
    "df_penetracion_poblacion.info()\n"
   ]
  },
  {
   "cell_type": "code",
   "execution_count": 17,
   "metadata": {},
   "outputs": [
    {
     "data": {
      "text/plain": [
       "Año                         0\n",
       "Trimestre                   0\n",
       "Provincia                   0\n",
       "Accesos por cada 100 hab    0\n",
       "dtype: int64"
      ]
     },
     "execution_count": 17,
     "metadata": {},
     "output_type": "execute_result"
    }
   ],
   "source": [
    "df_penetracion_poblacion.isna().sum()\n"
   ]
  },
  {
   "cell_type": "code",
   "execution_count": 18,
   "metadata": {},
   "outputs": [
    {
     "data": {
      "text/plain": [
       "np.int64(0)"
      ]
     },
     "execution_count": 18,
     "metadata": {},
     "output_type": "execute_result"
    }
   ],
   "source": [
    "df_penetracion_poblacion.duplicated().sum()"
   ]
  },
  {
   "cell_type": "code",
   "execution_count": 23,
   "metadata": {},
   "outputs": [],
   "source": [
    "# Crear la conexión a la base de datos\n",
    "engine = crear_conexion_mysql()"
   ]
  },
  {
   "cell_type": "code",
   "execution_count": 24,
   "metadata": {},
   "outputs": [
    {
     "data": {
      "text/plain": [
       "Index(['Año', 'Trimestre', 'Provincia', 'Accesos por cada 100 hab'], dtype='object')"
      ]
     },
     "execution_count": 24,
     "metadata": {},
     "output_type": "execute_result"
    }
   ],
   "source": [
    "df_penetracion_poblacion.columns"
   ]
  },
  {
   "cell_type": "code",
   "execution_count": 26,
   "metadata": {},
   "outputs": [],
   "source": [
    "#Crear un objeto MetaData\n",
    "metadata = MetaData()\n",
    "\n",
    "# Definir la estructura de la tabla df_acceso_por_velocidad\n",
    "tabla = Table(\n",
    "    'internet_penetracion_poblacion', metadata,\n",
    "    Column('idTabla', Integer, primary_key=True,autoincrement=\"auto\" ),\n",
    "    Column('año', Integer, nullable=False),\n",
    "    Column('trimestre', Integer,nullable=False),\n",
    "    Column('provincia', String(50)),\n",
    "    Column('accesosPor100Habitantes', Float)\n",
    ")"
   ]
  },
  {
   "cell_type": "code",
   "execution_count": 27,
   "metadata": {},
   "outputs": [],
   "source": [
    "metadata.create_all(engine)"
   ]
  },
  {
   "cell_type": "code",
   "execution_count": 28,
   "metadata": {},
   "outputs": [],
   "source": [
    "df_penetracion_poblacion=df_penetracion_poblacion.rename(columns={\n",
    "    'Año':'año' ,\n",
    "    'Trimestre':'trimestre' ,\n",
    "    'Provincia':'provincia' ,\n",
    "    'Accesos por cada 100 hab':'accesosPor100Habitantes' \n",
    "})"
   ]
  },
  {
   "cell_type": "code",
   "execution_count": 29,
   "metadata": {},
   "outputs": [
    {
     "data": {
      "text/plain": [
       "960"
      ]
     },
     "execution_count": 29,
     "metadata": {},
     "output_type": "execute_result"
    }
   ],
   "source": [
    "# Nombre de la tabla en la base de datos\n",
    "tablename = 'internet_penetracion_poblacion'\n",
    "\n",
    "# Subir el DataFrame a la base de datos\n",
    "df_penetracion_poblacion.to_sql(tablename, con=engine, if_exists='append', index=False)"
   ]
  },
  {
   "cell_type": "markdown",
   "metadata": {},
   "source": [
    "# 4.- Penetración en hogares"
   ]
  },
  {
   "cell_type": "code",
   "execution_count": 38,
   "metadata": {},
   "outputs": [],
   "source": [
    "df_penetracion_hogares=pd.read_excel('../DatasetCrudos/Internet.xlsx',sheet_name='Penetracion-hogares') "
   ]
  },
  {
   "cell_type": "code",
   "execution_count": 39,
   "metadata": {},
   "outputs": [
    {
     "data": {
      "text/html": [
       "<div>\n",
       "<style scoped>\n",
       "    .dataframe tbody tr th:only-of-type {\n",
       "        vertical-align: middle;\n",
       "    }\n",
       "\n",
       "    .dataframe tbody tr th {\n",
       "        vertical-align: top;\n",
       "    }\n",
       "\n",
       "    .dataframe thead th {\n",
       "        text-align: right;\n",
       "    }\n",
       "</style>\n",
       "<table border=\"1\" class=\"dataframe\">\n",
       "  <thead>\n",
       "    <tr style=\"text-align: right;\">\n",
       "      <th></th>\n",
       "      <th>Año</th>\n",
       "      <th>Trimestre</th>\n",
       "      <th>Accesos por cada 100 hogares</th>\n",
       "    </tr>\n",
       "  </thead>\n",
       "  <tbody>\n",
       "    <tr>\n",
       "      <th>count</th>\n",
       "      <td>960.000000</td>\n",
       "      <td>960.000000</td>\n",
       "      <td>960.000000</td>\n",
       "    </tr>\n",
       "    <tr>\n",
       "      <th>mean</th>\n",
       "      <td>2018.500000</td>\n",
       "      <td>2.500000</td>\n",
       "      <td>51.662405</td>\n",
       "    </tr>\n",
       "    <tr>\n",
       "      <th>std</th>\n",
       "      <td>2.873778</td>\n",
       "      <td>1.118617</td>\n",
       "      <td>23.898192</td>\n",
       "    </tr>\n",
       "    <tr>\n",
       "      <th>min</th>\n",
       "      <td>2014.000000</td>\n",
       "      <td>1.000000</td>\n",
       "      <td>9.347208</td>\n",
       "    </tr>\n",
       "    <tr>\n",
       "      <th>25%</th>\n",
       "      <td>2016.000000</td>\n",
       "      <td>1.750000</td>\n",
       "      <td>32.856870</td>\n",
       "    </tr>\n",
       "    <tr>\n",
       "      <th>50%</th>\n",
       "      <td>2018.500000</td>\n",
       "      <td>2.500000</td>\n",
       "      <td>48.817167</td>\n",
       "    </tr>\n",
       "    <tr>\n",
       "      <th>75%</th>\n",
       "      <td>2021.000000</td>\n",
       "      <td>3.250000</td>\n",
       "      <td>65.116858</td>\n",
       "    </tr>\n",
       "    <tr>\n",
       "      <th>max</th>\n",
       "      <td>2023.000000</td>\n",
       "      <td>4.000000</td>\n",
       "      <td>124.061394</td>\n",
       "    </tr>\n",
       "  </tbody>\n",
       "</table>\n",
       "</div>"
      ],
      "text/plain": [
       "               Año   Trimestre  Accesos por cada 100 hogares\n",
       "count   960.000000  960.000000                    960.000000\n",
       "mean   2018.500000    2.500000                     51.662405\n",
       "std       2.873778    1.118617                     23.898192\n",
       "min    2014.000000    1.000000                      9.347208\n",
       "25%    2016.000000    1.750000                     32.856870\n",
       "50%    2018.500000    2.500000                     48.817167\n",
       "75%    2021.000000    3.250000                     65.116858\n",
       "max    2023.000000    4.000000                    124.061394"
      ]
     },
     "execution_count": 39,
     "metadata": {},
     "output_type": "execute_result"
    }
   ],
   "source": [
    "df_penetracion_hogares.describe()"
   ]
  },
  {
   "cell_type": "code",
   "execution_count": 40,
   "metadata": {},
   "outputs": [
    {
     "name": "stdout",
     "output_type": "stream",
     "text": [
      "<class 'pandas.core.frame.DataFrame'>\n",
      "RangeIndex: 960 entries, 0 to 959\n",
      "Data columns (total 4 columns):\n",
      " #   Column                        Non-Null Count  Dtype  \n",
      "---  ------                        --------------  -----  \n",
      " 0   Año                           960 non-null    int64  \n",
      " 1   Trimestre                     960 non-null    int64  \n",
      " 2   Provincia                     960 non-null    object \n",
      " 3   Accesos por cada 100 hogares  960 non-null    float64\n",
      "dtypes: float64(1), int64(2), object(1)\n",
      "memory usage: 30.1+ KB\n"
     ]
    }
   ],
   "source": [
    "df_penetracion_hogares.info()\n"
   ]
  },
  {
   "cell_type": "code",
   "execution_count": 41,
   "metadata": {},
   "outputs": [
    {
     "data": {
      "text/plain": [
       "Año                             0\n",
       "Trimestre                       0\n",
       "Provincia                       0\n",
       "Accesos por cada 100 hogares    0\n",
       "dtype: int64"
      ]
     },
     "execution_count": 41,
     "metadata": {},
     "output_type": "execute_result"
    }
   ],
   "source": [
    "df_penetracion_hogares.isna().sum()\n"
   ]
  },
  {
   "cell_type": "code",
   "execution_count": 42,
   "metadata": {},
   "outputs": [
    {
     "data": {
      "text/plain": [
       "np.int64(0)"
      ]
     },
     "execution_count": 42,
     "metadata": {},
     "output_type": "execute_result"
    }
   ],
   "source": [
    "df_penetracion_hogares.duplicated().sum()"
   ]
  },
  {
   "cell_type": "code",
   "execution_count": 43,
   "metadata": {},
   "outputs": [],
   "source": [
    "engine = crear_conexion_mysql()\n"
   ]
  },
  {
   "cell_type": "code",
   "execution_count": 44,
   "metadata": {},
   "outputs": [
    {
     "data": {
      "text/plain": [
       "Index(['Año', 'Trimestre', 'Provincia', 'Accesos por cada 100 hogares'], dtype='object')"
      ]
     },
     "execution_count": 44,
     "metadata": {},
     "output_type": "execute_result"
    }
   ],
   "source": [
    "df_penetracion_hogares.columns"
   ]
  },
  {
   "cell_type": "code",
   "execution_count": 45,
   "metadata": {},
   "outputs": [],
   "source": [
    "#Crear un objeto MetaData\n",
    "metadata = MetaData()\n"
   ]
  },
  {
   "cell_type": "code",
   "execution_count": 46,
   "metadata": {},
   "outputs": [],
   "source": [
    "# Definir la estructura de la tabla df_acceso_por_velocidad\n",
    "tabla = Table(\n",
    "    'internet_penetracion_hogares', metadata,\n",
    "    Column('idTabla', Integer, primary_key=True,autoincrement=\"auto\" ),\n",
    "    Column('año', Integer, nullable=False),\n",
    "    Column('trimestre', Integer,nullable=False),\n",
    "    Column('provincia', String(50)),\n",
    "    Column('accesosPor100Hogares', Float)\n",
    ")\n",
    "metadata.create_all(engine)"
   ]
  },
  {
   "cell_type": "code",
   "execution_count": 47,
   "metadata": {},
   "outputs": [],
   "source": [
    "df_penetracion_hogares=df_penetracion_hogares.rename(columns={\n",
    "    'Año':'año' ,\n",
    "    'Trimestre':'trimestre' ,\n",
    "    'Provincia':'provincia' ,\n",
    "    'Accesos por cada 100 hogares':'accesosPor100Hogares' \n",
    "})"
   ]
  },
  {
   "cell_type": "code",
   "execution_count": 48,
   "metadata": {},
   "outputs": [],
   "source": [
    "# Nombre de la tabla en la base de datos\n",
    "tablename = 'internet_penetracion_hogares'"
   ]
  },
  {
   "cell_type": "code",
   "execution_count": 49,
   "metadata": {},
   "outputs": [
    {
     "data": {
      "text/plain": [
       "960"
      ]
     },
     "execution_count": 49,
     "metadata": {},
     "output_type": "execute_result"
    }
   ],
   "source": [
    "# Subir el DataFrame a la base de datos\n",
    "df_penetracion_hogares.to_sql(tablename, con=engine, if_exists='append', index=False)"
   ]
  },
  {
   "cell_type": "markdown",
   "metadata": {},
   "source": [
    "# 5.- Accesos por tecnología y localidad"
   ]
  },
  {
   "cell_type": "code",
   "execution_count": 97,
   "metadata": {},
   "outputs": [],
   "source": [
    "df_accesos_localidad=pd.read_excel('../DatasetCrudos/Internet.xlsx',sheet_name='Accesos_tecnologia_localidad') "
   ]
  },
  {
   "cell_type": "code",
   "execution_count": 98,
   "metadata": {},
   "outputs": [
    {
     "data": {
      "text/html": [
       "<div>\n",
       "<style scoped>\n",
       "    .dataframe tbody tr th:only-of-type {\n",
       "        vertical-align: middle;\n",
       "    }\n",
       "\n",
       "    .dataframe tbody tr th {\n",
       "        vertical-align: top;\n",
       "    }\n",
       "\n",
       "    .dataframe thead th {\n",
       "        text-align: right;\n",
       "    }\n",
       "</style>\n",
       "<table border=\"1\" class=\"dataframe\">\n",
       "  <thead>\n",
       "    <tr style=\"text-align: right;\">\n",
       "      <th></th>\n",
       "      <th>ADSL</th>\n",
       "      <th>CABLEMODEM</th>\n",
       "      <th>DIAL UP</th>\n",
       "      <th>FIBRA OPTICA</th>\n",
       "      <th>OTROS</th>\n",
       "      <th>SATELITAL</th>\n",
       "      <th>WIMAX</th>\n",
       "      <th>WIRELESS</th>\n",
       "      <th>Total general</th>\n",
       "    </tr>\n",
       "  </thead>\n",
       "  <tbody>\n",
       "    <tr>\n",
       "      <th>count</th>\n",
       "      <td>3076.000000</td>\n",
       "      <td>3.076000e+03</td>\n",
       "      <td>3076.000000</td>\n",
       "      <td>3076.000000</td>\n",
       "      <td>3076.000000</td>\n",
       "      <td>3076.000000</td>\n",
       "      <td>3076.000000</td>\n",
       "      <td>3076.000000</td>\n",
       "      <td>3.076000e+03</td>\n",
       "    </tr>\n",
       "    <tr>\n",
       "      <th>mean</th>\n",
       "      <td>271.908322</td>\n",
       "      <td>1.957910e+03</td>\n",
       "      <td>3.833875</td>\n",
       "      <td>1270.540637</td>\n",
       "      <td>57.809818</td>\n",
       "      <td>0.972692</td>\n",
       "      <td>0.711313</td>\n",
       "      <td>190.429129</td>\n",
       "      <td>3.754116e+03</td>\n",
       "    </tr>\n",
       "    <tr>\n",
       "      <th>std</th>\n",
       "      <td>1550.899791</td>\n",
       "      <td>2.315212e+04</td>\n",
       "      <td>43.153830</td>\n",
       "      <td>8467.801469</td>\n",
       "      <td>793.944335</td>\n",
       "      <td>13.648046</td>\n",
       "      <td>15.093030</td>\n",
       "      <td>712.357143</td>\n",
       "      <td>3.119100e+04</td>\n",
       "    </tr>\n",
       "    <tr>\n",
       "      <th>min</th>\n",
       "      <td>0.000000</td>\n",
       "      <td>0.000000e+00</td>\n",
       "      <td>0.000000</td>\n",
       "      <td>0.000000</td>\n",
       "      <td>0.000000</td>\n",
       "      <td>0.000000</td>\n",
       "      <td>0.000000</td>\n",
       "      <td>0.000000</td>\n",
       "      <td>0.000000e+00</td>\n",
       "    </tr>\n",
       "    <tr>\n",
       "      <th>25%</th>\n",
       "      <td>0.000000</td>\n",
       "      <td>0.000000e+00</td>\n",
       "      <td>0.000000</td>\n",
       "      <td>0.000000</td>\n",
       "      <td>0.000000</td>\n",
       "      <td>0.000000</td>\n",
       "      <td>0.000000</td>\n",
       "      <td>0.000000</td>\n",
       "      <td>2.700000e+01</td>\n",
       "    </tr>\n",
       "    <tr>\n",
       "      <th>50%</th>\n",
       "      <td>0.000000</td>\n",
       "      <td>0.000000e+00</td>\n",
       "      <td>0.000000</td>\n",
       "      <td>1.000000</td>\n",
       "      <td>0.000000</td>\n",
       "      <td>0.000000</td>\n",
       "      <td>0.000000</td>\n",
       "      <td>28.000000</td>\n",
       "      <td>1.675000e+02</td>\n",
       "    </tr>\n",
       "    <tr>\n",
       "      <th>75%</th>\n",
       "      <td>78.250000</td>\n",
       "      <td>8.500000e+00</td>\n",
       "      <td>0.000000</td>\n",
       "      <td>152.000000</td>\n",
       "      <td>0.000000</td>\n",
       "      <td>1.000000</td>\n",
       "      <td>0.000000</td>\n",
       "      <td>127.000000</td>\n",
       "      <td>1.048250e+03</td>\n",
       "    </tr>\n",
       "    <tr>\n",
       "      <th>max</th>\n",
       "      <td>58700.000000</td>\n",
       "      <td>1.198835e+06</td>\n",
       "      <td>2050.000000</td>\n",
       "      <td>269623.000000</td>\n",
       "      <td>27703.000000</td>\n",
       "      <td>742.000000</td>\n",
       "      <td>444.000000</td>\n",
       "      <td>19906.000000</td>\n",
       "      <td>1.474367e+06</td>\n",
       "    </tr>\n",
       "  </tbody>\n",
       "</table>\n",
       "</div>"
      ],
      "text/plain": [
       "               ADSL    CABLEMODEM      DIAL UP   FIBRA OPTICA         OTROS  \\\n",
       "count   3076.000000  3.076000e+03  3076.000000    3076.000000   3076.000000   \n",
       "mean     271.908322  1.957910e+03     3.833875    1270.540637     57.809818   \n",
       "std     1550.899791  2.315212e+04    43.153830    8467.801469    793.944335   \n",
       "min        0.000000  0.000000e+00     0.000000       0.000000      0.000000   \n",
       "25%        0.000000  0.000000e+00     0.000000       0.000000      0.000000   \n",
       "50%        0.000000  0.000000e+00     0.000000       1.000000      0.000000   \n",
       "75%       78.250000  8.500000e+00     0.000000     152.000000      0.000000   \n",
       "max    58700.000000  1.198835e+06  2050.000000  269623.000000  27703.000000   \n",
       "\n",
       "         SATELITAL        WIMAX      WIRELESS  Total general  \n",
       "count  3076.000000  3076.000000   3076.000000   3.076000e+03  \n",
       "mean      0.972692     0.711313    190.429129   3.754116e+03  \n",
       "std      13.648046    15.093030    712.357143   3.119100e+04  \n",
       "min       0.000000     0.000000      0.000000   0.000000e+00  \n",
       "25%       0.000000     0.000000      0.000000   2.700000e+01  \n",
       "50%       0.000000     0.000000     28.000000   1.675000e+02  \n",
       "75%       1.000000     0.000000    127.000000   1.048250e+03  \n",
       "max     742.000000   444.000000  19906.000000   1.474367e+06  "
      ]
     },
     "execution_count": 98,
     "metadata": {},
     "output_type": "execute_result"
    }
   ],
   "source": [
    "df_accesos_localidad.describe()\n"
   ]
  },
  {
   "cell_type": "code",
   "execution_count": 99,
   "metadata": {},
   "outputs": [
    {
     "name": "stdout",
     "output_type": "stream",
     "text": [
      "<class 'pandas.core.frame.DataFrame'>\n",
      "RangeIndex: 3076 entries, 0 to 3075\n",
      "Data columns (total 13 columns):\n",
      " #   Column         Non-Null Count  Dtype \n",
      "---  ------         --------------  ----- \n",
      " 0   Provincia      3076 non-null   object\n",
      " 1   Partido        3076 non-null   object\n",
      " 2   Localidad      3076 non-null   object\n",
      " 3   Link Indec     3076 non-null   object\n",
      " 4   ADSL           3076 non-null   int64 \n",
      " 5   CABLEMODEM     3076 non-null   int64 \n",
      " 6   DIAL UP        3076 non-null   int64 \n",
      " 7   FIBRA OPTICA   3076 non-null   int64 \n",
      " 8   OTROS          3076 non-null   int64 \n",
      " 9   SATELITAL      3076 non-null   int64 \n",
      " 10  WIMAX          3076 non-null   int64 \n",
      " 11  WIRELESS       3076 non-null   int64 \n",
      " 12  Total general  3076 non-null   int64 \n",
      "dtypes: int64(9), object(4)\n",
      "memory usage: 312.5+ KB\n"
     ]
    }
   ],
   "source": [
    "df_accesos_localidad.info()\n"
   ]
  },
  {
   "cell_type": "code",
   "execution_count": 100,
   "metadata": {},
   "outputs": [
    {
     "data": {
      "text/plain": [
       "Provincia        0\n",
       "Partido          0\n",
       "Localidad        0\n",
       "Link Indec       0\n",
       "ADSL             0\n",
       "CABLEMODEM       0\n",
       "DIAL UP          0\n",
       "FIBRA OPTICA     0\n",
       "OTROS            0\n",
       "SATELITAL        0\n",
       "WIMAX            0\n",
       "WIRELESS         0\n",
       "Total general    0\n",
       "dtype: int64"
      ]
     },
     "execution_count": 100,
     "metadata": {},
     "output_type": "execute_result"
    }
   ],
   "source": [
    "df_accesos_localidad.isna().sum()\n"
   ]
  },
  {
   "cell_type": "code",
   "execution_count": 101,
   "metadata": {},
   "outputs": [
    {
     "data": {
      "text/plain": [
       "np.int64(0)"
      ]
     },
     "execution_count": 101,
     "metadata": {},
     "output_type": "execute_result"
    }
   ],
   "source": [
    "df_accesos_localidad.duplicated().sum()"
   ]
  },
  {
   "cell_type": "code",
   "execution_count": 102,
   "metadata": {},
   "outputs": [
    {
     "data": {
      "text/html": [
       "<div>\n",
       "<style scoped>\n",
       "    .dataframe tbody tr th:only-of-type {\n",
       "        vertical-align: middle;\n",
       "    }\n",
       "\n",
       "    .dataframe tbody tr th {\n",
       "        vertical-align: top;\n",
       "    }\n",
       "\n",
       "    .dataframe thead th {\n",
       "        text-align: right;\n",
       "    }\n",
       "</style>\n",
       "<table border=\"1\" class=\"dataframe\">\n",
       "  <thead>\n",
       "    <tr style=\"text-align: right;\">\n",
       "      <th></th>\n",
       "      <th>Provincia</th>\n",
       "      <th>Partido</th>\n",
       "      <th>Localidad</th>\n",
       "      <th>Link Indec</th>\n",
       "      <th>ADSL</th>\n",
       "      <th>CABLEMODEM</th>\n",
       "      <th>DIAL UP</th>\n",
       "      <th>FIBRA OPTICA</th>\n",
       "      <th>OTROS</th>\n",
       "      <th>SATELITAL</th>\n",
       "      <th>WIMAX</th>\n",
       "      <th>WIRELESS</th>\n",
       "      <th>Total general</th>\n",
       "    </tr>\n",
       "  </thead>\n",
       "  <tbody>\n",
       "    <tr>\n",
       "      <th>0</th>\n",
       "      <td>BUENOS AIRES</td>\n",
       "      <td>25 de Mayo</td>\n",
       "      <td>25 de Mayo</td>\n",
       "      <td>6854100</td>\n",
       "      <td>756</td>\n",
       "      <td>4600</td>\n",
       "      <td>0</td>\n",
       "      <td>3</td>\n",
       "      <td>0</td>\n",
       "      <td>742</td>\n",
       "      <td>0</td>\n",
       "      <td>726</td>\n",
       "      <td>6827</td>\n",
       "    </tr>\n",
       "    <tr>\n",
       "      <th>1</th>\n",
       "      <td>BUENOS AIRES</td>\n",
       "      <td>25 de Mayo</td>\n",
       "      <td>Del Valle</td>\n",
       "      <td>6854020</td>\n",
       "      <td>181</td>\n",
       "      <td>0</td>\n",
       "      <td>0</td>\n",
       "      <td>0</td>\n",
       "      <td>10</td>\n",
       "      <td>1</td>\n",
       "      <td>0</td>\n",
       "      <td>0</td>\n",
       "      <td>192</td>\n",
       "    </tr>\n",
       "    <tr>\n",
       "      <th>2</th>\n",
       "      <td>BUENOS AIRES</td>\n",
       "      <td>25 de Mayo</td>\n",
       "      <td>Gobernador Ugarte</td>\n",
       "      <td>6854040</td>\n",
       "      <td>0</td>\n",
       "      <td>0</td>\n",
       "      <td>0</td>\n",
       "      <td>0</td>\n",
       "      <td>0</td>\n",
       "      <td>0</td>\n",
       "      <td>0</td>\n",
       "      <td>181</td>\n",
       "      <td>181</td>\n",
       "    </tr>\n",
       "  </tbody>\n",
       "</table>\n",
       "</div>"
      ],
      "text/plain": [
       "      Provincia     Partido          Localidad Link Indec  ADSL  CABLEMODEM  \\\n",
       "0  BUENOS AIRES  25 de Mayo         25 de Mayo    6854100   756        4600   \n",
       "1  BUENOS AIRES  25 de Mayo          Del Valle    6854020   181           0   \n",
       "2  BUENOS AIRES  25 de Mayo  Gobernador Ugarte    6854040     0           0   \n",
       "\n",
       "   DIAL UP  FIBRA OPTICA  OTROS  SATELITAL  WIMAX  WIRELESS  Total general  \n",
       "0        0             3      0        742      0       726           6827  \n",
       "1        0             0     10          1      0         0            192  \n",
       "2        0             0      0          0      0       181            181  "
      ]
     },
     "execution_count": 102,
     "metadata": {},
     "output_type": "execute_result"
    }
   ],
   "source": [
    "df_accesos_localidad.head(3)"
   ]
  },
  {
   "cell_type": "code",
   "execution_count": 128,
   "metadata": {},
   "outputs": [],
   "source": [
    "engine = crear_conexion_mysql()"
   ]
  },
  {
   "cell_type": "code",
   "execution_count": 129,
   "metadata": {},
   "outputs": [
    {
     "data": {
      "text/plain": [
       "Index(['provincia', 'partido', 'localidad', 'linkIndec', 'adsl', 'cableModem',\n",
       "       'dialUp', 'fibraOptica', 'otros', 'satelital', 'wimax', 'wireless',\n",
       "       'totalGeneral'],\n",
       "      dtype='object')"
      ]
     },
     "execution_count": 129,
     "metadata": {},
     "output_type": "execute_result"
    }
   ],
   "source": [
    "df_accesos_localidad.columns"
   ]
  },
  {
   "cell_type": "code",
   "execution_count": 130,
   "metadata": {},
   "outputs": [],
   "source": [
    "#Crear un objeto MetaData\n",
    "metadata = MetaData()"
   ]
  },
  {
   "cell_type": "code",
   "execution_count": 131,
   "metadata": {},
   "outputs": [],
   "source": [
    "# Definir la estructura de la tabla df_acceso_por_velocidad\n",
    "tabla = Table(\n",
    "    'internet_accesos_localidad', metadata,\n",
    "    Column('idTabla', Integer, primary_key=True,autoincrement=\"auto\" ),\n",
    "    Column('provincia', String(50)),\n",
    "    Column('partido', String(50)),\n",
    "    Column('localidad', String(150)),\n",
    "    Column('linkIndec', String(50)),\n",
    "    Column('adsl', Float),\n",
    "    Column('cableModem', Float),\n",
    "    Column('dialUp', Float),\n",
    "    Column('fibraOptica', Float),\n",
    "    Column('otros', Float),\n",
    "    Column('satelital', Float),\n",
    "    Column('wimax', Float),\n",
    "    Column('wireless', Float),\n",
    "    Column('totalGeneral', Float),\n",
    ")\n"
   ]
  },
  {
   "cell_type": "code",
   "execution_count": 132,
   "metadata": {},
   "outputs": [],
   "source": [
    "metadata.create_all(engine)\n",
    "df_accesos_localidad=df_accesos_localidad.rename(columns={\n",
    "    'Provincia':'provincia' ,\n",
    "    'Partido':'partido' ,\n",
    "    'Localidad':'localidad' ,\n",
    "    'Link Indec':'linkIndec',\n",
    "    'ADSL':'adsl',\n",
    "    'CABLEMODEM':'cableModem',\n",
    "    'DIAL UP':'dialUp',\n",
    "    'FIBRA OPTICA':'fibraOptica',\n",
    "    'OTROS':'otros',\n",
    "    'SATELITAL':'satelital',\n",
    "    'WIMAX':'wimax',\n",
    "    'WIRELESS':'wireless',\n",
    "    'Total general':'totalGeneral'\n",
    "})\n"
   ]
  },
  {
   "cell_type": "code",
   "execution_count": 133,
   "metadata": {},
   "outputs": [],
   "source": [
    "# Nombre de la tabla en la base de datos\n",
    "tablename = 'internet_accesos_localidad'"
   ]
  },
  {
   "cell_type": "code",
   "execution_count": 134,
   "metadata": {},
   "outputs": [
    {
     "data": {
      "text/plain": [
       "54"
      ]
     },
     "execution_count": 134,
     "metadata": {},
     "output_type": "execute_result"
    }
   ],
   "source": [
    "x=df_accesos_localidad['localidad'].iloc[2251] #df_accesos_localidad.iloc[2251]\n",
    "len(x)"
   ]
  },
  {
   "cell_type": "code",
   "execution_count": 135,
   "metadata": {},
   "outputs": [
    {
     "data": {
      "text/plain": [
       "3076"
      ]
     },
     "execution_count": 135,
     "metadata": {},
     "output_type": "execute_result"
    }
   ],
   "source": [
    "# Subir el DataFrame a la base de datos\n",
    "df_accesos_localidad.to_sql(tablename, con=engine, if_exists='append', index=False)"
   ]
  },
  {
   "cell_type": "markdown",
   "metadata": {},
   "source": [
    "# 6.- Ingresos"
   ]
  },
  {
   "cell_type": "code",
   "execution_count": 143,
   "metadata": {},
   "outputs": [],
   "source": [
    "df_ingresos=pd.read_excel('../DatasetCrudos/Internet.xlsx',sheet_name='Ingresos') \n"
   ]
  },
  {
   "cell_type": "code",
   "execution_count": 144,
   "metadata": {},
   "outputs": [
    {
     "data": {
      "text/html": [
       "<div>\n",
       "<style scoped>\n",
       "    .dataframe tbody tr th:only-of-type {\n",
       "        vertical-align: middle;\n",
       "    }\n",
       "\n",
       "    .dataframe tbody tr th {\n",
       "        vertical-align: top;\n",
       "    }\n",
       "\n",
       "    .dataframe thead th {\n",
       "        text-align: right;\n",
       "    }\n",
       "</style>\n",
       "<table border=\"1\" class=\"dataframe\">\n",
       "  <thead>\n",
       "    <tr style=\"text-align: right;\">\n",
       "      <th></th>\n",
       "      <th>Año</th>\n",
       "      <th>Trimestre</th>\n",
       "      <th>Ingresos (miles de pesos)</th>\n",
       "    </tr>\n",
       "  </thead>\n",
       "  <tbody>\n",
       "    <tr>\n",
       "      <th>count</th>\n",
       "      <td>40.000000</td>\n",
       "      <td>40.000000</td>\n",
       "      <td>4.000000e+01</td>\n",
       "    </tr>\n",
       "    <tr>\n",
       "      <th>mean</th>\n",
       "      <td>2018.750000</td>\n",
       "      <td>2.500000</td>\n",
       "      <td>3.281153e+07</td>\n",
       "    </tr>\n",
       "    <tr>\n",
       "      <th>std</th>\n",
       "      <td>3.642696</td>\n",
       "      <td>1.132277</td>\n",
       "      <td>3.850304e+07</td>\n",
       "    </tr>\n",
       "    <tr>\n",
       "      <th>min</th>\n",
       "      <td>2014.000000</td>\n",
       "      <td>1.000000</td>\n",
       "      <td>2.984054e+06</td>\n",
       "    </tr>\n",
       "    <tr>\n",
       "      <th>25%</th>\n",
       "      <td>2016.000000</td>\n",
       "      <td>1.750000</td>\n",
       "      <td>6.817891e+06</td>\n",
       "    </tr>\n",
       "    <tr>\n",
       "      <th>50%</th>\n",
       "      <td>2018.500000</td>\n",
       "      <td>2.500000</td>\n",
       "      <td>1.842255e+07</td>\n",
       "    </tr>\n",
       "    <tr>\n",
       "      <th>75%</th>\n",
       "      <td>2021.000000</td>\n",
       "      <td>3.250000</td>\n",
       "      <td>3.942974e+07</td>\n",
       "    </tr>\n",
       "    <tr>\n",
       "      <th>max</th>\n",
       "      <td>2033.000000</td>\n",
       "      <td>4.000000</td>\n",
       "      <td>1.673760e+08</td>\n",
       "    </tr>\n",
       "  </tbody>\n",
       "</table>\n",
       "</div>"
      ],
      "text/plain": [
       "               Año  Trimestre  Ingresos (miles de pesos)\n",
       "count    40.000000  40.000000               4.000000e+01\n",
       "mean   2018.750000   2.500000               3.281153e+07\n",
       "std       3.642696   1.132277               3.850304e+07\n",
       "min    2014.000000   1.000000               2.984054e+06\n",
       "25%    2016.000000   1.750000               6.817891e+06\n",
       "50%    2018.500000   2.500000               1.842255e+07\n",
       "75%    2021.000000   3.250000               3.942974e+07\n",
       "max    2033.000000   4.000000               1.673760e+08"
      ]
     },
     "execution_count": 144,
     "metadata": {},
     "output_type": "execute_result"
    }
   ],
   "source": [
    "df_ingresos.describe()\n"
   ]
  },
  {
   "cell_type": "code",
   "execution_count": 145,
   "metadata": {},
   "outputs": [
    {
     "name": "stdout",
     "output_type": "stream",
     "text": [
      "<class 'pandas.core.frame.DataFrame'>\n",
      "RangeIndex: 40 entries, 0 to 39\n",
      "Data columns (total 4 columns):\n",
      " #   Column                     Non-Null Count  Dtype  \n",
      "---  ------                     --------------  -----  \n",
      " 0   Año                        40 non-null     int64  \n",
      " 1   Trimestre                  40 non-null     int64  \n",
      " 2   Ingresos (miles de pesos)  40 non-null     float64\n",
      " 3   Periodo                    40 non-null     object \n",
      "dtypes: float64(1), int64(2), object(1)\n",
      "memory usage: 1.4+ KB\n"
     ]
    }
   ],
   "source": [
    "df_ingresos.info()\n"
   ]
  },
  {
   "cell_type": "code",
   "execution_count": 146,
   "metadata": {},
   "outputs": [
    {
     "data": {
      "text/plain": [
       "Año                          0\n",
       "Trimestre                    0\n",
       "Ingresos (miles de pesos)    0\n",
       "Periodo                      0\n",
       "dtype: int64"
      ]
     },
     "execution_count": 146,
     "metadata": {},
     "output_type": "execute_result"
    }
   ],
   "source": [
    "df_ingresos.isna().sum()\n"
   ]
  },
  {
   "cell_type": "code",
   "execution_count": 147,
   "metadata": {},
   "outputs": [
    {
     "data": {
      "text/plain": [
       "np.int64(0)"
      ]
     },
     "execution_count": 147,
     "metadata": {},
     "output_type": "execute_result"
    }
   ],
   "source": [
    "df_ingresos.duplicated().sum()"
   ]
  },
  {
   "cell_type": "code",
   "execution_count": 148,
   "metadata": {},
   "outputs": [],
   "source": [
    "engine = crear_conexion_mysql()"
   ]
  },
  {
   "cell_type": "code",
   "execution_count": 149,
   "metadata": {},
   "outputs": [
    {
     "data": {
      "text/plain": [
       "Index(['Año', 'Trimestre', 'Ingresos (miles de pesos)', 'Periodo'], dtype='object')"
      ]
     },
     "execution_count": 149,
     "metadata": {},
     "output_type": "execute_result"
    }
   ],
   "source": [
    "df_ingresos.columns"
   ]
  },
  {
   "cell_type": "code",
   "execution_count": 150,
   "metadata": {},
   "outputs": [],
   "source": [
    "#Crear un objeto MetaData\n",
    "metadata = MetaData()"
   ]
  },
  {
   "cell_type": "code",
   "execution_count": 151,
   "metadata": {},
   "outputs": [],
   "source": [
    "# Definir la estructura de la tabla df_acceso_por_velocidad\n",
    "tabla = Table(\n",
    "    'internet_ingresos', metadata,\n",
    "    Column('idTabla', Integer, primary_key=True,autoincrement=\"auto\" ),\n",
    "    Column('año', Integer, nullable=False),\n",
    "    Column('trimestre', Integer,nullable=False),\n",
    "    Column('ingresos', Float),\n",
    "    Column('periodo', String(20))\n",
    ")\n"
   ]
  },
  {
   "cell_type": "code",
   "execution_count": 152,
   "metadata": {},
   "outputs": [],
   "source": [
    "metadata.create_all(engine)"
   ]
  },
  {
   "cell_type": "code",
   "execution_count": 153,
   "metadata": {},
   "outputs": [],
   "source": [
    "df_ingresos=df_ingresos.rename(columns={\n",
    "    'Año':'año' ,\n",
    "    'Trimestre':'trimestre' ,\n",
    "    'Ingresos (miles de pesos)':'ingresos' ,\n",
    "    'Periodo':'periodo' \n",
    "})"
   ]
  },
  {
   "cell_type": "code",
   "execution_count": 154,
   "metadata": {},
   "outputs": [],
   "source": [
    "# Nombre de la tabla en la base de datos\n",
    "tablename = 'internet_ingresos'\n"
   ]
  },
  {
   "cell_type": "code",
   "execution_count": 155,
   "metadata": {},
   "outputs": [
    {
     "data": {
      "text/plain": [
       "40"
      ]
     },
     "execution_count": 155,
     "metadata": {},
     "output_type": "execute_result"
    }
   ],
   "source": [
    "# Subir el DataFrame a la base de datos\n",
    "df_ingresos.to_sql(tablename, con=engine, if_exists='append', index=False)"
   ]
  },
  {
   "cell_type": "markdown",
   "metadata": {},
   "source": [
    "# 7 Totales Accesos por tecnología"
   ]
  },
  {
   "cell_type": "code",
   "execution_count": 136,
   "metadata": {},
   "outputs": [],
   "source": [
    "df_totales=pd.read_excel('../DatasetCrudos/Internet.xlsx',sheet_name='Totales Accesos Por Tecnología') "
   ]
  },
  {
   "cell_type": "code",
   "execution_count": 137,
   "metadata": {},
   "outputs": [
    {
     "data": {
      "text/html": [
       "<div>\n",
       "<style scoped>\n",
       "    .dataframe tbody tr th:only-of-type {\n",
       "        vertical-align: middle;\n",
       "    }\n",
       "\n",
       "    .dataframe tbody tr th {\n",
       "        vertical-align: top;\n",
       "    }\n",
       "\n",
       "    .dataframe thead th {\n",
       "        text-align: right;\n",
       "    }\n",
       "</style>\n",
       "<table border=\"1\" class=\"dataframe\">\n",
       "  <thead>\n",
       "    <tr style=\"text-align: right;\">\n",
       "      <th></th>\n",
       "      <th>Año</th>\n",
       "      <th>Trimestre</th>\n",
       "      <th>ADSL</th>\n",
       "      <th>Cablemodem</th>\n",
       "      <th>Fibra óptica</th>\n",
       "      <th>Wireless</th>\n",
       "      <th>Otros</th>\n",
       "      <th>Total</th>\n",
       "    </tr>\n",
       "  </thead>\n",
       "  <tbody>\n",
       "    <tr>\n",
       "      <th>count</th>\n",
       "      <td>40.000000</td>\n",
       "      <td>40.000000</td>\n",
       "      <td>4.000000e+01</td>\n",
       "      <td>4.000000e+01</td>\n",
       "      <td>4.000000e+01</td>\n",
       "      <td>40.000000</td>\n",
       "      <td>40.000000</td>\n",
       "      <td>4.000000e+01</td>\n",
       "    </tr>\n",
       "    <tr>\n",
       "      <th>mean</th>\n",
       "      <td>2018.500000</td>\n",
       "      <td>2.500000</td>\n",
       "      <td>2.791887e+06</td>\n",
       "      <td>4.359240e+06</td>\n",
       "      <td>1.081302e+06</td>\n",
       "      <td>289710.900000</td>\n",
       "      <td>154847.925000</td>\n",
       "      <td>8.676987e+06</td>\n",
       "    </tr>\n",
       "    <tr>\n",
       "      <th>std</th>\n",
       "      <td>2.908872</td>\n",
       "      <td>1.132277</td>\n",
       "      <td>1.027693e+06</td>\n",
       "      <td>1.308010e+06</td>\n",
       "      <td>1.179722e+06</td>\n",
       "      <td>197048.992979</td>\n",
       "      <td>82678.927051</td>\n",
       "      <td>1.655946e+06</td>\n",
       "    </tr>\n",
       "    <tr>\n",
       "      <th>min</th>\n",
       "      <td>2014.000000</td>\n",
       "      <td>1.000000</td>\n",
       "      <td>8.363900e+05</td>\n",
       "      <td>2.407330e+06</td>\n",
       "      <td>1.391870e+05</td>\n",
       "      <td>70749.000000</td>\n",
       "      <td>54300.000000</td>\n",
       "      <td>6.398398e+06</td>\n",
       "    </tr>\n",
       "    <tr>\n",
       "      <th>25%</th>\n",
       "      <td>2016.000000</td>\n",
       "      <td>1.750000</td>\n",
       "      <td>2.001598e+06</td>\n",
       "      <td>3.102459e+06</td>\n",
       "      <td>1.694705e+05</td>\n",
       "      <td>85307.250000</td>\n",
       "      <td>69048.000000</td>\n",
       "      <td>7.187732e+06</td>\n",
       "    </tr>\n",
       "    <tr>\n",
       "      <th>50%</th>\n",
       "      <td>2018.500000</td>\n",
       "      <td>2.500000</td>\n",
       "      <td>3.230908e+06</td>\n",
       "      <td>4.374635e+06</td>\n",
       "      <td>5.125560e+05</td>\n",
       "      <td>270359.000000</td>\n",
       "      <td>172437.000000</td>\n",
       "      <td>8.560895e+06</td>\n",
       "    </tr>\n",
       "    <tr>\n",
       "      <th>75%</th>\n",
       "      <td>2021.000000</td>\n",
       "      <td>3.250000</td>\n",
       "      <td>3.716772e+06</td>\n",
       "      <td>5.687862e+06</td>\n",
       "      <td>1.495696e+06</td>\n",
       "      <td>480829.750000</td>\n",
       "      <td>238176.500000</td>\n",
       "      <td>9.918698e+06</td>\n",
       "    </tr>\n",
       "    <tr>\n",
       "      <th>max</th>\n",
       "      <td>2023.000000</td>\n",
       "      <td>4.000000</td>\n",
       "      <td>3.803024e+06</td>\n",
       "      <td>6.073426e+06</td>\n",
       "      <td>3.908183e+06</td>\n",
       "      <td>585760.000000</td>\n",
       "      <td>265328.000000</td>\n",
       "      <td>1.154766e+07</td>\n",
       "    </tr>\n",
       "  </tbody>\n",
       "</table>\n",
       "</div>"
      ],
      "text/plain": [
       "               Año  Trimestre          ADSL    Cablemodem  Fibra óptica  \\\n",
       "count    40.000000  40.000000  4.000000e+01  4.000000e+01  4.000000e+01   \n",
       "mean   2018.500000   2.500000  2.791887e+06  4.359240e+06  1.081302e+06   \n",
       "std       2.908872   1.132277  1.027693e+06  1.308010e+06  1.179722e+06   \n",
       "min    2014.000000   1.000000  8.363900e+05  2.407330e+06  1.391870e+05   \n",
       "25%    2016.000000   1.750000  2.001598e+06  3.102459e+06  1.694705e+05   \n",
       "50%    2018.500000   2.500000  3.230908e+06  4.374635e+06  5.125560e+05   \n",
       "75%    2021.000000   3.250000  3.716772e+06  5.687862e+06  1.495696e+06   \n",
       "max    2023.000000   4.000000  3.803024e+06  6.073426e+06  3.908183e+06   \n",
       "\n",
       "            Wireless          Otros         Total  \n",
       "count      40.000000      40.000000  4.000000e+01  \n",
       "mean   289710.900000  154847.925000  8.676987e+06  \n",
       "std    197048.992979   82678.927051  1.655946e+06  \n",
       "min     70749.000000   54300.000000  6.398398e+06  \n",
       "25%     85307.250000   69048.000000  7.187732e+06  \n",
       "50%    270359.000000  172437.000000  8.560895e+06  \n",
       "75%    480829.750000  238176.500000  9.918698e+06  \n",
       "max    585760.000000  265328.000000  1.154766e+07  "
      ]
     },
     "execution_count": 137,
     "metadata": {},
     "output_type": "execute_result"
    }
   ],
   "source": [
    "df_totales.describe()"
   ]
  },
  {
   "cell_type": "code",
   "execution_count": 138,
   "metadata": {},
   "outputs": [
    {
     "name": "stdout",
     "output_type": "stream",
     "text": [
      "<class 'pandas.core.frame.DataFrame'>\n",
      "RangeIndex: 40 entries, 0 to 39\n",
      "Data columns (total 9 columns):\n",
      " #   Column        Non-Null Count  Dtype \n",
      "---  ------        --------------  ----- \n",
      " 0   Año           40 non-null     int64 \n",
      " 1   Trimestre     40 non-null     int64 \n",
      " 2   ADSL          40 non-null     int64 \n",
      " 3   Cablemodem    40 non-null     int64 \n",
      " 4   Fibra óptica  40 non-null     int64 \n",
      " 5   Wireless      40 non-null     int64 \n",
      " 6   Otros         40 non-null     int64 \n",
      " 7   Total         40 non-null     int64 \n",
      " 8   Periodo       40 non-null     object\n",
      "dtypes: int64(8), object(1)\n",
      "memory usage: 2.9+ KB\n"
     ]
    }
   ],
   "source": [
    "df_totales.info()"
   ]
  },
  {
   "cell_type": "code",
   "execution_count": 139,
   "metadata": {},
   "outputs": [
    {
     "data": {
      "text/plain": [
       "Año             0\n",
       "Trimestre       0\n",
       "ADSL            0\n",
       "Cablemodem      0\n",
       "Fibra óptica    0\n",
       "Wireless        0\n",
       "Otros           0\n",
       "Total           0\n",
       "Periodo         0\n",
       "dtype: int64"
      ]
     },
     "execution_count": 139,
     "metadata": {},
     "output_type": "execute_result"
    }
   ],
   "source": [
    "df_totales.isna().sum()"
   ]
  },
  {
   "cell_type": "code",
   "execution_count": 140,
   "metadata": {},
   "outputs": [
    {
     "data": {
      "text/plain": [
       "np.int64(0)"
      ]
     },
     "execution_count": 140,
     "metadata": {},
     "output_type": "execute_result"
    }
   ],
   "source": [
    "df_totales.duplicated().sum()"
   ]
  },
  {
   "cell_type": "code",
   "execution_count": 141,
   "metadata": {},
   "outputs": [],
   "source": [
    "engine = crear_conexion_mysql()"
   ]
  },
  {
   "cell_type": "code",
   "execution_count": 142,
   "metadata": {},
   "outputs": [
    {
     "data": {
      "text/plain": [
       "Index(['Año', 'Trimestre', 'ADSL', 'Cablemodem', 'Fibra óptica', 'Wireless',\n",
       "       'Otros', 'Total', 'Periodo'],\n",
       "      dtype='object')"
      ]
     },
     "execution_count": 142,
     "metadata": {},
     "output_type": "execute_result"
    }
   ],
   "source": [
    "df_totales.columns"
   ]
  },
  {
   "cell_type": "code",
   "execution_count": 65,
   "metadata": {},
   "outputs": [],
   "source": [
    "#Crear un objeto MetaData\n",
    "metadata = MetaData()"
   ]
  },
  {
   "cell_type": "code",
   "execution_count": 71,
   "metadata": {},
   "outputs": [],
   "source": [
    "# Definir la estructura de la tabla df_acceso_por_velocidad\n",
    "tabla = Table(\n",
    "    'internet_accesos_totales', metadata,\n",
    "    Column('idTabla', Integer, primary_key=True,autoincrement=\"auto\" ),\n",
    "    Column('año', Integer, nullable=False),\n",
    "    Column('trimestre', Integer,nullable=False),\n",
    "    Column('adsl', Float),\n",
    "    Column('cableModem', Float),\n",
    "    Column('fibraOptica', Float),\n",
    "    Column('wireless', Float),\n",
    "    Column('otros', Float),\n",
    "    Column('total', Float),\n",
    "    Column('periodo', String(20))\n",
    ")\n"
   ]
  },
  {
   "cell_type": "code",
   "execution_count": 72,
   "metadata": {},
   "outputs": [],
   "source": [
    "metadata.create_all(engine)"
   ]
  },
  {
   "cell_type": "code",
   "execution_count": 73,
   "metadata": {},
   "outputs": [],
   "source": [
    "df_totales=df_totales.rename(columns={\n",
    "    'Año':'año' ,\n",
    "    'Trimestre':'trimestre' ,\n",
    "    'ADSL':'adsl' ,\n",
    "    'Cablemodem':'cableModem',\n",
    "    'Fibra óptica':'fibraOptica',\n",
    "    'Wireless':'wireless',\n",
    "    'Otros':'otros',\n",
    "    'Total':'total',\n",
    "    'Periodo':'periodo'\n",
    "})\n"
   ]
  },
  {
   "cell_type": "code",
   "execution_count": 74,
   "metadata": {},
   "outputs": [
    {
     "data": {
      "text/plain": [
       "40"
      ]
     },
     "execution_count": 74,
     "metadata": {},
     "output_type": "execute_result"
    }
   ],
   "source": [
    "# Nombre de la tabla en la base de datos\n",
    "tablename = 'internet_accesos_totales'\n",
    "\n",
    "# Subir el DataFrame a la base de datos\n",
    "df_totales.to_sql(tablename, con=engine, if_exists='append', index=False)"
   ]
  },
  {
   "cell_type": "code",
   "execution_count": null,
   "metadata": {},
   "outputs": [],
   "source": []
  },
  {
   "cell_type": "markdown",
   "metadata": {},
   "source": [
    "# 8 Portabilidad"
   ]
  },
  {
   "cell_type": "code",
   "execution_count": 4,
   "metadata": {},
   "outputs": [],
   "source": [
    "df_portabilidad=pd.read_excel('../DatasetCrudos/Portabilidad.xlsx',sheet_name='Portabilidad') "
   ]
  },
  {
   "cell_type": "code",
   "execution_count": 5,
   "metadata": {},
   "outputs": [
    {
     "data": {
      "text/html": [
       "<div>\n",
       "<style scoped>\n",
       "    .dataframe tbody tr th:only-of-type {\n",
       "        vertical-align: middle;\n",
       "    }\n",
       "\n",
       "    .dataframe tbody tr th {\n",
       "        vertical-align: top;\n",
       "    }\n",
       "\n",
       "    .dataframe thead th {\n",
       "        text-align: right;\n",
       "    }\n",
       "</style>\n",
       "<table border=\"1\" class=\"dataframe\">\n",
       "  <thead>\n",
       "    <tr style=\"text-align: right;\">\n",
       "      <th></th>\n",
       "      <th>Año</th>\n",
       "      <th>Mes</th>\n",
       "      <th>Personal</th>\n",
       "      <th>Claro</th>\n",
       "      <th>Nextel</th>\n",
       "      <th>Movistar</th>\n",
       "      <th>Otros</th>\n",
       "      <th>Periodo</th>\n",
       "    </tr>\n",
       "  </thead>\n",
       "  <tbody>\n",
       "    <tr>\n",
       "      <th>count</th>\n",
       "      <td>139.000000</td>\n",
       "      <td>139.000000</td>\n",
       "      <td>139.000000</td>\n",
       "      <td>139.000000</td>\n",
       "      <td>139.000000</td>\n",
       "      <td>139.000000</td>\n",
       "      <td>139.000000</td>\n",
       "      <td>139</td>\n",
       "    </tr>\n",
       "    <tr>\n",
       "      <th>mean</th>\n",
       "      <td>2017.460432</td>\n",
       "      <td>6.474820</td>\n",
       "      <td>1420.316547</td>\n",
       "      <td>4436.827338</td>\n",
       "      <td>-1231.007194</td>\n",
       "      <td>-4666.920863</td>\n",
       "      <td>40.784173</td>\n",
       "      <td>2017-11-30 17:36:41.438849024</td>\n",
       "    </tr>\n",
       "    <tr>\n",
       "      <th>min</th>\n",
       "      <td>2012.000000</td>\n",
       "      <td>1.000000</td>\n",
       "      <td>-18668.000000</td>\n",
       "      <td>-42345.000000</td>\n",
       "      <td>-4964.000000</td>\n",
       "      <td>-63567.000000</td>\n",
       "      <td>0.000000</td>\n",
       "      <td>2012-03-01 00:00:00</td>\n",
       "    </tr>\n",
       "    <tr>\n",
       "      <th>25%</th>\n",
       "      <td>2015.000000</td>\n",
       "      <td>4.000000</td>\n",
       "      <td>-4243.000000</td>\n",
       "      <td>-1179.500000</td>\n",
       "      <td>-1873.500000</td>\n",
       "      <td>-12456.000000</td>\n",
       "      <td>0.000000</td>\n",
       "      <td>2015-01-16 12:00:00</td>\n",
       "    </tr>\n",
       "    <tr>\n",
       "      <th>50%</th>\n",
       "      <td>2017.000000</td>\n",
       "      <td>6.000000</td>\n",
       "      <td>-200.000000</td>\n",
       "      <td>4447.000000</td>\n",
       "      <td>-1267.000000</td>\n",
       "      <td>-3746.000000</td>\n",
       "      <td>0.000000</td>\n",
       "      <td>2017-12-01 00:00:00</td>\n",
       "    </tr>\n",
       "    <tr>\n",
       "      <th>75%</th>\n",
       "      <td>2020.000000</td>\n",
       "      <td>9.000000</td>\n",
       "      <td>3962.500000</td>\n",
       "      <td>10492.500000</td>\n",
       "      <td>0.000000</td>\n",
       "      <td>2119.500000</td>\n",
       "      <td>0.000000</td>\n",
       "      <td>2020-10-16 12:00:00</td>\n",
       "    </tr>\n",
       "    <tr>\n",
       "      <th>max</th>\n",
       "      <td>2023.000000</td>\n",
       "      <td>12.000000</td>\n",
       "      <td>41931.000000</td>\n",
       "      <td>38116.000000</td>\n",
       "      <td>0.000000</td>\n",
       "      <td>41453.000000</td>\n",
       "      <td>1050.000000</td>\n",
       "      <td>2023-09-01 00:00:00</td>\n",
       "    </tr>\n",
       "    <tr>\n",
       "      <th>std</th>\n",
       "      <td>3.367075</td>\n",
       "      <td>3.407857</td>\n",
       "      <td>10801.265898</td>\n",
       "      <td>14107.432385</td>\n",
       "      <td>1195.870113</td>\n",
       "      <td>14798.534389</td>\n",
       "      <td>148.059563</td>\n",
       "      <td>NaN</td>\n",
       "    </tr>\n",
       "  </tbody>\n",
       "</table>\n",
       "</div>"
      ],
      "text/plain": [
       "              Año         Mes      Personal         Claro       Nextel   \\\n",
       "count   139.000000  139.000000    139.000000    139.000000   139.000000   \n",
       "mean   2017.460432    6.474820   1420.316547   4436.827338 -1231.007194   \n",
       "min    2012.000000    1.000000 -18668.000000 -42345.000000 -4964.000000   \n",
       "25%    2015.000000    4.000000  -4243.000000  -1179.500000 -1873.500000   \n",
       "50%    2017.000000    6.000000   -200.000000   4447.000000 -1267.000000   \n",
       "75%    2020.000000    9.000000   3962.500000  10492.500000     0.000000   \n",
       "max    2023.000000   12.000000  41931.000000  38116.000000     0.000000   \n",
       "std       3.367075    3.407857  10801.265898  14107.432385  1195.870113   \n",
       "\n",
       "          Movistar         Otros                       Periodo   \n",
       "count    139.000000   139.000000                            139  \n",
       "mean   -4666.920863    40.784173  2017-11-30 17:36:41.438849024  \n",
       "min   -63567.000000     0.000000            2012-03-01 00:00:00  \n",
       "25%   -12456.000000     0.000000            2015-01-16 12:00:00  \n",
       "50%    -3746.000000     0.000000            2017-12-01 00:00:00  \n",
       "75%     2119.500000     0.000000            2020-10-16 12:00:00  \n",
       "max    41453.000000  1050.000000            2023-09-01 00:00:00  \n",
       "std    14798.534389   148.059563                            NaN  "
      ]
     },
     "execution_count": 5,
     "metadata": {},
     "output_type": "execute_result"
    }
   ],
   "source": [
    "df_portabilidad.describe()"
   ]
  },
  {
   "cell_type": "code",
   "execution_count": 6,
   "metadata": {},
   "outputs": [
    {
     "name": "stdout",
     "output_type": "stream",
     "text": [
      "<class 'pandas.core.frame.DataFrame'>\n",
      "RangeIndex: 139 entries, 0 to 138\n",
      "Data columns (total 8 columns):\n",
      " #   Column      Non-Null Count  Dtype         \n",
      "---  ------      --------------  -----         \n",
      " 0    Año        139 non-null    int64         \n",
      " 1    Mes        139 non-null    int64         \n",
      " 2    Personal   139 non-null    int64         \n",
      " 3    Claro      139 non-null    int64         \n",
      " 4    Nextel     139 non-null    int64         \n",
      " 5    Movistar   139 non-null    int64         \n",
      " 6   Otros       139 non-null    int64         \n",
      " 7    Periodo    139 non-null    datetime64[ns]\n",
      "dtypes: datetime64[ns](1), int64(7)\n",
      "memory usage: 8.8 KB\n"
     ]
    }
   ],
   "source": [
    "df_portabilidad.info()"
   ]
  },
  {
   "cell_type": "code",
   "execution_count": 7,
   "metadata": {},
   "outputs": [
    {
     "data": {
      "text/plain": [
       " Año          0\n",
       " Mes          0\n",
       " Personal     0\n",
       " Claro        0\n",
       " Nextel       0\n",
       " Movistar     0\n",
       "Otros         0\n",
       " Periodo      0\n",
       "dtype: int64"
      ]
     },
     "execution_count": 7,
     "metadata": {},
     "output_type": "execute_result"
    }
   ],
   "source": [
    "df_portabilidad.isna().sum()"
   ]
  },
  {
   "cell_type": "code",
   "execution_count": 8,
   "metadata": {},
   "outputs": [
    {
     "data": {
      "text/plain": [
       "np.int64(0)"
      ]
     },
     "execution_count": 8,
     "metadata": {},
     "output_type": "execute_result"
    }
   ],
   "source": [
    "df_portabilidad.duplicated().sum()"
   ]
  },
  {
   "cell_type": "code",
   "execution_count": 12,
   "metadata": {},
   "outputs": [],
   "source": [
    "engine = crear_conexion_mysql()"
   ]
  },
  {
   "cell_type": "code",
   "execution_count": 13,
   "metadata": {},
   "outputs": [
    {
     "data": {
      "text/plain": [
       "Index([' Año ', ' Mes ', ' Personal ', ' Claro ', ' Nextel ', ' Movistar ',\n",
       "       'Otros', ' Periodo '],\n",
       "      dtype='object')"
      ]
     },
     "execution_count": 13,
     "metadata": {},
     "output_type": "execute_result"
    }
   ],
   "source": [
    "df_portabilidad.columns"
   ]
  },
  {
   "cell_type": "code",
   "execution_count": 14,
   "metadata": {},
   "outputs": [],
   "source": [
    "#Crear un objeto MetaData\n",
    "metadata = MetaData()"
   ]
  },
  {
   "cell_type": "code",
   "execution_count": 15,
   "metadata": {},
   "outputs": [],
   "source": [
    "# Definir la estructura de la tabla df_acceso_por_velocidad\n",
    "tabla = Table(\n",
    "    'internet_portabilidad', metadata,\n",
    "    Column('idTabla', Integer, primary_key=True,autoincrement=\"auto\" ),\n",
    "    Column('año', Integer, nullable=False),\n",
    "    Column('mes', Integer,nullable=False),\n",
    "    Column('Personal', Integer),\n",
    "    Column('claro', Integer),\n",
    "    Column('nextel', Integer),\n",
    "    Column('movistar', Integer),\n",
    "    Column('otros', Integer),\n",
    "    Column('periodo', String(20))\n",
    ")"
   ]
  },
  {
   "cell_type": "code",
   "execution_count": 16,
   "metadata": {},
   "outputs": [],
   "source": [
    "metadata.create_all(engine)"
   ]
  },
  {
   "cell_type": "code",
   "execution_count": 21,
   "metadata": {},
   "outputs": [],
   "source": [
    "df_portabilidad=df_portabilidad.rename(columns={\n",
    "    ' Año ':'año' ,\n",
    "    ' Mes ':'mes' ,\n",
    "    ' Personal ':'personal' ,\n",
    "    ' Claro ':'claro',\n",
    "    ' Nextel ':'nextel',\n",
    "    ' Movistar ':'movistar',\n",
    "    ' Otros ':'otros',\n",
    "    ' Periodo ':'periodo'\n",
    "})"
   ]
  },
  {
   "cell_type": "code",
   "execution_count": 22,
   "metadata": {},
   "outputs": [
    {
     "data": {
      "text/plain": [
       "139"
      ]
     },
     "execution_count": 22,
     "metadata": {},
     "output_type": "execute_result"
    }
   ],
   "source": [
    "# Nombre de la tabla en la base de datos\n",
    "tablename = 'internet_portabilidad'\n",
    "\n",
    "# Subir el DataFrame a la base de datos\n",
    "df_portabilidad.to_sql(tablename, con=engine, if_exists='append', index=False)"
   ]
  },
  {
   "cell_type": "markdown",
   "metadata": {},
   "source": [
    "# 9 Portabilidad in"
   ]
  },
  {
   "cell_type": "code",
   "execution_count": 55,
   "metadata": {},
   "outputs": [],
   "source": [
    "df_portabilidad_in=pd.read_excel('../DatasetCrudos/Portabilidad.xlsx',sheet_name='Portin') "
   ]
  },
  {
   "cell_type": "code",
   "execution_count": 56,
   "metadata": {},
   "outputs": [
    {
     "data": {
      "text/html": [
       "<div>\n",
       "<style scoped>\n",
       "    .dataframe tbody tr th:only-of-type {\n",
       "        vertical-align: middle;\n",
       "    }\n",
       "\n",
       "    .dataframe tbody tr th {\n",
       "        vertical-align: top;\n",
       "    }\n",
       "\n",
       "    .dataframe thead th {\n",
       "        text-align: right;\n",
       "    }\n",
       "</style>\n",
       "<table border=\"1\" class=\"dataframe\">\n",
       "  <thead>\n",
       "    <tr style=\"text-align: right;\">\n",
       "      <th></th>\n",
       "      <th>Año</th>\n",
       "      <th>Mes</th>\n",
       "      <th>Personal</th>\n",
       "      <th>Claro</th>\n",
       "      <th>Nextel</th>\n",
       "      <th>Movistar</th>\n",
       "      <th>Otros</th>\n",
       "      <th>Total general</th>\n",
       "    </tr>\n",
       "  </thead>\n",
       "  <tbody>\n",
       "    <tr>\n",
       "      <th>count</th>\n",
       "      <td>139.000000</td>\n",
       "      <td>139.000000</td>\n",
       "      <td>139.000000</td>\n",
       "      <td>139.000000</td>\n",
       "      <td>78.000000</td>\n",
       "      <td>139.000000</td>\n",
       "      <td>19.000000</td>\n",
       "      <td>139.000000</td>\n",
       "    </tr>\n",
       "    <tr>\n",
       "      <th>mean</th>\n",
       "      <td>2017.460432</td>\n",
       "      <td>6.474820</td>\n",
       "      <td>48347.568345</td>\n",
       "      <td>58076.014388</td>\n",
       "      <td>126.512821</td>\n",
       "      <td>53113.985612</td>\n",
       "      <td>303.473684</td>\n",
       "      <td>159650.043165</td>\n",
       "    </tr>\n",
       "    <tr>\n",
       "      <th>std</th>\n",
       "      <td>3.367075</td>\n",
       "      <td>3.407857</td>\n",
       "      <td>31554.879225</td>\n",
       "      <td>33743.575848</td>\n",
       "      <td>142.875638</td>\n",
       "      <td>39348.102580</td>\n",
       "      <td>299.043358</td>\n",
       "      <td>98295.871674</td>\n",
       "    </tr>\n",
       "    <tr>\n",
       "      <th>min</th>\n",
       "      <td>2012.000000</td>\n",
       "      <td>1.000000</td>\n",
       "      <td>40.000000</td>\n",
       "      <td>72.000000</td>\n",
       "      <td>0.000000</td>\n",
       "      <td>41.000000</td>\n",
       "      <td>9.000000</td>\n",
       "      <td>153.000000</td>\n",
       "    </tr>\n",
       "    <tr>\n",
       "      <th>25%</th>\n",
       "      <td>2015.000000</td>\n",
       "      <td>4.000000</td>\n",
       "      <td>27928.500000</td>\n",
       "      <td>34467.500000</td>\n",
       "      <td>12.250000</td>\n",
       "      <td>13514.500000</td>\n",
       "      <td>51.500000</td>\n",
       "      <td>89669.500000</td>\n",
       "    </tr>\n",
       "    <tr>\n",
       "      <th>50%</th>\n",
       "      <td>2017.000000</td>\n",
       "      <td>6.000000</td>\n",
       "      <td>43106.000000</td>\n",
       "      <td>56791.000000</td>\n",
       "      <td>91.500000</td>\n",
       "      <td>45207.000000</td>\n",
       "      <td>238.000000</td>\n",
       "      <td>139781.000000</td>\n",
       "    </tr>\n",
       "    <tr>\n",
       "      <th>75%</th>\n",
       "      <td>2020.000000</td>\n",
       "      <td>9.000000</td>\n",
       "      <td>63493.000000</td>\n",
       "      <td>78123.500000</td>\n",
       "      <td>174.250000</td>\n",
       "      <td>87365.000000</td>\n",
       "      <td>430.500000</td>\n",
       "      <td>245761.500000</td>\n",
       "    </tr>\n",
       "    <tr>\n",
       "      <th>max</th>\n",
       "      <td>2023.000000</td>\n",
       "      <td>12.000000</td>\n",
       "      <td>179629.000000</td>\n",
       "      <td>132676.000000</td>\n",
       "      <td>676.000000</td>\n",
       "      <td>143327.000000</td>\n",
       "      <td>1059.000000</td>\n",
       "      <td>377682.000000</td>\n",
       "    </tr>\n",
       "  </tbody>\n",
       "</table>\n",
       "</div>"
      ],
      "text/plain": [
       "               Año         Mes       Personal          Claro      Nextel  \\\n",
       "count   139.000000  139.000000     139.000000     139.000000   78.000000   \n",
       "mean   2017.460432    6.474820   48347.568345   58076.014388  126.512821   \n",
       "std       3.367075    3.407857   31554.879225   33743.575848  142.875638   \n",
       "min    2012.000000    1.000000      40.000000      72.000000    0.000000   \n",
       "25%    2015.000000    4.000000   27928.500000   34467.500000   12.250000   \n",
       "50%    2017.000000    6.000000   43106.000000   56791.000000   91.500000   \n",
       "75%    2020.000000    9.000000   63493.000000   78123.500000  174.250000   \n",
       "max    2023.000000   12.000000  179629.000000  132676.000000  676.000000   \n",
       "\n",
       "            Movistar        Otros  Total general  \n",
       "count     139.000000    19.000000     139.000000  \n",
       "mean    53113.985612   303.473684  159650.043165  \n",
       "std     39348.102580   299.043358   98295.871674  \n",
       "min        41.000000     9.000000     153.000000  \n",
       "25%     13514.500000    51.500000   89669.500000  \n",
       "50%     45207.000000   238.000000  139781.000000  \n",
       "75%     87365.000000   430.500000  245761.500000  \n",
       "max    143327.000000  1059.000000  377682.000000  "
      ]
     },
     "execution_count": 56,
     "metadata": {},
     "output_type": "execute_result"
    }
   ],
   "source": [
    "df_portabilidad_in.describe()"
   ]
  },
  {
   "cell_type": "code",
   "execution_count": 57,
   "metadata": {},
   "outputs": [
    {
     "name": "stdout",
     "output_type": "stream",
     "text": [
      "<class 'pandas.core.frame.DataFrame'>\n",
      "RangeIndex: 139 entries, 0 to 138\n",
      "Data columns (total 8 columns):\n",
      " #   Column         Non-Null Count  Dtype  \n",
      "---  ------         --------------  -----  \n",
      " 0   Año            139 non-null    int64  \n",
      " 1   Mes            139 non-null    int64  \n",
      " 2   Personal       139 non-null    int64  \n",
      " 3   Claro          139 non-null    int64  \n",
      " 4   Nextel         78 non-null     float64\n",
      " 5   Movistar       139 non-null    int64  \n",
      " 6   Otros          19 non-null     float64\n",
      " 7   Total general  139 non-null    int64  \n",
      "dtypes: float64(2), int64(6)\n",
      "memory usage: 8.8 KB\n"
     ]
    }
   ],
   "source": [
    "df_portabilidad_in.info()"
   ]
  },
  {
   "cell_type": "code",
   "execution_count": 58,
   "metadata": {},
   "outputs": [
    {
     "data": {
      "text/plain": [
       "Año                0\n",
       "Mes                0\n",
       "Personal           0\n",
       "Claro              0\n",
       "Nextel            61\n",
       "Movistar           0\n",
       "Otros            120\n",
       "Total general      0\n",
       "dtype: int64"
      ]
     },
     "execution_count": 58,
     "metadata": {},
     "output_type": "execute_result"
    }
   ],
   "source": [
    "df_portabilidad_in.isna().sum()"
   ]
  },
  {
   "cell_type": "code",
   "execution_count": 59,
   "metadata": {},
   "outputs": [
    {
     "data": {
      "text/plain": [
       "np.int64(0)"
      ]
     },
     "execution_count": 59,
     "metadata": {},
     "output_type": "execute_result"
    }
   ],
   "source": [
    "df_portabilidad_in.duplicated().sum()"
   ]
  },
  {
   "cell_type": "code",
   "execution_count": 60,
   "metadata": {},
   "outputs": [],
   "source": [
    "engine = crear_conexion_mysql()"
   ]
  },
  {
   "cell_type": "code",
   "execution_count": 61,
   "metadata": {},
   "outputs": [
    {
     "data": {
      "text/plain": [
       "Index(['Año', 'Mes', 'Personal', 'Claro', 'Nextel', 'Movistar', 'Otros',\n",
       "       'Total general'],\n",
       "      dtype='object')"
      ]
     },
     "execution_count": 61,
     "metadata": {},
     "output_type": "execute_result"
    }
   ],
   "source": [
    "df_portabilidad_in.columns"
   ]
  },
  {
   "cell_type": "code",
   "execution_count": 62,
   "metadata": {},
   "outputs": [],
   "source": [
    "#Crear un objeto MetaData\n",
    "metadata = MetaData()"
   ]
  },
  {
   "cell_type": "code",
   "execution_count": 63,
   "metadata": {},
   "outputs": [],
   "source": [
    "# Definir la estructura de la tabla df_acceso_por_velocidad\n",
    "tabla = Table(\n",
    "    'internet_portabilidad_in', metadata,\n",
    "    Column('idTabla', Integer, primary_key=True,autoincrement=\"auto\" ),\n",
    "    Column('año', Integer, nullable=False),\n",
    "    Column('mes', Integer,nullable=False),\n",
    "    Column('Personal', Integer),\n",
    "    Column('claro', Integer),\n",
    "    Column('nextel', Float),\n",
    "    Column('movistar', Integer),\n",
    "    Column('otros', Float),\n",
    "    Column('total_general',Integer)\n",
    ")"
   ]
  },
  {
   "cell_type": "code",
   "execution_count": 64,
   "metadata": {},
   "outputs": [],
   "source": [
    "metadata.create_all(engine)"
   ]
  },
  {
   "cell_type": "code",
   "execution_count": 65,
   "metadata": {},
   "outputs": [],
   "source": [
    "df_portabilidad_in=df_portabilidad_in.rename(columns={\n",
    "    'Año':'año' ,\n",
    "    'Mes':'mes' ,\n",
    "    'Personal':'personal' ,\n",
    "    'Claro':'claro',\n",
    "    'Nextel':'nextel',\n",
    "    'Movistar':'movistar',\n",
    "    'Otros':'otros',\n",
    "    'Total general':'total_general'\n",
    "})\n",
    "\n",
    "       "
   ]
  },
  {
   "cell_type": "code",
   "execution_count": 66,
   "metadata": {},
   "outputs": [
    {
     "data": {
      "text/plain": [
       "139"
      ]
     },
     "execution_count": 66,
     "metadata": {},
     "output_type": "execute_result"
    }
   ],
   "source": [
    "# Nombre de la tabla en la base de datos\n",
    "tablename = 'internet_portabilidad_in'\n",
    "# Subir el DataFrame a la base de datos\n",
    "df_portabilidad_in.to_sql(tablename, con=engine, if_exists='append', index=False)\n"
   ]
  },
  {
   "cell_type": "markdown",
   "metadata": {},
   "source": [
    "# Mapa conectividad"
   ]
  },
  {
   "cell_type": "code",
   "execution_count": 20,
   "metadata": {},
   "outputs": [],
   "source": [
    "df_conectividad=pd.read_excel('../DatasetCrudos/mapa_conectividad.xlsx',sheet_name='Hoja3') "
   ]
  },
  {
   "cell_type": "code",
   "execution_count": 21,
   "metadata": {},
   "outputs": [
    {
     "data": {
      "text/html": [
       "<div>\n",
       "<style scoped>\n",
       "    .dataframe tbody tr th:only-of-type {\n",
       "        vertical-align: middle;\n",
       "    }\n",
       "\n",
       "    .dataframe tbody tr th {\n",
       "        vertical-align: top;\n",
       "    }\n",
       "\n",
       "    .dataframe thead th {\n",
       "        text-align: right;\n",
       "    }\n",
       "</style>\n",
       "<table border=\"1\" class=\"dataframe\">\n",
       "  <thead>\n",
       "    <tr style=\"text-align: right;\">\n",
       "      <th></th>\n",
       "      <th>Población</th>\n",
       "      <th>Link</th>\n",
       "      <th>Latitud</th>\n",
       "      <th>Longitud</th>\n",
       "    </tr>\n",
       "  </thead>\n",
       "  <tbody>\n",
       "    <tr>\n",
       "      <th>count</th>\n",
       "      <td>4.311000e+03</td>\n",
       "      <td>4.299000e+03</td>\n",
       "      <td>4311.000000</td>\n",
       "      <td>4311.000000</td>\n",
       "    </tr>\n",
       "    <tr>\n",
       "      <th>mean</th>\n",
       "      <td>8.695088e+03</td>\n",
       "      <td>3.890626e+07</td>\n",
       "      <td>-32.261794</td>\n",
       "      <td>-63.039123</td>\n",
       "    </tr>\n",
       "    <tr>\n",
       "      <th>std</th>\n",
       "      <td>3.821965e+04</td>\n",
       "      <td>2.920333e+07</td>\n",
       "      <td>4.999418</td>\n",
       "      <td>3.830260</td>\n",
       "    </tr>\n",
       "    <tr>\n",
       "      <th>min</th>\n",
       "      <td>0.000000e+00</td>\n",
       "      <td>2.000010e+06</td>\n",
       "      <td>-77.874009</td>\n",
       "      <td>-72.891627</td>\n",
       "    </tr>\n",
       "    <tr>\n",
       "      <th>25%</th>\n",
       "      <td>1.160000e+02</td>\n",
       "      <td>1.007702e+07</td>\n",
       "      <td>-34.707626</td>\n",
       "      <td>-65.687041</td>\n",
       "    </tr>\n",
       "    <tr>\n",
       "      <th>50%</th>\n",
       "      <td>5.760000e+02</td>\n",
       "      <td>3.403505e+07</td>\n",
       "      <td>-32.283511</td>\n",
       "      <td>-63.450636</td>\n",
       "    </tr>\n",
       "    <tr>\n",
       "      <th>75%</th>\n",
       "      <td>3.203000e+03</td>\n",
       "      <td>7.005610e+07</td>\n",
       "      <td>-28.584663</td>\n",
       "      <td>-60.008572</td>\n",
       "    </tr>\n",
       "    <tr>\n",
       "      <th>max</th>\n",
       "      <td>1.317298e+06</td>\n",
       "      <td>9.401402e+07</td>\n",
       "      <td>-21.817293</td>\n",
       "      <td>-34.626560</td>\n",
       "    </tr>\n",
       "  </tbody>\n",
       "</table>\n",
       "</div>"
      ],
      "text/plain": [
       "          Población          Link      Latitud     Longitud\n",
       "count  4.311000e+03  4.299000e+03  4311.000000  4311.000000\n",
       "mean   8.695088e+03  3.890626e+07   -32.261794   -63.039123\n",
       "std    3.821965e+04  2.920333e+07     4.999418     3.830260\n",
       "min    0.000000e+00  2.000010e+06   -77.874009   -72.891627\n",
       "25%    1.160000e+02  1.007702e+07   -34.707626   -65.687041\n",
       "50%    5.760000e+02  3.403505e+07   -32.283511   -63.450636\n",
       "75%    3.203000e+03  7.005610e+07   -28.584663   -60.008572\n",
       "max    1.317298e+06  9.401402e+07   -21.817293   -34.626560"
      ]
     },
     "execution_count": 21,
     "metadata": {},
     "output_type": "execute_result"
    }
   ],
   "source": [
    "df_conectividad.describe()"
   ]
  },
  {
   "cell_type": "code",
   "execution_count": 22,
   "metadata": {},
   "outputs": [
    {
     "name": "stdout",
     "output_type": "stream",
     "text": [
      "<class 'pandas.core.frame.DataFrame'>\n",
      "RangeIndex: 4311 entries, 0 to 4310\n",
      "Data columns (total 16 columns):\n",
      " #   Column          Non-Null Count  Dtype  \n",
      "---  ------          --------------  -----  \n",
      " 0   Provincia       4311 non-null   object \n",
      " 1   Partido         4311 non-null   object \n",
      " 2   Localidad       4311 non-null   object \n",
      " 3   Población       4311 non-null   int64  \n",
      " 4   ADSL            4311 non-null   object \n",
      " 5   Cablemódem      4311 non-null   object \n",
      " 6   Dial Up         4311 non-null   object \n",
      " 7   Fibra óptica    4311 non-null   object \n",
      " 8   Satelital       4311 non-null   object \n",
      " 9   Wireless        4311 non-null   object \n",
      " 10  Telefonía Fija  4311 non-null   object \n",
      " 11  3G              4311 non-null   object \n",
      " 12  4G              4311 non-null   object \n",
      " 13  Link            4299 non-null   float64\n",
      " 14  Latitud         4311 non-null   float64\n",
      " 15  Longitud        4311 non-null   float64\n",
      "dtypes: float64(3), int64(1), object(12)\n",
      "memory usage: 539.0+ KB\n"
     ]
    }
   ],
   "source": [
    "df_conectividad.info()"
   ]
  },
  {
   "cell_type": "code",
   "execution_count": 23,
   "metadata": {},
   "outputs": [
    {
     "data": {
      "text/plain": [
       "Provincia          0\n",
       "Partido            0\n",
       "Localidad          0\n",
       "Población          0\n",
       "ADSL               0\n",
       "Cablemódem         0\n",
       "Dial Up            0\n",
       "Fibra óptica       0\n",
       "Satelital          0\n",
       "Wireless           0\n",
       "Telefonía Fija     0\n",
       "3G                 0\n",
       "4G                 0\n",
       "Link              12\n",
       "Latitud            0\n",
       "Longitud           0\n",
       "dtype: int64"
      ]
     },
     "execution_count": 23,
     "metadata": {},
     "output_type": "execute_result"
    }
   ],
   "source": [
    "df_conectividad.isna().sum()"
   ]
  },
  {
   "cell_type": "code",
   "execution_count": 24,
   "metadata": {},
   "outputs": [
    {
     "data": {
      "text/html": [
       "<div>\n",
       "<style scoped>\n",
       "    .dataframe tbody tr th:only-of-type {\n",
       "        vertical-align: middle;\n",
       "    }\n",
       "\n",
       "    .dataframe tbody tr th {\n",
       "        vertical-align: top;\n",
       "    }\n",
       "\n",
       "    .dataframe thead th {\n",
       "        text-align: right;\n",
       "    }\n",
       "</style>\n",
       "<table border=\"1\" class=\"dataframe\">\n",
       "  <thead>\n",
       "    <tr style=\"text-align: right;\">\n",
       "      <th></th>\n",
       "      <th>Provincia</th>\n",
       "      <th>Partido</th>\n",
       "      <th>Localidad</th>\n",
       "      <th>Población</th>\n",
       "      <th>ADSL</th>\n",
       "      <th>Cablemódem</th>\n",
       "      <th>Dial Up</th>\n",
       "      <th>Fibra óptica</th>\n",
       "      <th>Satelital</th>\n",
       "      <th>Wireless</th>\n",
       "      <th>Telefonía Fija</th>\n",
       "      <th>3G</th>\n",
       "      <th>4G</th>\n",
       "      <th>Link</th>\n",
       "      <th>Latitud</th>\n",
       "      <th>Longitud</th>\n",
       "    </tr>\n",
       "  </thead>\n",
       "  <tbody>\n",
       "    <tr>\n",
       "      <th>0</th>\n",
       "      <td>BUENOS AIRES</td>\n",
       "      <td>9 de Julio</td>\n",
       "      <td>Alfredo Demarchi (Est. Facundo Quiroga)</td>\n",
       "      <td>1853</td>\n",
       "      <td>Sí</td>\n",
       "      <td>--</td>\n",
       "      <td>--</td>\n",
       "      <td>--</td>\n",
       "      <td>--</td>\n",
       "      <td>--</td>\n",
       "      <td>Sí</td>\n",
       "      <td>Sí</td>\n",
       "      <td>Sí</td>\n",
       "      <td>6588010.0</td>\n",
       "      <td>-35.292982</td>\n",
       "      <td>-61.407254</td>\n",
       "    </tr>\n",
       "    <tr>\n",
       "      <th>1</th>\n",
       "      <td>BUENOS AIRES</td>\n",
       "      <td>9 de Julio</td>\n",
       "      <td>Carlos María Naón</td>\n",
       "      <td>497</td>\n",
       "      <td>--</td>\n",
       "      <td>--</td>\n",
       "      <td>--</td>\n",
       "      <td>--</td>\n",
       "      <td>--</td>\n",
       "      <td>--</td>\n",
       "      <td>Sí</td>\n",
       "      <td>Sí</td>\n",
       "      <td>Sí</td>\n",
       "      <td>6588020.0</td>\n",
       "      <td>-35.239499</td>\n",
       "      <td>-60.825136</td>\n",
       "    </tr>\n",
       "    <tr>\n",
       "      <th>2</th>\n",
       "      <td>BUENOS AIRES</td>\n",
       "      <td>9 de Julio</td>\n",
       "      <td>Dudignac</td>\n",
       "      <td>2670</td>\n",
       "      <td>--</td>\n",
       "      <td>--</td>\n",
       "      <td>Sí</td>\n",
       "      <td>--</td>\n",
       "      <td>--</td>\n",
       "      <td>Sí</td>\n",
       "      <td>Sí</td>\n",
       "      <td>Sí</td>\n",
       "      <td>Sí</td>\n",
       "      <td>6588040.0</td>\n",
       "      <td>-35.651193</td>\n",
       "      <td>-60.709896</td>\n",
       "    </tr>\n",
       "    <tr>\n",
       "      <th>3</th>\n",
       "      <td>BUENOS AIRES</td>\n",
       "      <td>9 de Julio</td>\n",
       "      <td>La Aurora (Est. La Niña)</td>\n",
       "      <td>531</td>\n",
       "      <td>--</td>\n",
       "      <td>--</td>\n",
       "      <td>--</td>\n",
       "      <td>--</td>\n",
       "      <td>--</td>\n",
       "      <td>--</td>\n",
       "      <td>--</td>\n",
       "      <td>--</td>\n",
       "      <td>Sí</td>\n",
       "      <td>6588050.0</td>\n",
       "      <td>-35.407947</td>\n",
       "      <td>-61.210567</td>\n",
       "    </tr>\n",
       "    <tr>\n",
       "      <th>4</th>\n",
       "      <td>BUENOS AIRES</td>\n",
       "      <td>9 de Julio</td>\n",
       "      <td>Manuel B. Gonnet (Est. French)</td>\n",
       "      <td>748</td>\n",
       "      <td>Sí</td>\n",
       "      <td>--</td>\n",
       "      <td>--</td>\n",
       "      <td>Sí</td>\n",
       "      <td>--</td>\n",
       "      <td>--</td>\n",
       "      <td>Sí</td>\n",
       "      <td>Sí</td>\n",
       "      <td>Sí</td>\n",
       "      <td>6588060.0</td>\n",
       "      <td>-35.520141</td>\n",
       "      <td>-60.998949</td>\n",
       "    </tr>\n",
       "    <tr>\n",
       "      <th>...</th>\n",
       "      <td>...</td>\n",
       "      <td>...</td>\n",
       "      <td>...</td>\n",
       "      <td>...</td>\n",
       "      <td>...</td>\n",
       "      <td>...</td>\n",
       "      <td>...</td>\n",
       "      <td>...</td>\n",
       "      <td>...</td>\n",
       "      <td>...</td>\n",
       "      <td>...</td>\n",
       "      <td>...</td>\n",
       "      <td>...</td>\n",
       "      <td>...</td>\n",
       "      <td>...</td>\n",
       "      <td>...</td>\n",
       "    </tr>\n",
       "    <tr>\n",
       "      <th>4306</th>\n",
       "      <td>SANTA FE</td>\n",
       "      <td>Castellanos</td>\n",
       "      <td>Virginia</td>\n",
       "      <td>151</td>\n",
       "      <td>--</td>\n",
       "      <td>--</td>\n",
       "      <td>--</td>\n",
       "      <td>--</td>\n",
       "      <td>--</td>\n",
       "      <td>Sí</td>\n",
       "      <td>--</td>\n",
       "      <td>--</td>\n",
       "      <td>--</td>\n",
       "      <td>6638040.0</td>\n",
       "      <td>-30.740253</td>\n",
       "      <td>-61.340967</td>\n",
       "    </tr>\n",
       "    <tr>\n",
       "      <th>4307</th>\n",
       "      <td>SANTA FE</td>\n",
       "      <td>Castellanos</td>\n",
       "      <td>Zenón Pereyra</td>\n",
       "      <td>1637</td>\n",
       "      <td>--</td>\n",
       "      <td>Sí</td>\n",
       "      <td>--</td>\n",
       "      <td>--</td>\n",
       "      <td>--</td>\n",
       "      <td>--</td>\n",
       "      <td>--</td>\n",
       "      <td>Sí</td>\n",
       "      <td>Sí</td>\n",
       "      <td>6638040.0</td>\n",
       "      <td>-31.564397</td>\n",
       "      <td>-61.898425</td>\n",
       "    </tr>\n",
       "    <tr>\n",
       "      <th>4308</th>\n",
       "      <td>SANTA FE</td>\n",
       "      <td>Constitución</td>\n",
       "      <td>Alcorta</td>\n",
       "      <td>7450</td>\n",
       "      <td>Sí</td>\n",
       "      <td>Sí</td>\n",
       "      <td>--</td>\n",
       "      <td>Sí</td>\n",
       "      <td>--</td>\n",
       "      <td>Sí</td>\n",
       "      <td>Sí</td>\n",
       "      <td>Sí</td>\n",
       "      <td>Sí</td>\n",
       "      <td>6638040.0</td>\n",
       "      <td>-33.540198</td>\n",
       "      <td>-61.124634</td>\n",
       "    </tr>\n",
       "    <tr>\n",
       "      <th>4309</th>\n",
       "      <td>SANTA FE</td>\n",
       "      <td>Constitución</td>\n",
       "      <td>Barrio Arroyo del Medio</td>\n",
       "      <td>310</td>\n",
       "      <td>--</td>\n",
       "      <td>--</td>\n",
       "      <td>--</td>\n",
       "      <td>--</td>\n",
       "      <td>--</td>\n",
       "      <td>--</td>\n",
       "      <td>--</td>\n",
       "      <td>--</td>\n",
       "      <td>--</td>\n",
       "      <td>6638040.0</td>\n",
       "      <td>-33.286067</td>\n",
       "      <td>-60.272098</td>\n",
       "    </tr>\n",
       "    <tr>\n",
       "      <th>4310</th>\n",
       "      <td>SANTA FE</td>\n",
       "      <td>Constitución</td>\n",
       "      <td>Barrio Mitre</td>\n",
       "      <td>816</td>\n",
       "      <td>--</td>\n",
       "      <td>--</td>\n",
       "      <td>--</td>\n",
       "      <td>--</td>\n",
       "      <td>--</td>\n",
       "      <td>--</td>\n",
       "      <td>--</td>\n",
       "      <td>Sí</td>\n",
       "      <td>Sí</td>\n",
       "      <td>6638040.0</td>\n",
       "      <td>-33.255595</td>\n",
       "      <td>-60.389776</td>\n",
       "    </tr>\n",
       "  </tbody>\n",
       "</table>\n",
       "<p>4311 rows × 16 columns</p>\n",
       "</div>"
      ],
      "text/plain": [
       "         Provincia       Partido                                Localidad  \\\n",
       "0     BUENOS AIRES    9 de Julio  Alfredo Demarchi (Est. Facundo Quiroga)   \n",
       "1     BUENOS AIRES    9 de Julio                        Carlos María Naón   \n",
       "2     BUENOS AIRES    9 de Julio                                 Dudignac   \n",
       "3     BUENOS AIRES    9 de Julio                 La Aurora (Est. La Niña)   \n",
       "4     BUENOS AIRES    9 de Julio           Manuel B. Gonnet (Est. French)   \n",
       "...            ...           ...                                      ...   \n",
       "4306      SANTA FE   Castellanos                                 Virginia   \n",
       "4307      SANTA FE   Castellanos                            Zenón Pereyra   \n",
       "4308      SANTA FE  Constitución                                  Alcorta   \n",
       "4309      SANTA FE  Constitución                  Barrio Arroyo del Medio   \n",
       "4310      SANTA FE  Constitución                             Barrio Mitre   \n",
       "\n",
       "      Población ADSL Cablemódem Dial Up Fibra óptica Satelital Wireless  \\\n",
       "0          1853   Sí         --      --           --        --       --   \n",
       "1           497   --         --      --           --        --       --   \n",
       "2          2670   --         --      Sí           --        --       Sí   \n",
       "3           531   --         --      --           --        --       --   \n",
       "4           748   Sí         --      --           Sí        --       --   \n",
       "...         ...  ...        ...     ...          ...       ...      ...   \n",
       "4306        151   --         --      --           --        --       Sí   \n",
       "4307       1637   --         Sí      --           --        --       --   \n",
       "4308       7450   Sí         Sí      --           Sí        --       Sí   \n",
       "4309        310   --         --      --           --        --       --   \n",
       "4310        816   --         --      --           --        --       --   \n",
       "\n",
       "     Telefonía Fija  3G  4G       Link    Latitud   Longitud  \n",
       "0                Sí  Sí  Sí  6588010.0 -35.292982 -61.407254  \n",
       "1                Sí  Sí  Sí  6588020.0 -35.239499 -60.825136  \n",
       "2                Sí  Sí  Sí  6588040.0 -35.651193 -60.709896  \n",
       "3                --  --  Sí  6588050.0 -35.407947 -61.210567  \n",
       "4                Sí  Sí  Sí  6588060.0 -35.520141 -60.998949  \n",
       "...             ...  ..  ..        ...        ...        ...  \n",
       "4306             --  --  --  6638040.0 -30.740253 -61.340967  \n",
       "4307             --  Sí  Sí  6638040.0 -31.564397 -61.898425  \n",
       "4308             Sí  Sí  Sí  6638040.0 -33.540198 -61.124634  \n",
       "4309             --  --  --  6638040.0 -33.286067 -60.272098  \n",
       "4310             --  Sí  Sí  6638040.0 -33.255595 -60.389776  \n",
       "\n",
       "[4311 rows x 16 columns]"
      ]
     },
     "execution_count": 24,
     "metadata": {},
     "output_type": "execute_result"
    }
   ],
   "source": [
    "df_conectividad.fillna(0)"
   ]
  },
  {
   "cell_type": "code",
   "execution_count": 25,
   "metadata": {},
   "outputs": [],
   "source": [
    "engine = crear_conexion_mysql()"
   ]
  },
  {
   "cell_type": "code",
   "execution_count": 26,
   "metadata": {},
   "outputs": [
    {
     "data": {
      "text/plain": [
       "Index(['Provincia', 'Partido', 'Localidad', 'Población', 'ADSL', 'Cablemódem',\n",
       "       'Dial Up', 'Fibra óptica', 'Satelital', 'Wireless', 'Telefonía Fija',\n",
       "       '3G', '4G', 'Link', 'Latitud', 'Longitud'],\n",
       "      dtype='object')"
      ]
     },
     "execution_count": 26,
     "metadata": {},
     "output_type": "execute_result"
    }
   ],
   "source": [
    "df_conectividad.columns"
   ]
  },
  {
   "cell_type": "code",
   "execution_count": 27,
   "metadata": {},
   "outputs": [],
   "source": [
    "#Crear un objeto MetaData\n",
    "metadata = MetaData()"
   ]
  },
  {
   "cell_type": "code",
   "execution_count": 28,
   "metadata": {},
   "outputs": [],
   "source": [
    "# Definir la estructura de la tabla df_acceso_por_velocidad\n",
    "tabla = Table(\n",
    "    'internet_conectividad', metadata,\n",
    "    Column('idTabla', Integer, primary_key=True,autoincrement=\"auto\" ),\n",
    "    Column('Provincia', String(80)),\n",
    "    Column('Partido', String(80)),\n",
    "    Column('Localidad', String(80)),\n",
    "    Column('Población', Integer),\n",
    "    Column('ADSL', String(10)),\n",
    "    Column('Cablemódem', String(10)),\n",
    "    Column('Dial Up', String(10)),\n",
    "    Column('Fibra Óptica', String(10)),\n",
    "    Column('Satelital',String(10)),\n",
    "    Column('Wireless',String(10)),\n",
    "    Column('Telefonía Fija',String(10)),\n",
    "    Column('3G',String(10)),\n",
    "    Column('4G',String(10)),\n",
    "    Column('Link',Float),\n",
    "    Column('Latitud',Float),\n",
    "    Column('Longitud',Float)\n",
    ")"
   ]
  },
  {
   "cell_type": "code",
   "execution_count": 29,
   "metadata": {},
   "outputs": [],
   "source": [
    "metadata.create_all(engine)"
   ]
  },
  {
   "cell_type": "code",
   "execution_count": 30,
   "metadata": {},
   "outputs": [
    {
     "data": {
      "text/plain": [
       "4311"
      ]
     },
     "execution_count": 30,
     "metadata": {},
     "output_type": "execute_result"
    }
   ],
   "source": [
    "# Nombre de la tabla en la base de datos\n",
    "tablename = 'internet_conectividad'\n",
    "# Subir el DataFrame a la base de datos\n",
    "df_conectividad.to_sql(tablename, con=engine, if_exists='append', index=False)"
   ]
  },
  {
   "cell_type": "markdown",
   "metadata": {},
   "source": [
    "# 11 Empresas por provincia\n",
    "\n",
    "Extracción de datos de un archivo externo en formato pdf"
   ]
  },
  {
   "cell_type": "code",
   "execution_count": 1,
   "metadata": {},
   "outputs": [],
   "source": [
    "import pdfplumber\n",
    "import pandas as pd\n"
   ]
  },
  {
   "cell_type": "code",
   "execution_count": 3,
   "metadata": {},
   "outputs": [],
   "source": [
    "# Especifica la ruta del archivo PDF\n",
    "pdf_path = \"../DatasetCrudos/isp_por_provincias_2.pdf\""
   ]
  },
  {
   "cell_type": "code",
   "execution_count": 5,
   "metadata": {},
   "outputs": [
    {
     "name": "stdout",
     "output_type": "stream",
     "text": [
      "Tabla 1 en la página 2: [['Miembro Telefono Empresa Web Localidad Provincia', None, None, None, None], ['GLOBALSAT ARGENTINA TELECOMUNICACIONES SRL', '54 11 3987 7728 www.globalsatgroup.com.ar', None, '', 'ARGENTINA'], ['INTELIGLOBE COMUNICACIONES ARGENTINA SRL (IG', '+N5E4T W11O 5R3K6S7) 1940', 'www.ignetworks.com.ar', '', 'ARGENTINA'], ['NUAGE SYSTEMS S.A (EMBLUE)', '1141363500', 'www.embluemail.com', '', 'ARGENTINA'], ['SERVICIO SATELITAL S.A.', '+54 11 4317 1800', 'www.satelital.com.ar', '', 'ARGENTINA'], ['TELESPAZIO ARGENTINA SA', '(011) 4852 8700', 'www.telespazio.com.ar', '', 'ARGENTINA'], ['TESAM ARGENTINA S.A.', '(+54) (11) 4114 2200 - 0810-34', 'www.tesacom.net', '', 'ARGENTINA'], ['WEBHOSTING S.R.L. (WNPOWER)', '0810-345-9676', 'www.wnpower.com', '', 'ARGENTINA'], ['NODOCOOP FEDERACION DE COOPERATIVAS LTDA', '(02923) 494200', 'www.nodocoop.com.ar', '17 de Agosto', 'BUENOS AIRES'], ['INFOSPORT SA ( TELWINET)', '0220-4924-393', 'www.telwinet.com.ar', '20 de Junio', 'BUENOS AIRES'], ['RED INTERCABLE DIGITAL S.A.', '(5411) 6091.5600', 'www.redintercable.com.ar', '25 de mayo', 'BUENOS AIRES'], ['CPS.COMUNICACIONES SA /METROTEL', '(011) 6091-1000', 'www.metrotel.com.ar', '3 de Febrero', 'BUENOS AIRES'], ['IFX NETWORKS ARGENTINA SRL', '(011) 5031-2400', 'www.ifxnetworks.com', '3 de Febrero', 'BUENOS AIRES'], ['VER TV SA/TELERED', '0810-810-22253', 'www.telered.com.ar', '3 de Febrero', 'BUENOS AIRES'], ['COOPERATIVA DE ELECTRICIDAD DE TRENQUE LAUQ', 'U0E2N39 2-4100031/410005', 'www.cooptl.com.ar', '30 de Agosto', 'BUENOS AIRES'], ['NODOCOOP FEDERACION DE COOPERATIVAS LTDA', '(02923) 494200', 'www.nodocoop.com.ar', '30 de Agosto', 'BUENOS AIRES'], ['RED INTERCABLE DIGITAL S.A.', '(5411) 6091.5600', 'www.redintercable.com.ar', '30 de Agosto', 'BUENOS AIRES'], ['IFX NETWORKS ARGENTINA SRL', '(011) 5031-2400', 'www.ifxnetworks.com', '9 de Abril', 'BUENOS AIRES'], ['COOPERATIVA ELECTRICA Y DE SERVICIOS MARIANO', 'M(0O23R1E7N)O 5 2L4T0D0A0 (CEYS)', 'www.ceys.com.ar', '9 de Julio', 'BUENOS AIRES'], ['DE AMBROSIO MARCELO MATIAS (VELONET)', '(02302) 436605', 'www.velonet.com.ar', '9 de Julio', 'BUENOS AIRES'], ['IPNEXT S.A.', '5368-4000', 'www.ipnext.net.ar', '9 de Julio', 'BUENOS AIRES'], ['COOPERATIVA TELEFONICA Y OTROS SERVICIOS PUB', 'L0IC2O21S -Y4 9D1E- 3C0O0N0SUMO DE ABASTO L', 'IMwwITwAD.cAotea.com.ar', 'Abasto', 'BUENOS AIRES'], ['SILICA NETWORKS ARGENTINA SA', '+54 (11) 4103-1300', 'www.silicanetworks.com', 'Abasto', 'BUENOS AIRES'], ['ETERNET SRL', '(02983) 513040', 'www.eternet.cc', 'Adolfo G. Chaves', 'BUENOS AIRES'], ['CIUDAD GLOBAL S.A.', '0291-455-8448', 'www.ciudadglobal.com.ar', 'Adolfo Gonzalez Chavez', 'BUENOS AIRES'], ['ADVANTUN SRL', '5365-8800', 'www.advantun.com', 'Adrogué', 'BUENOS AIRES'], ['BERTORA RICARDO JORGE (EZ-NET)', '54 11 4116-2292', 'www.ez-net.com.ar', 'Adrogué', 'BUENOS AIRES'], ['COSEIDI SA', '5277-9700', 'www.fiber.net.ar', 'Adrogué', 'BUENOS AIRES'], ['IFX NETWORKS ARGENTINA SRL', '(011) 5031-2400', 'www.ifxnetworks.com', 'Adrogué', 'BUENOS AIRES'], ['SION SA', '0810 999 0100', 'www.sion.com', 'Adrogué', 'BUENOS AIRES'], ['TELECENTRO S.A.', '0800-322-9500', 'www.telecentro.com.ar', 'Adrogué', 'BUENOS AIRES'], ['DANAIDE SA', '0810-999-3262', 'www.danaide.com.ar', 'Aguas verdes', 'BUENOS AIRES'], ['RED INTERCABLE DIGITAL S.A.', '(5411) 6091.5600', 'www.redintercable.com.ar', 'Aguas verdes', 'BUENOS AIRES'], ['TVC 5 SA', '(02257) 420081', 'www.tvc5sa.com.ar', 'Aguas verdes', 'BUENOS AIRES'], ['IPNEXT S.A.', '5368-4000', 'www.ipnext.net.ar', 'Alberti', 'BUENOS AIRES'], ['RED INTERCABLE DIGITAL S.A.', '(5411) 6091.5600', 'www.redintercable.com.ar', 'Alberti', 'BUENOS AIRES'], ['TELECENTRO S.A.', '0800-322-9500', 'www.telecentro.com.ar', 'Aldo Bonzi', 'BUENOS AIRES']]\n",
      "(36, 5)\n",
      "Tabla 1 en la página 3: [['EMPRESA DE SERVICIOS Y APLICACIONES TECNOLOG', 'I(C0A2S2 2SR5L) 426024 // (02225) 4260', 'www.wicom.com.ar', 'Alejandro Korn', 'BUENOS AIRES'], ['CATTANEO LUIS E. (BBL-Net / Velostar )', '0291 452-4444', 'www.bbl-net.com.ar', 'Algarrobo', 'BUENOS AIRES'], ['LACALLE, JOSE GUILLERMO', '291-6482193', 'www.cisnet.com.ar', 'Algarrobo', 'BUENOS AIRES'], ['NODOCOOP FEDERACION DE COOPERATIVAS LTDA', '(02923) 494200', 'www.nodocoop.com.ar', 'Algarrobo', 'BUENOS AIRES'], ['SILICA NETWORKS ARGENTINA SA', '+54 (11) 4103-1300', 'www.silicanetworks.com', 'Algarrobo', 'BUENOS AIRES'], ['COOPERATIVA DE SERVICIOS PUBLICOS DE FATIMA L', 'I0M2I3T0A-D4A49 (0C9O0S0E/F4A4)44110', 'www.cosefa.com.ar', 'ALMIRANTE IRIZAR', 'BUENOS AIRES'], ['SISTA S.A.', '(0221) 4275510', 'www.sista.com.ar', 'América', 'BUENOS AIRES'], ['COOPERATIVA DE ELECTRICIDAD, CONSUMO, CREDIT', 'O(0 2Y2 O2T7R) O49S5 S0E0R6V/I0C0IO7S PUBLICOS DE', 'wAwNTwO.cNeIaOc nCeAtR.cBoOmN.Ia LrTDA.', 'Antonio Carboni', 'BUENOS AIRES'], ['ETERNET SRL', '(02983) 513040', 'www.eternet.cc', 'Aparicio', 'BUENOS AIRES'], ['COOPERATIVA TELEFÓNICA Y DE OTROS SERVICIOS P', 'Ú(0B3L3IC2O7)S ,4 C5O50N0S0UMO Y VIVIENDA LO', 'PwEwZw C.AcMotEeLlcOa mLT.DcoAm (C.aOrTELCAM)', 'Area Promocion El Triangulo', 'BUENOS AIRES'], ['CATTANEO LUIS E. (BBL-Net / Velostar )', '0291 452-4444', 'www.bbl-net.com.ar', 'Argerich', 'BUENOS AIRES'], ['ADVANTUN SRL', '5365-8800', 'www.advantun.com', 'ARRECIFES', 'BUENOS AIRES'], ['SILICA NETWORKS ARGENTINA SA', '+54 (11) 4103-1300', 'www.silicanetworks.com', 'ARRECIFES', 'BUENOS AIRES'], ['SION SA', '0810 999 0100', 'www.sion.com', 'ARRECIFES', 'BUENOS AIRES'], ['EMPRESA DE SERVICIOS DE TELEVISION POR CABLE S', '.5A2.17-6427', '', 'Arribeños', 'BUENOS AIRES'], ['RED INTERCABLE DIGITAL S.A.', '(5411) 6091.5600', 'www.redintercable.com.ar', 'Arroyo Dulce', 'BUENOS AIRES'], ['EMPRESA DE SERVICIOS DE TELEVISION POR CABLE S', '.5A2.17-6427', '', 'Ascensión', 'BUENOS AIRES'], ['ADVANTUN SRL', '5365-8800', 'www.advantun.com', 'Avellaneda', 'BUENOS AIRES'], ['ALPHA 2000 SOLUCIONES INFORMATICAS SRL', '(011) 43455150', 'www.alpha2000.com.ar', 'Avellaneda', 'BUENOS AIRES'], ['CPS.COMUNICACIONES SA /METROTEL', '(011) 6091-1000', 'www.metrotel.com.ar', 'Avellaneda', 'BUENOS AIRES'], ['IFX NETWORKS ARGENTINA SRL', '(011) 5031-2400', 'www.ifxnetworks.com', 'Avellaneda', 'BUENOS AIRES'], ['MULTITRUNK SA (YEAP!)', '5236-5200', 'www.yeap.com.ar', 'Avellaneda', 'BUENOS AIRES'], ['SION SA', '0810 999 0100', 'www.sion.com', 'Avellaneda', 'BUENOS AIRES'], ['TELECENTRO S.A.', '0800-322-9500', 'www.telecentro.com.ar', 'Avellaneda', 'BUENOS AIRES'], ['NODOCOOP FEDERACION DE COOPERATIVAS LTDA', '(02923) 494200', 'www.nodocoop.com.ar', 'Azopardo', 'BUENOS AIRES'], ['SILICA NETWORKS ARGENTINA SA', '+54 (11) 4103-1300', 'www.silicanetworks.com', 'Azul', 'BUENOS AIRES'], ['ADVANTUN SRL', '5365-8800', 'www.advantun.com', 'Bahia Blanca', 'BUENOS AIRES'], ['BVNET SA', '4373-5024/5101', '', 'Bahia Blanca', 'BUENOS AIRES'], ['CANEPA JUAN CRUZ (VELOSTAR)', '(0291) 4524444', 'www.velostar.com.ar', 'Bahia Blanca', 'BUENOS AIRES'], ['CIUDAD GLOBAL S.A.', '0291-455-8448', 'www.ciudadglobal.com.ar', 'Bahia Blanca', 'BUENOS AIRES'], ['COMPEL COMPUTACION ELECTRONICA S.R.L.', '(0291) 4550300', 'www.compel.com.ar', 'Bahia Blanca', 'BUENOS AIRES'], ['ETERNET SRL', '(02983) 513040', 'www.eternet.cc', 'Bahia Blanca', 'BUENOS AIRES'], ['FERNANDO ALARCON', '', '', 'Bahia Blanca', 'BUENOS AIRES'], ['FUNDACION DEL SUR PARA EL DESARROLLO TECNOL', 'O1G1 I4C9O6 (4F4U6N85DASUR)', 'www.fundasur-uvt.org.ar', 'Bahia Blanca', 'BUENOS AIRES'], ['FUNDACION INNOVAT (INNOVARED)', '4322-8488', 'www.innova-red.net/', 'Bahia Blanca', 'BUENOS AIRES'], ['KAANIT SRL', '(02920) 428782', 'www.kaanit.com.ar', 'Bahia Blanca', 'BUENOS AIRES'], ['LACALLE, JOSE GUILLERMO', '291-6482193', 'www.cisnet.com.ar', 'Bahia Blanca', 'BUENOS AIRES']]\n",
      "(36, 5)\n",
      "Tabla 1 en la página 4: [['MEGATRANS SA', '4343-5657', 'www.megatrans.com.ar', 'Bahia Blanca', 'BUENOS AIRES'], ['NODO NET S.A.', '', '', 'Bahia Blanca', 'BUENOS AIRES'], ['SILICA NETWORKS ARGENTINA SA', '+54 (11) 4103-1300', 'www.silicanetworks.com', 'Bahia Blanca', 'BUENOS AIRES'], ['SION SA', '0810 999 0100', 'www.sion.com', 'Bahia Blanca', 'BUENOS AIRES'], ['TELMEX ARGENTINA S.A.', '', 'www.claro.com.ar', 'Bahia Blanca', 'BUENOS AIRES'], ['UNIVERSIDAD NACIONAL DEL SUR (UNS)', '0291-4595166', 'www.uns.edu.ar', 'Bahia Blanca', 'BUENOS AIRES'], ['CATTANEO LUIS E. (BBL-Net / Velostar )', '0291 452-4444', 'www.bbl-net.com.ar', 'Bahía Blanca', 'BUENOS AIRES'], ['LACALLE, JOSE GUILLERMO', '291-6482193', 'www.cisnet.com.ar', 'Bajo Hondo', 'BUENOS AIRES'], ['ADVANTUN SRL', '5365-8800', 'www.advantun.com', 'Balcarce', 'BUENOS AIRES'], ['ETERNET SRL', '(02983) 513040', 'www.eternet.cc', 'Balcarce', 'BUENOS AIRES'], ['SION SA', '0810 999 0100', 'www.sion.com', 'Balcarce', 'BUENOS AIRES'], ['ETERNET SRL', '(02983) 513040', 'www.eternet.cc', 'Balneario Orense', 'BUENOS AIRES'], ['ADVANTUN SRL', '5365-8800', 'www.advantun.com', 'Banfield', 'BUENOS AIRES'], ['COSEIDI SA', '5277-9700', 'www.fiber.net.ar', 'Banfield', 'BUENOS AIRES'], ['IFX NETWORKS ARGENTINA SRL', '(011) 5031-2400', 'www.ifxnetworks.com', 'Banfield', 'BUENOS AIRES'], ['JUMPNET SOLUCIONES DE INTERNET S.R.L.', '011-6632-6600', 'www.jumpnet.com.ar', 'Banfield', 'BUENOS AIRES'], ['MULTITRUNK SA (YEAP!)', '5236-5200', 'www.yeap.com.ar', 'Banfield', 'BUENOS AIRES'], ['SION SA', '0810 999 0100', 'www.sion.com', 'Banfield', 'BUENOS AIRES'], ['TELECENTRO S.A.', '0800-322-9500', 'www.telecentro.com.ar', 'Banfield', 'BUENOS AIRES'], ['UGALDE JUAN IGNACIO (DUPPINI COMUNICACIONES', ')0249-4438824', 'www.duppini.com.ar', 'BARKER', 'BUENOS AIRES'], ['MEGATRANS SA', '4343-5657', 'www.megatrans.com.ar', 'Barracas', 'BUENOS AIRES'], ['SN COMUNICACIONES SRL (SN WIFI)', '0800 345 6666', 'www.snwifi.com.ar', 'Barracas', 'BUENOS AIRES'], ['LATINA NET TELECOMUNICACIONES SRL', '70771401', 'www.latinanet.com.ar', 'Barrio 17 de Noviembre, La Mata', 'nBzUaENOS AIRES'], ['LATINA NET TELECOMUNICACIONES SRL', '70771401', 'www.latinanet.com.ar', 'Barrio 9 de abril, Esteban Echeve', 'rBriUaENOS AIRES'], ['LATINA NET TELECOMUNICACIONES SRL', '70771401', 'www.latinanet.com.ar', 'Barrio Nueva Celina, La Matanza', 'BUENOS AIRES'], ['LATINA NET TELECOMUNICACIONES SRL', '70771401', 'www.latinanet.com.ar', 'Barrio privado, La Matanza', 'BUENOS AIRES'], ['LATINA NET TELECOMUNICACIONES SRL', '70771401', 'www.latinanet.com.ar', 'Barrio Sarmiento, La Matanza', 'BUENOS AIRES'], ['LATINA NET TELECOMUNICACIONES SRL', '70771401', 'www.latinanet.com.ar', 'Barrio Tongui, Lomas de Zamora', 'BUENOS AIRES'], ['LATINA NET TELECOMUNICACIONES SRL', '70771401', 'www.latinanet.com.ar', 'Barrio Vicente López, La Matanza', 'BUENOS AIRES'], ['COOPERATIVA BATAN DE OBRAS Y SERVICIOS PUBLIC', 'O02S2 L3T-D46A4 (3E0C0O0LAN)', 'www.cooperativabatan.com.ar', 'Batán', 'BUENOS AIRES'], ['RED INTERCABLE DIGITAL S.A.', '(5411) 6091.5600', 'www.redintercable.com.ar', 'Batán', 'BUENOS AIRES'], ['COOPERATIVA TELEFÓNICA Y DE OTROS SERVICIOS P', 'Ú(0B3L3IC2O7)S ,4 C5O50N0S0UMO Y VIVIENDA LO', 'PwEwZw C.AcMotEeLlcOa mLT.DcoAm (C.aOrTELCAM)', 'Belen de Escobar', 'BUENOS AIRES'], ['CPS.COMUNICACIONES SA /METROTEL', '(011) 6091-1000', 'www.metrotel.com.ar', 'Belen de Escobar', 'BUENOS AIRES'], ['IFX NETWORKS ARGENTINA SRL', '(011) 5031-2400', 'www.ifxnetworks.com', 'Belen de Escobar', 'BUENOS AIRES'], ['SES, SISTEMAS ELECTRONICOS SA', '5453-8469', 'www.ses.com.ar', 'Belen de Escobar', 'BUENOS AIRES'], ['TELMEX ARGENTINA S.A.', '', 'www.claro.com.ar', 'Belen de Escobar', 'BUENOS AIRES'], ['VER TV SA/TELERED', '0810-810-22253', 'www.telered.com.ar', 'Belen de Escobar', 'BUENOS AIRES']]\n",
      "(36, 5)\n",
      "Tabla 1 en la página 5: [['VIZION GROUP S.R.L.', '5632-8333', 'www.viziongroup.com.ar', 'Belen de Escobar', 'BUENOS AIRES'], ['ADVANTUN SRL', '5365-8800', 'www.advantun.com', 'Bella Vista', 'BUENOS AIRES'], ['IFX NETWORKS ARGENTINA SRL', '(011) 5031-2400', 'www.ifxnetworks.com', 'Bella Vista', 'BUENOS AIRES'], ['ROSERO MARCELO JORGE MAXIMILIANO (MAXYNET', ')4668-2619', 'www.maxynet.com.ar', 'Bella Vista', 'BUENOS AIRES'], ['SION SA', '0810 999 0100', 'www.sion.com', 'Bella Vista', 'BUENOS AIRES'], ['VER TV SA/TELERED', '0810-810-22253', 'www.telered.com.ar', 'Bella Vista', 'BUENOS AIRES'], ['RED INTERCABLE DIGITAL S.A.', '(5411) 6091.5600', 'www.redintercable.com.ar', 'Bellocq', 'BUENOS AIRES'], ['ADVANTUN SRL', '5365-8800', 'www.advantun.com', 'Benavidez', 'BUENOS AIRES'], ['COOPERATIVA BENAVIDEZ LTDA', '03327-481302', 'www.netben.com.ar', 'Benavidez', 'BUENOS AIRES'], ['COOPERATIVA TELEFÓNICA Y DE OTROS SERVICIOS P', 'Ú(0B3L3IC2O7)S ,4 C5O50N0S0UMO Y VIVIENDA LO', 'PwEwZw C.AcMotEeLlcOa mLT.DcoAm (C.aOrTELCAM)', 'Benavidez', 'BUENOS AIRES'], ['GOW INTERNET SRL', '(11) 52758500 / 081-3456-469', 'www.gowinternet.com.ar', 'Benavidez', 'BUENOS AIRES'], ['IFX NETWORKS ARGENTINA SRL', '(011) 5031-2400', 'www.ifxnetworks.com', 'Benavidez', 'BUENOS AIRES'], ['MULTITRUNK SA (YEAP!)', '5236-5200', 'www.yeap.com.ar', 'Benavidez', 'BUENOS AIRES'], ['SES, SISTEMAS ELECTRONICOS SA', '5453-8469', 'www.ses.com.ar', 'Benavidez', 'BUENOS AIRES'], ['SN COMUNICACIONES SRL (SN WIFI)', '0800 345 6666', 'www.snwifi.com.ar', 'Benavidez', 'BUENOS AIRES'], ['TELMEX ARGENTINA S.A.', '', 'www.claro.com.ar', 'Benavidez', 'BUENOS AIRES'], ['ADVANTUN SRL', '5365-8800', 'www.advantun.com', 'Benito Juarez', 'BUENOS AIRES'], ['ETERNET SRL', '(02983) 513040', 'www.eternet.cc', 'Benito Juarez', 'BUENOS AIRES'], ['SION SA', '0810 999 0100', 'www.sion.com', 'Benito Juarez', 'BUENOS AIRES'], ['ADVANTUN SRL', '5365-8800', 'www.advantun.com', 'Berazategui', 'BUENOS AIRES'], ['BENTO IVAN GABRIEL (IP COMS)', '02229 44 2494', 'www.ipcoms.com.ar', 'Berazategui', 'BUENOS AIRES'], ['COOPERATIVA DE OBRAS, SERVICIOS PUBLICOS, VIVI', 'E0N2D2A29 Y- 4C9R1E5D0I0T/O1 0T0R0ES LIMITES LIMI', 'TwAwDAw.c3l.com.ar', 'Berazategui', 'BUENOS AIRES'], ['COSEIDI SA', '5277-9700', 'www.fiber.net.ar', 'Berazategui', 'BUENOS AIRES'], ['CPS.COMUNICACIONES SA /METROTEL', '(011) 6091-1000', 'www.metrotel.com.ar', 'Berazategui', 'BUENOS AIRES'], ['IFX NETWORKS ARGENTINA SRL', '(011) 5031-2400', 'www.ifxnetworks.com', 'Berazategui', 'BUENOS AIRES'], ['MULTITRUNK SA (YEAP!)', '5236-5200', 'www.yeap.com.ar', 'Berazategui', 'BUENOS AIRES'], ['SION SA', '0810 999 0100', 'www.sion.com', 'Berazategui', 'BUENOS AIRES'], ['COSEIDI SA', '5277-9700', 'www.fiber.net.ar', 'Berazategui Oeste', 'BUENOS AIRES'], ['ADVANTUN SRL', '5365-8800', 'www.advantun.com', 'Berisso', 'BUENOS AIRES'], ['CITARELLA SA', '(0221) 422-9600', 'www.citarella.com.ar', 'Berisso', 'BUENOS AIRES'], ['INTERNET WINDS AG SA', '(0221) 5130100', 'www.iwinds.com.ar', 'Berisso', 'BUENOS AIRES'], ['MULTITRUNK SA (YEAP!)', '5236-5200', 'www.yeap.com.ar', 'Berisso', 'BUENOS AIRES'], ['SANTA CRUZ AUGUSTO JULIAN (SONYTEL)', '0221 - 4416900', 'www.sonytel.com.ar', 'Berisso', 'BUENOS AIRES'], ['SION SA', '0810 999 0100', 'www.sion.com', 'Berisso', 'BUENOS AIRES'], ['SISTA S.A.', '(0221) 4275510', 'www.sista.com.ar', 'Berisso', 'BUENOS AIRES'], ['SOLUCIONES WISP S.A. (INTERNET WISP)', '0221-4453445', 'www.wisp.com.ar', 'BERISSO', 'BUENOS AIRES'], ['TECNOLOGIA WORK OUT S.A.', '221 644 1170', 'www.berissoconectado.com.arÂ', 'Berisso', 'BUENOS AIRES']]\n",
      "(36, 5)\n",
      "Tabla 1 en la página 6: [['COSEIDI SA', '5277-9700', 'www.fiber.net.ar', 'Bernal', 'BUENOS AIRES'], ['IFX NETWORKS ARGENTINA SRL', '(011) 5031-2400', 'www.ifxnetworks.com', 'Bernal', 'BUENOS AIRES'], ['MULTITRUNK SA (YEAP!)', '5236-5200', 'www.yeap.com.ar', 'Bernal', 'BUENOS AIRES'], ['ADVANTUN SRL', '5365-8800', 'www.advantun.com', 'Bernal Oeste', 'BUENOS AIRES'], ['IFX NETWORKS ARGENTINA SRL', '(011) 5031-2400', 'www.ifxnetworks.com', 'Bernal Oeste', 'BUENOS AIRES'], ['LISA DANIEL ADRIAN', '4251 8485', '', 'Bernal Oeste', 'BUENOS AIRES'], ['SION SA', '0810 999 0100', 'www.sion.com', 'Bernal Oeste', 'BUENOS AIRES'], ['COOPERATIVA DE ELECTRICIDAD DE TRENQUE LAUQ', 'U0E2N39 2-4100031/410005', 'www.cooptl.com.ar', 'Beruti', 'BUENOS AIRES'], ['IFX NETWORKS ARGENTINA SRL', '(011) 5031-2400', 'www.ifxnetworks.com', 'Billinghurst', 'BUENOS AIRES'], ['RED INTERCABLE DIGITAL S.A.', '(5411) 6091.5600', 'www.redintercable.com.ar', 'Blaquier', 'BUENOS AIRES'], ['COSEIDI SA', '5277-9700', 'www.fiber.net.ar', 'Bosques', 'BUENOS AIRES'], ['IFX NETWORKS ARGENTINA SRL', '(011) 5031-2400', 'www.ifxnetworks.com', 'Bosques', 'BUENOS AIRES'], ['MULTITRUNK SA (YEAP!)', '5236-5200', 'www.yeap.com.ar', 'Boulogne', 'BUENOS AIRES'], ['ADVANTUN SRL', '5365-8800', 'www.advantun.com', 'Boulogne Sur Mer', 'BUENOS AIRES'], ['SION SA', '0810 999 0100', 'www.sion.com', 'Boulogne Sur Mer', 'BUENOS AIRES'], ['SN COMUNICACIONES SRL (SN WIFI)', '0800 345 6666', 'www.snwifi.com.ar', 'Boulogne Sur Mer', 'BUENOS AIRES'], ['IPNEXT S.A.', '5368-4000', 'www.ipnext.net.ar', 'Bragado', 'BUENOS AIRES'], ['BENTO IVAN GABRIEL (IP COMS)', '02229 44 2494', 'www.ipcoms.com.ar', 'Brandsen', 'BUENOS AIRES'], ['INTERNET WINDS AG SA', '(0221) 5130100', 'www.iwinds.com.ar', 'Brandsen', 'BUENOS AIRES'], ['ADVANTUN SRL', '5365-8800', 'www.advantun.com', 'Burzaco', 'BUENOS AIRES'], ['BERTORA RICARDO JORGE (EZ-NET)', '54 11 4116-2292', 'www.ez-net.com.ar', 'Burzaco', 'BUENOS AIRES'], ['IFX NETWORKS ARGENTINA SRL', '(011) 5031-2400', 'www.ifxnetworks.com', 'Burzaco', 'BUENOS AIRES'], ['SION SA', '0810 999 0100', 'www.sion.com', 'Burzaco', 'BUENOS AIRES'], ['RED INTERCABLE DIGITAL S.A.', '(5411) 6091.5600', 'www.redintercable.com.ar', 'Cabildo', 'BUENOS AIRES'], ['SILICA NETWORKS ARGENTINA SA', '+54 (11) 4103-1300', 'www.silicanetworks.com', 'Cabildo', 'BUENOS AIRES'], ['RED INTERCABLE DIGITAL S.A.', '(5411) 6091.5600', 'www.redintercable.com.ar', 'Cadret', 'BUENOS AIRES'], ['LACALLE, JOSE GUILLERMO', '291-6482193', 'www.cisnet.com.ar', 'Calderón', 'BUENOS AIRES'], ['ADVANTUN SRL', '5365-8800', 'www.advantun.com', 'Campana', 'BUENOS AIRES'], ['CPS.COMUNICACIONES SA /METROTEL', '(011) 6091-1000', 'www.metrotel.com.ar', 'Campana', 'BUENOS AIRES'], ['IFRANET S.A.', '6091-5495', 'www.ifranet.com.ar', 'Campana', 'BUENOS AIRES'], ['IFX NETWORKS ARGENTINA SRL', '(011) 5031-2400', 'www.ifxnetworks.com', 'Campana', 'BUENOS AIRES'], ['MULTITRUNK SA (YEAP!)', '5236-5200', 'www.yeap.com.ar', 'Campana', 'BUENOS AIRES'], ['MUNICIPALIDAD DE CAMPANA', '3489407000', 'www.campana.gov.ar', 'Campana', 'BUENOS AIRES'], ['SES, SISTEMAS ELECTRONICOS SA', '5453-8469', 'www.ses.com.ar', 'Campana', 'BUENOS AIRES'], ['SION SA', '0810 999 0100', 'www.sion.com', 'Campana', 'BUENOS AIRES'], ['TELMEX ARGENTINA S.A.', '', 'www.claro.com.ar', 'Campana', 'BUENOS AIRES'], ['VER TV SA/TELERED', '0810-810-22253', 'www.telered.com.ar', 'Campo de Mayo', 'BUENOS AIRES']]\n",
      "(36, 5)\n",
      "Tabla 1 en la página 7: [['ADVANTUN SRL', '5365-8800', 'www.advantun.com', 'Canning', 'BUENOS AIRES'], ['SION SA', '0810 999 0100', 'www.sion.com', 'Canning', 'BUENOS AIRES'], ['EFEYSE SRL (INTERNET LOCAL)', '02226-423000', 'www.internetlocal.com.ar', 'Cañuelas', 'BUENOS AIRES'], ['IPNEXT S.A.', '5368-4000', 'www.ipnext.net.ar', 'Cañuelas', 'BUENOS AIRES'], ['PXT Y ASOCIADOS S.R.L. (INTERNET LOCAL)', '(0261) 4200729', 'www.internetlocal.com.ar', 'Cañuelas', 'BUENOS AIRES'], ['SES, SISTEMAS ELECTRONICOS SA', '5453-8469', 'www.ses.com.ar', 'Cañuelas', 'BUENOS AIRES'], ['BROADBANDTECH SA (BBT)', '011 6385-9100', 'www.bbt.com.ar', 'Capilla del Señor', 'BUENOS AIRES'], ['RED INTERCABLE DIGITAL S.A.', '(5411) 6091.5600', 'www.redintercable.com.ar', 'Capilla del Señor', 'BUENOS AIRES'], ['PARKNET SRL', '011 48158367', 'www.capillanet.com', 'Capilla del Senor', 'BUENOS AIRES'], ['IPNEXT S.A.', '5368-4000', 'www.ipnext.net.ar', 'Capitán Sarmiento', 'BUENOS AIRES'], ['LIMA VIDEO CABLE SA (CABLETEL)', '(03487) 431034', 'www.cabletel.net.ar', 'Capitán Sarmiento', 'BUENOS AIRES'], ['COOPERATIVA DE SERVICIOS PUBLICOS DE FATIMA L', 'I0M2I3T0A-D4A49 (0C9O0S0E/F4A4)44110', 'www.cosefa.com.ar', 'CARABASSA', 'BUENOS AIRES'], ['MULTITRUNK SA (YEAP!)', '5236-5200', 'www.yeap.com.ar', 'Carapachay', 'BUENOS AIRES'], ['ELEVATE S.R.L. (FASTNET)', '0800 333 3278', 'www.fastnet.com.ar', 'Carhué', 'BUENOS AIRES'], ['NODOCOOP FEDERACION DE COOPERATIVAS LTDA', '(02923) 494200', 'www.nodocoop.com.ar', 'Carhué', 'BUENOS AIRES'], ['RED INTERCABLE DIGITAL S.A.', '(5411) 6091.5600', 'www.redintercable.com.ar', 'Carhué', 'BUENOS AIRES'], ['ADVANTUN SRL', '5365-8800', 'www.advantun.com', 'Cariló', 'BUENOS AIRES'], ['COOPERATIVA TELEFÓNICA DE PINAMAR LTDA / TEL', 'P0IN2254 483000', 'www.telpin.com.ar', 'Cariló', 'BUENOS AIRES'], ['SION SA', '0810 999 0100', 'www.sion.com', 'Cariló', 'BUENOS AIRES'], ['DE AMBROSIO MARCELO MATIAS (VELONET)', '(02302) 436605', 'www.velonet.com.ar', 'Carlos Casares', 'BUENOS AIRES'], ['IPNEXT S.A.', '5368-4000', 'www.ipnext.net.ar', 'Carlos Casares', 'BUENOS AIRES'], ['COOPERATIVA DE SERVICIOS PUBLICOS DE FATIMA L', 'I0M2I3T0A-D4A49 (0C9O0S0E/F4A4)44110', 'www.cosefa.com.ar', 'CARLOS LEMEE', 'BUENOS AIRES'], ['RED INTERCABLE DIGITAL S.A.', '(5411) 6091.5600', 'www.redintercable.com.ar', 'Carlos Tejedor', 'BUENOS AIRES'], ['IPNEXT S.A.', '5368-4000', 'www.ipnext.net.ar', 'Carmen de Areco', 'BUENOS AIRES'], ['ADVANTUN SRL', '5365-8800', 'www.advantun.com', 'Carmen de Patagones', 'BUENOS AIRES'], ['FIBERNEXT SRL (AGILNET)', '0800-222-2445', 'www.agilnet.com.ar', 'Carmen de Patagones', 'BUENOS AIRES'], ['SION SA', '0810 999 0100', 'www.sion.com', 'Carmen de Patagones', 'BUENOS AIRES'], ['NODOCOOP FEDERACION DE COOPERATIVAS LTDA', '(02923) 494200', 'www.nodocoop.com.ar', 'Casbas', 'BUENOS AIRES'], ['ADVANTUN SRL', '5365-8800', 'www.advantun.com', 'Caseros', 'BUENOS AIRES'], ['ALLOCATI SANTIAGO MARIO (IMPULSAR INTERNET)', '(011) 60917878', 'www.impulsarinternet.com.ar', 'Caseros', 'BUENOS AIRES'], ['ALLOCATI SANTIAGO MARIO (IMPULSAR INTERNET)', '(011) 60917878', 'www.impulsarinternet.com.ar', 'Caseros', 'BUENOS AIRES'], ['IFX NETWORKS ARGENTINA SRL', '(011) 5031-2400', 'www.ifxnetworks.com', 'Caseros', 'BUENOS AIRES'], ['SION SA', '0810 999 0100', 'www.sion.com', 'Caseros', 'BUENOS AIRES'], ['IFX NETWORKS ARGENTINA SRL', '(011) 5031-2400', 'www.ifxnetworks.com', 'Castelar', 'BUENOS AIRES'], ['SISTA S.A.', '(0221) 4275510', 'www.sista.com.ar', 'Castelar', 'BUENOS AIRES'], ['RED INTERCABLE DIGITAL S.A.', '(5411) 6091.5600', 'www.redintercable.com.ar', 'Castelli', 'BUENOS AIRES'], ['RED INTERCABLE DIGITAL S.A.', '(5411) 6091.5600', 'www.redintercable.com.ar', 'Cernadas', 'BUENOS AIRES']]\n",
      "(36, 5)\n",
      "Tabla 1 en la página 8: [['ADVANTUN SRL', '5365-8800', 'www.advantun.com', 'Chacabuco', 'BUENOS AIRES'], ['IPNEXT S.A.', '5368-4000', 'www.ipnext.net.ar', 'Chacabuco', 'BUENOS AIRES'], ['SION SA', '0810 999 0100', 'www.sion.com', 'Chacabuco', 'BUENOS AIRES'], ['SITERNET S.R.L.', '(0249) 44336000/636', 'www.ruralink.com.ar', 'Chacabuco', 'BUENOS AIRES'], ['MULTITRUNK SA (YEAP!)', '5236-5200', 'www.yeap.com.ar', 'Chascomus', 'BUENOS AIRES'], ['CELDA COOPERATIVA DE SERVICIOS ELECTRICOS,OBR', '(A0S2 Y9 2S4E)R 4V2IC0I0O3S5 PUBLICOS,ASISTEN', 'CwIAwLEwS. cYe CldRaE.DcoITmO.a,VrIVIENDA Y CON', 'SCUhMasOic óDE DARREGUEIRA LTDA', 'BUENOS AIRES'], ['RED INTERCABLE DIGITAL S.A.', '(5411) 6091.5600', 'www.redintercable.com.ar', 'Chiclana', 'BUENOS AIRES'], ['RED INTERCABLE DIGITAL S.A.', '(5411) 6091.5600', 'www.redintercable.com.ar', 'Chillar', 'BUENOS AIRES'], ['UGALDE JUAN IGNACIO (DUPPINI COMUNICACIONES', ')0249-4438824', 'www.duppini.com.ar', 'CHILLAR', 'BUENOS AIRES'], ['IPNEXT S.A.', '5368-4000', 'www.ipnext.net.ar', 'Chivilcoy', 'BUENOS AIRES'], ['MEGATRANS SA', '4343-5657', 'www.megatrans.com.ar', 'Chivilcoy', 'BUENOS AIRES'], ['MULTITRUNK SA (YEAP!)', '5236-5200', 'www.yeap.com.ar', 'Chivilcoy', 'BUENOS AIRES'], ['TELEFONIA PUBLICA Y PRIVADA S.A.', '4372-3310', 'www.tpp.com.ar', 'CHUBUT', 'BUENOS AIRES'], ['SILICA NETWORKS ARGENTINA SA', '+54 (11) 4103-1300', 'www.silicanetworks.com', 'Chucul', 'BUENOS AIRES'], ['IFX NETWORKS ARGENTINA SRL', '(011) 5031-2400', 'www.ifxnetworks.com', 'Churruca', 'BUENOS AIRES'], ['ADVANTUN SRL', '5365-8800', 'www.advantun.com', 'City Bell', 'BUENOS AIRES'], ['SION SA', '0810 999 0100', 'www.sion.com', 'City Bell', 'BUENOS AIRES'], ['ADVANTUN SRL', '5365-8800', 'www.advantun.com', 'Ciudad Autónoma de Buenos Air', 'eBsUENOS AIRES'], ['ALLYTECH S.A. (ALLYTECH CLOUD HOSTING)', '(011) 4787-9009', 'www.allytech.com', 'Ciudad Autónoma de Buenos Air', 'eBsUENOS AIRES'], ['ALPHA 2000 SOLUCIONES INFORMATICAS SRL', '(011) 43455150', 'www.alpha2000.com.ar', 'Ciudad Autónoma de Buenos Air', 'eBsUENOS AIRES'], ['ANIXTER ARGENTINA SA', '4909-5200', 'www.anixter.com', 'Ciudad Autónoma de Buenos', 'BUENOS AIRES'], ['ANURA S.A.', '011 5263 0000', 'www.anura.com.ar', 'Ciudad Autónoma de Buenos Air', 'eBsUENOS AIRES'], ['AT&t COMMUNICATIONS SERVICES ARGENTINA SRL', '5297-9501', 'www.att.com', 'Ciudad Autónoma de Buenos Air', 'eBsUENOS AIRES'], ['BANCO DE GALICIA Y BUENOS AIRES S A U', '(54-11) 6329-6000', 'www.bancogalicia.com.ar', 'Ciudad Autónoma de Buenos Air', 'eBsUENOS AIRES'], ['BAYRES NET S.R.L.', '6009-5400', 'www.bayres-net.com', 'Ciudad Autónoma de Buenos Air', 'eBsUENOS AIRES'], ['BIT2NET S.A.', '51958800', 'www.bit2net.com', 'Ciudad Autónoma de Buenos Air', 'eBsUENOS AIRES'], ['BT LATAM ARGENTINA S.A.(Ex Comsat)', '', '', 'Ciudad Autónoma de Buenos Air', 'eBsUENOS AIRES'], ['BTW S.A.', '(+5411) 7078-0250', 'www.btwsa.com.ar', 'Ciudad Autónoma de Buenos Air', 'eBsUENOS AIRES'], ['CITILAN ARGENTINA SA (ANURA)', '5263-0000', 'www.anura.com.ar', 'Ciudad Autónoma de Buenos Air', 'eBsUENOS AIRES'], ['CLOUD GROUP S.A. (CLOUD STUDIO)', '5365 5792', 'www.cloud.studio', 'Ciudad Autónoma de Buenos Air', 'eBsUENOS AIRES'], ['COMUNIDAT SAS', '011-5237-1335', 'www.comunidat.com.ar', 'Ciudad Autónoma de Buenos Air', 'eBsUENOS AIRES'], ['CONSEJO DE LA MAGISTRATURA DE LA CIUDAD AUT', 'O1N1O 4M00A8 D 0E2 0B0UENOS AIRES', 'www.consejo.jusbaires.gob.ar', 'Ciudad Autónoma de Buenos Air', 'eBsUENOS AIRES'], ['CORTUC S.A.', '4788-9555', 'www.fonoglobal.com.ar', 'Ciudad Autónoma de Buenos Air', 'eBsUENOS AIRES'], ['DANAIDE SA', '0810-999-3262', 'www.danaide.com.ar', 'Ciudad Autónoma de Buenos Air', 'eBsUENOS AIRES'], ['ELECTROCOMPONENTES SA', '011 4375-3366', 'www.electrocomponentes.com', 'Ciudad Autónoma de Buenos Air', 'eBsUENOS AIRES'], ['ELECTRONICA ELEMON S.A', '4523-5555', 'www.elemon.com.ar', 'Ciudad Autónoma de Buenos Air', 'eBsUENOS AIRES'], ['EUROSAT S.A. (ANTINA)', '(02983) 513040', 'www.eternet.cc', 'Ciudad Autónoma de Buenos Air', 'eBsUENOS AIRES']]\n",
      "(36, 5)\n",
      "Tabla 1 en la página 9: [['EXO S.A.', '4021-5431 /30', 'www.exo.com.ar', 'Ciudad Autónoma de Buenos Air', 'eBsUENOS AIRES'], ['FACEBOOK ARGENTINA S.R.L.', '541150773400', 'www.facebook.com', 'Ciudad Autónoma de Buenos Air', 'eBsUENOS AIRES'], ['FUNDACION INNOVAT (INNOVARED)', '4322-8488', 'www.innova-red.net/', 'Ciudad Autónoma de Buenos Air', 'eBsUENOS AIRES'], ['FURUKAWA ELECTRIC LATAM S.A.', '011-4326-4440', 'www.furukawa.com.br', 'Ciudad Autónoma de Buenos Air', 'eBsUENOS AIRES'], ['GOOGLE INFRAESTRUCTURA ARGENTINA SRL', '', '', 'Ciudad Autónoma de Buenos Air', 'eBsUENOS AIRES'], ['HUARP S.R.L. (PROZCENTER)', '5031-5525', 'www.prozcenter.com', 'Ciudad Autónoma de Buenos Air', 'eBsUENOS AIRES'], ['IDT CORPORATION ARGENTINA S.A', '54 11-5354-9000', 'www.idtlatam.com', 'Ciudad Autónoma de Buenos Air', 'eBsUENOS AIRES'], ['IFX NETWORKS ARGENTINA SRL', '(011) 5031-2400', 'www.ifxnetworks.com', 'Ciudad Autónoma de Buenos Air', 'eBsUENOS AIRES'], ['IMAGEN SATELITAL S.A. (TURNER INTERNACIONAL A', 'R5G4E1N1 T4I8N9A4)-7000', 'www.turnerargentina.com', 'Ciudad Autónoma de Buenos Air', 'eBsUENOS AIRES'], ['INTEL SOFTWARE DE ARGENTINA S.A.', '(011) 4515-4200', 'www.intel.com', 'Ciudad Autónoma de Buenos Air', 'eBsUENOS AIRES'], ['INTERDOTNET ARGENTINA S.A.', '011-5032 9999', 'www.intermediasp.com', 'Ciudad Autónoma de Buenos Air', 'eBsUENOS AIRES'], ['INTERNET WINDS AG SA', '(0221) 5130100', 'www.iwinds.com.ar', 'Ciudad Autónoma de Buenos Air', 'eBsUENOS AIRES'], ['INTERWARP SAS', '011 6246 0109', 'www.interwarp.net', 'Ciudad Autónoma de Buenos Air', 'eBsUENOS AIRES'], ['IPNEXT S.A.', '5368-4000', 'www.ipnext.net.ar', 'Ciudad Autónoma de Buenos Air', 'eBsUENOS AIRES'], ['JR INTERCOM S.R.L.', '011 4657-9649', 'www.jrintercom.net', 'Ciudad Autónoma de Buenos Air', 'eBsUENOS AIRES'], ['LINEIP SRL', '', 'www.lineip.com', 'Ciudad Autónoma de Buenos Air', 'eBsUENOS AIRES'], ['LINK NET ARGENTINA SRL', '011 5279-6000', 'www.link.net.ar', 'Ciudad Autónoma de Buenos Air', 'eBsUENOS AIRES'], ['LLAMADAIP S.R.L', '5258-8200', 'www.llamadaip.com', 'Ciudad Autónoma de Buenos Air', 'eBsUENOS AIRES'], ['MINISTERIO PUBLICO DE LA CIUDAD AUTONOMA DE', '0B1U1E N 5O29S9 A-4IR4E0S0', 'www.fiscalias.gob.ar', 'Ciudad Autónoma de Buenos Air', 'eBsUENOS AIRES'], ['NEC ARGENTINA S.A.', '4010-6000', 'www.nec.com.ar', 'Ciudad Autónoma de Buenos Air', 'eBsUENOS AIRES'], ['NETPATAGONIA S.A.S.', '4345-3270', 'www.netpatagonia.com.ar', 'Ciudad Autónoma de Buenos Air', 'eBsUENOS AIRES'], ['NSS SA / IPLAN', '0800 345 0000', 'www.iplan.com.ar', 'Ciudad Autónoma de Buenos Air', 'eBsUENOS AIRES'], ['PADTEC SA', '11 5272-2010', 'www.padtec.com', 'Ciudad Autónoma de Buenos Air', 'eBsUENOS AIRES'], ['PCCP S.A.', '0810-345-9800', 'www.pccp.net.ar', 'Ciudad Autónoma de Buenos Air', 'eBsUENOS AIRES'], ['PERALTA LEANDRO NAHUEL (FLASHNETCARRILLO)', '', '', 'Ciudad Autónoma de Buenos Air', 'eBsUENOS AIRES'], ['PLANEX S.A.', '4315-3217', 'www.planex.com.ar', 'Ciudad Autónoma de Buenos Air', 'eBsUENOS AIRES'], ['PRISMA MEDIOS DE PAGO S.A.', '4379-3300', 'www.prismamediosdepago.com', 'Ciudad Autónoma de Buenos Air', 'eBsUENOS AIRES'], ['RED INTERCABLE DIGITAL S.A.', '(5411) 6091.5600', 'www.redintercable.com.ar', 'Ciudad Autónoma de Buenos Air', 'eBsUENOS AIRES'], ['RED LINK S.A.', '4119-1200', 'www.redlink.com.ar', 'Ciudad Autónoma de Buenos Air', 'eBsUENOS AIRES'], ['SERVICIOS Y TELECOMUNICACIONES S.A.', '(54-11) 4138-1800', 'www.syt.com', 'Ciudad Autónoma de Buenos Air', 'eBsUENOS AIRES'], ['SES, SISTEMAS ELECTRONICOS SA', '5453-8469', 'www.ses.com.ar', 'Ciudad Autónoma de Buenos Air', 'eBsUENOS AIRES'], ['SILICA NETWORKS ARGENTINA SA', '+54 (11) 4103-1300', 'www.silicanetworks.com', 'Ciudad Autónoma de Buenos Air', 'eBsUENOS AIRES'], ['SION SA', '0810 999 0100', 'www.sion.com', 'Ciudad Autónoma de Buenos Air', 'eBsUENOS AIRES'], ['SOLUTION BOX S.R.L.', '54 11 6091-1200', 'www.solutionbox.com.ar', 'Ciudad Autónoma de Buenos Air', 'eBsUENOS AIRES'], ['SPRYNET SRL', '11 3776-2181', '', 'Ciudad Autónoma de Buenos Air', 'eBsUENOS AIRES'], ['TECOAR SA', '(54)(011) 5268-0000', 'www.tecoar.com.ar', 'Ciudad Autónoma de Buenos Air', 'eBsUENOS AIRES'], ['TELCONET S.A.', '(011) 4328-7800', 'www.telconet.com.ar', 'Ciudad Autónoma de Buenos Air', 'eBsUENOS AIRES']]\n",
      "(36, 5)\n",
      "Tabla 1 en la página 10: [['TELECENTRO S.A.', '0800-322-9500', 'www.telecentro.com.ar', 'Ciudad Autónoma de Buenos Air', 'eBsUENOS AIRES'], ['TELEMUNDO 10 SRL', '(011) 4305-2121', 'www.telemundo10.com.ar', 'Ciudad Autónoma de Buenos Air', 'eBsUENOS AIRES'], ['TELMEX ARGENTINA S.A.', '', 'www.claro.com.ar', 'Ciudad Autónoma de Buenos Air', 'eBsUENOS AIRES'], ['UNIVERSIDAD ARGENTINA DE LA EMPRESA (UADE)', '4000-7600', 'www.uade.edu.ar', 'Ciudad Autónoma de Buenos Air', 'eBsUENOS AIRES'], ['VERIZON ARGENTINA SRL (ex UUNET)', '(54 11) 4515-6100', 'www.verizonbusiness.com', 'Ciudad Autónoma de Buenos Air', 'eBsUENOS AIRES'], ['VIZION GROUP S.R.L.', '5632-8333', 'www.viziongroup.com.ar', 'Ciudad Autónoma de Buenos Air', 'eBsUENOS AIRES'], ['VOCALSAT ARGENTINA S.A. (SKYTEL)', '11 45975000/9025/9022', 'www.skytel.com.ar', 'Ciudad Autónoma de Buenos Air', 'eBsUENOS AIRES'], ['ADVANTUN SRL', '5365-8800', 'www.advantun.com', 'Ciudad Evita', 'BUENOS AIRES'], ['JUMPNET SOLUCIONES DE INTERNET S.R.L.', '011-6632-6600', 'www.jumpnet.com.ar', 'Ciudad Evita', 'BUENOS AIRES'], ['SION SA', '0810 999 0100', 'www.sion.com', 'Ciudad Evita', 'BUENOS AIRES'], ['MULTITRUNK SA (YEAP!)', '5236-5200', 'www.yeap.com.ar', 'Ciudad Jardín', 'BUENOS AIRES'], ['VER TV SA/TELERED', '0810-810-22253', 'www.telered.com.ar', 'Ciudad Jardín', 'BUENOS AIRES'], ['ADVANTUN SRL', '5365-8800', 'www.advantun.com', 'Ciudadela', 'BUENOS AIRES'], ['IFX NETWORKS ARGENTINA SRL', '(011) 5031-2400', 'www.ifxnetworks.com', 'Ciudadela', 'BUENOS AIRES'], ['MULTITRUNK SA (YEAP!)', '5236-5200', 'www.yeap.com.ar', 'Ciudadela', 'BUENOS AIRES'], ['SION SA', '0810 999 0100', 'www.sion.com', 'Ciudadela', 'BUENOS AIRES'], ['ETERNET SRL', '(02983) 513040', 'www.eternet.cc', 'Claromeco', 'BUENOS AIRES'], ['CIUDAD GLOBAL S.A.', '0291-455-8448', 'www.ciudadglobal.com.ar', 'Claromecó', 'BUENOS AIRES'], ['ADVANTUN SRL', '5365-8800', 'www.advantun.com', 'Claypole', 'BUENOS AIRES'], ['COSEIDI SA', '5277-9700', 'www.fiber.net.ar', 'Claypole', 'BUENOS AIRES'], ['IFX NETWORKS ARGENTINA SRL', '(011) 5031-2400', 'www.ifxnetworks.com', 'Claypole', 'BUENOS AIRES'], ['SES, SISTEMAS ELECTRONICOS SA', '5453-8469', 'www.ses.com.ar', 'Claypole', 'BUENOS AIRES'], ['SION SA', '0810 999 0100', 'www.sion.com', 'Claypole', 'BUENOS AIRES'], ['ADVANTUN SRL', '5365-8800', 'www.advantun.com', 'Colón', 'BUENOS AIRES'], ['COOPERATIVA DE SERVICIOS ELECTRICOS, SOCIALES,', 'V02IV4I7E3N-D43A0 Y3 4C2REDITO DE COLON B A', 'www.cecolon.com.ar', 'Colón', 'BUENOS AIRES'], ['SION SA', '0810 999 0100', 'www.sion.com', 'Colón', 'BUENOS AIRES'], ['NODOCOOP FEDERACION DE COOPERATIVAS LTDA', '(02923) 494200', 'www.nodocoop.com.ar', 'Colonia San José', 'BUENOS AIRES'], ['TELEFONIA PUBLICA Y PRIVADA S.A.', '4372-3310', 'www.tpp.com.ar', 'Colonia Sarmiento', 'BUENOS AIRES'], ['COOPERATIVA DE ELECTRICIDAD Y SERVICIOS ANEXO', 'S0 2D2E9 D1-I4O8N0I2S0IA0 /L1T2D8A/216', 'www.coopdionisia.com.ar', 'Comandante Nicanor Otamendi', 'BUENOS AIRES'], ['TELEFONIA PUBLICA Y PRIVADA S.A.', '4372-3310', 'www.tpp.com.ar', 'Comodoro Rivadavia', 'BUENOS AIRES'], ['RED INTERCABLE DIGITAL S.A.', '(5411) 6091.5600', 'www.redintercable.com.ar', 'Conesa', 'BUENOS AIRES'], ['CIUDAD GLOBAL S.A.', '0291-455-8448', 'www.ciudadglobal.com.ar', 'Copetonas', 'BUENOS AIRES'], ['ETERNET SRL', '(02983) 513040', 'www.eternet.cc', 'Copetonas', 'BUENOS AIRES'], ['CPS.COMUNICACIONES SA /METROTEL', '(011) 6091-1000', 'www.metrotel.com.ar', 'CÓRDOBA', 'BUENOS AIRES'], ['CPS.COMUNICACIONES SA /METROTEL', '(011) 6091-1000', 'www.metrotel.com.ar', 'Córdoba', 'BUENOS AIRES'], ['SILICA NETWORKS ARGENTINA SA', '+54 (11) 4103-1300', 'www.silicanetworks.com', 'CÓRDOBA', 'BUENOS AIRES'], ['SILICA NETWORKS ARGENTINA SA', '+54 (11) 4103-1300', 'www.silicanetworks.com', 'Córdoba', 'BUENOS AIRES']]\n",
      "(36, 5)\n",
      "Tabla 1 en la página 11: [['CIUDAD GLOBAL S.A.', '0291-455-8448', 'www.ciudadglobal.com.ar', 'Coronel Dorrego', 'BUENOS AIRES'], ['ETERNET SRL', '(02983) 513040', 'www.eternet.cc', 'Coronel Dorrego', 'BUENOS AIRES'], ['RED INTERCABLE DIGITAL S.A.', '(5411) 6091.5600', 'www.redintercable.com.ar', 'Coronel Pringles', 'BUENOS AIRES'], ['RED INTERCABLE DIGITAL S.A.', '(5411) 6091.5600', 'www.redintercable.com.ar', 'Coronel Seguí', 'BUENOS AIRES'], ['ELEVATE S.R.L. (FASTNET)', '0800 333 3278', 'www.fastnet.com.ar', 'Coronel Suarez', 'BUENOS AIRES'], ['SILICA NETWORKS ARGENTINA SA', '+54 (11) 4103-1300', 'www.silicanetworks.com', 'Coronel Suarez', 'BUENOS AIRES'], ['COOPERATIVA TELEFONICA Y OTROS SERVICIOS DE S', 'A(0N2T2A3 C) L4A6R0A23 D5E9L/ M46A0R2 4LI5M9.ITADA CO', 'wOTwEwLS.cEoRotelser.com.ar', 'Coronel Vidal', 'BUENOS AIRES'], ['MULTITRUNK SA (YEAP!)', '5236-5200', 'www.yeap.com.ar', 'Coronel Vidal', 'BUENOS AIRES'], ['RED INTERCABLE DIGITAL S.A.', '(5411) 6091.5600', 'www.redintercable.com.ar', 'Coronel Vidal', 'BUENOS AIRES'], ['SILICA NETWORKS ARGENTINA SA', '+54 (11) 4103-1300', 'www.silicanetworks.com', 'Corralito', 'BUENOS AIRES'], ['DANAIDE SA', '0810-999-3262', 'www.danaide.com.ar', 'Costa Azul', 'BUENOS AIRES'], ['TVC 5 SA', '(02257) 420081', 'www.tvc5sa.com.ar', 'Costa Azul', 'BUENOS AIRES'], ['ATLANTICA VIDEO CABLE SA', '(02246) 420282 / 810', 'www.avcsa.com.ar', 'Costa Chica', 'BUENOS AIRES'], ['DANAIDE SA', '0810-999-3262', 'www.danaide.com.ar', 'Costa Chica', 'BUENOS AIRES'], ['RED INTERCABLE DIGITAL S.A.', '(5411) 6091.5600', 'www.redintercable.com.ar', 'Costa Chica', 'BUENOS AIRES'], ['VAGNER ILYA (MEGA RED DIGITAL)', '(02246) 431-119', 'www.megaredwifi.com.ar', 'Costa Chica', 'BUENOS AIRES'], ['ATLANTICA VIDEO CABLE SA', '(02246) 420282 / 810', 'www.avcsa.com.ar', 'Costa del Este', 'BUENOS AIRES'], ['DANAIDE SA', '0810-999-3262', 'www.danaide.com.ar', 'Costa del Este', 'BUENOS AIRES'], ['RED INTERCABLE DIGITAL S.A.', '(5411) 6091.5600', 'www.redintercable.com.ar', 'Costa del Este', 'BUENOS AIRES'], ['IFX NETWORKS ARGENTINA SRL', '(011) 5031-2400', 'www.ifxnetworks.com', 'Crucesita', 'BUENOS AIRES'], ['TELECENTRO S.A.', '0800-322-9500', 'www.telecentro.com.ar', 'Crucesita', 'BUENOS AIRES'], ['ANTENA DELTA SRL (WIREDCOM)', '11 5258-0496', 'www.wiredcom.com.ar', 'Cuartel V', 'BUENOS AIRES'], ['JUMPNET SOLUCIONES DE INTERNET S.R.L.', '011-6632-6600', 'www.jumpnet.com.ar', 'Cuartel V', 'BUENOS AIRES'], ['SN COMUNICACIONES SRL (SN WIFI)', '0800 345 6666', 'www.snwifi.com.ar', 'Cuartel V', 'BUENOS AIRES'], ['RED INTERCABLE DIGITAL S.A.', '(5411) 6091.5600', 'www.redintercable.com.ar', 'Curupaytí', 'BUENOS AIRES'], ['BROADBANDTECH SA (BBT)', '011 6385-9100', 'www.bbt.com.ar', 'Daireaux', 'BUENOS AIRES'], ['CELDA COOPERATIVA DE SERVICIOS ELECTRICOS,OBR', '(A0S2 Y9 2S4E)R 4V2IC0I0O3S5 PUBLICOS,ASISTEN', 'CwIAwLEwS. cYe CldRaE.DcoITmO.a,VrIVIENDA Y CON', 'SDUaMrrOeg DuEe iDraARREGUEIRA LTDA', 'BUENOS AIRES'], ['ETERNET SRL', '(02983) 513040', 'www.eternet.cc', 'De La Garma', 'BUENOS AIRES'], ['COMUNITEL SA', '(02320) 400989', 'www.comunitelsa.com.ar', 'Del Viso', 'BUENOS AIRES'], ['COOPERATIVA TELEFÓNICA DE VIVIENDA Y OTROS SE', 'TReVlI.C: I(O54S- P1Ú1)B 0L2IC3O2S0 -D4E7L0 -V3I0S0O/ 6LT0DA', 'www.telviso.com.ar', 'Del Viso', 'BUENOS AIRES'], ['FIBER2HOME S.A.', '011 5353-6511', 'www.fiber2home.com.ar', 'Del Viso', 'BUENOS AIRES'], ['IFX NETWORKS ARGENTINA SRL', '(011) 5031-2400', 'www.ifxnetworks.com', 'Del Viso', 'BUENOS AIRES'], ['VER TV SA/TELERED', '0810-810-22253', 'www.telered.com.ar', 'Del Viso', 'BUENOS AIRES'], ['JUMPNET SOLUCIONES DE INTERNET S.R.L.', '011-6632-6600', 'www.jumpnet.com.ar', 'Derqui', 'BUENOS AIRES'], ['TELEFONIA PUBLICA Y PRIVADA S.A.', '4372-3310', 'www.tpp.com.ar', 'Diadema', 'BUENOS AIRES'], ['ANTENA DELTA SRL (WIREDCOM)', '11 5258-0496', 'www.wiredcom.com.ar', 'Dique Lujan', 'BUENOS AIRES'], ['IFX NETWORKS ARGENTINA SRL', '(011) 5031-2400', 'www.ifxnetworks.com', 'Dock Sud', 'BUENOS AIRES']]\n",
      "(36, 5)\n",
      "Tabla 1 en la página 12: [['TELECENTRO S.A.', '0800-322-9500', 'www.telecentro.com.ar', 'Dock Sud', 'BUENOS AIRES'], ['VISIO RED SRL', '1151993126', 'www.visio.red', 'Dock Sud', 'BUENOS AIRES'], ['ADVANTUN SRL', '5365-8800', 'www.advantun.com', 'Dolores', 'BUENOS AIRES'], ['MEGATRANS SA', '4343-5657', 'www.megatrans.com.ar', 'Dolores', 'BUENOS AIRES'], ['MULTITRUNK SA (YEAP!)', '5236-5200', 'www.yeap.com.ar', 'Dolores', 'BUENOS AIRES'], ['SION SA', '0810 999 0100', 'www.sion.com', 'Dolores', 'BUENOS AIRES'], ['EMPRESA DE SERVICIOS Y APLICACIONES TECNOLOG', 'I(C0A2S2 2SR5L) 426024 // (02225) 4260', 'www.wicom.com.ar', 'Domselaar', 'BUENOS AIRES'], ['RED INTERCABLE DIGITAL S.A.', '(5411) 6091.5600', 'www.redintercable.com.ar', 'Domselaar', 'BUENOS AIRES'], ['TELEFAS S.A. (VIDEO CABLE DOMSELAAR)', '0222 5491360', '', 'Domselaar', 'BUENOS AIRES'], ['IFX NETWORKS ARGENTINA SRL', '(011) 5031-2400', 'www.ifxnetworks.com', 'Don Bosco', 'BUENOS AIRES'], ['IFX NETWORKS ARGENTINA SRL', '(011) 5031-2400', 'www.ifxnetworks.com', 'Don Orione', 'BUENOS AIRES'], ['MULTITRUNK SA (YEAP!)', '5236-5200', 'www.yeap.com.ar', 'Don Torcuato', 'BUENOS AIRES'], ['ADVANTUN SRL', '5365-8800', 'www.advantun.com', 'Don Torcuato Este', 'BUENOS AIRES'], ['IFX NETWORKS ARGENTINA SRL', '(011) 5031-2400', 'www.ifxnetworks.com', 'Don Torcuato Este', 'BUENOS AIRES'], ['SES, SISTEMAS ELECTRONICOS SA', '5453-8469', 'www.ses.com.ar', 'Don Torcuato Este', 'BUENOS AIRES'], ['SION SA', '0810 999 0100', 'www.sion.com', 'Don Torcuato Este', 'BUENOS AIRES'], ['ADVANTUN SRL', '5365-8800', 'www.advantun.com', 'Don Torcuato Oeste', 'BUENOS AIRES'], ['SION SA', '0810 999 0100', 'www.sion.com', 'Don Torcuato Oeste', 'BUENOS AIRES'], ['SN COMUNICACIONES SRL (SN WIFI)', '0800 345 6666', 'www.snwifi.com.ar', 'El Arco', 'BUENOS AIRES'], ['IFX NETWORKS ARGENTINA SRL', '(011) 5031-2400', 'www.ifxnetworks.com', 'El Jaguel', 'BUENOS AIRES'], ['IFX NETWORKS ARGENTINA SRL', '(011) 5031-2400', 'www.ifxnetworks.com', 'El Libertador', 'BUENOS AIRES'], ['ADVANTUN SRL', '5365-8800', 'www.advantun.com', 'El Palomar', 'BUENOS AIRES'], ['IFX NETWORKS ARGENTINA SRL', '(011) 5031-2400', 'www.ifxnetworks.com', 'El Palomar', 'BUENOS AIRES'], ['SION SA', '0810 999 0100', 'www.sion.com', 'El Palomar', 'BUENOS AIRES'], ['ETERNET SRL', '(02983) 513040', 'www.eternet.cc', 'El Perdido', 'BUENOS AIRES'], ['TVC 5 SA', '(02257) 420081', 'www.tvc5sa.com.ar', 'El Pinar', 'BUENOS AIRES'], ['RED INTERCABLE DIGITAL S.A.', '(5411) 6091.5600', 'www.redintercable.com.ar', 'El Porvenir', 'BUENOS AIRES'], ['TVC 5 SA', '(02257) 420081', 'www.tvc5sa.com.ar', 'El Silvio', 'BUENOS AIRES'], ['ADVANTUN SRL', '5365-8800', 'www.advantun.com', 'El Talar de Pacheco', 'BUENOS AIRES'], ['SION SA', '0810 999 0100', 'www.sion.com', 'El Talar de Pacheco', 'BUENOS AIRES'], ['GENERACION WIFI S.A. (ASTESANO INFORMATICA)', '02262-430943', 'www.airfibra.com.ar', 'Energia', 'BUENOS AIRES'], ['ADVANTUN SRL', '5365-8800', 'www.advantun.com', 'Ensenada', 'BUENOS AIRES'], ['CITARELLA SA', '(0221) 422-9600', 'www.citarella.com.ar', 'Ensenada', 'BUENOS AIRES'], ['INTERNET WINDS AG SA', '(0221) 5130100', 'www.iwinds.com.ar', 'Ensenada', 'BUENOS AIRES'], ['MULTITRUNK SA (YEAP!)', '5236-5200', 'www.yeap.com.ar', 'Ensenada', 'BUENOS AIRES'], ['SANTA CRUZ AUGUSTO JULIAN (SONYTEL)', '0221 - 4416900', 'www.sonytel.com.ar', 'Ensenada', 'BUENOS AIRES'], ['SION SA', '0810 999 0100', 'www.sion.com', 'Ensenada', 'BUENOS AIRES']]\n",
      "(36, 5)\n",
      "Tabla 1 en la página 13: [['SISTA S.A.', '(0221) 4275510', 'www.sista.com.ar', 'Ensenada', 'BUENOS AIRES'], ['SOLUCIONES WISP S.A. (INTERNET WISP)', '0221-4453445', 'www.wisp.com.ar', 'ENSENADA', 'BUENOS AIRES'], ['GOW INTERNET SRL', '(11) 52758500 / 081-3456-469', 'www.gowinternet.com.ar', 'Escobar', 'BUENOS AIRES'], ['MULTITRUNK SA (YEAP!)', '5236-5200', 'www.yeap.com.ar', 'Escobar', 'BUENOS AIRES'], ['NODOCOOP FEDERACION DE COOPERATIVAS LTDA', '(02923) 494200', 'www.nodocoop.com.ar', 'Espartillar', 'BUENOS AIRES'], ['TELEFONIA PUBLICA Y PRIVADA S.A.', '4372-3310', 'www.tpp.com.ar', 'Esquel', 'BUENOS AIRES'], ['GRUPO FULLSAT SRL', '6091-8244 / 6009-7100', 'www.fullsat.com.ar', 'Esteban Echeverria', 'BUENOS AIRES'], ['BERTORA RICARDO JORGE (EZ-NET)', '54 11 4116-2292', 'www.ez-net.com.ar', 'Esteban Etcheverria', 'BUENOS AIRES'], ['IPNEXT S.A.', '5368-4000', 'www.ipnext.net.ar', 'Exaltación de la Cruz', 'BUENOS AIRES'], ['SILICA NETWORKS ARGENTINA SA', '+54 (11) 4103-1300', 'www.silicanetworks.com', 'Exaltación de la Cruz', 'BUENOS AIRES'], ['ADVANTUN SRL', '5365-8800', 'www.advantun.com', 'Ezeiza', 'BUENOS AIRES'], ['CPS.COMUNICACIONES SA /METROTEL', '(011) 6091-1000', 'www.metrotel.com.ar', 'Ezeiza', 'BUENOS AIRES'], ['EFEYSE SRL (INTERNET LOCAL)', '02226-423000', 'www.internetlocal.com.ar', 'Ezeiza', 'BUENOS AIRES'], ['IFX NETWORKS ARGENTINA SRL', '(011) 5031-2400', 'www.ifxnetworks.com', 'Ezeiza', 'BUENOS AIRES'], ['MULTITRUNK SA (YEAP!)', '5236-5200', 'www.yeap.com.ar', 'Ezeiza', 'BUENOS AIRES'], ['SION SA', '0810 999 0100', 'www.sion.com', 'Ezeiza', 'BUENOS AIRES'], ['COSEIDI SA', '5277-9700', 'www.fiber.net.ar', 'Ezpeleta', 'BUENOS AIRES'], ['GALLO VICENTE (GYATEL)', '11 4226-7304', 'www.gyatel.com.ar', 'Ezpeleta', 'BUENOS AIRES'], ['IFX NETWORKS ARGENTINA SRL', '(011) 5031-2400', 'www.ifxnetworks.com', 'Ezpeleta', 'BUENOS AIRES'], ['COSEIDI SA', '5277-9700', 'www.fiber.net.ar', 'Ezpeleta Oeste', 'BUENOS AIRES'], ['IFX NETWORKS ARGENTINA SRL', '(011) 5031-2400', 'www.ifxnetworks.com', 'Ezpeleta Oeste', 'BUENOS AIRES'], ['COOPERATIVA DE SERVICIOS PUBLICOS DE FATIMA L', 'I0M2I3T0A-D4A49 (0C9O0S0E/F4A4)44110', 'www.cosefa.com.ar', 'FATIMA', 'BUENOS AIRES'], ['VER TV SA/TELERED', '0810-810-22253', 'www.telered.com.ar', 'Fátima', 'BUENOS AIRES'], ['CELDA COOPERATIVA DE SERVICIOS ELECTRICOS,OBR', '(A0S2 Y9 2S4E)R 4V2IC0I0O3S5 PUBLICOS,ASISTEN', 'CwIAwLEwS. cYe CldRaE.DcoITmO.a,VrIVIENDA Y CON', 'SFUeMlipOe DSoEl aDARREGUEIRA LTDA', 'BUENOS AIRES'], ['EMPRESA DE SERVICIOS DE TELEVISION POR CABLE S', '.5A2.17-6427', '', 'Ferré', 'BUENOS AIRES'], ['ADVANTUN SRL', '5365-8800', 'www.advantun.com', 'Florencio Varela', 'BUENOS AIRES'], ['CITARELLA SA', '(0221) 422-9600', 'www.citarella.com.ar', 'Florencio Varela', 'BUENOS AIRES'], ['COOPERATIVA DE OBRAS, SERVICIOS PUBLICOS, VIVI', 'E0N2D2A29 Y- 4C9R1E5D0I0T/O1 0T0R0ES LIMITES LIMI', 'TwAwDAw.c3l.com.ar', 'Florencio Varela', 'BUENOS AIRES'], ['COSEIDI SA', '5277-9700', 'www.fiber.net.ar', 'Florencio Varela', 'BUENOS AIRES'], ['IFX NETWORKS ARGENTINA SRL', '(011) 5031-2400', 'www.ifxnetworks.com', 'Florencio Varela', 'BUENOS AIRES'], ['IPNEXT S.A.', '5368-4000', 'www.ipnext.net.ar', 'Florencio Varela', 'BUENOS AIRES'], ['MULTITRUNK SA (YEAP!)', '5236-5200', 'www.yeap.com.ar', 'Florencio Varela', 'BUENOS AIRES'], ['SION SA', '0810 999 0100', 'www.sion.com', 'Florencio Varela', 'BUENOS AIRES'], ['RED INTERCABLE DIGITAL S.A.', '(5411) 6091.5600', 'www.redintercable.com.ar', 'Florentino Ameghino', 'BUENOS AIRES'], ['IFX NETWORKS ARGENTINA SRL', '(011) 5031-2400', 'www.ifxnetworks.com', 'Florida', 'BUENOS AIRES'], ['TELECENTRO S.A.', '0800-322-9500', 'www.telecentro.com.ar', 'Florida', 'BUENOS AIRES'], ['MULTITRUNK SA (YEAP!)', '5236-5200', 'www.yeap.com.ar', 'Florida Oeste', 'BUENOS AIRES']]\n",
      "(36, 5)\n",
      "Tabla 1 en la página 14: [['ADVANTUN SRL', '5365-8800', 'www.advantun.com', 'Fortin Tiburcio', 'BUENOS AIRES'], ['SION SA', '0810 999 0100', 'www.sion.com', 'Fortin Tiburcio', 'BUENOS AIRES'], ['JUMPNET SOLUCIONES DE INTERNET S.R.L.', '011-6632-6600', 'www.jumpnet.com.ar', 'Francisco Alvarez', 'BUENOS AIRES'], ['RED INTERCABLE DIGITAL S.A.', '(5411) 6091.5600', 'www.redintercable.com.ar', 'Gahan', 'BUENOS AIRES'], ['UGALDE JUAN IGNACIO', '0249-4438824', 'www.duppini.com.ar', 'GARDEY', 'BUENOS AIRES'], ['COOPERATIVA DE PROVISION DE SERVICIOS PUBLICO', '(S0 D2E3 2T0O) R6T2U4G20U0ITAS LTDA', 'www.cooptortu.com.ar', 'Garin', 'BUENOS AIRES'], ['COOPERATIVA TELEFÓNICA DE VIVIENDA Y OTROS SE', 'TReVlI.C: I(O54S- P1Ú1)B 0L2IC3O2S0 -D4E7L0 -V3I0S0O/ 6LT0DA', 'www.telviso.com.ar', 'Garin', 'BUENOS AIRES'], ['COOPERATIVA TELEFÓNICA Y DE OTROS SERVICIOS P', 'Ú(0B3L3IC2O7)S ,4 C5O50N0S0UMO Y VIVIENDA LO', 'PwEwZw C.AcMotEeLlcOa mLT.DcoAm (C.aOrTELCAM)', 'Garin', 'BUENOS AIRES'], ['GOW INTERNET SRL', '(11) 52758500 / 081-3456-469', 'www.gowinternet.com.ar', 'Garin', 'BUENOS AIRES'], ['IFX NETWORKS ARGENTINA SRL', '(011) 5031-2400', 'www.ifxnetworks.com', 'Garin', 'BUENOS AIRES'], ['VER TV SA/TELERED', '0810-810-22253', 'www.telered.com.ar', 'Garin', 'BUENOS AIRES'], ['MULTITRUNK SA (YEAP!)', '5236-5200', 'www.yeap.com.ar', 'Garín', 'BUENOS AIRES'], ['COOPERATIVA DE ELECTRICIDAD DE TRENQUE LAUQ', 'U0E2N39 2-4100031/410005', 'www.cooptl.com.ar', 'Garre', 'BUENOS AIRES'], ['BROADBANDTECH SA (BBT)', '011 6385-9100', 'www.bbt.com.ar', 'General Alvear', 'BUENOS AIRES'], ['EMPRESA DE SERVICIOS DE TELEVISION POR CABLE S', '.5A2.17-6427', '', 'General Arenales', 'BUENOS AIRES'], ['INTEGRA-NET S.A.', '2243 453941', '', 'General Belgrano', 'BUENOS AIRES'], ['SILICA NETWORKS ARGENTINA SA', '+54 (11) 4103-1300', 'www.silicanetworks.com', 'General Belgrano', 'BUENOS AIRES'], ['ATLANTICA VIDEO CABLE SA', '(02246) 420282 / 810', 'www.avcsa.com.ar', 'General Conesa', 'BUENOS AIRES'], ['RED INTERCABLE DIGITAL S.A.', '(5411) 6091.5600', 'www.redintercable.com.ar', 'General Conesa', 'BUENOS AIRES'], ['CATTANEO LUIS E. (BBL-Net / Velostar )', '0291 452-4444', 'www.bbl-net.com.ar', 'General Daniel Cerri', 'BUENOS AIRES'], ['RED INTERCABLE DIGITAL S.A.', '(5411) 6091.5600', 'www.redintercable.com.ar', 'General Guido', 'BUENOS AIRES'], ['ELEVATE S.R.L. (FASTNET)', '0800 333 3278', 'www.fastnet.com.ar', 'General Lamadrid', 'BUENOS AIRES'], ['RED INTERCABLE DIGITAL S.A.', '(5411) 6091.5600', 'www.redintercable.com.ar', 'General Lamadrid', 'BUENOS AIRES'], ['SILICA NETWORKS ARGENTINA SA', '+54 (11) 4103-1300', 'www.silicanetworks.com', 'General Lamadrid', 'BUENOS AIRES'], ['ATLANTICA VIDEO CABLE SA', '(02246) 420282 / 810', 'www.avcsa.com.ar', 'General Lavalle', 'BUENOS AIRES'], ['RED INTERCABLE DIGITAL S.A.', '(5411) 6091.5600', 'www.redintercable.com.ar', 'General Lavalle', 'BUENOS AIRES'], ['VAGNER ILYA (MEGA RED DIGITAL)', '(02246) 431-119', 'www.megaredwifi.com.ar', 'General Lavalle', 'BUENOS AIRES'], ['COOPERATIVA TELEFÓNICA DE PINAMAR LTDA / TEL', 'P0IN2254 483000', 'www.telpin.com.ar', 'General Madariaga', 'BUENOS AIRES'], ['RED INTERCABLE DIGITAL S.A.', '(5411) 6091.5600', 'www.redintercable.com.ar', 'General Mansilla', 'BUENOS AIRES'], ['IPNEXT S.A.', '5368-4000', 'www.ipnext.net.ar', \"General O'Brien\", 'BUENOS AIRES'], ['GOW INTERNET SRL', '(11) 52758500 / 081-3456-469', 'www.gowinternet.com.ar', 'General Pacheco', 'BUENOS AIRES'], ['IFX NETWORKS ARGENTINA SRL', '(011) 5031-2400', 'www.ifxnetworks.com', 'General Pacheco', 'BUENOS AIRES'], ['MULTITRUNK SA (YEAP!)', '5236-5200', 'www.yeap.com.ar', 'General Pacheco', 'BUENOS AIRES'], ['COOPERATIVA TELEFONICA Y OTROS SERVICIOS DE S', 'A(0N2T2A3 C) L4A6R0A23 D5E9L/ M46A0R2 4LI5M9.ITADA CO', 'wOTwEwLS.cEoRotelser.com.ar', 'General Piran', 'BUENOS AIRES'], ['RED INTERCABLE DIGITAL S.A.', '(5411) 6091.5600', 'www.redintercable.com.ar', 'General Piran', 'BUENOS AIRES'], ['IPNEXT S.A.', '5368-4000', 'www.ipnext.net.ar', 'General Rodriguez', 'BUENOS AIRES'], ['SES, SISTEMAS ELECTRONICOS SA', '5453-8469', 'www.ses.com.ar', 'General Rodriguez', 'BUENOS AIRES']]\n",
      "(36, 5)\n",
      "Tabla 1 en la página 15: [['TELMEX ARGENTINA S.A.', '', 'www.claro.com.ar', 'General Rodriguez', 'BUENOS AIRES'], ['VER TV SA/TELERED', '0810-810-22253', 'www.telered.com.ar', 'General Rodriguez', 'BUENOS AIRES'], ['MONICA VIVIANA GRAMAGLIA', '0810 222 6654', 'www.pconline.com.ar', 'General Rodriguez', 'BUENOS AIRES'], ['IFX NETWORKS ARGENTINA SRL', '(011) 5031-2400', 'www.ifxnetworks.com', 'General San Martín', 'BUENOS AIRES'], ['IFX NETWORKS ARGENTINA SRL', '(011) 5031-2400', 'www.ifxnetworks.com', 'Gerli', 'BUENOS AIRES'], ['MULTITRUNK SA (YEAP!)', '5236-5200', 'www.yeap.com.ar', 'Gerli', 'BUENOS AIRES'], ['TELECENTRO S.A.', '0800-322-9500', 'www.telecentro.com.ar', 'Gerli', 'BUENOS AIRES'], ['COOPERATIVA DE ELECTRICIDAD DE TRENQUE LAUQ', 'U0E2N39 2-4100031/410005', 'www.cooptl.com.ar', 'Girodias', 'BUENOS AIRES'], ['EMPRESA DE SERVICIOS Y APLICACIONES TECNOLOG', 'I(C0A2S2 2SR5L) 426024 // (02225) 4260', 'www.wicom.com.ar', 'Glew', 'BUENOS AIRES'], ['IFX NETWORKS ARGENTINA SRL', '(011) 5031-2400', 'www.ifxnetworks.com', 'Glew', 'BUENOS AIRES'], ['INTERNET WINDS AG SA', '(0221) 5130100', 'www.iwinds.com.ar', 'Gonnet', 'BUENOS AIRES'], ['MULTITRUNK SA (YEAP!)', '5236-5200', 'www.yeap.com.ar', 'Gonnet', 'BUENOS AIRES'], ['SION SA', '0810 999 0100', 'www.sion.com', 'Gonnet', 'BUENOS AIRES'], ['INFOSPORT SA ( TELWINET)', '0220-4924-393', 'www.telwinet.com.ar', 'Gonzalez Catan', 'BUENOS AIRES'], ['JUMPNET SOLUCIONES DE INTERNET S.R.L.', '011-6632-6600', 'www.jumpnet.com.ar', 'Gonzalez Catan', 'BUENOS AIRES'], ['SES, SISTEMAS ELECTRONICOS SA', '5453-8469', 'www.ses.com.ar', 'Gonzalez Catan', 'BUENOS AIRES'], ['TELMEX ARGENTINA S.A.', '', 'www.claro.com.ar', 'Gonzalez Catan', 'BUENOS AIRES'], ['MULTITRUNK SA (YEAP!)', '5236-5200', 'www.yeap.com.ar', 'Gonzalez Catán', 'BUENOS AIRES'], ['RED INTERCABLE DIGITAL S.A.', '(5411) 6091.5600', 'www.redintercable.com.ar', 'González Moreno', 'BUENOS AIRES'], ['RED INTERCABLE DIGITAL S.A.', '(5411) 6091.5600', 'www.redintercable.com.ar', 'Goyena', 'BUENOS AIRES'], ['ETERNET SRL', '(02983) 513040', 'www.eternet.cc', 'Gral Cerri', 'BUENOS AIRES'], ['ANIXTER ARGENTINA SA', '4909-5200', 'www.anixter.com', 'Gran Buenos Aires', 'BUENOS AIRES'], ['MULTITRUNK SA (YEAP!)', '5236-5200', 'www.yeap.com.ar', 'Gran La Plata', 'BUENOS AIRES'], ['COOP TELEFONICA DE GRAND BOURG SERV PUBLICO', 'S(0 U2R32B0A)N 4IZ8A30C0IO0N VIVIENDA CREDIT', 'Oh tYt pS://www2.interbourg.com.ar/w', 'Gorradnpdre Bsos/urg', 'BUENOS AIRES'], ['COOPERATIVA DE PROVISION DE SERVICIOS PUBLICO', '(S0 D2E3 2T0O) R6T2U4G20U0ITAS LTDA', 'www.cooptortu.com.ar', 'Grand Bourg', 'BUENOS AIRES'], ['GOW INTERNET SRL', '(11) 52758500 / 081-3456-469', 'www.gowinternet.com.ar', 'Grand Bourg', 'BUENOS AIRES'], ['IFX NETWORKS ARGENTINA SRL', '(011) 5031-2400', 'www.ifxnetworks.com', 'Grand Bourg', 'BUENOS AIRES'], ['JUMPNET SOLUCIONES DE INTERNET S.R.L.', '011-6632-6600', 'www.jumpnet.com.ar', 'Grand Bourg', 'BUENOS AIRES'], ['VER TV SA/TELERED', '0810-810-22253', 'www.telered.com.ar', 'Grand Bourg', 'BUENOS AIRES'], ['ADVANTUN SRL', '5365-8800', 'www.advantun.com', 'Gregorio de Laferrere', 'BUENOS AIRES'], ['INFOSPORT SA ( TELWINET)', '0220-4924-393', 'www.telwinet.com.ar', 'Gregorio de Laferrere', 'BUENOS AIRES'], ['JUMPNET SOLUCIONES DE INTERNET S.R.L.', '011-6632-6600', 'www.jumpnet.com.ar', 'Gregorio de Laferrere', 'BUENOS AIRES'], ['SION SA', '0810 999 0100', 'www.sion.com', 'Gregorio de Laferrere', 'BUENOS AIRES'], ['NODOCOOP FEDERACION DE COOPERATIVAS LTDA', '(02923) 494200', 'www.nodocoop.com.ar', 'Guamini', 'BUENOS AIRES'], ['RED INTERCABLE DIGITAL S.A.', '(5411) 6091.5600', 'www.redintercable.com.ar', 'Guamini', 'BUENOS AIRES'], ['RED INTERCABLE DIGITAL S.A.', '(5411) 6091.5600', 'www.redintercable.com.ar', 'Guanaco', 'BUENOS AIRES'], ['CICCHETTI JOEL ALEJANDRO (GLEW NET COMUNICA', 'C2IO2N24E4S3)2514', 'www.glewnet.com.ar', 'Guernica', 'BUENOS AIRES']]\n",
      "(36, 5)\n",
      "Tabla 1 en la página 16: [['EMPRESA DE SERVICIOS Y APLICACIONES TECNOLOG', 'I(C0A2S2 2SR5L) 426024 // (02225) 4260', 'www.wicom.com.ar', 'Guernica', 'BUENOS AIRES'], ['ADVANTUN SRL', '5365-8800', 'www.advantun.com', 'Guillermo E. Hudson', 'BUENOS AIRES'], ['IFX NETWORKS ARGENTINA SRL', '(011) 5031-2400', 'www.ifxnetworks.com', 'Guillermo E. Hudson', 'BUENOS AIRES'], ['SION SA', '0810 999 0100', 'www.sion.com', 'Guillermo E. Hudson', 'BUENOS AIRES'], ['IFX NETWORKS ARGENTINA SRL', '(011) 5031-2400', 'www.ifxnetworks.com', 'Gutierrez', 'BUENOS AIRES'], ['ADVANTUN SRL', '5365-8800', 'www.advantun.com', 'Haedo', 'BUENOS AIRES'], ['COMUNICACIONES SETETEC ARGENTINA SRL', '011 5435-0703/0704', 'www.setetec.com.ar', 'Haedo', 'BUENOS AIRES'], ['IFX NETWORKS ARGENTINA SRL', '(011) 5031-2400', 'www.ifxnetworks.com', 'Haedo', 'BUENOS AIRES'], ['SION SA', '0810 999 0100', 'www.sion.com', 'Haedo', 'BUENOS AIRES'], ['SILICA NETWORKS ARGENTINA SA', '+54 (11) 4103-1300', 'www.silicanetworks.com', 'Hernando', 'BUENOS AIRES'], ['RED INTERCABLE DIGITAL S.A.', '(5411) 6091.5600', 'www.redintercable.com.ar', 'Herrera Vegas', 'BUENOS AIRES'], ['RED INTERCABLE DIGITAL S.A.', '(5411) 6091.5600', 'www.redintercable.com.ar', 'Hilario Ascasubi', 'BUENOS AIRES'], ['RED INTERCABLE DIGITAL S.A.', '(5411) 6091.5600', 'www.redintercable.com.ar', 'Hortensia', 'BUENOS AIRES'], ['ELEVATE S.R.L. (FASTNET)', '0800 333 3278', 'www.fastnet.com.ar', 'Huanguelén', 'BUENOS AIRES'], ['NODOCOOP FEDERACION DE COOPERATIVAS LTDA', '(02923) 494200', 'www.nodocoop.com.ar', 'Huanguelén', 'BUENOS AIRES'], ['ADVANTUN SRL', '5365-8800', 'www.advantun.com', 'Hurlingahm', 'BUENOS AIRES'], ['CPS.COMUNICACIONES SA /METROTEL', '(011) 6091-1000', 'www.metrotel.com.ar', 'Hurlingahm', 'BUENOS AIRES'], ['IFX NETWORKS ARGENTINA SRL', '(011) 5031-2400', 'www.ifxnetworks.com', 'Hurlingahm', 'BUENOS AIRES'], ['SION SA', '0810 999 0100', 'www.sion.com', 'Hurlingahm', 'BUENOS AIRES'], ['MULTITRUNK SA (YEAP!)', '5236-5200', 'www.yeap.com.ar', 'Hurlingham', 'BUENOS AIRES'], ['ETERNET SRL', '(02983) 513040', 'www.eternet.cc', 'Indio Rico', 'BUENOS AIRES'], ['RED INTERCABLE DIGITAL S.A.', '(5411) 6091.5600', 'www.redintercable.com.ar', 'Inés Indart', 'BUENOS AIRES'], ['IFX NETWORKS ARGENTINA SRL', '(011) 5031-2400', 'www.ifxnetworks.com', 'Ingeniero Budge', 'BUENOS AIRES'], ['JUMPNET SOLUCIONES DE INTERNET S.R.L.', '011-6632-6600', 'www.jumpnet.com.ar', 'Ingeniero Budge', 'BUENOS AIRES'], ['IFX NETWORKS ARGENTINA SRL', '(011) 5031-2400', 'www.ifxnetworks.com', 'Ingeniero Juan Allan', 'BUENOS AIRES'], ['GOW INTERNET SRL', '(11) 52758500 / 081-3456-469', 'www.gowinternet.com.ar', 'Ingeniero Maschwitz', 'BUENOS AIRES'], ['IFX NETWORKS ARGENTINA SRL', '(011) 5031-2400', 'www.ifxnetworks.com', 'Ingeniero Maschwitz', 'BUENOS AIRES'], ['VER TV SA/TELERED', '0810-810-22253', 'www.telered.com.ar', 'Ingeniero Maschwitz', 'BUENOS AIRES'], ['ADVANTUN SRL', '5365-8800', 'www.advantun.com', 'Ingeniero Pablo Nogues', 'BUENOS AIRES'], ['IFX NETWORKS ARGENTINA SRL', '(011) 5031-2400', 'www.ifxnetworks.com', 'Ingeniero Pablo Nogues', 'BUENOS AIRES'], ['JUMPNET SOLUCIONES DE INTERNET S.R.L.', '011-6632-6600', 'www.jumpnet.com.ar', 'Ingeniero Pablo Nogues', 'BUENOS AIRES'], ['SION SA', '0810 999 0100', 'www.sion.com', 'Ingeniero Pablo Nogues', 'BUENOS AIRES'], ['ADVANTUN SRL', '5365-8800', 'www.advantun.com', 'Isidro Casanova', 'BUENOS AIRES'], ['ASOCIACION MUTUAL OBRERA DE COMUNICACIONE', 'S4 4A6M7O-8C418', '', 'Isidro Casanova', 'BUENOS AIRES'], ['MULTITRUNK SA (YEAP!)', '5236-5200', 'www.yeap.com.ar', 'Isidro Casanova', 'Buenos Aires'], ['SION SA', '0810 999 0100', 'www.sion.com', 'Isidro Casanova', 'Buenos Aires'], ['ANTENA DELTA SRL (WIREDCOM)', '11 5258-0496', 'www.wiredcom.com.ar', 'Islas de San Fernando', 'BUENOS AIRES']]\n",
      "(36, 5)\n",
      "Tabla 1 en la página 17: [['ANTENA DELTA SRL (WIREDCOM)', '11 5258-0496', 'www.wiredcom.com.ar', 'Islas de Tigre', 'BUENOS AIRES'], ['ADVANTUN SRL', '5365-8800', 'www.advantun.com', 'Ituzaingo', 'BUENOS AIRES'], ['CPS.COMUNICACIONES SA /METROTEL', '(011) 6091-1000', 'www.metrotel.com.ar', 'Ituzaingo', 'BUENOS AIRES'], ['MULTITRUNK SA (YEAP!)', '5236-5200', 'www.yeap.com.ar', 'Ituzaingo', 'BUENOS AIRES'], ['SION SA', '0810 999 0100', 'www.sion.com', 'Ituzaingo', 'BUENOS AIRES'], ['IFX NETWORKS ARGENTINA SRL', '(011) 5031-2400', 'www.ifxnetworks.com', 'Ituzaingo Centro', 'BUENOS AIRES'], ['RED INTERCABLE DIGITAL S.A.', '(5411) 6091.5600', 'www.redintercable.com.ar', 'Jeppener', 'BUENOS AIRES'], ['MULTITRUNK SA (YEAP!)', '5236-5200', 'www.yeap.com.ar', 'José C Paz', 'BUENOS AIRES'], ['ANTENA DELTA SRL (WIREDCOM)', '11 5258-0496', 'www.wiredcom.com.ar', 'José C. Paz', 'BUENOS AIRES'], ['COOPERATIVA DE PROVISION DE SERVICIOS PUBLICO', '(S0 D2E3 2T0O) R6T2U4G20U0ITAS LTDA', 'www.cooptortu.com.ar', 'José C. Paz', 'BUENOS AIRES'], ['CPS.COMUNICACIONES SA /METROTEL', '(011) 6091-1000', 'www.metrotel.com.ar', 'José C. Paz', 'BUENOS AIRES'], ['IFX NETWORKS ARGENTINA SRL', '(011) 5031-2400', 'www.ifxnetworks.com', 'José C. Paz', 'BUENOS AIRES'], ['JUMPNET SOLUCIONES DE INTERNET S.R.L.', '011-6632-6600', 'www.jumpnet.com.ar', 'José C. Paz', 'BUENOS AIRES'], ['SINTURION MARTIN MAXIMILIANO (STATIONET)', '011-52632189', 'www.stationet.com.ar', 'José C. Paz', 'BUENOS AIRES'], ['SN COMUNICACIONES SRL (SN WIFI)', '0800 345 6666', 'www.snwifi.com.ar', 'José C. Paz', 'BUENOS AIRES'], ['VER TV SA/TELERED', '0810-810-22253\\n(011) 5031-2400\\n5365-8800', 'www.telered.com.ar', 'José C. Paz', 'BUENOS AIRES'], ['IFX NETWORKS ARGENTINA SRL', None, 'www.ifxnetworks.com', 'Jose Ingenieros', 'BUENOS AIRES'], ['ADVANTUN SRL', None, 'www.advantun.com', 'Jose Leon Suarez', 'BUENOS AIRES'], ['MUSURIT SRL', '(011) 4866-6545', 'www.musurit.com', 'Jose Leon Suarez', 'BUENOS AIRES'], ['SION SA', '0810 999 0100', 'www.sion.com', 'Jose Leon Suarez', 'BUENOS AIRES'], ['SN COMUNICACIONES SRL (SN WIFI)', '0800 345 6666', 'www.snwifi.com.ar', 'Jose Leon Suarez', 'BUENOS AIRES'], ['MULTITRUNK SA (YEAP!)', '5236-5200', 'www.yeap.com.ar', 'José Leon Suarez', 'BUENOS AIRES'], ['IFX NETWORKS ARGENTINA SRL', '(011) 5031-2400', 'www.ifxnetworks.com', 'Jose Marmol', 'BUENOS AIRES'], ['RED INTERCABLE DIGITAL S.A.', '(5411) 6091.5600', 'www.redintercable.com.ar', 'Juan Couste', 'BUENOS AIRES'], ['RED INTERCABLE DIGITAL S.A.', '(5411) 6091.5600', 'www.redintercable.com.ar', 'Juan José Paso', 'BUENOS AIRES'], ['ETERNET SRL', '(02983) 513040', 'www.eternet.cc', 'Juan N. Fernandez', 'BUENOS AIRES'], ['GRUPO SERVICIOS JUNIN S.A.', '0236-4630063', 'www.acerca.com.ar', 'Junin', 'BUENOS AIRES'], ['MUNICIPALIDAD DE JUNIN', '', 'www.junin.gob.ar', 'Junin', 'BUENOS AIRES'], ['RED POWER INTERNET SRL', '236-4664720', 'www.redpower.com.ar', 'Junin', 'BUENOS AIRES'], ['SITERNET S.R.L.', '(0249) 44336000/636', 'www.ruralink.com.ar', 'Junin', 'BUENOS AIRES'], ['UNIVERSIDAD NACIONAL DEL NOROESTE DE LA PRO', 'V(I0N2C3I6A) D4E4 0B7U7E5N0OS AIRES (UNNOBA', ')www.unnoba.edu.ar', 'Junin', 'BUENOS AIRES'], ['YOUNG SA', '011 4776-3303 / 011 4 774-5455', 'www.multimega.net.ar', 'Junin', 'BUENOS AIRES'], ['RED INTERCABLE DIGITAL S.A.', '(5411) 6091.5600', 'www.redintercable.com.ar', 'La Dorita', 'BUENOS AIRES'], ['GENERACION WIFI S.A. (ASTESANO INFORMATICA)', '02262-430943', 'www.airfibra.com.ar', 'La Dulce', 'BUENOS AIRES'], ['COOPERATIVA DE PROVISION DE SERVICIOS TELEFON', '0IC2O30S -L4A4 7L0O1N0J6A LTDA', 'www.cooplalonja.com.ar', 'La Lonja', 'BUENOS AIRES'], ['IFX NETWORKS ARGENTINA SRL', '(011) 5031-2400', 'www.ifxnetworks.com', 'La Lonja', 'BUENOS AIRES'], ['DANAIDE SA', '0810-999-3262', 'www.danaide.com.ar', 'La Lucila', 'BUENOS AIRES']]\n",
      "(36, 5)\n",
      "Tabla 1 en la página 18: [['IFX NETWORKS ARGENTINA SRL', '(011) 5031-2400', 'www.ifxnetworks.com', 'La Lucila', 'BUENOS AIRES'], ['RED INTERCABLE DIGITAL S.A.', '(5411) 6091.5600', 'www.redintercable.com.ar', 'La Lucila', 'BUENOS AIRES'], ['TVC 5 SA', '(02257) 420081', 'www.tvc5sa.com.ar', 'La Lucila', 'BUENOS AIRES'], ['LACALLE, JOSE GUILLERMO', '291-6482193', 'www.cisnet.com.ar', 'La Mascota', 'BUENOS AIRES'], ['CPS.COMUNICACIONES SA /METROTEL', '(011) 6091-1000', 'www.metrotel.com.ar', 'La Matanza', 'BUENOS AIRES'], ['ADVANTUN SRL', '5365-8800', 'www.advantun.com', 'La Plata', 'BUENOS AIRES'], ['BANCO DE LA PROVINCIA DE BUENOS AIRES', '5166 7887', 'www.bancoprovincia.com.ar', 'La Plata', 'BUENOS AIRES'], ['BENTO IVAN GABRIEL (IP COMS)', '02229 44 2494', 'www.ipcoms.com.ar', 'La Plata', 'BUENOS AIRES'], ['CADEMA SA', '(0221) 4252221', 'www.cadema.com.ar', 'La Plata', 'BUENOS AIRES'], ['Ce.S.P.I.- UNIVERSIDAD NACIONAL DE LA PLATA', '(0221) 4236609/10/11', 'www.cespi.unlp.edu.ar', 'La Plata', 'BUENOS AIRES'], ['CITARELLA SA', '(0221) 422-9600', 'www.citarella.com.ar', 'La Plata', 'BUENOS AIRES'], ['COOPERATIVA DE OBRAS, SERVICIOS PUBLICOS, VIVI', 'E0N2D2A29 Y- 4C9R1E5D0I0T/O1 0T0R0ES LIMITES LIMI', 'TwAwDAw.c3l.com.ar', 'La Plata', 'BUENOS AIRES'], ['CPS.COMUNICACIONES SA /METROTEL', '(011) 6091-1000', 'www.metrotel.com.ar', 'La Plata', 'BUENOS AIRES'], ['DANAIDE SA', '0810-999-3262', 'www.danaide.com.ar', 'La Plata', 'BUENOS AIRES'], ['DIRECCIÓN PROVINCIAL DE TELECOMUNICACIONES DE LA SUBSECRETARIA PARA LA MODERNIZACION DEL ESTADO DEL MI', None, None, 'NLIaS TPElaRtIaO DE JEFATURA DE GABIN', 'EBTUEE DNEO S AIRES'], ['FUNDACION INNOVAT (INNOVARED)', '4322-8488', 'www.innova-red.net/', 'La Plata', 'BUENOS AIRES'], ['INTERNET WINDS AG SA', '(0221) 5130100', 'www.iwinds.com.ar', 'La Plata', 'BUENOS AIRES'], ['MAGALAJO S.A. (VODANET)', '0221-4792483', 'www.vodanet.com.ar', 'La Plata', 'BUENOS AIRES'], ['MULTITRUNK SA (YEAP!)', '5236-5200', 'www.yeap.com.ar', 'La Plata', 'BUENOS AIRES'], ['NETVERK S.A.', '(0221) 4241049', 'www.netverk.com', 'La Plata', 'BUENOS AIRES'], ['NSS SA / IPLAN', '0800 345 0000', 'www.iplan.com.ar', 'La Plata', 'BUENOS AIRES'], ['SANTA CRUZ AUGUSTO JULIAN (SONYTEL)', '0221 - 4416900', 'www.sonytel.com.ar', 'La Plata', 'BUENOS AIRES'], ['SES, SISTEMAS ELECTRONICOS SA', '5453-8469', 'www.ses.com.ar', 'La Plata', 'BUENOS AIRES'], ['SION SA', '0810 999 0100', 'www.sion.com', 'La Plata', 'BUENOS AIRES'], ['SISTA S.A.', '(0221) 4275510', 'www.sista.com.ar', 'La Plata', 'BUENOS AIRES'], ['SOLUCIONES WISP S.A. (INTERNET WISP)', '0221-4453445', 'www.wisp.com.ar', 'LA PLATA', 'BUENOS AIRES'], ['SURPORAIRE S.A.', '0221-4912500', 'www.patagondigital.com.ar', 'La Plata', 'BUENOS AIRES'], ['TELMEX ARGENTINA S.A.', '', 'www.claro.com.ar', 'La Plata', 'BUENOS AIRES'], ['WI-SIM COMUNICACIONES SRL', '03492 50-1000', 'www.wiltel.com.ar', 'La Plata', 'BUENOS AIRES'], ['JUMPNET SOLUCIONES DE INTERNET S.R.L.', '011-6632-6600', 'www.jumpnet.com.ar', 'La Salada', 'BUENOS AIRES'], ['RED INTERCABLE DIGITAL S.A.', '(5411) 6091.5600', 'www.redintercable.com.ar', 'La Sofía', 'BUENOS AIRES'], ['MULTITRUNK SA (YEAP!)', '5236-5200', 'www.yeap.com.ar', 'La Tablada', 'BUENOS AIRES'], ['TELECENTRO S.A.', '0800-322-9500', 'www.telecentro.com.ar', 'La Tablada', 'BUENOS AIRES'], ['IFX NETWORKS ARGENTINA SRL', '(011) 5031-2400', 'www.ifxnetworks.com', 'Laferrere', 'BUENOS AIRES'], ['MULTITRUNK SA (YEAP!)', '5236-5200', 'www.yeap.com.ar', 'Laferrere', 'BUENOS AIRES'], ['ADVANTUN SRL', '5365-8800', 'www.advantun.com', 'Lanus', 'BUENOS AIRES'], ['ALPHA 2000 SOLUCIONES INFORMATICAS SRL', '(011) 43455150', 'www.alpha2000.com.ar', 'Lanus', 'BUENOS AIRES']]\n",
      "(36, 5)\n",
      "Tabla 1 en la página 19: [['GRUPO FULLSAT SRL', '6091-8244 / 6009-7100', 'www.fullsat.com.ar', 'Lanus', 'BUENOS AIRES'], ['MULTITRUNK SA (YEAP!)', '5236-5200', 'www.yeap.com.ar', 'Lanus', 'BUENOS AIRES'], ['SION SA', '0810 999 0100', 'www.sion.com', 'Lanus', 'BUENOS AIRES'], ['TELECENTRO S.A.', '0800-322-9500', 'www.telecentro.com.ar', 'Lanus', 'BUENOS AIRES'], ['CPS.COMUNICACIONES SA /METROTEL', '(011) 6091-1000', 'www.metrotel.com.ar', 'Lanús Este', 'BUENOS AIRES'], ['IFX NETWORKS ARGENTINA SRL', '(011) 5031-2400', 'www.ifxnetworks.com', 'Lanús Este', 'BUENOS AIRES'], ['TELECENTRO S.A.', '0800-322-9500', 'www.telecentro.com.ar', 'Lanús Este', 'BUENOS AIRES'], ['BYTE SOLUTION S.A.', '5368-9696', 'www.wispsolution.com.ar', 'Lanus Oeste', 'BUENOS AIRES'], ['CPS.COMUNICACIONES SA /METROTEL', '(011) 6091-1000', 'www.metrotel.com.ar', 'Lanus Oeste', 'BUENOS AIRES'], ['IFX NETWORKS ARGENTINA SRL', '(011) 5031-2400', 'www.ifxnetworks.com', 'Lanus Oeste', 'BUENOS AIRES'], ['TELECENTRO S.A.', '0800-322-9500', 'www.telecentro.com.ar', 'Lanus Oeste', 'BUENOS AIRES'], ['SITERNET S.R.L.', '(0249) 44336000/636', 'www.ruralink.com.ar', 'Laprida', 'BUENOS AIRES'], ['RED INTERCABLE DIGITAL S.A.', '(5411) 6091.5600', 'www.redintercable.com.ar', 'Las Flores', 'BUENOS AIRES'], ['SILICA NETWORKS ARGENTINA SA', '+54 (11) 4103-1300', 'www.silicanetworks.com', 'Las Flores', 'BUENOS AIRES'], ['ADVANTUN SRL', '5365-8800', 'www.advantun.com', 'Las Tahonas', 'BUENOS AIRES'], ['SION SA', '0810 999 0100', 'www.sion.com', 'Las Tahonas', 'BUENOS AIRES'], ['ATLANTICA VIDEO CABLE SA', '(02246) 420282 / 810', 'www.avcsa.com.ar', 'Las Toninas', 'BUENOS AIRES'], ['DANAIDE SA', '0810-999-3262', 'www.danaide.com.ar', 'Las Toninas', 'BUENOS AIRES'], ['RED INTERCABLE DIGITAL S.A.', '(5411) 6091.5600', 'www.redintercable.com.ar', 'Las Toninas', 'BUENOS AIRES'], ['VAGNER ILYA (MEGA RED DIGITAL)', '(02246) 431-119', 'www.megaredwifi.com.ar', 'Las Toninas', 'BUENOS AIRES'], ['GENERACION WIFI S.A. (ASTESANO INFORMATICA)', '02262-430943', 'www.airfibra.com.ar', 'Las Toscas', 'BUENOS AIRES'], ['RED INTERCABLE DIGITAL S.A.', '(5411) 6091.5600', 'www.redintercable.com.ar', 'Las Toscas', 'BUENOS AIRES'], ['SN COMUNICACIONES SRL (SN WIFI)', '0800 345 6666', 'www.snwifi.com.ar', 'Las Tunas', 'BUENOS AIRES'], ['ADVANTUN SRL', '5365-8800', 'www.advantun.com', 'Libertad', 'BUENOS AIRES'], ['INFOSPORT SA ( TELWINET)', '0220-4924-393', 'www.telwinet.com.ar', 'Libertad', 'BUENOS AIRES'], ['SION SA', '0810 999 0100', 'www.sion.com', 'Libertad', 'BUENOS AIRES'], ['ADVANTUN SRL', '5365-8800', 'www.advantun.com', 'Lincoln', 'BUENOS AIRES'], ['SION SA', '0810 999 0100', 'www.sion.com', 'Lincoln', 'BUENOS AIRES'], ['ADVANTUN SRL', '5365-8800', 'www.advantun.com', 'Llavallol', 'BUENOS AIRES'], ['IFX NETWORKS ARGENTINA SRL', '(011) 5031-2400', 'www.ifxnetworks.com', 'Llavallol', 'BUENOS AIRES'], ['SION SA', '0810 999 0100', 'www.sion.com', 'Llavallol', 'BUENOS AIRES'], ['TELECENTRO S.A.', '0800-322-9500', 'www.telecentro.com.ar', 'Llavallol', 'BUENOS AIRES'], ['ADVANTUN SRL', '5365-8800', 'www.advantun.com', 'Lobería', 'BUENOS AIRES'], ['GENERACION WIFI S.A. (ASTESANO INFORMATICA)', '02262-430943', 'www.airfibra.com.ar', 'Lobería', 'BUENOS AIRES'], ['SION SA', '0810 999 0100', 'www.sion.com', 'Lobería', 'BUENOS AIRES'], ['IPNEXT S.A.', '5368-4000', 'www.ipnext.net.ar', 'Lobos', 'BUENOS AIRES'], ['SN COMUNICACIONES SRL (SN WIFI)', '0800 345 6666', 'www.snwifi.com.ar', 'Loma Hermosa', 'BUENOS AIRES']]\n",
      "(36, 5)\n",
      "Tabla 1 en la página 20: [['COOPERATIVA LTDA.DE CONSUMO POPULAR DE ELE', 'C0T3R4I8C-I4D4A9D5 3Y4 S6ERVICIOS ANEXOS DE', 'EwSwCOwB.eAsRco NbOarRnToErte.com', 'Loma Verde', 'BUENOS AIRES'], ['RED INTERCABLE DIGITAL S.A.', '(5411) 6091.5600', 'www.redintercable.com.ar', 'Loma Verde', 'BUENOS AIRES'], ['ADVANTUN SRL', '5365-8800', 'www.advantun.com', 'Lomas de Zamora', 'BUENOS AIRES'], ['ANDROS-NET COMUNICACIONES S.R.L.', '11 5258-8236', 'www.andros-net.com.ar', 'Lomas de Zamora', 'BUENOS AIRES'], ['BERTORA RICARDO JORGE (EZ-NET)', '54 11 4116-2292', 'www.ez-net.com.ar', 'Lomas de Zamora', 'BUENOS AIRES'], ['BYTE SOLUTION S.A.', '5368-9696', 'www.wispsolution.com.ar', 'Lomas de Zamora', 'BUENOS AIRES'], ['COBWEB CONECTION SRL (INTER-YA)', '5252-5212', 'www.inter-ya.com.ar', 'Lomas de Zamora', 'BUENOS AIRES'], ['CPS.COMUNICACIONES SA /METROTEL', '(011) 6091-1000', 'www.metrotel.com.ar', 'Lomas de Zamora', 'BUENOS AIRES'], ['GRUPO FULLSAT SRL', '6091-8244 / 6009-7100', 'www.fullsat.com.ar', 'Lomas de Zamora', 'BUENOS AIRES'], ['IFX NETWORKS ARGENTINA SRL', '(011) 5031-2400', 'www.ifxnetworks.com', 'Lomas de Zamora', 'BUENOS AIRES'], ['MULTITRUNK SA (YEAP!)', '5236-5200', 'www.yeap.com.ar', 'Lomas de Zamora', 'BUENOS AIRES'], ['NSS SA / IPLAN', '0800 345 0000', 'www.iplan.com.ar', 'Lomas de Zamora', 'BUENOS AIRES'], ['SION SA', '0810 999 0100', 'www.sion.com', 'Lomas de Zamora', 'BUENOS AIRES'], ['TELECENTRO S.A.', '0800-322-9500', 'www.telecentro.com.ar', 'Lomas de Zamora', 'BUENOS AIRES'], ['IFX NETWORKS ARGENTINA SRL', '(011) 5031-2400', 'www.ifxnetworks.com', 'Lomas del Mirador', 'BUENOS AIRES'], ['TELECENTRO S.A.', '0800-322-9500', 'www.telecentro.com.ar', 'Lomas del Mirador', 'BUENOS AIRES'], ['ADVANTUN SRL', '5365-8800', 'www.advantun.com', 'Longchamps', 'BUENOS AIRES'], ['IFX NETWORKS ARGENTINA SRL', '(011) 5031-2400', 'www.ifxnetworks.com', 'Longchamps', 'BUENOS AIRES'], ['MULTITRUNK SA (YEAP!)', '5236-5200', 'www.yeap.com.ar', 'Longchamps', 'BUENOS AIRES'], ['SION SA', '0810 999 0100', 'www.sion.com', 'Longchamps', 'BUENOS AIRES'], ['BROADBANDTECH SA (BBT)', '011 6385-9100', 'www.bbt.com.ar', 'Los Cardales', 'BUENOS AIRES'], ['RED INTERCABLE DIGITAL S.A.', '(5411) 6091.5600', 'www.redintercable.com.ar', 'Los Cardales', 'BUENOS AIRES'], ['ADVANTUN SRL', '5365-8800', 'www.advantun.com', 'Los Granados', 'BUENOS AIRES'], ['SION SA', '0810 999 0100', 'www.sion.com', 'Los Granados', 'BUENOS AIRES'], ['ADVANTUN SRL', '5365-8800', 'www.advantun.com', 'Los Hornos', 'BUENOS AIRES'], ['SION SA', '0810 999 0100', 'www.sion.com', 'Los Hornos', 'BUENOS AIRES'], ['IFX NETWORKS ARGENTINA SRL', '(011) 5031-2400', 'www.ifxnetworks.com', 'Los Polvorines', 'BUENOS AIRES'], ['SION SA', '0810 999 0100', 'www.sion.com', 'Los Polvorines', 'BUENOS AIRES'], ['VER TV SA/TELERED', '0810-810-22253', 'www.telered.com.ar', 'Los Polvorines', 'BUENOS AIRES'], ['BERTORA RICARDO JORGE (EZ-NET)', '54 11 4116-2292', 'www.ez-net.com.ar', 'Luis Guillón', 'BUENOS AIRES'], ['IFX NETWORKS ARGENTINA SRL', '(011) 5031-2400', 'www.ifxnetworks.com', 'Luis Guillón', 'BUENOS AIRES'], ['COOPERATIVA ELECTRICA Y DE SERVICIOS PUBLICOS', 'L(U02JA3N17E)N 5S2E4 L0T0D0A', 'www.cooperativadelujan.com.ar', 'Luján', 'BUENOS AIRES'], ['IPNEXT S.A.', '5368-4000', 'www.ipnext.net.ar', 'Luján', 'BUENOS AIRES'], ['MULTITRUNK SA (YEAP!)', '5236-5200', 'www.yeap.com.ar', 'Luján', 'BUENOS AIRES'], ['TELMEX ARGENTINA S.A.', '', 'www.claro.com.ar', 'Luján', 'BUENOS AIRES'], ['VER TV SA/TELERED', '0810-810-22253', 'www.telered.com.ar', 'Luján', 'BUENOS AIRES'], ['MONICA VIVIANA GRAMAGLIA', '0810 222 6654', 'www.pconline.com.ar', 'Lujan', 'BUENOS AIRES']]\n",
      "(36, 5)\n",
      "Tabla 1 en la página 21: [['RED INTERCABLE DIGITAL S.A.', '(5411) 6091.5600', 'www.redintercable.com.ar', 'Magdalá', 'BUENOS AIRES'], ['INTERNET WINDS AG SA', '(0221) 5130100', 'www.iwinds.com.ar', 'Magdalena', 'BUENOS AIRES'], ['MADACOM SRL', '2223671270', 'www.netfly.com.ar', 'Magdalena', 'BUENOS AIRES'], ['RED INTERCABLE DIGITAL S.A.', '(5411) 6091.5600', 'www.redintercable.com.ar', 'Magdalena', 'BUENOS AIRES'], ['RED INTERCABLE DIGITAL S.A.', '(5411) 6091.5600', 'www.redintercable.com.ar', 'Maipú', 'BUENOS AIRES'], ['CPS.COMUNICACIONES SA /METROTEL', '(011) 6091-1000', 'www.metrotel.com.ar', 'Malvinas Argentinas', 'BUENOS AIRES'], ['IFX NETWORKS ARGENTINA SRL', '(011) 5031-2400', 'www.ifxnetworks.com', 'Malvinas Argentinas', 'BUENOS AIRES'], ['VER TV SA/TELERED', '0810-810-22253', 'www.telered.com.ar', 'Malvinas Argentinas', 'BUENOS AIRES'], ['SILICA NETWORKS ARGENTINA SA', '+54 (11) 4103-1300', 'www.silicanetworks.com', 'Manfredi', 'BUENOS AIRES'], ['COOPERATIVA DE PROVISION DE SERVICIOS PUBLICO', '(S0 D2E3 2T0O) R6T2U4G20U0ITAS LTDA', 'www.cooptortu.com.ar', 'Manuel Alberti', 'BUENOS AIRES'], ['GOW INTERNET SRL', '(11) 52758500 / 081-3456-469', 'www.gowinternet.com.ar', 'Manuel Alberti', 'BUENOS AIRES'], ['RED INTERCABLE DIGITAL S.A.', '(5411) 6091.5600', 'www.redintercable.com.ar', 'Manuel J. Cobo', 'BUENOS AIRES'], ['COOPERATIVA DE SERVICIOS PUBLICOS DE FATIMA L', 'I0M2I3T0A-D4A49 (0C9O0S0E/F4A4)44110', 'www.cosefa.com.ar', 'MANZANARES', 'BUENOS AIRES'], ['VER TV SA/TELERED', '0810-810-22253', 'www.telered.com.ar', 'Manzanares', 'BUENOS AIRES'], ['GOW INTERNET SRL', '(11) 52758500 / 081-3456-469', 'www.gowinternet.com.ar', 'Maquinista Savio', 'BUENOS AIRES'], ['IFX NETWORKS ARGENTINA SRL', '(011) 5031-2400', 'www.ifxnetworks.com', 'Maquinista Savio Este', 'BUENOS AIRES'], ['COOPERATIVA TELEFONICA Y OTROS SERVICIOS DE V', 'I(L0L2A2 G55E)S E4L6L1 6C0O0TEL LTDA', 'www.cotel.com.ar', 'Mar Azul', 'BUENOS AIRES'], ['RED INTERCABLE DIGITAL S.A.', '(5411) 6091.5600', 'www.redintercable.com.ar', 'Mar Azul', 'BUENOS AIRES'], ['MULTITRUNK SA (YEAP!)', '5236-5200', 'www.yeap.com.ar', 'Mar de Ajo', 'BUENOS AIRES'], ['ADVANTUN SRL', '5365-8800', 'www.advantun.com', 'Mar de Ajó', 'BUENOS AIRES'], ['DANAIDE SA', '0810-999-3262', 'www.danaide.com.ar', 'Mar de Ajó', 'BUENOS AIRES'], ['RED INTERCABLE DIGITAL S.A.', '(5411) 6091.5600', 'www.redintercable.com.ar', 'Mar de Ajó', 'BUENOS AIRES'], ['SION SA', '0810 999 0100', 'www.sion.com', 'Mar de Ajó', 'BUENOS AIRES'], ['TVC 5 SA', '(02257) 420081', 'www.tvc5sa.com.ar', 'Mar de Ajó', 'BUENOS AIRES'], ['RED INTERCABLE DIGITAL S.A.', '(5411) 6091.5600', 'www.redintercable.com.ar', 'Mar de las Pampas', 'BUENOS AIRES'], ['ADVANTUN SRL', '5365-8800', 'www.advantun.com', 'Mar del Plata', 'BUENOS AIRES'], ['COOPERATIVA DE PROVISION DE ELECTRICIDAD Y OT', 'R0O22S3 S-E4R6V0I0C2I1O0S PUBLICOS LTDA.PUE', 'BwLwOw C.AcoMoEpTerativacamet.com.ar', 'Mar del Plata', 'BUENOS AIRES'], ['COOPERATIVA DE PROVISION DE ELECTRICIDAD, SER', 'V0I2C2IO3 S4 P9U5-B1L4I1C1O/S4,9 V3I-V5I7E7N7DA Y CRED', 'IwTOw DwE.c MooApRe rDaEtLiv PamLAdTqA. cLoIMmI.TaArDA', 'Mar del Plata', 'BUENOS AIRES'], ['COOPERATIVA TELEFONICA CARLOS TEJEDOR DE PRO', '0V2IS2I3O 4N7 D91E 1S1E1R V/ I4C7IO10S0 P0U2BLICOS, VI', 'VwIEwNwD.Aco PpReOteVlI.ScoIOmN. aYr CONSUMO L', 'TMDAar ( CdOelP PElTaEtaL)', 'BUENOS AIRES'], ['CYBERWAVE S.A.', '(0223) 4808124', 'www.cyberwave.com.ar', 'Mar del Plata', 'BUENOS AIRES'], ['DANAIDE SA', '0810-999-3262', 'www.danaide.com.ar', 'Mar del Plata', 'BUENOS AIRES'], ['MEGATRANS SA', '4343-5657', 'www.megatrans.com.ar', 'Mar del Plata', 'BUENOS AIRES'], ['MULTITRUNK SA (YEAP!)', '5236-5200', 'www.yeap.com.ar', 'Mar del Plata', 'BUENOS AIRES'], ['RED INTERCABLE DIGITAL S.A.', '(5411) 6091.5600', 'www.redintercable.com.ar', 'Mar del Plata', 'BUENOS AIRES'], ['SES, SISTEMAS ELECTRONICOS SA', '5453-8469', 'www.ses.com.ar', 'Mar del Plata', 'BUENOS AIRES'], ['SION SA', '0810 999 0100', 'www.sion.com', 'Mar del Plata', 'BUENOS AIRES'], ['TELMEX ARGENTINA S.A.', '', 'www.claro.com.ar', 'Mar del Plata', 'BUENOS AIRES']]\n",
      "(36, 5)\n",
      "Tabla 1 en la página 22: [['UNION DEL SUD COOPERATIVA DE OBRAS Y SERVICIO', '(S0 2P2U3B)L 4IC6O7-S0 Y0 1C0ONSUMO LIMITADA', 'www.uniondelsud.com.ar', 'Mar del Plata', 'BUENOS AIRES'], ['UNIVERSIDAD NACIONAL DE MAR DEL PLATA', '0223-492-1700', '', 'Mar del Plata', 'BUENOS AIRES'], ['ADVANTUN SRL', '5365-8800', 'www.advantun.com', 'Mar del Tuyú', 'BUENOS AIRES'], ['ATLANTICA VIDEO CABLE SA', '(02246) 420282 / 810', 'www.avcsa.com.ar', 'Mar del Tuyú', 'BUENOS AIRES'], ['DANAIDE SA', '0810-999-3262', 'www.danaide.com.ar', 'Mar del Tuyú', 'BUENOS AIRES'], ['MUNICIPALIDAD DE LA COSTA', '(02246) 433051', 'www.lacosta.gob.ar', 'Mar del Tuyú', 'BUENOS AIRES'], ['RED INTERCABLE DIGITAL S.A.', '(5411) 6091.5600', 'www.redintercable.com.ar', 'Mar del Tuyú', 'BUENOS AIRES'], ['SION SA', '0810 999 0100', 'www.sion.com', 'Mar del Tuyú', 'BUENOS AIRES'], ['ADVANTUN SRL', '5365-8800\\n0IC2O99S -Y4 8O9T1R1O1S3 SERVICIOS PÚBLICOS\\n(5411) 6091.5600', 'www.advantun.com', 'Marcos Paz', 'BUENOS AIRES'], ['COOPERATIVA DE PROVISION DE SERVICIOS TELEFÓN', None, 'Y COMUNITARIOS DE CENTENARI', 'OM LaTrDcAos Paz', 'BUENOS AIRES'], ['RED INTERCABLE DIGITAL S.A.', None, 'www.redintercable.com.ar', 'Marcos Paz', 'BUENOS AIRES'], ['RSO APOLO HIDALGO SRL', '(0220) 4774976', 'www.rsonet.com.ar', 'Marcos Paz', 'BUENOS AIRES'], ['SILICA NETWORKS ARGENTINA SA', '+54 (11) 4103-1300', 'www.silicanetworks.com', 'Marcos Paz', 'BUENOS AIRES'], ['SION SA', '0810 999 0100', 'www.sion.com', 'Marcos Paz', 'BUENOS AIRES'], ['COOPERATIVA DE PROVISION DE SERVICIOS TELEFON', '(I0C2O2S0, )O 4T9R9O8S1 0S0ERVICIOS PUBLICOS', 'Yw CwOwN.SmUaMriOan DoEa cMosAtRaI.AcoNoOp ACOSTA', 'MLTaDriAano Acosta', 'BUENOS AIRES'], ['IFX NETWORKS ARGENTINA SRL', '(011) 5031-2400', 'www.ifxnetworks.com', 'Martin Coronado', 'BUENOS AIRES'], ['VER TV SA/TELERED', '0810-810-22253', 'www.telered.com.ar', 'Martin Coronado', 'BUENOS AIRES'], ['ADVANTUN SRL', '5365-8800', 'www.advantun.com', 'Martinez', 'BUENOS AIRES'], ['ALPHA 2000 SOLUCIONES INFORMATICAS SRL', '(011) 43455150', 'www.alpha2000.com.ar', 'Martinez', 'BUENOS AIRES'], ['IFX NETWORKS ARGENTINA SRL', '(011) 5031-2400', 'www.ifxnetworks.com', 'Martinez', 'BUENOS AIRES'], ['MULTITRUNK SA (YEAP!)', '5236-5200', 'www.yeap.com.ar', 'Martinez', 'BUENOS AIRES'], ['SION SA', '0810 999 0100', 'www.sion.com', 'Martinez', 'BUENOS AIRES'], ['SN COMUNICACIONES SRL (SN WIFI)', '0800 345 6666', 'www.snwifi.com.ar', 'Martinez', 'BUENOS AIRES'], ['GRUPO FULLSAT SRL', '6091-8244 / 6009-7100', 'www.fullsat.com.ar', 'Matanza', 'BUENOS AIRES'], ['COOPERATIVA TELEFÓNICA DE VIVIENDA Y OTROS SE', 'TReVlI.C: I(O54S- P1Ú1)B 0L2IC3O2S0 -D4E7L0 -V3I0S0O/ 6LT0DA', 'www.telviso.com.ar', 'Matheu', 'BUENOS AIRES'], ['IFX NETWORKS ARGENTINA SRL', '(011) 5031-2400', 'www.ifxnetworks.com', 'Matheu', 'BUENOS AIRES'], ['VER TV SA/TELERED', '0810-810-22253', 'www.telered.com.ar', 'Matheu', 'BUENOS AIRES'], ['RED INTERCABLE DIGITAL S.A.', '(5411) 6091.5600', 'www.redintercable.com.ar', 'Mauricio Hirsch', 'BUENOS AIRES'], ['RED INTERCABLE DIGITAL S.A.', '(5411) 6091.5600', 'www.redintercable.com.ar', 'Mayor Buratovich', 'BUENOS AIRES'], ['CATTANEO LUIS E. (BBL-Net / Velostar )', '0291 452-4444', 'www.bbl-net.com.ar', 'Medanos', 'BUENOS AIRES'], ['ETERNET SRL', '(02983) 513040', 'www.eternet.cc', 'Medanos', 'BUENOS AIRES'], ['RED INTERCABLE DIGITAL S.A.', '(5411) 6091.5600', 'www.redintercable.com.ar', 'Medanos', 'BUENOS AIRES'], ['LACALLE, JOSE GUILLERMO', '291-6482193', 'www.cisnet.com.ar', 'Médanos', 'BUENOS AIRES'], ['ADVANTUN SRL', '5365-8800', 'www.advantun.com', 'Mercado Central', 'BUENOS AIRES'], ['SION SA', '0810 999 0100', 'www.sion.com', 'Mercado Central', 'BUENOS AIRES'], ['INTERMER 2011 S.A.', '02324-433630', 'www.intermer.com.ar', 'Mercedes', 'BUENOS AIRES'], ['IPNEXT S.A.', '5368-4000', 'www.ipnext.net.ar', 'Mercedes', 'BUENOS AIRES']]\n",
      "(36, 5)\n",
      "Tabla 1 en la página 23: [['LIMA VIDEO CABLE SA (CABLETEL)', '(03487) 431034', 'www.cabletel.net.ar', 'Mercedes', 'BUENOS AIRES'], ['VER TV SA/TELERED', '0810-810-22253', 'www.telered.com.ar', 'Mercedes', 'BUENOS AIRES'], ['CPS.COMUNICACIONES SA /METROTEL', '(011) 6091-1000', 'www.metrotel.com.ar', 'Merlo', 'BUENOS AIRES'], ['IFX NETWORKS ARGENTINA SRL', '(011) 5031-2400', 'www.ifxnetworks.com', 'Merlo', 'BUENOS AIRES'], ['SILICOMLAN S.A.', '8103623636', 'www.silicom.com.ar', 'Merlo', 'BUENOS AIRES'], ['SION SA', '0810 999 0100', 'www.sion.com', 'Merlo', 'BUENOS AIRES'], ['SN COMUNICACIONES SRL (SN WIFI)', '0800 345 6666', 'www.snwifi.com.ar', 'Merlo', 'BUENOS AIRES'], ['ETERNET SRL', '(02983) 513040', 'www.eternet.cc', 'Micalea Cascallares', 'BUENOS AIRES'], ['ADVANTUN SRL', '5365-8800', 'www.advantun.com', 'Miramar', 'BUENOS AIRES'], ['SION SA', '0810 999 0100', 'www.sion.com', 'Miramar', 'BUENOS AIRES'], ['RED INTERCABLE DIGITAL S.A.', '(5411) 6091.5600', 'www.redintercable.com.ar', 'Moctezuma', 'BUENOS AIRES'], ['RED INTERCABLE DIGITAL S.A.', '(5411) 6091.5600', 'www.redintercable.com.ar', 'Mones Cazón', 'BUENOS AIRES'], ['ADVANTUN SRL', '5365-8800', 'www.advantun.com', 'Monte Chingolo', 'BUENOS AIRES'], ['MULTITRUNK SA (YEAP!)', '5236-5200', 'www.yeap.com.ar', 'Monte Chingolo', 'BUENOS AIRES'], ['SION SA', '0810 999 0100', 'www.sion.com', 'Monte Chingolo', 'BUENOS AIRES'], ['ADVANTUN SRL', '5365-8800', 'www.advantun.com', 'Monte Grande', 'BUENOS AIRES'], ['IFX NETWORKS ARGENTINA SRL', '(011) 5031-2400', 'www.ifxnetworks.com', 'Monte Grande', 'BUENOS AIRES'], ['SION SA', '0810 999 0100', 'www.sion.com', 'Monte Grande', 'BUENOS AIRES'], ['CIUDAD GLOBAL S.A.', '0291-455-8448', 'www.ciudadglobal.com.ar', 'Monte Hermoso', 'BUENOS AIRES'], ['NODOCOOP FEDERACION DE COOPERATIVAS LTDA', '(02923) 494200', 'www.nodocoop.com.ar', 'Monte Hermoso', 'BUENOS AIRES'], ['RED INTERCABLE DIGITAL S.A.', '(5411) 6091.5600', 'www.redintercable.com.ar', 'Monte Hermoso', 'BUENOS AIRES'], ['RED INTERCABLE DIGITAL S.A.', '(5411) 6091.5600', 'www.redintercable.com.ar', 'Moquehuá', 'BUENOS AIRES'], ['IFX NETWORKS ARGENTINA SRL', '(011) 5031-2400', 'www.ifxnetworks.com', 'Moreno', 'BUENOS AIRES'], ['JUAN PABLO FLORENTIN (JUAMPYNET)', '15 35371699', 'www.juampynet.com', 'Moreno', 'BUENOS AIRES'], ['JUMPNET SOLUCIONES DE INTERNET S.R.L.', '011-6632-6600', 'www.jumpnet.com.ar', 'Moreno', 'BUENOS AIRES'], ['LINKEAR SRL', '0810-266-7025', 'www.linkearsrl.com.ar', 'Moreno', 'BUENOS AIRES'], ['MULTITRUNK SA (YEAP!)', '5236-5200', 'www.yeap.com.ar', 'Moreno', 'BUENOS AIRES'], ['MUNICIPALIDAD DE MORENO', '0237 4620001', 'www.moreno.gov.ar', 'Moreno', 'BUENOS AIRES'], ['REDES Y COMUNICACIONES MORENO SRL', '(011) 3220-5922', 'www.starnetworks.com.ar', 'Moreno', 'BUENOS AIRES'], ['SES, SISTEMAS ELECTRONICOS SA', '5453-8469', 'www.ses.com.ar', 'Moreno', 'BUENOS AIRES'], ['SINTURION MARTIN MAXIMILIANO (STATIONET)', '011-52632189', 'www.stationet.com.ar', 'Moreno', 'BUENOS AIRES'], ['SISTA S.A.', '(0221) 4275510', 'www.sista.com.ar', 'Moreno', 'BUENOS AIRES'], ['SN COMUNICACIONES SRL (SN WIFI)', '0800 345 6666', 'www.snwifi.com.ar', 'Moreno', 'BUENOS AIRES'], ['TELMEX ARGENTINA S.A.', '', 'www.claro.com.ar', 'Moreno', 'BUENOS AIRES'], ['VER TV SA/TELERED', '0810-810-22253', 'www.telered.com.ar', 'Moreno', 'BUENOS AIRES'], ['ADVANTUN SRL', '5365-8800', 'www.advantun.com', 'Moron', 'BUENOS AIRES'], ['CPS.COMUNICACIONES SA /METROTEL', '(011) 6091-1000', 'www.metrotel.com.ar', 'Moron', 'BUENOS AIRES']]\n",
      "(36, 5)\n",
      "Tabla 1 en la página 24: [['IFX NETWORKS ARGENTINA SRL', '(011) 5031-2400', 'www.ifxnetworks.com', 'Moron', 'BUENOS AIRES'], ['SES, SISTEMAS ELECTRONICOS SA', '5453-8469', 'www.ses.com.ar', 'Moron', 'BUENOS AIRES'], ['SION SA', '0810 999 0100', 'www.sion.com', 'Moron', 'BUENOS AIRES'], ['ADVANTUN SRL', '5365-8800', 'www.advantun.com', 'Munro', 'BUENOS AIRES'], ['DIRECTV ARGENTINA S.A.', '3751-2500', 'www.directv.com.ar', 'Munro', 'BUENOS AIRES'], ['SION SA', '0810 999 0100', 'www.sion.com', 'Munro', 'BUENOS AIRES'], ['UGALDE JUAN IGNACIO (DUPPINI COMUNICACIONES', ')0249-4438824', 'www.duppini.com.ar', 'NAPALEOFU', 'BUENOS AIRES'], ['IPNEXT S.A.', '5368-4000', 'www.ipnext.net.ar', 'Navarro', 'BUENOS AIRES'], ['ADVANTUN SRL', '5365-8800', 'www.advantun.com', 'Necochea', 'BUENOS AIRES'], ['COOPERATIVA TELEFÓNICA DE PINAMAR LTDA / TEL', 'P0IN2254 483000', 'www.telpin.com.ar', 'Necochea', 'BUENOS AIRES'], ['GENERACION WIFI S.A. (ASTESANO INFORMATICA)', '02262-430943', 'www.airfibra.com.ar', 'Necochea', 'BUENOS AIRES'], ['HEGUIABEHERE PABLO MARTIN', '542262579616', 'www.dexterwifi.com.ar', 'Necochea', 'BUENOS AIRES'], ['SION SA', '0810 999 0100', 'www.sion.com', 'Necochea', 'BUENOS AIRES'], ['USINA POPULAR COOPERATIVA DE OBRAS, SERVICIO', 'S0 P2U26B2L-I4C3O3S1 Y3 1S OinCtI A19LE1S LTDA.DE NE', 'COCHEA', 'Necochea', 'BUENOS AIRES'], ['CPS.COMUNICACIONES SA /METROTEL', '(011) 6091-1000', 'www.metrotel.com.ar', 'NEUQUÉN', 'BUENOS AIRES'], ['CPS.COMUNICACIONES SA /METROTEL', '(011) 6091-1000', 'www.metrotel.com.ar', 'Neuquén', 'BUENOS AIRES'], ['RED INTERCABLE DIGITAL S.A.', '(5411) 6091.5600', 'www.redintercable.com.ar', 'Norberto de la Riestra', 'BUENOS AIRES'], ['ANTENA DELTA SRL (WIREDCOM)', '11 5258-0496', 'www.wiredcom.com.ar', 'Nordelta', 'BUENOS AIRES'], ['GOW INTERNET SRL', '(11) 52758500 / 081-3456-469', 'www.gowinternet.com.ar', 'Nordelta', 'BUENOS AIRES'], ['SN COMUNICACIONES SRL (SN WIFI)', '0800 345 6666', 'www.snwifi.com.ar', 'Nordelta', 'BUENOS AIRES'], ['DANAIDE SA', '0810-999-3262', 'www.danaide.com.ar', 'Nueva Atlantis', 'BUENOS AIRES'], ['RED INTERCABLE DIGITAL S.A.', '(5411) 6091.5600', 'www.redintercable.com.ar', 'Nueva Atlantis', 'BUENOS AIRES'], ['TVC 5 SA', '(02257) 420081', 'www.tvc5sa.com.ar', 'Nueva Atlantis', 'BUENOS AIRES'], ['RED INTERCABLE DIGITAL S.A.', '(5411) 6091.5600', 'www.redintercable.com.ar', 'Nueva Plata', 'BUENOS AIRES'], ['IPNEXT S.A.', '5368-4000', 'www.ipnext.net.ar', 'Olascoaga', 'BUENOS AIRES'], ['MEGATRANS SA', '4343-5657', 'www.megatrans.com.ar', 'Olavarría', 'BUENOS AIRES'], ['SILICA NETWORKS ARGENTINA SA', '+54 (11) 4103-1300', 'www.silicanetworks.com', 'Olavarría', 'BUENOS AIRES'], ['SITERNET S.R.L.', '(0249) 44336000/636', 'www.ruralink.com.ar', 'Olavarría', 'BUENOS AIRES'], ['ADVANTUN SRL', '5365-8800', 'www.advantun.com', 'Olivos', 'BUENOS AIRES'], ['IFX NETWORKS ARGENTINA SRL', '(011) 5031-2400', 'www.ifxnetworks.com', 'Olivos', 'BUENOS AIRES'], ['SION SA', '0810 999 0100', 'www.sion.com', 'Olivos', 'BUENOS AIRES'], ['SN COMUNICACIONES SRL (SN WIFI)', '0800 345 6666', 'www.snwifi.com.ar', 'Olivos', 'BUENOS AIRES'], ['INTERNET WINDS AG SA', '(0221) 5130100', 'www.iwinds.com.ar', 'Olmos', 'BUENOS AIRES'], ['MONICABOZZI,LAUTAROPAZ, YMARIANOBORAGNOS', 'O01C1IE 5D2A1D9L 7E7Y6199/5 5002C2A1 P4I4SE5C 0 6IV2 7(SETi', 'nwC)ww.setinc.com.ar', 'Olmos', 'BUENOS AIRES'], ['RED INTERCABLE DIGITAL S.A.', '(5411) 6091.5600', 'www.redintercable.com.ar', 'Ordoqui', 'BUENOS AIRES'], ['CIUDAD GLOBAL S.A.', '0291-455-8448', 'www.ciudadglobal.com.ar', 'Orense', 'BUENOS AIRES'], ['ETERNET SRL', '(02983) 513040', 'www.eternet.cc', 'Orense', 'BUENOS AIRES']]\n",
      "(36, 5)\n",
      "Tabla 1 en la página 25: [['ETERNET SRL', '(02983) 513040', 'www.eternet.cc', 'Oriente', 'BUENOS AIRES'], ['NODOCOOP FEDERACION DE COOPERATIVAS LTDA', '(02923) 494200', 'www.nodocoop.com.ar', 'Oriente', 'BUENOS AIRES'], ['COOPERATIVA TELEFÓNICA DE PINAMAR LTDA / TEL', 'P0IN2254 483000', 'www.telpin.com.ar', 'Ostende', 'BUENOS AIRES'], ['IFX NETWORKS ARGENTINA SRL', '(011) 5031-2400', 'www.ifxnetworks.com', 'Pablo Noguez', 'BUENOS AIRES'], ['SN COMUNICACIONES SRL (SN WIFI)', '0800 345 6666', 'www.snwifi.com.ar', 'Pablo Noguez', 'BUENOS AIRES'], ['ALLOCATI SANTIAGO MARIO (IMPULSAR INTERNET)', '(011) 60917878', 'www.impulsarinternet.com.ar', 'Pablo Podesta', 'BUENOS AIRES'], ['IFX NETWORKS ARGENTINA SRL', '(011) 5031-2400', 'www.ifxnetworks.com', 'Pablo Podestá', 'BUENOS AIRES'], ['COOPERATIVA TELEFÓNICA Y DE OTROS SERVICIOS P', 'Ú(0B3L3IC2O7)S ,4 C5O50N0S0UMO Y VIVIENDA LO', 'PwEwZw C.AcMotEeLlcOa mLT.DcoAm (C.aOrTELCAM)', 'Pacheco', 'BUENOS AIRES'], ['JUMPNET SOLUCIONES DE INTERNET S.R.L.', '011-6632-6600', 'www.jumpnet.com.ar', 'Pacheco', 'BUENOS AIRES'], ['ETERNET SRL', '(02983) 513040', 'www.eternet.cc', 'Pago Chico', 'BUENOS AIRES'], ['ADVANTUN SRL', '5365-8800', 'www.advantun.com', 'Parque San Martín', 'BUENOS AIRES'], ['SION SA', '0810 999 0100', 'www.sion.com', 'Parque San Martín', 'BUENOS AIRES'], ['COOPERATIVA ELECTRICA INTEGRAL DE PROVISION D', '0E2 S4E7R8V 4IC9I2O2S8 P2UBLICOS Y SOCIALES', 'DwEw TwO.DtoDd LdT.cDoAm.ar', 'PARTIDO DE ARRECIFES Y ZONA R', 'BUUREANL OAS 2 A0I RKMES A LA REDOND'], ['RED INTERCABLE DIGITAL S.A.', '(5411) 6091.5600', 'www.redintercable.com.ar', 'Pasteur', 'BUENOS AIRES'], ['COOPERATIVA DE SERVICIOS PUBLICOS DE FATIMA L', 'I0M2I3T0A-D4A49 (0C9O0S0E/F4A4)44110', 'www.cosefa.com.ar', 'PAVON', 'BUENOS AIRES'], ['RED INTERCABLE DIGITAL S.A.', '(5411) 6091.5600', 'www.redintercable.com.ar', 'Pedernales', 'BUENOS AIRES'], ['COOPERATIVA DE ELECTRICIDAD LTDA DE PEDRO LU', 'R(O02928) 410059', 'www.luronet.com.ar', 'Pedro Luro', 'BUENOS AIRES'], ['IPNEXT S.A.', '5368-4000', 'www.ipnext.net.ar', 'Pehuajó', 'BUENOS AIRES'], ['RED INTERCABLE DIGITAL S.A.', '(5411) 6091.5600', 'www.redintercable.com.ar', 'Pehuen-co', 'BUENOS AIRES'], ['RED INTERCABLE DIGITAL S.A.', '(5411) 6091.5600', 'www.redintercable.com.ar', 'Pellegrini', 'BUENOS AIRES'], ['IFX NETWORKS ARGENTINA SRL', '(011) 5031-2400', 'www.ifxnetworks.com', 'Pereyra', 'BUENOS AIRES'], ['BROADBANDTECH SA (BBT)', '011 6385-9100', 'www.bbt.com.ar', 'Pergamino', 'BUENOS AIRES'], ['INFRACOM S.A.', '0800-150-0112 / 419987', 'www.celpinf.com.ar', 'Pergamino', 'BUENOS AIRES'], ['MEGATRANS SA', '4343-5657', 'www.megatrans.com.ar', 'Pergamino', 'BUENOS AIRES'], ['MULTITRUNK SA (YEAP!)', '5236-5200', 'www.yeap.com.ar', 'Pergamino', 'BUENOS AIRES'], ['NEXODIGITAL S.A. (CANAL 4)', '02477-644498/414498', 'www.canal4pergamino.com.ar', 'Pergamino', 'BUENOS AIRES'], ['RED INTERCABLE DIGITAL S.A.', '(5411) 6091.5600', 'www.redintercable.com.ar', 'Pergamino', 'BUENOS AIRES'], ['SILICA NETWORKS ARGENTINA SA', '+54 (11) 4103-1300', 'www.silicanetworks.com', 'Pergamino', 'BUENOS AIRES'], ['SITERNET S.R.L.', '(0249) 44336000/636', 'www.ruralink.com.ar', 'Pergamino', 'BUENOS AIRES'], ['TECNO AZAR S.A.', '02477-427033/34', 'www.tecnoazar.com.ar', 'Pergamino', 'BUENOS AIRES'], ['NODOCOOP FEDERACION DE COOPERATIVAS LTDA', '(02923) 494200', 'www.nodocoop.com.ar', 'Pigüé', 'BUENOS AIRES'], ['RED INTERCABLE DIGITAL S.A.', '(5411) 6091.5600', 'www.redintercable.com.ar', 'Pila', 'BUENOS AIRES'], ['COOPERATIVA TELEFÓNICA DE VIVIENDA Y OTROS SE', 'TReVlI.C: I(O54S- P1Ú1)B 0L2IC3O2S0 -D4E7L0 -V3I0S0O/ 6LT0DA', 'www.telviso.com.ar', 'Pilar', 'BUENOS AIRES'], ['CPS.COMUNICACIONES SA /METROTEL', '(011) 6091-1000', 'www.metrotel.com.ar', 'Pilar', 'BUENOS AIRES'], ['IFX NETWORKS ARGENTINA SRL', '(011) 5031-2400', 'www.ifxnetworks.com', 'Pilar', 'BUENOS AIRES'], ['IPNEXT S.A.', '5368-4000', 'www.ipnext.net.ar', 'Pilar', 'BUENOS AIRES'], ['LARED NET S.A.', '02320-439827', 'www.larednet.com.ar', 'Pilar', 'BUENOS AIRES']]\n",
      "(36, 5)\n",
      "Tabla 1 en la página 26: [['MULTITRUNK SA (YEAP!)', '5236-5200', 'www.yeap.com.ar', 'Pilar', 'BUENOS AIRES'], ['MUNICIPALIDAD DEL PILAR', '0230-4669200', 'www.pilar.gov.ar', 'Pilar', 'BUENOS AIRES'], ['SES, SISTEMAS ELECTRONICOS SA', '5453-8469', 'www.ses.com.ar', 'Pilar', 'BUENOS AIRES'], ['SN COMUNICACIONES SRL (SN WIFI)', '0800 345 6666', 'www.snwifi.com.ar', 'Pilar', 'BUENOS AIRES'], ['TELMEX ARGENTINA S.A.', '', 'www.claro.com.ar', 'Pilar', 'BUENOS AIRES'], ['VER TV SA/TELERED', '0810-810-22253', 'www.telered.com.ar', 'Pilar', 'BUENOS AIRES'], ['VIZION GROUP S.R.L.', '5632-8333', 'www.viziongroup.com.ar', 'Pilar', 'BUENOS AIRES'], ['COOPERATIVA TELEFÓNICA DE PINAMAR LTDA / TEL', 'P0IN2254 483000', 'www.telpin.com.ar', 'Pinamar', 'BUENOS AIRES'], ['MEGATRANS SA', '4343-5657', 'www.megatrans.com.ar', 'Pinamar', 'BUENOS AIRES'], ['MULTITRUNK SA (YEAP!)', '5236-5200', 'www.yeap.com.ar', 'Pinamar', 'BUENOS AIRES'], ['TECNOCOMP ARGENTINA TELECOMUNICACIONES Y', 'S0E1R1V-I2C1IO50S5 S4R0L1', 'www.tecno-comp.net', 'Pinamar', 'BUENOS AIRES'], ['ADVANTUN SRL', '5365-8800', 'www.advantun.com', 'Pineyro', 'BUENOS AIRES'], ['IFX NETWORKS ARGENTINA SRL', '(011) 5031-2400', 'www.ifxnetworks.com', 'Pineyro', 'BUENOS AIRES'], ['SION SA', '0810 999 0100', 'www.sion.com', 'Pineyro', 'BUENOS AIRES'], ['RED INTERCABLE DIGITAL S.A.', '(5411) 6091.5600', 'www.redintercable.com.ar', 'Pipinas', 'BUENOS AIRES'], ['RED INTERCABLE DIGITAL S.A.', '(5411) 6091.5600', 'www.redintercable.com.ar', 'Pirovano', 'BUENOS AIRES'], ['ADVANTUN SRL', '5365-8800', 'www.advantun.com', 'Platanos', 'BUENOS AIRES'], ['COSEIDI SA', '5277-9700', 'www.fiber.net.ar', 'Platanos', 'BUENOS AIRES'], ['IFX NETWORKS ARGENTINA SRL', '(011) 5031-2400', 'www.ifxnetworks.com', 'Platanos', 'BUENOS AIRES'], ['SION SA', '0810 999 0100', 'www.sion.com', 'Platanos', 'BUENOS AIRES'], ['TVC 5 SA', '(02257) 420081', 'www.tvc5sa.com.ar', 'Playa Grande', 'BUENOS AIRES'], ['INFOSPORT SA ( TELWINET)', '0220-4924-393', 'www.telwinet.com.ar', 'Pontevedra', 'BUENOS AIRES'], ['COOPERATIVA DE PROVISION DE SERVICIOS TELEFON', '0IC2O30S P4R48E4SI0D0E1N/5TE DERQUI LTDA', 'www.coopderqui.com.ar', 'PRESIDENTE DERQUI', 'BUENOS AIRES'], ['NODOCOOP FEDERACION DE COOPERATIVAS LTDA', '(02923) 494200', 'www.nodocoop.com.ar', 'Puan', 'BUENOS AIRES'], ['RED INTERCABLE DIGITAL S.A.', '(5411) 6091.5600', 'www.redintercable.com.ar', 'Puan', 'BUENOS AIRES'], ['LATINA NET TELECOMUNICACIONES SRL', '70771401', 'www.latinanet.com.ar', 'Puente 12, Esteban Echeverria', 'BUENOS AIRES'], ['ADVANTUN SRL', '5365-8800', 'www.advantun.com', 'Punta Alta', 'BUENOS AIRES'], ['NODOCOOP FEDERACION DE COOPERATIVAS LTDA', '(02923) 494200', 'www.nodocoop.com.ar', 'Punta Alta', 'BUENOS AIRES'], ['SION SA', '0810 999 0100', 'www.sion.com', 'Punta Alta', 'BUENOS AIRES'], ['RED INTERCABLE DIGITAL S.A.', '(5411) 6091.5600', 'www.redintercable.com.ar', 'Quenuma', 'BUENOS AIRES'], ['GENERACION WIFI S.A. (ASTESANO INFORMATICA)', '02262-430943', 'www.airfibra.com.ar', 'Quequén', 'BUENOS AIRES'], ['USINA POPULAR COOPERATIVA DE OBRAS, SERVICIO', 'S0 P2U26B2L-I4C3O3S1 Y3 1S OinCtI A19LE1S LTDA.DE NE', 'COCHEA', 'Quequén', 'BUENOS AIRES'], ['ADVANTUN SRL', '5365-8800', 'www.advantun.com', 'Quilmes', 'BUENOS AIRES'], ['COSEIDI SA', '5277-9700', 'www.fiber.net.ar', 'Quilmes', 'BUENOS AIRES'], ['CPS.COMUNICACIONES SA /METROTEL', '(011) 6091-1000', 'www.metrotel.com.ar', 'Quilmes', 'BUENOS AIRES'], ['IFX NETWORKS ARGENTINA SRL', '(011) 5031-2400', 'www.ifxnetworks.com', 'Quilmes', 'BUENOS AIRES'], ['MULTITRUNK SA (YEAP!)', '5236-5200', 'www.yeap.com.ar', 'Quilmes', 'BUENOS AIRES']]\n",
      "(36, 5)\n",
      "Tabla 1 en la página 27: [['NSS SA / IPLAN', '0800 345 0000', 'www.iplan.com.ar', 'Quilmes', 'BUENOS AIRES'], ['SES, SISTEMAS ELECTRONICOS SA', '5453-8469', 'www.ses.com.ar', 'Quilmes', 'BUENOS AIRES'], ['SION SA', '0810 999 0100', 'www.sion.com', 'Quilmes', 'BUENOS AIRES'], ['COSEIDI SA', '5277-9700', 'www.fiber.net.ar', 'Quilmes Oeste', 'BUENOS AIRES'], ['IFX NETWORKS ARGENTINA SRL', '(011) 5031-2400', 'www.ifxnetworks.com', 'Quilmes Oeste', 'BUENOS AIRES'], ['TELEFONIA PUBLICA Y PRIVADA S.A.', '4372-3310', 'www.tpp.com.ar', 'Rada Tilly', 'BUENOS AIRES'], ['ADVANTUN SRL', '5365-8800', 'www.advantun.com', 'Rafael Calzada', 'BUENOS AIRES'], ['COSEIDI SA', '5277-9700', 'www.fiber.net.ar', 'Rafael Calzada', 'BUENOS AIRES'], ['SION SA', '0810 999 0100', 'www.sion.com', 'Rafael Calzada', 'BUENOS AIRES'], ['ADVANTUN SRL', '5365-8800', 'www.advantun.com', 'Rafael Castillo', 'BUENOS AIRES'], ['JUMPNET SOLUCIONES DE INTERNET S.R.L.', '011-6632-6600', 'www.jumpnet.com.ar', 'Rafael Castillo', 'BUENOS AIRES'], ['SION SA', '0810 999 0100', 'www.sion.com', 'Rafael Castillo', 'BUENOS AIRES'], ['ADVANTUN SRL', '5365-8800', 'www.advantun.com', 'Ramos Mejia', 'BUENOS AIRES'], ['IFX NETWORKS ARGENTINA SRL', '(011) 5031-2400', 'www.ifxnetworks.com', 'Ramos Mejia', 'BUENOS AIRES'], ['SION SA', '0810 999 0100', 'www.sion.com', 'Ramos Mejia', 'BUENOS AIRES'], ['TELECENTRO S.A.', '0800-322-9500', 'www.telecentro.com.ar', 'Ramos Mejia', 'BUENOS AIRES'], ['ETERNET SRL', '(02983) 513040', 'www.eternet.cc', 'Ramos Otero', 'BUENOS AIRES'], ['SILICA NETWORKS ARGENTINA SA', '+54 (11) 4103-1300', 'www.silicanetworks.com', 'Ranchos', 'BUENOS AIRES'], ['ADVANTUN SRL', '5365-8800', 'www.advantun.com', 'Ranelagh', 'BUENOS AIRES'], ['COSEIDI SA', '5277-9700', 'www.fiber.net.ar', 'Ranelagh', 'BUENOS AIRES'], ['IFX NETWORKS ARGENTINA SRL', '(011) 5031-2400', 'www.ifxnetworks.com', 'Ranelagh', 'BUENOS AIRES'], ['SION SA', '0810 999 0100', 'www.sion.com', 'Ranelagh', 'BUENOS AIRES'], ['SITERNET S.R.L.', '(0249) 44336000/636', 'www.ruralink.com.ar', 'Rauch', 'BUENOS AIRES'], ['ADVANTUN SRL', '5365-8800', 'www.advantun.com', 'Remedios de Escalada', 'BUENOS AIRES'], ['IFX NETWORKS ARGENTINA SRL', '(011) 5031-2400', 'www.ifxnetworks.com', 'Remedios de Escalada', 'BUENOS AIRES'], ['SION SA', '0810 999 0100', 'www.sion.com', 'Remedios de Escalada', 'BUENOS AIRES'], ['TELECENTRO S.A.', '0800-322-9500', 'www.telecentro.com.ar', 'Remedios de Escalada', 'BUENOS AIRES'], ['UNIVERSIDAD NACIONAL DE LANUS (UNLA)', '5533-5600', 'www.unla.edu.ar', 'Remedios de Escalada', 'BUENOS AIRES'], ['ETERNET SRL', '(02983) 513040', 'www.eternet.cc', 'Reta', 'BUENOS AIRES'], ['SN COMUNICACIONES SRL (SN WIFI)', '0800 345 6666', 'www.snwifi.com.ar', 'Retiro', 'BUENOS AIRES'], ['COOPERATIVA TELEFÓNICA Y DE OTROS SERVICIOS P', 'Ú(0B3L3IC2O7)S ,4 C5O50N0S0UMO Y VIVIENDA LO', 'PwEwZw C.AcMotEeLlcOa mLT.DcoAm (C.aOrTELCAM)', 'Ricardo Rojas', 'BUENOS AIRES'], ['IFX NETWORKS ARGENTINA SRL', '(011) 5031-2400', 'www.ifxnetworks.com', 'Ricardo Rojas', 'BUENOS AIRES'], ['ANTENA DELTA SRL (WIREDCOM)', '11 5258-0496', 'www.wiredcom.com.ar', 'Rincon de Milberg', 'BUENOS AIRES'], ['GOW INTERNET SRL', '(11) 52758500 / 081-3456-469', 'www.gowinternet.com.ar', 'Rincon de Milberg', 'BUENOS AIRES'], ['SN COMUNICACIONES SRL (SN WIFI)', '0800 345 6666', 'www.snwifi.com.ar', 'Rincon de Milberg', 'BUENOS AIRES'], ['COOPERATIVA DE SERVICIOS PUBLICOS DE FATIMA L', 'I0M2I3T0A-D4A49 (0C9O0S0E/F4A4)44110', 'www.cosefa.com.ar', 'RIO LUJAN', 'BUENOS AIRES'], ['RED INTERCABLE DIGITAL S.A.', '(5411) 6091.5600', 'www.redintercable.com.ar', 'Rivadavia', 'BUENOS AIRES']]\n",
      "(36, 5)\n",
      "Tabla 1 en la página 28: [['VEGA CESAR AUGUSTO (I-TIC)', '0264 4018969', 'www.i-tic.com', 'RIVADAVIA', 'BUENOS AIRES'], ['NODOCOOP FEDERACION DE COOPERATIVAS LTDA', '(02923) 494200', 'www.nodocoop.com.ar', 'Rivera', 'BUENOS AIRES'], ['ADVANTUN SRL', '5365-8800', 'www.advantun.com', 'Rojas', 'BUENOS AIRES'], ['DESE TECHNOLOGIES ARGENTINA S.A. (DESEMAX)', '0291-4066200', 'www.desetech.com.ar', 'Rojas', 'BUENOS AIRES'], ['LINKUP INTERNET S.R.L.', '(02475) 464656', 'www.linkupinternet.com.ar', 'Rojas', 'BUENOS AIRES'], ['SION SA', '0810 999 0100', 'www.sion.com', 'Rojas', 'BUENOS AIRES'], ['SITERNET S.R.L.', '(0249) 44336000/636', 'www.ruralink.com.ar', 'Rojas', 'BUENOS AIRES'], ['CPS.COMUNICACIONES SA /METROTEL', '(011) 6091-1000', 'www.metrotel.com.ar', 'Rosario', 'BUENOS AIRES'], ['RED INTERCABLE DIGITAL S.A.', '(5411) 6091.5600', 'www.redintercable.com.ar', 'Rosewelt', 'BUENOS AIRES'], ['RED INTERCABLE DIGITAL S.A.', '(5411) 6091.5600', 'www.redintercable.com.ar', 'Saavedra', 'BUENOS AIRES'], ['COOPERATIVA ELECTRICA DE CONSUMO Y OTROS SE', 'R0V2I3C4IO4-S4 D34E0 S0A0L AinDt I2L0LO0 LTDA', 'www.coopsal.com.ar', 'Saladillo', 'BUENOS AIRES'], ['RED INTERCABLE DIGITAL S.A.', '(5411) 6091.5600', 'www.redintercable.com.ar', 'Salazar', 'BUENOS AIRES'], ['BROADBANDTECH SA (BBT)', '011 6385-9100', 'www.bbt.com.ar', 'Saliqueló', 'BUENOS AIRES'], ['RED INTERCABLE DIGITAL S.A.', '(5411) 6091.5600', 'www.redintercable.com.ar', 'Saliqueló', 'BUENOS AIRES'], ['ADVANTUN SRL', '5365-8800', 'www.advantun.com', 'Salto', 'BUENOS AIRES'], ['RED INTERCABLE DIGITAL S.A.', '(5411) 6091.5600', 'www.redintercable.com.ar', 'Salto', 'BUENOS AIRES'], ['SION SA', '0810 999 0100', 'www.sion.com', 'Salto', 'BUENOS AIRES'], ['RED INTERCABLE DIGITAL S.A.', '(5411) 6091.5600', 'www.redintercable.com.ar', 'Salvador Mazza', 'BUENOS AIRES'], ['SILICA NETWORKS ARGENTINA SA', '+54 (11) 4103-1300', 'www.silicanetworks.com', 'Sampacho', 'BUENOS AIRES'], ['IFX NETWORKS ARGENTINA SRL', '(011) 5031-2400', 'www.ifxnetworks.com', 'San Andres de Giles', 'BUENOS AIRES'], ['IPNEXT S.A.', '5368-4000', 'www.ipnext.net.ar', 'San Andres de Giles', 'BUENOS AIRES'], ['IPNEXT S.A.', '5368-4000', 'www.ipnext.net.ar', 'San Antonio de Areco', 'BUENOS AIRES'], ['ADVANTUN SRL', '5365-8800', 'www.advantun.com', 'San Bernardo', 'BUENOS AIRES'], ['COOPERATIVA DE ELECTRICIDAD, SERVICIOS Y OBRA', 'S0 P2U2B5L7I-C4A6S5 1D0E2 SAN BERNARDO LIMI', 'TwAwDwA .(cCeEsSoOp.Pc)om.ar', 'San Bernardo', 'BUENOS AIRES'], ['DANAIDE SA', '0810-999-3262', 'www.danaide.com.ar', 'San Bernardo', 'BUENOS AIRES'], ['MULTITRUNK SA (YEAP!)', '5236-5200', 'www.yeap.com.ar', 'San Bernardo', 'BUENOS AIRES'], ['RED INTERCABLE DIGITAL S.A.', '(5411) 6091.5600', 'www.redintercable.com.ar', 'San Bernardo', 'BUENOS AIRES'], ['SION SA', '0810 999 0100', 'www.sion.com', 'San Bernardo', 'BUENOS AIRES'], ['TVC 5 SA', '(02257) 420081', 'www.tvc5sa.com.ar', 'San Bernardo', 'BUENOS AIRES'], ['CIUDAD GLOBAL S.A.', '0291-455-8448', 'www.ciudadglobal.com.ar', 'San Cayetano', 'BUENOS AIRES'], ['ETERNET SRL', '(02983) 513040', 'www.eternet.cc', 'San Cayetano', 'BUENOS AIRES'], ['RED INTERCABLE DIGITAL S.A.', '(5411) 6091.5600', 'www.redintercable.com.ar', 'San Cayetano', 'BUENOS AIRES'], ['ATCCO S.R.L.', '(02252) 422416', 'www.atcco.com.ar', 'San Clemente del Tuyú', 'BUENOS AIRES'], ['COOPERATIVA TELEFÓNICA DE PINAMAR LTDA / TEL', 'P0IN2254 483000', 'www.telpin.com.ar', 'San Clemente del Tuyú', 'BUENOS AIRES'], ['DANAIDE SA', '0810-999-3262', 'www.danaide.com.ar', 'San Clemente del Tuyú', 'BUENOS AIRES'], ['RED INTERCABLE DIGITAL S.A.', '(5411) 6091.5600', 'www.redintercable.com.ar', 'San Clemente del Tuyú', 'BUENOS AIRES'], ['ADVANTUN SRL', None, 'www.advantun.com', 'San Fernando', 'BUENOS AIRES']]\n",
      "(36, 5)\n",
      "Tabla 1 en la página 29: [['ANTENA DELTA SRL (WIREDCOM)', '11 5258-0496', 'www.wiredcom.com.ar', 'San Fernando', 'BUENOS AIRES'], ['IFX NETWORKS ARGENTINA SRL', '(011) 5031-2400', 'www.ifxnetworks.com', 'San Fernando', 'BUENOS AIRES'], ['SION SA', '0810 999 0100', 'www.sion.com', 'San Fernando', 'BUENOS AIRES'], ['ETERNET SRL', '(02983) 513040', 'www.eternet.cc', 'San Francisco de Bellocq', 'BUENOS AIRES'], ['ADVANTUN SRL', '5365-8800', 'www.advantun.com', 'San Francisco Solano', 'BUENOS AIRES'], ['COSEIDI SA', '5277-9700', 'www.fiber.net.ar', 'San Francisco Solano', 'BUENOS AIRES'], ['IFX NETWORKS ARGENTINA SRL', '(011) 5031-2400', 'www.ifxnetworks.com', 'San Francisco Solano', 'BUENOS AIRES'], ['SION SA', '0810 999 0100', 'www.sion.com', 'San Francisco Solano', 'BUENOS AIRES'], ['ADVANTUN SRL', '5365-8800', 'www.advantun.com', 'San Isidro', 'BUENOS AIRES'], ['ALPHA 2000 SOLUCIONES INFORMATICAS SRL', '(011) 43455150', 'www.alpha2000.com.ar', 'San Isidro', 'BUENOS AIRES'], ['CPS.COMUNICACIONES SA /METROTEL', '(011) 6091-1000', 'www.metrotel.com.ar', 'San Isidro', 'BUENOS AIRES'], ['IFX NETWORKS ARGENTINA SRL', '(011) 5031-2400', 'www.ifxnetworks.com', 'San Isidro', 'BUENOS AIRES'], ['JOCKEY CLUB AC', '011-4006-2800 int 1411', 'www.jockeyclub.org.ar', 'San Isidro', 'BUENOS AIRES'], ['MULTITRUNK SA (YEAP!)', '5236-5200', 'www.yeap.com.ar', 'San Isidro', 'BUENOS AIRES'], ['SION SA', '0810 999 0100', 'www.sion.com', 'San Isidro', 'BUENOS AIRES'], ['TELEFONIA PUBLICA Y PRIVADA S.A.', '4372-3310', 'www.tpp.com.ar', 'San Isidro', 'BUENOS AIRES'], ['COSEIDI SA', '5277-9700', 'www.fiber.net.ar', 'San Jose', 'BUENOS AIRES'], ['IFX NETWORKS ARGENTINA SRL', '(011) 5031-2400', 'www.ifxnetworks.com', 'San Jose', 'BUENOS AIRES'], ['ADVANTUN SRL', '5365-8800', 'www.advantun.com', 'San Justo', 'BUENOS AIRES'], ['IFX NETWORKS ARGENTINA SRL', '(011) 5031-2400', 'www.ifxnetworks.com', 'San Justo', 'BUENOS AIRES'], ['SION SA', '0810 999 0100', 'www.sion.com', 'San Justo', 'BUENOS AIRES'], ['TELECENTRO S.A.', '0800-322-9500', 'www.telecentro.com.ar', 'San Justo', 'BUENOS AIRES'], ['TELMEX ARGENTINA S.A.', '', 'www.claro.com.ar', 'San Lorenzo', 'BUENOS AIRES'], ['SILICA NETWORKS ARGENTINA SA', '+54 (11) 4103-1300', 'www.silicanetworks.com', 'San Marcos Sur', 'BUENOS AIRES'], ['MULTITRUNK SA (YEAP!)', '5236-5200', 'www.yeap.com.ar', 'San Martin', 'BUENOS AIRES'], ['ADVANTUN SRL', '5365-8800', 'www.advantun.com', 'San Martín', 'BUENOS AIRES'], ['CPS.COMUNICACIONES SA /METROTEL', '(011) 6091-1000', 'www.metrotel.com.ar', 'San Martín', 'BUENOS AIRES'], ['EREZUMA MARTIN (T-WIRELESS)', '011 61144194', '', 'San Martín', 'BUENOS AIRES'], ['SION SA', '0810 999 0100', 'www.sion.com', 'San Martín', 'BUENOS AIRES'], ['ADVANTUN SRL', '5365-8800', 'www.advantun.com', 'San Miguel', 'BUENOS AIRES'], ['CPS.COMUNICACIONES SA /METROTEL', '(011) 6091-1000', 'www.metrotel.com.ar', 'San Miguel', 'BUENOS AIRES'], ['CUARTEL QUINTO COMUNICACIONES SRL (TRUJUY NET)', None, '', 'San Miguel', 'BUENOS AIRES'], ['IFX NETWORKS ARGENTINA SRL', '(011) 5031-2400', 'www.ifxnetworks.com', 'San Miguel', 'BUENOS AIRES'], ['JUMPNET SOLUCIONES DE INTERNET S.R.L.', '011-6632-6600', 'www.jumpnet.com.ar', 'San Miguel', 'BUENOS AIRES'], ['LUIS EDUARDO PEDRAZA (DANEZ)', '44556283', 'www.daneznet.com', 'San Miguel', 'BUENOS AIRES'], ['MULTITRUNK SA (YEAP!)', '5236-5200', 'www.yeap.com.ar', 'San Miguel', 'BUENOS AIRES'], ['SION SA', '0810 999 0100', 'www.sion.com', 'San Miguel', 'BUENOS AIRES']]\n",
      "(36, 5)\n",
      "Tabla 1 en la página 30: [['SN COMUNICACIONES SRL (SN WIFI)', '0800 345 6666', None, 'San Miguel', 'BUENOS AIRES'], ['VER TV SA/TELERED', '0810-810-22253', 'www.telered.com.ar', 'San Miguel', 'BUENOS AIRES'], ['NODOCOOP FEDERACION DE COOPERATIVAS LTDA', '(02923) 494200', 'www.nodocoop.com.ar', 'San Miguel Arcángel', 'BUENOS AIRES'], ['COOPERATIVA ELECTRICAD DE MONTE LTDA', '02271-409500', 'www.coopmonte.com.ar', 'San Miguel del Monte', 'BUENOS AIRES'], ['EFEYSE SRL (INTERNET LOCAL)', '02226-423000', 'www.internetlocal.com.ar', 'San Miguel del Monte', 'BUENOS AIRES'], ['INTERNET SERVICES SA', '011-781-5417', 'www. is.com.ar', 'San Nicolas', 'BUENOS AIRES'], ['G2K ARG SA (G2K HOSTING)', '54-11-5258-8785', 'www.g2khosting.com', 'San Nicolás', 'BUENOS AIRES'], ['TELMEX ARGENTINA S.A.', '', 'www.claro.com.ar', 'San Nicolás', 'BUENOS AIRES'], ['MULTITRUNK SA (YEAP!)', '5236-5200', 'www.yeap.com.ar', 'San Nicolas', 'BUENOS AIRES'], ['BARONE MATIAS RICARDO', '34434491', 'www.grupobarone.com.ar', 'San Nicolas de los Arroyos', 'BUENOS AIRES'], ['CONNFLEX SRL', '011 2150 2580', 'www.connflex.com', 'San Pedro', 'BUENOS AIRES'], ['EMPRESA DE SERVICIOS Y APLICACIONES TECNOLOG', 'I(C0A2S2 2SR5L) 426024 // (02225) 4260', 'www.wicom.com.ar', 'San Vicente', 'BUENOS AIRES'], ['RED INTERCABLE DIGITAL S.A.', '(5411) 6091.5600', 'www.redintercable.com.ar', 'Sansinena', 'BUENOS AIRES'], ['COOPERATIVA TELEFONICA Y OTROS SERVICIOS DE S', 'A(0N2T2A3 C) L4A6R0A23 D5E9L/ M46A0R2 4LI5M9.ITADA CO', 'wOTwEwLS.cEoRotelser.com.ar', 'Santa Clara del Mar', 'BUENOS AIRES'], ['COOPERATIVA DE SERVICIOS PUBLICOS DE FATIMA L', 'I0M2I3T0A-D4A49 (0C9O0S0E/F4A4)44110', 'www.cosefa.com.ar', 'SANTA COLOMA', 'BUENOS AIRES'], ['CPS.COMUNICACIONES SA /METROTEL', '(011) 6091-1000', 'www.metrotel.com.ar', 'SANTA FE', 'BUENOS AIRES'], ['ADVANTUN SRL', '5365-8800', 'www.advantun.com', 'Santa Teresita', 'BUENOS AIRES'], ['ATLANTICA VIDEO CABLE SA', '(02246) 420282 / 810', 'www.avcsa.com.ar', 'Santa Teresita', 'BUENOS AIRES'], ['COOPERATIVA TELEFÓNICA DE PINAMAR LTDA / TEL', 'P0IN2254 483000', 'www.telpin.com.ar', 'Santa Teresita', 'BUENOS AIRES'], ['DANAIDE SA', '0810-999-3262', 'www.danaide.com.ar', 'Santa Teresita', 'BUENOS AIRES'], ['RED INTERCABLE DIGITAL S.A.', '(5411) 6091.5600', 'www.redintercable.com.ar', 'Santa Teresita', 'BUENOS AIRES'], ['SION SA', '0810 999 0100', 'www.sion.com', 'Santa Teresita', 'BUENOS AIRES'], ['RED INTERCABLE DIGITAL S.A.', '(5411) 6091.5600', 'www.redintercable.com.ar', 'Santo Tomás', 'BUENOS AIRES'], ['ADVANTUN SRL', '5365-8800', 'www.advantun.com', 'Santos Lugares', 'BUENOS AIRES'], ['IFX NETWORKS ARGENTINA SRL', '(011) 5031-2400', 'www.ifxnetworks.com', 'Santos Lugares', 'BUENOS AIRES'], ['SION SA', '0810 999 0100', 'www.sion.com', 'Santos Lugares', 'BUENOS AIRES'], ['ADVANTUN SRL', '5365-8800', 'www.advantun.com', 'Sarandi', 'BUENOS AIRES'], ['IFX NETWORKS ARGENTINA SRL', '(011) 5031-2400', 'www.ifxnetworks.com', 'Sarandi', 'BUENOS AIRES'], ['SION SA', '0810 999 0100', 'www.sion.com', 'Sarandi', 'BUENOS AIRES'], ['TELECENTRO S.A.', '0800-322-9500', 'www.telecentro.com.ar', 'Sarandi', 'BUENOS AIRES'], ['VISIO RED SRL', '1151993126', 'www.visio.red', 'Sarandi', 'BUENOS AIRES'], ['RED INTERCABLE DIGITAL S.A.', '(5411) 6091.5600', 'www.redintercable.com.ar', 'Sierra de la Ventana', 'BUENOS AIRES'], ['RED INTERCABLE DIGITAL S.A.', '(5411) 6091.5600', 'www.redintercable.com.ar', 'Smith', 'BUENOS AIRES'], ['ANTENA DELTA SRL (WIREDCOM)', '11 5258-0496', 'www.wiredcom.com.ar', 'Sol y Verde', 'BUENOS AIRES'], ['JUMPNET SOLUCIONES DE INTERNET S.R.L.', '011-6632-6600', 'www.jumpnet.com.ar', 'Sordeaux', 'BUENOS AIRES'], ['IFX NETWORKS ARGENTINA SRL', '(011) 5031-2400', 'www.ifxnetworks.com', 'Sourigues', 'BUENOS AIRES'], ['SISTA S.A.', '(0221) 4275510', 'www.sista.com.ar', 'Spegazzini', 'BUENOS AIRES']]\n",
      "(36, 5)\n",
      "Tabla 1 en la página 31: [['IPNEXT S.A.', '5368-4000', 'www.ipnext.net.ar', 'Suipacha', 'BUENOS AIRES'], ['VER TV SA/TELERED', '0810-810-22253', 'www.telered.com.ar', 'Suipacha', 'BUENOS AIRES'], ['ADVANTUN SRL', '5365-8800', 'www.advantun.com', 'Tablada', 'BUENOS AIRES'], ['SION SA', '0810 999 0100', 'www.sion.com', 'Tablada', 'BUENOS AIRES'], ['ADVANTUN SRL', '5365-8800', 'www.advantun.com', 'Tandil', 'BUENOS AIRES'], ['COOPERATIVA TELEFÓNICA DE PINAMAR LTDA / TEL', 'P0IN2254 483000', 'www.telpin.com.ar', 'Tandil', 'BUENOS AIRES'], ['MULTITRUNK SA (YEAP!)', '5236-5200', 'www.yeap.com.ar', 'Tandil', 'BUENOS AIRES'], ['MUNICIPALIDAD DE TANDIL', '0249 4432049 int 1136', 'www.tandil.gov.ar', 'Tandil', 'BUENOS AIRES'], ['SION SA', '0810 999 0100', 'www.sion.com', 'Tandil', 'BUENOS AIRES'], ['SITERNET S.R.L.', '(0249) 44336000/636', 'www.ruralink.com.ar', 'Tandil', 'BUENOS AIRES'], ['UGALDE JUAN IGNACIO (DUPPINI COMUNICACIONES', ')0249-4438824', 'www.duppini.com.ar', 'TANDIL', 'BUENOS AIRES'], ['UNIVERSIDAD NACIONAL DEL CENTRO (UNICEN)', '249 4422000', 'www.unicen.edu.ar', 'Tandil', 'BUENOS AIRES'], ['USINA POPULAR Y MUNICIPAL DE TANDIL SEM', '(0249) 4447200', 'www.usinatandil.com.ar', 'Tandil', 'BUENOS AIRES'], ['SN COMUNICACIONES SRL (SN WIFI)', '0800 345 6666', 'www.snwifi.com.ar', 'Tapiales', 'BUENOS AIRES'], ['TELECENTRO S.A.', '0800-322-9500', 'www.telecentro.com.ar', 'Tapiales', 'BUENOS AIRES'], ['COSEIDI SA', '5277-9700', 'www.fiber.net.ar', 'Temperley', 'BUENOS AIRES'], ['IFX NETWORKS ARGENTINA SRL', '(011) 5031-2400', 'www.ifxnetworks.com', 'Temperley', 'BUENOS AIRES'], ['MULTITRUNK SA (YEAP!)', '5236-5200', 'www.yeap.com.ar', 'Temperley', 'BUENOS AIRES'], ['TELECENTRO S.A.', '0800-322-9500', 'www.telecentro.com.ar', 'Temperley', 'BUENOS AIRES'], ['LACALLE, JOSE GUILLERMO', '291-6482193', 'www.cisnet.com.ar', 'Teniente Origone', 'BUENOS AIRES'], ['COOPERATIVA DE PROVISION DE SERVICIOS PUBLICO', '(S0 D2E3 2T0O) R6T2U4G20U0ITAS LTDA', 'www.cooptortu.com.ar', 'Tierras Altas', 'BUENOS AIRES'], ['ADVANTUN SRL', '5365-8800', 'www.advantun.com', 'Tigre', 'BUENOS AIRES'], ['CPS.COMUNICACIONES SA /METROTEL', '(011) 6091-1000', 'www.metrotel.com.ar', 'Tigre', 'BUENOS AIRES'], ['IFX NETWORKS ARGENTINA SRL', '(011) 5031-2400', 'www.ifxnetworks.com', 'Tigre', 'BUENOS AIRES'], ['MULTITRUNK SA (YEAP!)', '5236-5200', 'www.yeap.com.ar', 'Tigre', 'BUENOS AIRES'], ['SION SA', '0810 999 0100', 'www.sion.com', 'Tigre', 'BUENOS AIRES'], ['SN COMUNICACIONES SRL (SN WIFI)', '0800 345 6666', 'www.snwifi.com.ar', 'Tigre', 'BUENOS AIRES'], ['COOPERATIVA ELECTRICA INTEGRAL DE PROVISION D', '0E2 S4E7R8V 4IC9I2O2S8 P2UBLICOS Y SOCIALES', 'DwEw TwO.DtoDd LdT.cDoAm (.TaOrDD.NET)', 'Todd', 'BUENOS AIRES'], ['ADVANTUN SRL', '5365-8800', 'www.advantun.com', 'Tolosa', 'BUENOS AIRES'], ['GIZA S.A.', '', 'www.giza.com.ar', 'Tolosa', 'BUENOS AIRES'], ['SION SA', '0810 999 0100', 'www.sion.com', 'Tolosa', 'BUENOS AIRES'], ['NODOCOOP FEDERACION DE COOPERATIVAS LTDA', '(02923) 494200', 'www.nodocoop.com.ar', 'Tornquist', 'BUENOS AIRES'], ['COOPERATIVA DE PROVISION DE SERVICIOS PUBLICO', '(S0 D2E3 2T0O) R6T2U4G20U0ITAS LTDA', 'www.cooptortu.com.ar', 'Tortuguitas', 'BUENOS AIRES'], ['COOPERATIVA TELEFÓNICA Y DE OTROS SERVICIOS P', 'Ú(0B3L3IC2O7)S ,4 C5O50N0S0UMO Y VIVIENDA LO', 'PwEwZw C.AcMotEeLlcOa mLT.DcoAm (C.aOrTELCAM)', 'Tortuguitas', 'BUENOS AIRES'], ['IFX NETWORKS ARGENTINA SRL', '(011) 5031-2400', 'www.ifxnetworks.com', 'Tortuguitas', 'BUENOS AIRES'], ['JUMPNET SOLUCIONES DE INTERNET S.R.L.', '011-6632-6600', 'www.jumpnet.com.ar', 'Tortuguitas', 'BUENOS AIRES'], ['VER TV SA/TELERED', '0810-810-22253', 'www.telered.com.ar', 'Tortuguitas', 'BUENOS AIRES']]\n",
      "(36, 5)\n",
      "Tabla 1 en la página 32: [['COOPERATIVA DE ELECTRICIDAD DE TRENQUE LAUQ', 'U0E2N39 2-4100031/410005', 'www.cooptl.com.ar', 'Trenque Lauqen', 'BUENOS AIRES'], ['SISTA S.A.', '(0221) 4275510', 'www.sista.com.ar', 'Trenque Lauquen', 'BUENOS AIRES'], ['ADVANTUN SRL', '5365-8800', 'www.advantun.com', 'Tres Arroyos', 'BUENOS AIRES'], ['CIUDAD GLOBAL S.A.', '0291-455-8448', 'www.ciudadglobal.com.ar', 'Tres Arroyos', 'BUENOS AIRES'], ['ETERNET SRL', '(02983) 513040', 'www.eternet.cc', 'Tres Arroyos', 'BUENOS AIRES'], ['SION SA', '0810 999 0100', 'www.sion.com', 'Tres Arroyos', 'BUENOS AIRES'], ['RED INTERCABLE DIGITAL S.A.', '(5411) 6091.5600', 'www.redintercable.com.ar', 'Tres Lomas', 'BUENOS AIRES'], ['ADVANTUN SRL', '5365-8800', 'www.advantun.com', 'Tristan Suarez', 'BUENOS AIRES'], ['SION SA', '0810 999 0100', 'www.sion.com', 'Tristan Suarez', 'BUENOS AIRES'], ['ADVANTUN SRL', '5365-8800', 'www.advantun.com', 'Trujui', 'BUENOS AIRES'], ['IFX NETWORKS ARGENTINA SRL', '(011) 5031-2400', 'www.ifxnetworks.com', 'Trujui', 'BUENOS AIRES'], ['SION SA', '0810 999 0100', 'www.sion.com', 'Trujui', 'BUENOS AIRES'], ['SN COMUNICACIONES SRL (SN WIFI)', '0800 345 6666', 'www.snwifi.com.ar', 'Trujui', 'BUENOS AIRES'], ['IFX NETWORKS ARGENTINA SRL', '(011) 5031-2400', 'www.ifxnetworks.com', 'Turdera', 'BUENOS AIRES'], ['TELECENTRO S.A.', '0800-322-9500', 'www.telecentro.com.ar', 'Turdera', 'BUENOS AIRES'], ['IFX NETWORKS ARGENTINA SRL', '(011) 5031-2400', 'www.ifxnetworks.com', 'Udaondo', 'BUENOS AIRES'], ['IFX NETWORKS ARGENTINA SRL', '(011) 5031-2400', 'www.ifxnetworks.com', 'Valentín Alsina', 'BUENOS AIRES'], ['TELECENTRO S.A.', '0800-322-9500', 'www.telecentro.com.ar', 'Valentín Alsina', 'BUENOS AIRES'], ['COOPERATIVA TELEFÓNICA DE PINAMAR LTDA / TEL', 'P0IN2254 483000', 'www.telpin.com.ar', 'Valeria del Mar', 'BUENOS AIRES'], ['BENTO IVAN GABRIEL (IP COMS)', '02229 44 2494', 'www.ipcoms.com.ar', 'Varela', 'BUENOS AIRES'], ['RED INTERCABLE DIGITAL S.A.', '(5411) 6091.5600', 'www.redintercable.com.ar', 'Verónica', 'BUENOS AIRES'], ['ADVANTUN SRL', '5365-8800', 'www.advantun.com', 'Vicente Lopez', 'BUENOS AIRES'], ['CPS.COMUNICACIONES SA /METROTEL', '(011) 6091-1000', 'www.metrotel.com.ar', 'Vicente Lopez', 'BUENOS AIRES'], ['EREZUMA MARTIN (T-WIRELESS)', '011 61144194', '', 'Vicente Lopez', 'BUENOS AIRES'], ['IFX NETWORKS ARGENTINA SRL', '(011) 5031-2400', 'www.ifxnetworks.com', 'Vicente Lopez', 'BUENOS AIRES'], ['MULTITRUNK SA (YEAP!)', '5236-5200', 'www.yeap.com.ar', 'Vicente Lopez', 'BUENOS AIRES'], ['SION SA', '0810 999 0100', 'www.sion.com', 'Vicente Lopez', 'BUENOS AIRES'], ['IFX NETWORKS ARGENTINA SRL', '(011) 5031-2400', 'www.ifxnetworks.com', 'Victoria', 'BUENOS AIRES'], ['MULTITRUNK SA (YEAP!)', '5236-5200', 'www.yeap.com.ar', 'Victoria', 'BUENOS AIRES'], ['ANTENA DELTA SRL (WIREDCOM)', '11 5258-0496', 'www.wiredcom.com.ar', 'Victoria Oeste', 'BUENOS AIRES'], ['IFX NETWORKS ARGENTINA SRL', '(011) 5031-2400', 'www.ifxnetworks.com', 'Villa Adelina', 'BUENOS AIRES'], ['MULTITRUNK SA (YEAP!)', '5236-5200', 'www.yeap.com.ar', 'Villa Adelina', 'BUENOS AIRES'], ['JUMPNET SOLUCIONES DE INTERNET S.R.L.', '011-6632-6600', 'www.jumpnet.com.ar', 'Villa Albertina', 'BUENOS AIRES'], ['IFX NETWORKS ARGENTINA SRL', '(011) 5031-2400', 'www.ifxnetworks.com', 'Villa Ballester', 'BUENOS AIRES'], ['MULTITRUNK SA (YEAP!)', '5236-5200', 'www.yeap.com.ar', 'Villa Ballester', 'BUENOS AIRES'], ['PREFORM SRL', '11 5272 6013 / 14 / 15', 'www.preform.com.ar', 'Villa Ballester', 'BUENOS AIRES'], ['SION SA', '0810 999 0100', 'www.sion.com', 'Villa Ballester', 'BUENOS AIRES']]\n",
      "(36, 5)\n",
      "Tabla 1 en la página 33: [['SN COMUNICACIONES SRL (SN WIFI)', '0800 345 6666', 'www.snwifi.com.ar', 'Villa Bonich', 'BUENOS AIRES'], ['ADVANTUN SRL', '5365-8800', 'www.advantun.com', 'Villa Bosch', 'BUENOS AIRES'], ['IFX NETWORKS ARGENTINA SRL', '(011) 5031-2400', 'www.ifxnetworks.com', 'Villa Bosch', 'BUENOS AIRES'], ['SION SA', '0810 999 0100', 'www.sion.com', 'Villa Bosch', 'BUENOS AIRES'], ['IFX NETWORKS ARGENTINA SRL', '(011) 5031-2400', 'www.ifxnetworks.com', 'Villa Brown', 'BUENOS AIRES'], ['UGALDE JUAN IGNACIO (DUPPINI COMUNICACIONES', ')0249-4438824', 'www.duppini.com.ar', 'VILLA CACIQUE', 'BUENOS AIRES'], ['ADVANTUN SRL', '5365-8800', 'www.advantun.com', 'Villa Caraza', 'BUENOS AIRES'], ['SION SA', '0810 999 0100', 'www.sion.com', 'Villa Caraza', 'BUENOS AIRES'], ['IFX NETWORKS ARGENTINA SRL', '(011) 5031-2400', 'www.ifxnetworks.com', 'Villa Centenario', 'BUENOS AIRES'], ['TELECENTRO S.A.', '0800-322-9500', 'www.telecentro.com.ar', 'Villa Centenario', 'BUENOS AIRES'], ['ADVANTUN SRL', '5365-8800', 'www.advantun.com', 'Villa de Mayo', 'BUENOS AIRES'], ['IFX NETWORKS ARGENTINA SRL', '(011) 5031-2400', 'www.ifxnetworks.com', 'Villa de Mayo', 'BUENOS AIRES'], ['SION SA', '0810 999 0100', 'www.sion.com', 'Villa de Mayo', 'BUENOS AIRES'], ['IFX NETWORKS ARGENTINA SRL', '(011) 5031-2400', 'www.ifxnetworks.com', 'Villa Domínico', 'BUENOS AIRES'], ['TELECENTRO S.A.', '0800-322-9500', 'www.telecentro.com.ar', 'Villa Domínico', 'BUENOS AIRES'], ['ADVANTUN SRL', '5365-8800', 'www.advantun.com', 'Villa Elisa', 'BUENOS AIRES'], ['INTERNET WINDS AG SA', '(0221) 5130100', 'www.iwinds.com.ar', 'Villa Elisa', 'BUENOS AIRES'], ['MULTITRUNK SA (YEAP!)', '5236-5200', 'www.yeap.com.ar', 'Villa Elisa', 'BUENOS AIRES'], ['SION SA', '0810 999 0100', 'www.sion.com', 'Villa Elisa', 'BUENOS AIRES'], ['COSEIDI SA', '5277-9700', 'www.fiber.net.ar', 'Villa España', 'BUENOS AIRES'], ['IFX NETWORKS ARGENTINA SRL', '(011) 5031-2400', 'www.ifxnetworks.com', 'Villa Fiorito', 'BUENOS AIRES'], ['JUMPNET SOLUCIONES DE INTERNET S.R.L.', '011-6632-6600', 'www.jumpnet.com.ar', 'Villa Fiorito', 'BUENOS AIRES'], ['MULTITRUNK SA (YEAP!)', '5236-5200', 'www.yeap.com.ar', 'Villa Fiorito', 'BUENOS AIRES'], ['LATINA NET TELECOMUNICACIONES SRL', '70771401', 'www.latinanet.com.ar', 'Villa Fiorito, Lomas de Zamora', 'BUENOS AIRES'], ['COOPERATIVA TELEFONICA Y OTROS SERVICIOS DE V', 'I(L0L2A2 G55E)S E4L6L1 6C0O0TEL LTDA', 'www.cotel.com.ar', 'Villa Gesell', 'BUENOS AIRES'], ['MULTITRUNK SA (YEAP!)', '5236-5200', 'www.yeap.com.ar', 'Villa Gesell', 'BUENOS AIRES'], ['RED INTERCABLE DIGITAL S.A.', '(5411) 6091.5600', 'www.redintercable.com.ar', 'Villa Gesell', 'BUENOS AIRES'], ['VILLA GESELL TELEVISION COMUNITARIA S.A. (GESAT', 'E(0L2)255) 463397 (02255) 460344', 'www.gesatel.com', 'Villa Gesell', 'BUENOS AIRES'], ['IFX NETWORKS ARGENTINA SRL', '(011) 5031-2400', 'www.ifxnetworks.com', 'Villa Gobernador Udaondo', 'BUENOS AIRES'], ['IFX NETWORKS ARGENTINA SRL', '(011) 5031-2400', 'www.ifxnetworks.com', 'Villa la Florida', 'BUENOS AIRES'], ['ANTENA DELTA SRL (WIREDCOM)', '11 5258-0496', 'www.wiredcom.com.ar', 'Villa la Ñata', 'BUENOS AIRES'], ['ADVANTUN SRL', '5365-8800', 'www.advantun.com', 'Villa Luzuriaga', 'BUENOS AIRES'], ['IFX NETWORKS ARGENTINA SRL', '(011) 5031-2400', 'www.ifxnetworks.com', 'Villa Luzuriaga', 'BUENOS AIRES'], ['SION SA', '0810 999 0100', 'www.sion.com', 'Villa Luzuriaga', 'BUENOS AIRES'], ['ESCOBAR ARNEZ MARCELINO (ACCESS)', '', '', 'Villa Madero', 'BUENOS AIRES'], ['ADVANTUN SRL', '5365-8800', 'www.advantun.com', 'Villa Martelli', 'BUENOS AIRES'], ['IFX NETWORKS ARGENTINA SRL', '(011) 5031-2400', 'www.ifxnetworks.com', 'Villa Martelli', 'BUENOS AIRES']]\n",
      "(36, 5)\n",
      "Tabla 1 en la página 34: [['SION SA', '0810 999 0100', 'www.sion.com', 'Villa Martelli', 'BUENOS AIRES'], ['NODOCOOP FEDERACION DE COOPERATIVAS LTDA', '(02923) 494200', 'www.nodocoop.com.ar', 'Villa Maza', 'BUENOS AIRES'], ['TELMEX ARGENTINA S.A.', '', 'www.claro.com.ar', 'Villa Mercedes', 'BUENOS AIRES'], ['SILICA NETWORKS ARGENTINA SA', '+54 (11) 4103-1300', 'www.silicanetworks.com', 'Villa Nueva', 'BUENOS AIRES'], ['RED INTERCABLE DIGITAL S.A.', '(5411) 6091.5600', 'www.redintercable.com.ar', 'Villa Ortíz', 'BUENOS AIRES'], ['IFX NETWORKS ARGENTINA SRL', '(011) 5031-2400', 'www.ifxnetworks.com', 'Villa Raffo', 'BUENOS AIRES'], ['ARPA NET RAMALLO S.A. (INTER AIR)', '03407-489182', '', 'Villa Ramallo', 'BUENOS AIRES'], ['VER TV SA/TELERED', '0810-810-22253', 'www.telered.com.ar', 'Villa Rosa', 'BUENOS AIRES'], ['IFX NETWORKS ARGENTINA SRL', '(011) 5031-2400', 'www.ifxnetworks.com', 'Villa San Andrés', 'BUENOS AIRES'], ['IFX NETWORKS ARGENTINA SRL', '(011) 5031-2400', 'www.ifxnetworks.com', 'Villa San Luis', 'BUENOS AIRES'], ['ADVANTUN SRL', '5365-8800', 'www.advantun.com', 'Villa Santos Tesei', 'BUENOS AIRES'], ['IFX NETWORKS ARGENTINA SRL', '(011) 5031-2400', 'www.ifxnetworks.com', 'Villa Santos Tesei', 'BUENOS AIRES'], ['SION SA', '0810 999 0100', 'www.sion.com', 'Villa Santos Tesei', 'BUENOS AIRES'], ['IFX NETWORKS ARGENTINA SRL', '(011) 5031-2400', 'www.ifxnetworks.com', 'Villa Sarmiento', 'BUENOS AIRES'], ['TELECENTRO S.A.', '0800-322-9500', 'www.telecentro.com.ar', 'Villa Sarmiento', 'BUENOS AIRES'], ['RED INTERCABLE DIGITAL S.A.', '(5411) 6091.5600', 'www.redintercable.com.ar', 'Villa Sauze', 'BUENOS AIRES'], ['ADVANTUN SRL', '5365-8800', 'www.advantun.com', 'Villa Transradio', 'BUENOS AIRES'], ['SION SA', '0810 999 0100', 'www.sion.com', 'Villa Transradio', 'BUENOS AIRES'], ['IFX NETWORKS ARGENTINA SRL', '(011) 5031-2400\\n5365-8800\\n4322-8488', 'www.ifxnetworks.com', 'Virreyes', 'BUENOS AIRES'], ['ADVANTUN SRL', None, 'www.advantun.com', 'Wilde', 'BUENOS AIRES'], ['FUNDACION INNOVAT (INNOVARED)', None, 'www.innova-red.net/', 'Wilde', 'BUENOS AIRES'], ['IFX NETWORKS ARGENTINA SRL', '(011) 5031-2400', 'www.ifxnetworks.com', 'Wilde', 'BUENOS AIRES'], ['MULTITRUNK SA (YEAP!)', '5236-5200', 'www.yeap.com.ar', 'Wilde', 'BUENOS AIRES'], ['SILICA NETWORKS ARGENTINA SA', '+54 (11) 4103-1300', 'www.silicanetworks.com', 'Wilde', 'BUENOS AIRES'], ['SION SA', '0810 999 0100', 'www.sion.com', 'Wilde', 'BUENOS AIRES'], ['TELECENTRO S.A.', '0800-322-9500', 'www.telecentro.com.ar', 'Wilde', 'BUENOS AIRES'], ['MULTITRUNK SA (YEAP!)', '5236-5200', 'www.yeap.com.ar', 'Willam C. Morris', 'BUENOS AIRES'], ['IFX NETWORKS ARGENTINA SRL', '(011) 5031-2400', 'www.ifxnetworks.com', 'William C. Morris', 'BUENOS AIRES'], ['CPS.COMUNICACIONES SA /METROTEL', '(011) 6091-1000', 'www.metrotel.com.ar', 'Zarate', 'BUENOS AIRES'], ['IFX NETWORKS ARGENTINA SRL', '(011) 5031-2400', 'www.ifxnetworks.com', 'Zarate', 'BUENOS AIRES'], ['LIMA VIDEO CABLE SA (CABLETEL)', '(03487) 431034', 'www.cabletel.net.ar', 'Zarate', 'BUENOS AIRES'], ['MULTITRUNK SA (YEAP!)', '5236-5200', 'www.yeap.com.ar', 'Zarate', 'BUENOS AIRES'], ['SES, SISTEMAS ELECTRONICOS SA', '5453-8469', 'www.ses.com.ar', 'Zarate', 'BUENOS AIRES'], ['TECNOCOMP ARGENTINA TELECOMUNICACIONES Y', 'S0E1R1V-I2C1IO50S5 S4R0L1', 'www.tecno-comp.net', 'Zarate', 'BUENOS AIRES'], ['TELMEX ARGENTINA S.A.', '', 'www.claro.com.ar', 'Zarate', 'BUENOS AIRES'], ['COSEIDI SA', '5277-9700', 'www.fiber.net.ar', 'Zeballos', 'BUENOS AIRES'], ['IFX NETWORKS ARGENTINA SRL', '(011) 5031-2400', 'www.ifxnetworks.com', 'Zeballos', 'BUENOS AIRES']]\n",
      "(36, 5)\n",
      "Tabla 1 en la página 35: [['ALTERPLAN SOLUTIONS S.R.L.', '3220-7277', 'www.nortech.com.ar', '', 'BUENOS AIRES'], ['BREÑAS CABLE COLOR S.R.L.', '3731460865', '', '', 'BUENOS AIRES'], ['FUNDACION UNIVERSIDAD DE PALERMO', '11 49644685', 'www.parlermo.edu', '', 'BUENOS AIRES'], ['LATINOTCA.COM S.A.', '+54 11 5273-2226', 'www.latinotca.com.ar', '', 'BUENOS AIRES'], ['PROTEC ARGENTINA S.A. (MEGAS MAYORISTAS )', '261-6658864', 'www.megasmayoristas.com', '', 'BUENOS AIRES'], ['SERVICIOS PARA EL TRANSPORTE DE INFORMACION', 'S4.A30. 9(S-P5T4I0)0', 'www.boldt.com.ar', '', 'BUENOS AIRES'], ['TELECOM AGENTINA SA (ex CABLEVISION)', '0810-122-2225', 'https://hogares.telecom.com.ar/', '', 'BUENOS AIRES'], ['MULTITRUNK SA (YEAP!)', '5236-5200', 'www.yeap.com.ar', 'CABA', 'CABA'], ['RED INTERCABLE DIGITAL S.A.', '(5411) 6091.5600', 'www.redintercable.com.ar', 'Andalgala', 'CATAMARCA'], ['RED INTERCABLE DIGITAL S.A.', '(5411) 6091.5600', 'www.redintercable.com.ar', 'Belén', 'CATAMARCA'], ['ARLINK SA', '(0261) 4496000', 'www.supercanal-arlink.com.ar', 'Catamarca', 'CATAMARCA'], ['TELMEX ARGENTINA S.A.', '', 'www.claro.com.ar', 'Catamarca', 'CATAMARCA'], ['RED INTERCABLE DIGITAL S.A.', '(5411) 6091.5600', 'www.redintercable.com.ar', 'Lampacito', 'CATAMARCA'], ['RED INTERCABLE DIGITAL S.A.', '(5411) 6091.5600', 'www.redintercable.com.ar', 'Londres', 'CATAMARCA'], ['RED INTERCABLE DIGITAL S.A.', '(5411) 6091.5600', 'www.redintercable.com.ar', 'Loro Huasi', 'CATAMARCA'], ['RED INTERCABLE DIGITAL S.A.', '(5411) 6091.5600', 'www.redintercable.com.ar', 'Santa María', 'CATAMARCA'], ['BROADBANDTECH SA (BBT)', '011 6385-9100', 'www.bbt.com.ar', 'Tinogasta', 'CATAMARCA'], ['SION SA', '0810 999 0100', 'www.sion.com', 'Alvear', 'CHACO'], ['ECOM CHACO S.A.', '0362-4193000 int 3506-3601', 'www.ecomchaco.com.ar', 'Avia Terai', 'CHACO'], ['LE FAVI DANIEL OSVALDO', '0364-4495146', '', 'Avia Terai', 'CHACO'], ['ECOM CHACO S.A.', '0362-4193000 int 3506-3601', 'www.ecomchaco.com.ar', 'Barranqueras', 'CHACO'], ['GEO SA (GEO CONEXIONES)', '3624 581100', 'www.geoconexiones.net', 'Barranqueras', 'CHACO'], ['WABCOM S.A.S.', '3624 802384', 'www.wabcominternet.com', 'Barranqueras', 'CHACO'], ['RUBEN OSCAR MOSSO (INTERZONA WIFI)', '3725 421330', 'www.interzonawifi.com.ar', 'Bermejo', 'CHACO'], ['STREAMING S.A.', '03735-498540 // 498479', '', 'CAMPO LARGO', 'CHACO'], ['LE FAVI DANIEL OSVALDO', '0364-4495146', '', 'Campo Largo', 'CHACO'], ['GODOY LUIS ALBERTO (PRO-DATA)', '03731-421729-422486', '', 'Capdevila', 'CHACO'], ['ECOM CHACO S.A.', '0362-4193000 int 3506-3601', 'www.ecomchaco.com.ar', 'Charadai', 'CHACO'], ['ECOM CHACO S.A.', '0362-4193000 int 3506-3601', 'www.ecomchaco.com.ar', 'Charata', 'CHACO'], ['GODOY LUIS ALBERTO (PRO-DATA)', '03731-421729-422486', '', 'Charata', 'CHACO'], ['RED INTERCABLE DIGITAL S.A.', '(5411) 6091.5600', 'www.redintercable.com.ar', 'Charata', 'CHACO'], ['RED TELEVISION SRL (REDTV)', '03731-420159', '', 'Charata', 'CHACO'], ['SION SA', '0810 999 0100', 'www.sion.com', 'CHUBUT', 'CHACO'], ['RUBEN OSCAR MOSSO (INTERZONA WIFI)', '3725 421330', 'www.interzonawifi.com.ar', 'Ciervo Petiso', 'CHACO'], ['ECOM CHACO S.A.', '0362-4193000 int 3506-3601', 'www.ecomchaco.com.ar', 'Ciervo Petizo', 'CHACO'], ['ENLACE SOLUCIONES INFORMATICAS S.R.L.', '(0379) 4437149', 'www.enlacesrl.com.ar', 'Colonia Benitez', 'CHACO'], ['ECOM CHACO S.A.', '0362-4193000 int 3506-3601', 'www.ecomchaco.com.ar', 'Colonias Unidas', 'CHACO']]\n",
      "(36, 5)\n",
      "Tabla 1 en la página 36: [['RED INTERCABLE DIGITAL S.A.', '(5411) 6091.5600', 'www.redintercable.com.ar', 'Colonias Unidas', 'CHACO'], ['RUBEN OSCAR MOSSO (INTERZONA WIFI)', '3725 421330', 'www.interzonawifi.com.ar', 'Colonias Unidas', 'CHACO'], ['SION SA', '0810 999 0100', 'www.sion.com', 'Comodoro Rivadavia', 'CHACO'], ['ECOM CHACO S.A.', '0362-4193000 int 3506-3601', 'www.ecomchaco.com.ar', 'Conc. del Bermejo', 'CHACO'], ['LE FAVI DANIEL OSVALDO', '0364-4495146', '', 'Concepcion del Bermejo', 'CHACO'], ['ECOM CHACO S.A.', '0362-4193000 int 3506-3601', 'www.ecomchaco.com.ar', 'Coronel Du Graty', 'CHACO'], ['STREAMING S.A.', '03735-498540 // 498479', '', 'Coronel Du Graty', 'CHACO'], ['VIDEO VISION CENTRO S.A.', '03735-498540', '', 'Coronel Du Graty', 'CHACO'], ['COAXIAL CORZUELA S.R.L.', '03731 470123', '', 'Corzuela', 'CHACO'], ['ECOM CHACO S.A.', '0362-4193000 int 3506-3601', 'www.ecomchaco.com.ar', 'Corzuela', 'CHACO'], ['LE FAVI DANIEL OSVALDO', '0364-4495146', '', 'Corzuela', 'CHACO'], ['RED INTERCABLE DIGITAL S.A.', '(5411) 6091.5600', 'www.redintercable.com.ar', 'Corzuela', 'CHACO'], ['ECOM CHACO S.A.', '0362-4193000 int 3506-3601', 'www.ecomchaco.com.ar', 'Cote Lai', 'CHACO'], ['ECOM CHACO S.A.', '0362-4193000 int 3506-3601', 'www.ecomchaco.com.ar', 'El Sauzal', 'CHACO'], ['ECOM CHACO S.A.', '0362-4193000 int 3506-3601', 'www.ecomchaco.com.ar', 'El Sauzalito', 'CHACO'], ['GEO SA (GEO CONEXIONES)', '3624 581100', 'www.geoconexiones.net', 'Fontana', 'CHACO'], ['RUBEN OSCAR MOSSO (INTERZONA WIFI)', '3725 421330', 'www.interzonawifi.com.ar', 'Fontana', 'CHACO'], ['WABCOM S.A.S.', '3624 802384', 'www.wabcominternet.com', 'Fontana', 'CHACO'], ['ECOM CHACO S.A.', '0362-4193000 int 3506-3601', 'www.ecomchaco.com.ar', 'Fuerte Esperanza', 'CHACO'], ['ECOM CHACO S.A.', '0362-4193000 int 3506-3601', 'www.ecomchaco.com.ar', 'Gancedo', 'CHACO'], ['GODOY LUIS ALBERTO (PRO-DATA)', '03731-421729-422486', '', 'Gancedo', 'CHACO'], ['STREAMING S.A.', '03735-498540 // 498479', '', 'Gancedo', 'CHACO'], ['ECOM CHACO S.A.', '0362-4193000 int 3506-3601', 'www.ecomchaco.com.ar', 'General José de San Martín', 'CHACO'], ['SOTO DANIEL MARIO (COMPUS INFORMATICA)', '03725-421584', 'www.compusinformatica.com.ar', 'General José de San Martín', 'CHACO'], ['WALTER DARIO BAZZA (MULTIMEDIOS HD)', '', '', 'General José de San Martín', 'CHACO'], ['ECOM CHACO S.A.', '0362-4193000 int 3506-3601', 'www.ecomchaco.com.ar', 'General Pinedo', 'CHACO'], ['RED INTERCABLE DIGITAL S.A.', '(5411) 6091.5600', 'www.redintercable.com.ar', 'General Pinedo', 'CHACO'], ['RED TELEVISION SRL (REDTV)', '03731-420159', '', 'General Pinedo', 'CHACO'], ['RUBEN OSCAR MOSSO (INTERZONA WIFI)', '3725 421330', 'www.interzonawifi.com.ar', 'General San Martin', 'CHACO'], ['ECOM CHACO S.A.', '0362-4193000 int 3506-3601', 'www.ecomchaco.com.ar', 'General Vedia', 'CHACO'], ['RED INTERCABLE DIGITAL S.A.', '(5411) 6091.5600', 'www.redintercable.com.ar', 'General Vedia', 'CHACO'], ['SION SA', '0810 999 0100', 'www.sion.com', 'Guiraldes', 'CHACO'], ['ECOM CHACO S.A.', '0362-4193000 int 3506-3601', 'www.ecomchaco.com.ar', 'Hermoso Campo', 'CHACO'], ['STREAMING S.A.', '03735-498540 // 498479', '', 'Hermoso Campo', 'CHACO'], ['CAÑETE GLADIS ROXANA (ENREDADOS)', '3794 622084', 'www.enredadosdelpaso.com', 'Isla del Cerrito', 'CHACO'], ['ECOM CHACO S.A.', '0362-4193000 int 3506-3601', 'www.ecomchaco.com.ar', 'Juan José Castelli', 'CHACO'], ['RED INTERCABLE DIGITAL S.A.', '(5411) 6091.5600', 'www.redintercable.com.ar', 'Juan José Castelli', 'CHACO']]\n",
      "(36, 5)\n",
      "Tabla 1 en la página 37: [['STREAMING S.A.', '03735-498540 // 498479', '', 'La Clotilde', 'CHACO'], ['ECOM CHACO S.A.', '0362-4193000 int 3506-3601', 'www.ecomchaco.com.ar', 'La Eduvigis', 'CHACO'], ['ECOM CHACO S.A.', '0362-4193000 int 3506-3601', 'www.ecomchaco.com.ar', 'La Escondida', 'CHACO'], ['RED INTERCABLE DIGITAL S.A.', '(5411) 6091.5600', 'www.redintercable.com.ar', 'La Leonesa', 'CHACO'], ['RUBEN OSCAR MOSSO (INTERZONA WIFI)', '3725 421330', 'www.interzonawifi.com.ar', 'La Leonesa', 'CHACO'], ['STREAMING S.A.', '03735-498540 // 498479', '', 'La Tigra', 'CHACO'], ['ECOM CHACO S.A.', '0362-4193000 int 3506-3601', 'www.ecomchaco.com.ar', 'La Verde', 'CHACO'], ['RUBEN OSCAR MOSSO (INTERZONA WIFI)', '3725 421330', 'www.interzonawifi.com.ar', 'Laguna Limpia', 'CHACO'], ['BREÑAS CABLE COLOR S.R.L.', '3731460865', '', 'Las Breñas', 'CHACO'], ['ECOM CHACO S.A.', '0362-4193000 int 3506-3601', 'www.ecomchaco.com.ar', 'Las Breñas', 'CHACO'], ['GODOY LUIS ALBERTO (PRO-DATA)', '03731-421729-422486', '', 'Las Breñas', 'CHACO'], ['RED INTERCABLE DIGITAL S.A.', '(5411) 6091.5600', 'www.redintercable.com.ar', 'Las Breñas', 'CHACO'], ['RUBEN OSCAR MOSSO (INTERZONA WIFI)', '3725 421330', 'www.interzonawifi.com.ar', 'Las Garcitas', 'CHACO'], ['ECOM CHACO S.A.', '0362-4193000 int 3506-3601', 'www.ecomchaco.com.ar', 'Las Palmas', 'CHACO'], ['RED INTERCABLE DIGITAL S.A.', '(5411) 6091.5600', 'www.redintercable.com.ar', 'Las Palmas', 'CHACO'], ['RUBEN OSCAR MOSSO (INTERZONA WIFI)', '3725 421330', 'www.interzonawifi.com.ar', 'Las Palmas', 'CHACO'], ['GODOY LUIS ALBERTO (PRO-DATA)', '03731-421729-422486', '', 'Las Piedritas', 'CHACO'], ['RED INTERCABLE DIGITAL S.A.', '(5411) 6091.5600', 'www.redintercable.com.ar', 'Libertador Gral. San Martín', 'CHACO'], ['ECOM CHACO S.A.', '0362-4193000 int 3506-3601', 'www.ecomchaco.com.ar', 'Los Frentones', 'CHACO'], ['LE FAVI DANIEL OSVALDO', '0364-4495146', '', 'Los Frentones', 'CHACO'], ['ECOM CHACO S.A.', '0362-4193000 int 3506-3601', 'www.ecomchaco.com.ar', 'Machagai', 'CHACO'], ['ECOM CHACO S.A.', '0362-4193000 int 3506-3601', 'www.ecomchaco.com.ar', 'Makalle', 'CHACO'], ['RED INTERCABLE DIGITAL S.A.', '(5411) 6091.5600', 'www.redintercable.com.ar', 'Makalle', 'CHACO'], ['RUBEN OSCAR MOSSO (INTERZONA WIFI)', '3725 421330', 'www.interzonawifi.com.ar', 'Margarita Belen', 'CHACO'], ['ECOM CHACO S.A.', '0362-4193000 int 3506-3601', 'www.ecomchaco.com.ar', 'Margarita Belén', 'CHACO'], ['RED INTERCABLE DIGITAL S.A.', '(5411) 6091.5600', 'www.redintercable.com.ar', 'Margarita Belén', 'CHACO'], ['ECOM CHACO S.A.', '0362-4193000 int 3506-3601', 'www.ecomchaco.com.ar', 'Miraflores', 'CHACO'], ['ECOM CHACO S.A.', '0362-4193000 int 3506-3601', 'www.ecomchaco.com.ar', 'Misión Nueva Pompeya', 'CHACO'], ['ECOM CHACO S.A.', '0362-4193000 int 3506-3601', 'www.ecomchaco.com.ar', 'Napenay', 'CHACO'], ['RUBEN OSCAR MOSSO (INTERZONA WIFI)', '3725 421330', 'www.interzonawifi.com.ar', 'Pampa Almiron', 'CHACO'], ['ECOM CHACO S.A.', '0362-4193000 int 3506-3601', 'www.ecomchaco.com.ar', 'Pampa del Indio', 'CHACO'], ['RED INTERCABLE DIGITAL S.A.', '(5411) 6091.5600', 'www.redintercable.com.ar', 'Pampa del Indio', 'CHACO'], ['RUBEN OSCAR MOSSO (INTERZONA WIFI)', '3725 421330', 'www.interzonawifi.com.ar', 'Pampa del Indio', 'CHACO'], ['ECOM CHACO S.A.', '0362-4193000 int 3506-3601', 'www.ecomchaco.com.ar', 'Pampa del Infierno', 'CHACO'], ['LE FAVI DANIEL OSVALDO', '0364-4495146', '', 'Pampa del Infierno', 'CHACO'], ['GODOY LUIS ALBERTO (PRO-DATA)', '03731-421729-422486', '', 'Pampa Landriel', 'CHACO'], ['ECOM CHACO S.A.', '0362-4193000 int 3506-3601', 'www.ecomchaco.com.ar', 'Presidencia de La Plaza', 'CHACO']]\n",
      "(36, 5)\n",
      "Tabla 1 en la página 38: [['ECOM CHACO S.A.', '0362-4193000 int 3506-3601', 'www.ecomchaco.com.ar', 'Presidencia Roca', 'CHACO'], ['RED INTERCABLE DIGITAL S.A.', '(5411) 6091.5600', 'www.redintercable.com.ar', 'Presidencia Roca', 'CHACO'], ['RUBEN OSCAR MOSSO (INTERZONA WIFI)', '3725 421330', 'www.interzonawifi.com.ar', 'Presidencia Roca', 'CHACO'], ['COMISSO DANTE ANIBAL (AIRNETT WSP)', '3644 558026', 'www.airnett.com.ar', 'Presidente Roque Saenz Peña', 'CHACO'], ['ECOM CHACO S.A.', '0362-4193000 int 3506-3601', 'www.ecomchaco.com.ar', 'Presidente Roque Saenz Peña', 'CHACO'], ['INTERTEL SRL', '0364-154-523477', '', 'Presidente Roque Saenz Peña', 'CHACO'], ['ECOM CHACO S.A.', '0362-4193000 int 3506-3601', 'www.ecomchaco.com.ar', 'Puerto Bermejo', 'CHACO'], ['ECOM CHACO S.A.', '0362-4193000 int 3506-3601', 'www.ecomchaco.com.ar', 'Puerto Eva Perón', 'CHACO'], ['SION SA', '0810 999 0100', 'www.sion.com', 'Puerto Madryn', 'CHACO'], ['ECOM CHACO S.A.', '0362-4193000 int 3506-3601', 'www.ecomchaco.com.ar', 'Puerto Tirol', 'CHACO'], ['ENLACE SOLUCIONES INFORMATICAS S.R.L.', '(0379) 4437149', 'www.enlacesrl.com.ar', 'Puerto Tirol', 'CHACO'], ['RUBEN OSCAR MOSSO (INTERZONA WIFI)', '3725 421330', 'www.interzonawifi.com.ar', 'Puerto Tirol', 'CHACO'], ['GEO SA (GEO CONEXIONES)', '3624 581100', 'www.geoconexiones.net', 'Puerto Vilelas', 'CHACO'], ['ECOM CHACO S.A.', '0362-4193000 int 3506-3601', 'www.ecomchaco.com.ar', 'Quitilipi', 'CHACO'], ['QUITILIPI TELEVISORA COLOR SRL', '0364 4480247', '', 'Quitilipi', 'CHACO'], ['RED INTERCABLE DIGITAL S.A.', '(5411) 6091.5600', 'www.redintercable.com.ar', 'Quitilipi', 'CHACO'], ['SION SA', '0810 999 0100', 'www.sion.com', 'Rada Tilly', 'CHACO'], ['SION SA', '0810 999 0100', 'www.sion.com', 'Rawson', 'CHACO'], ['ECOM CHACO S.A.', '0362-4193000 int 3506-3601', 'www.ecomchaco.com.ar', 'Resistencia', 'CHACO'], ['ENLACE SOLUCIONES INFORMATICAS S.R.L.', '(0379) 4437149', 'www.enlacesrl.com.ar', 'Resistencia', 'CHACO'], ['GEO SA (GEO CONEXIONES)', '3624 581100', 'www.geoconexiones.net', 'Resistencia', 'CHACO'], ['GIGARED S.A.', '6310-6000', 'www.gigared.com', 'Resistencia', 'CHACO'], ['MULTITRUNK SA (YEAP!)', '5236-5200', 'www.yeap.com.ar', 'Resistencia', 'CHACO'], ['RUBEN OSCAR MOSSO (INTERZONA WIFI)', '3725 421330', 'www.interzonawifi.com.ar', 'Resistencia', 'CHACO'], ['SION SA', '0810 999 0100', 'www.sion.com', 'Resistencia', 'CHACO'], ['TELMEX ARGENTINA S.A.', '', 'www.claro.com.ar', 'Resistencia', 'CHACO'], ['WABCOM S.A.S.', '3624 802384', 'www.wabcominternet.com', 'Resistencia', 'CHACO'], ['ECOM CHACO S.A.', '0362-4193000 int 3506-3601', 'www.ecomchaco.com.ar', 'Rio Muerto', 'CHACO'], ['LE FAVI DANIEL OSVALDO', '0364-4495146', '', 'Rio Muerto', 'CHACO'], ['ECOM CHACO S.A.', '0362-4193000 int 3506-3601', 'www.ecomchaco.com.ar', 'Samuhu', 'CHACO'], ['COAXIL SRL', '03735-496428', 'www.coaxilsrl.com.ar', 'San Bernardo', 'CHACO'], ['ECOM CHACO S.A.', '0362-4193000 int 3506-3601', 'www.ecomchaco.com.ar', 'San Bernardo', 'CHACO'], ['RED INTERCABLE DIGITAL S.A.', '(5411) 6091.5600', 'www.redintercable.com.ar', 'San Bernardo', 'CHACO'], ['ECOM CHACO S.A.', '0362-4193000 int 3506-3601', 'www.ecomchaco.com.ar', 'Santa Sylvina', 'CHACO'], ['STREAMING S.A.', '03735-498540 // 498479', '', 'Santa Sylvina', 'CHACO'], ['ECOM CHACO S.A.', '0362-4193000 int 3506-3601', 'www.ecomchaco.com.ar', 'Selvas Río de Oro', 'CHACO'], ['ECOM CHACO S.A.', '0362-4193000 int 3506-3601', 'www.ecomchaco.com.ar', 'Taco Pozo', 'CHACO']]\n",
      "(36, 5)\n",
      "Tabla 1 en la página 39: [['SION SA', '0810 999 0100', 'www.sion.com', 'Trelew', 'CHACO'], ['GODOY LUIS ALBERTO (PRO-DATA)', '03731-421729-422486', '', 'Tres Estacas', 'CHACO'], ['ECOM CHACO S.A.', '0362-4193000 int 3506-3601', 'www.ecomchaco.com.ar', 'Tres Isletas', 'CHACO'], ['ERGON CABLE S.R.L.', '362 4601825', '', 'Tres Isletas', 'CHACO'], ['RUBEN OSCAR MOSSO (INTERZONA WIFI)', '3725 421330', 'www.interzonawifi.com.ar', 'Vedia', 'CHACO'], ['RUBEN OSCAR MOSSO (INTERZONA WIFI)', '3725 421330', 'www.interzonawifi.com.ar', 'Vilelas', 'CHACO'], ['ECOM CHACO S.A.', '0362-4193000 int 3506-3601', 'www.ecomchaco.com.ar', 'Villa Ángela', 'CHACO'], ['INTERRET VILLA ANGELA SOCIEDAD DE RESPONSABIL', 'I0D3A7D35 L-I4M3I0T1A3D0A', '', 'Villa Ángela', 'CHACO'], ['STREAMING S.A.', '03735-498540 // 498479', '', 'Villa Berthet', 'CHACO'], ['ECOM CHACO S.A.', '0362-4193000 int 3506-3601\\n5236-5200\\nM02O9D7O-4R0O62 R0I2V0ADAVIA (SCPL)', 'www.ecomchaco.com.ar', 'Villa Río Bermejito', 'CHACO'], ['MULTITRUNK SA (YEAP!)', None, 'www.yeap.com.ar', 'Comodoro Rivadavia', 'CHUBUT'], ['SOCIEDAD COOPERATIVA POPULAR LIMITADA DE CO', None, 'wwws.scpl.coop', 'Comodoro Rivadavia', 'CHUBUT'], ['TELMEX ARGENTINA S.A.', '', 'www.claro.com.ar', 'Comodoro Rivadavia', 'CHUBUT'], ['RED INTERCABLE DIGITAL S.A.', '(5411) 6091.5600', 'www.redintercable.com.ar', 'Dolavón', 'CHUBUT'], ['BROADBANDTECH SA (BBT)', '011 6385-9100', 'www.bbt.com.ar', 'Esquel', 'CHUBUT'], ['RED INTERCABLE DIGITAL S.A.', '(5411) 6091.5600', 'www.redintercable.com.ar', 'Esquel', 'CHUBUT'], ['RED INTERCABLE DIGITAL S.A.', '(5411) 6091.5600', 'www.redintercable.com.ar', 'Gaiman', 'CHUBUT'], ['LEWTEL SRL', '0810-999-5398', 'www.lewtel.com.ar', 'Playa Magagna', 'CHUBUT'], ['LEWTEL SRL', '0810-999-5398', 'www.lewtel.com.ar', 'Playa Union', 'CHUBUT'], ['ARLINK SA', '(0261) 4496000', 'www.supercanal-arlink.com.ar', 'Puerto Madryn', 'CHUBUT'], ['BUENA ONDA TELEVISORA COLOR SRL', '(02804) 454531', 'www.madryntv.com', 'Puerto Madryn', 'CHUBUT'], ['COOPERATIVA LTDA. DE PROVISION DE SERVICIOS P', 'U(B0L2I8C0O)S 4 Y4 5V3IV4I0E0N iDnAt. 2D1E5 5PUERTO MA', 'DwRwYwN. sSeErRvVicIoCoOpO.cPom', 'Puerto Madryn', 'CHUBUT'], ['MARTIN EMANUEL ARIEL (NEOCOM)', '', '', 'Puerto Madryn', 'CHUBUT'], ['RED UNO SRL', '(280) 4475267', 'www.redunopatagonia.com.ar', 'Puerto Madryn', 'CHUBUT'], ['SURPORAIRE S.A.', '0221-4912500', 'www.patagondigital.com.ar', 'Puerto Madryn', 'CHUBUT'], ['TELMEX ARGENTINA S.A.', '', 'www.claro.com.ar', 'Puerto Madryn', 'CHUBUT'], ['VILLEGAS BRAIAN JOEL', '2904598847', '', 'Puerto Madryn', 'CHUBUT'], ['LEWTEL SRL', '0810-999-5398', 'www.lewtel.com.ar', 'Rawson', 'CHUBUT'], ['RED UNO SRL', '(280) 4475267', 'www.redunopatagonia.com.ar', 'Rawson', 'CHUBUT'], ['UV MUNDO DIGITAL S.R.L.', '', '', 'Rawson', 'CHUBUT'], ['ARLINK SA', '(0261) 4496000', 'www.supercanal-arlink.com.ar', 'Trelew', 'CHUBUT'], ['BUENA ONDA TELEVISORA COLOR SRL', '(02804) 454531', 'www.madryntv.com', 'Trelew', 'CHUBUT'], ['DESE TECHNOLOGIES ARGENTINA S.A. (DESEMAX)', '0291-4066200', 'www.desetech.com.ar', 'Trelew', 'CHUBUT'], ['LEWTEL SRL', '0810-999-5398', 'www.lewtel.com.ar', 'Trelew', 'CHUBUT'], ['RED UNO SRL', '(280) 4475267', 'www.redunopatagonia.com.ar', 'Trelew', 'CHUBUT'], ['RED INTERCABLE DIGITAL S.A.', '(5411) 6091.5600', 'www.redintercable.com.ar', 'Trevelín', 'CHUBUT'], ['INTERNET SERVICES SA', '011-781-5417', 'www. is.com.ar', 'Prosperidad', 'CÓRDOBA']]\n",
      "(36, 5)\n",
      "Tabla 1 en la página 40: [['INTERNET SERVICES SA', '011-781-5417', 'www. is.com.ar', 'Quebracho Herrado', 'CÓRDOBA'], ['INTERNET SERVICES SA', '011-781-5417', 'www. is.com.ar', 'San Francisco', 'CÓRDOBA'], ['RED INTERCABLE DIGITAL S.A.', '(5411) 6091.5600', 'www.redintercable.com.ar', 'Achiras', 'CÓRDOBA'], ['POGLIOTTI & POGLIOTTI CONSTRUCCIONES SA (SITSA', '()0353) 4531146', 'www.sitsa.com.ar', 'Adelia María', 'CÓRDOBA'], ['POGLIOTTI & POGLIOTTI CONSTRUCCIONES SA (SITSA', '()0353) 4531146', 'www.sitsa.com.ar', 'Alejandro Roca', 'CÓRDOBA'], ['POGLIOTTI & POGLIOTTI CONSTRUCCIONES SA (SITSA', '()0353) 4531146', 'www.sitsa.com.ar', 'Alicia', 'CÓRDOBA'], ['COOPERATIVAS DE CALAMUCHITA – CONSORCIO DE', 'C(0O3O5P4E6R) A4C20IO1N43', '', 'Almafuerte', 'CÓRDOBA'], ['SION SA', '0810 999 0100', 'www.sion.com', 'Alta Córdoba', 'CÓRDOBA'], ['ARLINK SA', '(0261) 4496000', 'www.supercanal-arlink.com.ar', 'Alta Gracia', 'CÓRDOBA'], ['RED INTERCABLE DIGITAL S.A.', '(5411) 6091.5600', 'www.redintercable.com.ar', 'Altos de Chipión', 'CÓRDOBA'], ['POGLIOTTI & POGLIOTTI CONSTRUCCIONES SA (SITSA', '()0353) 4531146', 'www.sitsa.com.ar', 'AnaZumaran', 'CÓRDOBA'], ['SION SA', '0810 999 0100', 'www.sion.com', 'Arguello', 'CÓRDOBA'], ['POGLIOTTI & POGLIOTTI CONSTRUCCIONES SA (SITSA', '()0353) 4531146', 'www.sitsa.com.ar', 'Arroyo Cabral', 'CÓRDOBA'], ['POGLIOTTI & POGLIOTTI CONSTRUCCIONES SA (SITSA', '()0353) 4531146', 'www.sitsa.com.ar', 'Ausonia', 'CÓRDOBA'], ['SION SA', '0810 999 0100', 'www.sion.com', 'Aviones', 'CÓRDOBA'], ['NODOSUD S.A.', '(03537) 431111', 'www.nodosud.com.ar', 'Ballesteros', 'CÓRDOBA'], ['RED INTERCABLE DIGITAL S.A.', '(5411) 6091.5600', 'www.redintercable.com.ar', 'Ballesteros', 'CÓRDOBA'], ['NODOSUD S.A.', '(03537) 431111', 'www.nodosud.com.ar', 'Ballesteros Sur', 'CÓRDOBA'], ['RED INTERCABLE DIGITAL S.A.', '(5411) 6091.5600', 'www.redintercable.com.ar', 'Balnearia', 'CÓRDOBA'], ['GLOBAL TECHNOLOGY S.R.L.', '(02657) 431014', 'www.globaltechsrl.com.ar', 'Batavia', 'CÓRDOBA'], ['NODOSUD S.A.', '(03537) 431111', 'www.nodosud.com.ar', 'Bell Ville', 'CÓRDOBA'], ['POGLIOTTI & POGLIOTTI CONSTRUCCIONES SA (SITSA', '()0353) 4531146', 'www.sitsa.com.ar', 'Bengolea', 'CÓRDOBA'], ['SION SA', '0810 999 0100', 'www.sion.com', 'Boulevard', 'CÓRDOBA'], ['RED INTERCABLE DIGITAL S.A.', '(5411) 6091.5600', 'www.redintercable.com.ar', 'Brinkmann', 'CÓRDOBA'], ['GLOBAL TECHNOLOGY S.R.L.', '(02657) 431014', 'www.globaltechsrl.com.ar', 'Buena esperanza', 'CÓRDOBA'], ['RED INTERCABLE DIGITAL S.A.', '(5411) 6091.5600', 'www.redintercable.com.ar', 'Bulnes', 'CÓRDOBA'], ['ITC COMUNICACIONES IP S.A.', '(03571) 500000', 'www.itc.com.ar', 'Calamuchita', 'CÓRDOBA'], ['NODOSUD S.A.', '(03537) 431111', 'www.nodosud.com.ar', 'Camilo Aldao', 'CÓRDOBA'], ['NODOSUD S.A.', '(03537) 431111', 'www.nodosud.com.ar', 'Canals', 'CÓRDOBA'], ['RED INTERCABLE DIGITAL S.A.', '(5411) 6091.5600', 'www.redintercable.com.ar', 'Canals', 'CÓRDOBA'], ['POGLIOTTI & POGLIOTTI CONSTRUCCIONES SA (SITSA', '()0353) 4531146', 'www.sitsa.com.ar', 'Carlos Tejedor', 'CÓRDOBA'], ['SION SA', '0810 999 0100', 'www.sion.com', 'Cerro de las Rosas', 'CÓRDOBA'], ['GLOBAL TECHNOLOGY S.R.L.', '(02657) 431014', 'www.globaltechsrl.com.ar', 'Chajan', 'CÓRDOBA'], ['RED INTERCABLE DIGITAL S.A.', '(5411) 6091.5600', 'www.redintercable.com.ar', 'Chajan', 'CÓRDOBA'], ['POGLIOTTI & POGLIOTTI CONSTRUCCIONES SA (SITSA', '()0353) 4531146', 'www.sitsa.com.ar', 'Charras', 'CÓRDOBA'], ['SION SA', '0810 999 0100', 'www.sion.com', 'Chateau Carreras', 'CÓRDOBA'], ['POGLIOTTI & POGLIOTTI CONSTRUCCIONES SA (SITSA', '()0353) 4531146', 'www.sitsa.com.ar', 'Chazon', 'CÓRDOBA']]\n",
      "(36, 5)\n",
      "Tabla 1 en la página 41: [['NODOSUD S.A.', '(03537) 431111', 'www.nodosud.com.ar', 'Chilibroste', 'CÓRDOBA'], ['NODOSUD S.A.', '(03537) 431111', 'www.nodosud.com.ar', 'Cintra', 'CÓRDOBA'], ['NODOSUD S.A.', '(03537) 431111', 'www.nodosud.com.ar', 'Colonia Bismarck', 'CÓRDOBA'], ['COOPERATIVA DE SERVICIOS PUBLICOS DE COLONIA', 'C(0A3R5O2Y5A) 4Y6 J6E2S0U1S MARIA LTDA', 'www.coop5.com.ar', 'Colonia Caroya', 'CÓRDOBA'], ['RED INTERCABLE DIGITAL S.A.', '(5411) 6091.5600', 'www.redintercable.com.ar', 'Colonia Italiana', 'CÓRDOBA'], ['RED INTERCABLE DIGITAL S.A.', '(5411) 6091.5600', 'www.redintercable.com.ar', 'Colonia Marina', 'CÓRDOBA'], ['RED INTERCABLE DIGITAL S.A.', '(5411) 6091.5600', 'www.redintercable.com.ar', 'Colonia Waltelina', 'CÓRDOBA'], ['MIRETTI MAURO ROMAN (SPEED INTERNET BANDA', 'A0N3C5H7A4-)481777', 'www.mauromiretti.com.ar', 'Comechingones', 'CÓRDOBA'], ['LESCANO SRL', '(03541) - 15 527858', 'www.lescom.com.ar', 'Comuna San Roque', 'CÓRDOBA'], ['ELECTROCOMPONENTES SA', '011 4375-3366', 'www.electrocomponentes.com', 'Córdoba', 'CÓRDOBA'], ['EMPRESA PROVINCIAL DE ENERGIA DE CORDOBA (E', 'P(E0C3)51) 4296000', 'www.epec.com.ar', 'Córdoba', 'CÓRDOBA'], ['FUNDACION INNOVAT (INNOVARED)', '4322-8488', 'www.innova-red.net/', 'Córdoba', 'CÓRDOBA'], ['IFX NETWORKS ARGENTINA SRL', '(011) 5031-2400', 'www.ifxnetworks.com', 'Córdoba', 'CÓRDOBA'], ['MEGATRANS SA', '4343-5657', 'www.megatrans.com.ar', 'Córdoba', 'CÓRDOBA'], ['NSS SA / IPLAN', '0800 345 0000', 'www.iplan.com.ar', 'Córdoba', 'CÓRDOBA'], ['SION SA', '0810 999 0100', 'www.sion.com', 'Córdoba', 'CÓRDOBA'], ['UNIVERSIDAD NACIONAL DE CORDOBA', '(0351) 4333046', 'www.unc.edu.ar', 'Córdoba', 'CÓRDOBA'], ['IPTEL S.A.', '0351-5890000', 'www.iptel.com.ar', 'Cordoba Capital', 'CÓRDOBA'], ['MULTITRUNK SA (YEAP!)', '5236-5200', 'www.yeap.com.ar', 'Cordoba Capital', 'CÓRDOBA'], ['GRAPE S.A. (AIRSAT)', '0351-5261400', 'www.airsat.com.ar', 'Córdoba Capital', 'CÓRDOBA'], ['RED INTERCABLE DIGITAL S.A.', '(5411) 6091.5600', 'www.redintercable.com.ar', 'Coronel Moldes', 'CÓRDOBA'], ['NODOSUD S.A.', '(03537) 431111', 'www.nodosud.com.ar', 'Corral de Bustos', 'CÓRDOBA'], ['POGLIOTTI & POGLIOTTI CONSTRUCCIONES SA (SITSA', '()0353) 4531146', 'www.sitsa.com.ar', 'Corral de Bustos', 'CÓRDOBA'], ['RED INTERCABLE DIGITAL S.A.', '(5411) 6091.5600', 'www.redintercable.com.ar', 'Corral de Bustos', 'CÓRDOBA'], ['RED INTERCABLE DIGITAL S.A.', '(5411) 6091.5600', 'www.redintercable.com.ar', 'Cruz Alta', 'CÓRDOBA'], ['MIRETTI MAURO ROMAN (SPEED INTERNET BANDA', 'A0N3C5H7A4-)481777', 'www.mauromiretti.com.ar', 'Diego de Rojas', 'CÓRDOBA'], ['SION SA', '0810 999 0100', 'www.sion.com', 'El Bosque', 'CÓRDOBA'], ['MIRETTI MAURO ROMAN (SPEED INTERNET BANDA', 'A0N3C5H7A4-)481777', 'www.mauromiretti.com.ar', 'El Crispin', 'CÓRDOBA'], ['COOPERATIVAS DE CALAMUCHITA – CONSORCIO DE', 'C(0O3O5P4E6R) A4C20IO1N43', '', 'Embalse', 'CÓRDOBA'], ['MIRETTI MAURO ROMAN (SPEED INTERNET BANDA', 'A0N3C5H7A4-)481777', 'www.mauromiretti.com.ar', 'Esquina', 'CÓRDOBA'], ['POGLIOTTI & POGLIOTTI CONSTRUCCIONES SA (SITSA', '()0353) 4531146', 'www.sitsa.com.ar', 'Etruria', 'CÓRDOBA'], ['RED INTERCABLE DIGITAL S.A.', '(5411) 6091.5600', 'www.redintercable.com.ar', 'Etruria', 'CÓRDOBA'], ['RED INTERCABLE DIGITAL S.A.', '(5411) 6091.5600', 'www.redintercable.com.ar', 'Eusevia y Carolina', 'CÓRDOBA'], ['SION SA', '0810 999 0100', 'www.sion.com', 'Ferreyra', 'CÓRDOBA'], ['COOPERATIVA DE PROVISION DE SERVICIOS PUBLICO', '0S 3D5E6 F4R-4E6Y1R1E0 L2I/M46IT1A0D0A7', 'www.freyre.com.ar', 'Freyre', 'CÓRDOBA'], ['RED INTERCABLE DIGITAL S.A.', '(5411) 6091.5600', 'www.redintercable.com.ar', 'Freyre', 'CÓRDOBA'], ['NODOSUD S.A.', '(03537) 431111', 'www.nodosud.com.ar', 'General Baldissera', 'CÓRDOBA']]\n",
      "(36, 5)\n",
      "Tabla 1 en la página 42: [['RED INTERCABLE DIGITAL S.A.', '(5411) 6091.5600', 'www.redintercable.com.ar', 'General Baldissera', 'CÓRDOBA'], ['COOPERATIVA ELECTRICA DE GENERAL DEHEZA LTDA', '(.0358) 4057000', 'www.cgdweb.com.ar', 'General Deheza', 'CÓRDOBA'], ['POGLIOTTI & POGLIOTTI CONSTRUCCIONES SA (SITSA', '()0353) 4531146', 'www.sitsa.com.ar', 'General Deheza', 'CÓRDOBA'], ['COOPERATIVA DE OBRAS Y SERVICIOS PUBLICOS LTD', 'A(0. 3D5E7 T1A) N46C0A1C9H9A/699 Fax 460599', 'www.dat13.com.ar', 'General Fotheringham', 'CÓRDOBA'], ['POGLIOTTI & POGLIOTTI CONSTRUCCIONES SA (SITSA', '()0353) 4531146', 'www.sitsa.com.ar', 'General Levalle', 'CÓRDOBA'], ['NODOSUD S.A.', '(03537) 431111\\n(5411) 6091.5600\\n()0353) 4531146\\n02336-495000\\n(5411) 6091.5600\\n(03537) 431111', 'www.nodosud.com.ar', 'General Roca', 'CÓRDOBA'], ['RED INTERCABLE DIGITAL S.A.', None, 'www.redintercable.com.ar', 'General Roca', 'CÓRDOBA'], ['POGLIOTTI & POGLIOTTI CONSTRUCCIONES SA (SITSA', None, 'www.sitsa.com.ar', 'Hernando', 'CÓRDOBA'], ['ASOCIACION DE COOPERATIVAS RED DIGITAL SUR', None, '', 'Huinca Renanco', 'CÓRDOBA'], ['RED INTERCABLE DIGITAL S.A.', None, 'www.redintercable.com.ar', 'Huinca Renanco', 'CÓRDOBA'], ['NODOSUD S.A.', None, 'www.nodosud.com.ar', 'Idiazabal', 'CÓRDOBA'], ['RED INTERCABLE DIGITAL S.A.', '(5411) 6091.5600', 'www.redintercable.com.ar', 'Ifflinger', 'CÓRDOBA'], ['NODOSUD S.A.', '(03537) 431111', 'www.nodosud.com.ar', 'Inriville', 'CÓRDOBA'], ['RED INTERCABLE DIGITAL S.A.', '(5411) 6091.5600', 'www.redintercable.com.ar', 'Inriville', 'CÓRDOBA'], ['NODOSUD S.A.', '(03537) 431111', 'www.nodosud.com.ar', 'Isla Verde', 'CÓRDOBA'], ['POGLIOTTI & POGLIOTTI CONSTRUCCIONES SA (SITSA', '()0353) 4531146', 'www.sitsa.com.ar', 'Isla Verde', 'CÓRDOBA'], ['RED INTERCABLE DIGITAL S.A.', '(5411) 6091.5600', 'www.redintercable.com.ar', 'Isla Verde', 'CÓRDOBA'], ['RED INTERCABLE DIGITAL S.A.', '(5411) 6091.5600', 'www.redintercable.com.ar', 'Ítalo', 'CÓRDOBA'], ['POGLIOTTI & POGLIOTTI CONSTRUCCIONES SA (SITSA', '()0353) 4531146', 'www.sitsa.com.ar', 'James Craik', 'CÓRDOBA'], ['SION SA', '0810 999 0100', 'www.sion.com', 'Jardín', 'CÓRDOBA'], ['COOPERATIVA DE SERVICIOS PUBLICOS DE COLONIA', 'C(0A3R5O2Y5A) 4Y6 J6E2S0U1S MARIA LTDA', 'www.coop5.com.ar', 'Jesús María', 'CÓRDOBA'], ['NODOSUD S.A.', '(03537) 431111', 'www.nodosud.com.ar', 'Justiniano Posse', 'CÓRDOBA'], ['GLOBAL TECHNOLOGY S.R.L.', '(02657) 431014', 'www.globaltechsrl.com.ar', 'Justo Daract', 'CÓRDOBA'], ['MULTITRUNK SA (YEAP!)', '5236-5200', 'www.yeap.com.ar', 'La Cañada', 'CÓRDOBA'], ['POGLIOTTI & POGLIOTTI CONSTRUCCIONES SA (SITSA', '()0353) 4531146', 'www.sitsa.com.ar', 'La Carlota', 'CÓRDOBA'], ['RED INTERCABLE DIGITAL S.A.', '(5411) 6091.5600', 'www.redintercable.com.ar', 'La Cumbre', 'CÓRDOBA'], ['COOPERATIVAS DE CALAMUCHITA – CONSORCIO DE', 'C(0O3O5P4E6R) A4C20IO1N43', '', 'La Cumbrecita', 'CÓRDOBA'], ['POGLIOTTI & POGLIOTTI CONSTRUCCIONES SA (SITSA', '()0353) 4531146', 'www.sitsa.com.ar', 'La Laguna', 'CÓRDOBA'], ['RED INTERCABLE DIGITAL S.A.', '(5411) 6091.5600', 'www.redintercable.com.ar', 'La Paquita', 'CÓRDOBA'], ['POGLIOTTI & POGLIOTTI CONSTRUCCIONES SA (SITSA', '()0353) 4531146', 'www.sitsa.com.ar', 'La Playosa', 'CÓRDOBA'], ['MIRETTI MAURO ROMAN (SPEED INTERNET BANDA', 'A0N3C5H7A4-)481777', 'www.mauromiretti.com.ar', 'La Puerta', 'CÓRDOBA'], ['RED INTERCABLE DIGITAL S.A.', '(5411) 6091.5600', 'www.redintercable.com.ar', 'La Puerta', 'CÓRDOBA'], ['MIRETTI MAURO ROMAN (SPEED INTERNET BANDA', 'A0N3C5H7A4-)481777', 'www.mauromiretti.com.ar', 'La Quinta', 'CÓRDOBA'], ['NODOSUD S.A.', '(03537) 431111', 'www.nodosud.com.ar', 'Laborde', 'CÓRDOBA'], ['POGLIOTTI & POGLIOTTI CONSTRUCCIONES SA (SITSA', '()0353) 4531146', 'www.sitsa.com.ar', 'Laborde', 'CÓRDOBA'], ['POGLIOTTI & POGLIOTTI CONSTRUCCIONES SA (SITSA', '()0353) 4531146', 'www.sitsa.com.ar', 'Laboulaye', 'CÓRDOBA'], ['MIRETTI MAURO ROMAN (SPEED INTERNET BANDA', 'A0N3C5H7A4-)481777', 'www.mauromiretti.com.ar', 'Las Gramillas', 'CÓRDOBA']]\n",
      "(36, 5)\n",
      "Tabla 1 en la página 43: [['COOPERATIVA DE OBRAS Y SERVICIOS PUBLICOS LTD', 'A(0. 3D5E7 T1A) N46C0A1C9H9A/699 Fax 460599', 'www.dat13.com.ar', 'Las Peñas Sud', 'CÓRDOBA'], ['POGLIOTTI & POGLIOTTI CONSTRUCCIONES SA (SITSA', '()0353) 4531146', 'www.sitsa.com.ar', 'Las Perdices', 'CÓRDOBA'], ['RED INTERCABLE DIGITAL S.A.', '(5411) 6091.5600', 'www.redintercable.com.ar', 'Las Vertientes', 'CÓRDOBA'], ['SION SA', '0810 999 0100', 'www.sion.com', 'Liceo', 'CÓRDOBA'], ['POGLIOTTI & POGLIOTTI CONSTRUCCIONES SA (SITSA', '()0353) 4531146', 'www.sitsa.com.ar', 'Los Cisnes', 'CÓRDOBA'], ['RED INTERCABLE DIGITAL S.A.', '(5411) 6091.5600', 'www.redintercable.com.ar', 'Los Cocos', 'CÓRDOBA'], ['COOPERATIVA DE OBRAS Y SERVICIOS PUBLICOS LTD', 'A(0. 3D5E7 T1A) N46C0A1C9H9A/699 Fax 460599', 'www.dat13.com.ar', 'Los Cóndores', 'CÓRDOBA'], ['COOPERATIVAS DE CALAMUCHITA – CONSORCIO DE', 'C(0O3O5P4E6R) A4C20IO1N43', '', 'Los Reartes', 'CÓRDOBA'], ['POGLIOTTI & POGLIOTTI CONSTRUCCIONES SA (SITSA', '()0353) 4531146', 'www.sitsa.com.ar', 'Los Zorros', 'CÓRDOBA'], ['RED INTERCABLE DIGITAL S.A.', '(5411) 6091.5600', 'www.redintercable.com.ar', 'Luque', 'CÓRDOBA'], ['GRAPE S.A. (AIRSAT)', '0351-5261400', 'www.airsat.com.ar', 'Malagueño', 'CÓRDOBA'], ['MUNICIPALIDAD DE MALAGUEÑO', '0351-4981381', 'www.malagueno.gob.ar', 'Malagueño', 'CÓRDOBA'], ['RED INTERCABLE DIGITAL S.A.', '(5411) 6091.5600', 'www.redintercable.com.ar', 'Malagueño', 'CÓRDOBA'], ['NODOSUD S.A.', '(03537) 431111', 'www.nodosud.com.ar', 'Marcos Juarez', 'CÓRDOBA'], ['RED INTERCABLE DIGITAL S.A.', '(5411) 6091.5600', 'www.redintercable.com.ar', 'Marcos Juarez', 'CÓRDOBA'], ['MIRETTI MAURO ROMAN (SPEED INTERNET BANDA', 'A0N3C5H7A4-)481777', 'www.mauromiretti.com.ar', 'Matorrales', 'CÓRDOBA'], ['COOPERATIVA AGUA Y SERVICIOS PUBLICOS UNQUIL', 'L0O2 5M43EN 4D88IO9L4A8Z -A 4 L8I3M7I6T7A7DA (COOPU', 'wN)ww.unquillomendiolaza.coop', 'Mendiolaza', 'CÓRDOBA'], ['IPTEL S.A.', '0351-5890000', 'www.iptel.com.ar', 'Mendiolaza', 'CÓRDOBA'], ['RED INTERCABLE DIGITAL S.A.', '(5411) 6091.5600', 'www.redintercable.com.ar', 'Mina Clavero', 'CÓRDOBA'], ['RED INTERCABLE DIGITAL S.A.', '(5411) 6091.5600', 'www.redintercable.com.ar', 'Miramar', 'CÓRDOBA'], ['NODOSUD S.A.', '(03537) 431111', 'www.nodosud.com.ar', 'Monte Buey', 'CÓRDOBA'], ['COOPERATIVA DE OBRAS SERVICIOS PUBLICOS Y CRE', 'D0I3T5O1S- 4M91O7N2T2E5 CRISTO LTDA', 'www.coopmontecristo.com.ar', 'Monte Cristo', 'CÓRDOBA'], ['GRAPE S.A. (AIRSAT)', '0351-5261400', 'www.airsat.com.ar', 'Monte Cristo', 'CÓRDOBA'], ['NODOSUD S.A.', '(03537) 431111', 'www.nodosud.com.ar', 'Monte Maiz', 'CÓRDOBA'], ['POGLIOTTI & POGLIOTTI CONSTRUCCIONES SA (SITSA', '()0353) 4531146', 'www.sitsa.com.ar', 'Monte Maiz', 'CÓRDOBA'], ['NODOSUD S.A.', '(03537) 431111', 'www.nodosud.com.ar', 'Morrison', 'CÓRDOBA'], ['RED INTERCABLE DIGITAL S.A.', '(5411) 6091.5600', 'www.redintercable.com.ar', 'Morrison', 'CÓRDOBA'], ['COOPERATIVA DE SERVICIOS PUBLICOS DE MORTERO', '(S0 3LT5D62A). 402000', 'www.cooptel.com.ar', 'Morteros', 'CÓRDOBA'], ['RED INTERCABLE DIGITAL S.A.', '(5411) 6091.5600', 'www.redintercable.com.ar', 'Morteros', 'CÓRDOBA'], ['POGLIOTTI & POGLIOTTI CONSTRUCCIONES SA (SITSA', '()0353) 4531146', 'www.sitsa.com.ar', 'Noetinger', 'CÓRDOBA'], ['RED INTERCABLE DIGITAL S.A.', '(5411) 6091.5600', 'www.redintercable.com.ar', 'Noetinger', 'CÓRDOBA'], ['RED INTERCABLE DIGITAL S.A.', '(5411) 6091.5600', 'www.redintercable.com.ar', 'Obispo Trejo', 'CÓRDOBA'], ['POGLIOTTI & POGLIOTTI CONSTRUCCIONES SA (SITSA', '()0353) 4531146', 'www.sitsa.com.ar', 'Olaeta', 'CÓRDOBA'], ['NODOSUD S.A.', '(03537) 431111', 'www.nodosud.com.ar', 'Oliva', 'CÓRDOBA'], ['RED INTERCABLE DIGITAL S.A.', '(5411) 6091.5600', 'www.redintercable.com.ar', 'Oliva', 'CÓRDOBA'], ['COOPERATIVA ELECTRICA DE SERVICIOS Y OBRAS PU', 'B0L3IC5A72S -D45E5 O0N00CATIVO LTDA (CESOPO', 'wL)ww.oncativo.net.ar', 'Oncativo', 'CÓRDOBA'], ['IMAGEN ONCATIVO SA (CANAL 6 – IMAGINET)', '(03572) 466933', 'www.imagen-oncativo.com', 'Oncativo', 'CÓRDOBA']]\n",
      "(36, 5)\n",
      "Tabla 1 en la página 44: [['RED INTERCABLE DIGITAL S.A.', '(5411) 6091.5600', 'www.redintercable.com.ar', 'Oncativo', 'CÓRDOBA'], ['NODOSUD S.A.', '(03537) 431111', 'www.nodosud.com.ar', 'Ordoñez', 'CÓRDOBA'], ['RED INTERCABLE DIGITAL S.A.', '(5411) 6091.5600', 'www.redintercable.com.ar', 'Ordoñez', 'CÓRDOBA'], ['COOPERATIVA DE OBRAS Y SERVICIOS PUBLICOS LTD', 'A(0. 3D5E7 T1A) N46C0A1C9H9A/699 Fax 460599', 'www.dat13.com.ar', 'Pampayasta Norte', 'CÓRDOBA'], ['POGLIOTTI & POGLIOTTI CONSTRUCCIONES SA (SITSA', '()0353) 4531146', 'www.sitsa.com.ar', 'Pampayasta Norte', 'CÓRDOBA'], ['SION SA', '0810 999 0100', 'www.sion.com', 'Panamericano', 'CÓRDOBA'], ['NODOSUD S.A.', '(03537) 431111', 'www.nodosud.com.ar', 'Pascanas', 'CÓRDOBA'], ['POGLIOTTI & POGLIOTTI CONSTRUCCIONES SA (SITSA', '()0353) 4531146', 'www.sitsa.com.ar', 'Pascanas', 'CÓRDOBA'], ['POGLIOTTI & POGLIOTTI CONSTRUCCIONES SA (SITSA', '()0353) 4531146', 'www.sitsa.com.ar', 'Pasco', 'CÓRDOBA'], ['SION SA', '0810 999 0100', 'www.sion.com', 'Patricios', 'CÓRDOBA'], ['CABLESAT TV SRL', '(03572) 422035', 'www.cablesat.com.ar', 'Pilar', 'CÓRDOBA'], ['RED INTERCABLE DIGITAL S.A.', '(5411) 6091.5600', 'www.redintercable.com.ar', 'Pilar', 'CÓRDOBA'], ['RED INTERCABLE DIGITAL S.A.', '(5411) 6091.5600', 'www.redintercable.com.ar', 'Pincen', 'CÓRDOBA'], ['MIRETTI MAURO ROMAN (SPEED INTERNET BANDA', 'A0N3C5H7A4-)481777', 'www.mauromiretti.com.ar', 'Piquillin', 'CÓRDOBA'], ['MIRETTI MAURO ROMAN (SPEED INTERNET BANDA', 'A0N3C5H7A4-)481777', 'www.mauromiretti.com.ar', 'Plaza de Mercedes', 'CÓRDOBA'], ['COOPERATIVA DE SERVICIOS PUBLICOS DE PORTEÑA', '0LT3D56A4-450000/001', 'www.coopspportena.com.ar', 'Porteña', 'CÓRDOBA'], ['RED INTERCABLE DIGITAL S.A.', '(5411) 6091.5600', 'www.redintercable.com.ar', 'Porteña', 'CÓRDOBA'], ['RED INTERCABLE DIGITAL S.A.', '(5411) 6091.5600', 'www.redintercable.com.ar', 'Ramona', 'CÓRDOBA'], ['COOPERATIVA AGUA Y SERVICIOS PUBLICOS UNQUIL', 'L0O2 5M43EN 4D88IO9L4A8Z -A 4 L8I3M7I6T7A7DA (COOPU', 'wN)ww.unquillomendiolaza.coop', 'Rio Ceballos', 'CÓRDOBA'], ['SION SA', '0810 999 0100', 'www.sion.com', 'Rio Ceballos', 'CÓRDOBA'], ['INTERCITY COMUNICACIONES SA', '(0358) 4210000', 'www.intercity.net.ar', 'Rio Cuarto', 'CÓRDOBA'], ['UNIVERSIDAD NACIONAL DE RIO CUARTO (UNRC)', '0358-4676183', 'www.unrc.edu.ar', 'Rio Cuarto', 'CÓRDOBA'], ['MIRETTI MAURO ROMAN (SPEED INTERNET BANDA', 'A0N3C5H7A4-)481777', 'www.mauromiretti.com.ar', 'Rio Primero', 'CÓRDOBA'], ['CABLESAT TV SRL', '(03572) 422035', 'www.cablesat.com.ar', 'Río Segundo', 'CÓRDOBA'], ['RED INTERCABLE DIGITAL S.A.', '(5411) 6091.5600', 'www.redintercable.com.ar', 'Río Segundo', 'CÓRDOBA'], ['COOPERATIVA DE OBRAS Y SERVICIOS PULICOS LIMIT', '(A0D3A5 7D1E) R41IO1 1T1E1RCERO', 'www.riotel.com.ar', 'Rio Tercero', 'CÓRDOBA'], ['ITC COMUNICACIONES IP S.A.', '(03571) 500000', 'www.itc.com.ar', 'Rio Tercero', 'CÓRDOBA'], ['MIRETTI MAURO ROMAN (SPEED INTERNET BANDA', 'A0N3C5H7A4-)481777', 'www.mauromiretti.com.ar', 'Sagrada Familia', 'CÓRDOBA'], ['RED INTERCABLE DIGITAL S.A.', '(5411) 6091.5600', 'www.redintercable.com.ar', 'Saira', 'CÓRDOBA'], ['IPTEL S.A.', '0351-5890000', 'www.iptel.com.ar', 'Saldan', 'CÓRDOBA'], ['COOPERATIVA TELEFONICA Y DE OBRAS Y SERVICIOS', 'P0U35B4L3IC-4O9S2 Y4 0S0OCIALES SALSIPUEDES', 'wLIwMwIT.AcoDoAp (tCeOlsaOlPsiTpEuLe)des.com.ar', 'Salsipuedes', 'CÓRDOBA'], ['RED INTERCABLE DIGITAL S.A.', '(5411) 6091.5600', 'www.redintercable.com.ar', 'Sampacho', 'CÓRDOBA'], ['MULTITRUNK SA (YEAP!)', '5236-5200', 'www.yeap.com.ar', 'San Francisco', 'CÓRDOBA'], ['GLOBAL TECHNOLOGY S.R.L.', '(02657) 431014', 'www.globaltechsrl.com.ar', 'SAN LUIS', 'CÓRDOBA'], ['GLOBAL TECHNOLOGY S.R.L.', '(02657) 431014', 'www.globaltechsrl.com.ar', 'San Luis', 'CÓRDOBA'], ['SION SA', '0810 999 0100', 'www.sion.com', 'San Vicente', 'CÓRDOBA'], ['COOPERATIVAS DE CALAMUCHITA – CONSORCIO DE', 'C(0O3O5P4E6R) A4C20IO1N43', '', 'Santa Rosa de Calamuchita', 'CÓRDOBA']]\n",
      "(36, 5)\n",
      "Tabla 1 en la página 45: [['MIRETTI MAURO ROMAN (SPEED INTERNET BANDA', 'A0N3C5H7A4-)481777', 'www.mauromiretti.com.ar', 'Santa Rosa de Río Primero', 'CÓRDOBA'], ['MIRETTI MAURO ROMAN (SPEED INTERNET BANDA', 'A0N3C5H7A4-)481777', 'www.mauromiretti.com.ar', 'Santiago Temple', 'CÓRDOBA'], ['COOPERATIVA DE SERVICIOS PUBLICOS DE PORTEÑA', '0LT3D56A4-450000/001', 'www.coopspportena.com.ar', 'Seeber', 'CÓRDOBA'], ['RED INTERCABLE DIGITAL S.A.', '(5411) 6091.5600', 'www.redintercable.com.ar', 'Seeber', 'CÓRDOBA'], ['COOPERATIVA DE SERVICIOS PUBLICOS DE COLONIA', 'C(0A3R5O2Y5A) 4Y6 J6E2S0U1S MARIA LTDA', 'www.coop5.com.ar', 'Sinsacate', 'CÓRDOBA'], ['SION SA', '0810 999 0100', 'www.sion.com', 'Sobremonte', 'CÓRDOBA'], ['COOPERATIVA DE OBRAS Y SERVICIOS PUBLICOS LTD', 'A(0. 3D5E7 T1A) N46C0A1C9H9A/699 Fax 460599', 'www.dat13.com.ar', 'Tancacha', 'CÓRDOBA'], ['POGLIOTTI & POGLIOTTI CONSTRUCCIONES SA (SITSA', '()0353) 4531146', 'www.sitsa.com.ar', 'Ticino', 'CÓRDOBA'], ['NODOSUD S.A.', '(03537) 431111', 'www.nodosud.com.ar', 'Tio Pujio', 'CÓRDOBA'], ['POGLIOTTI & POGLIOTTI CONSTRUCCIONES SA (SITSA', '()0353) 4531146', 'www.sitsa.com.ar', 'Tio Pujio', 'CÓRDOBA'], ['SION SA', '0810 999 0100', 'www.sion.com', 'Trejo', 'CÓRDOBA'], ['COOPERATIVA ELECTRICA Y DE SERVICIOS PUBLICOS', 'U0C3A53C-H4A8 8L3T3D9A8 (/C4E8S8P/5U9)9', 'www.cespu.com.ar', 'Ucacha', 'CÓRDOBA'], ['POGLIOTTI & POGLIOTTI CONSTRUCCIONES SA (SITSA', '()0353) 4531146', 'www.sitsa.com.ar', 'Ucacha', 'CÓRDOBA'], ['GLOBAL TECHNOLOGY S.R.L.', '(02657) 431014', 'www.globaltechsrl.com.ar', 'Union', 'CÓRDOBA'], ['SION SA', '0810 999 0100', 'www.sion.com', 'Universidad', 'CÓRDOBA'], ['COOPERATIVA AGUA Y SERVICIOS PUBLICOS UNQUIL', 'L0O2 5M43EN 4D88IO9L4A8Z -A 4 L8I3M7I6T7A7DA (COOPU', 'wN)ww.unquillomendiolaza.coop', 'Unquillo', 'CÓRDOBA'], ['SION SA', '0810 999 0100', 'www.sion.com', 'Unquillo', 'CÓRDOBA'], ['COOPERATIVA DE SERVICIOS PUBLICOS DE PORTEÑA', '0LT3D56A4-450000/001', 'www.coopspportena.com.ar', 'Vignaud', 'CÓRDOBA'], ['IPTEL S.A.', '0351-5890000', 'www.iptel.com.ar', 'Villa Allende', 'CÓRDOBA'], ['MULTITRUNK SA (YEAP!)', '5236-5200', 'www.yeap.com.ar', 'Villa Allende', 'CÓRDOBA'], ['COOPERATIVA DE OBRAS Y SERVICIOS PUBLICOS LTD', 'A(0. 3D5E7 T1A) N46C0A1C9H9A/699 Fax 460599', 'www.dat13.com.ar', 'Villa Ascasubi', 'CÓRDOBA'], ['SION SA', '0810 999 0100', 'www.sion.com', 'Villa Ayende', 'CÓRDOBA'], ['LESCANO SRL', '(03541) - 15 527858', 'www.lescom.com.ar', 'Villa Carlos Paz', 'CÓRDOBA'], ['RED INTERCABLE DIGITAL S.A.', '(5411) 6091.5600', 'www.redintercable.com.ar', 'Villa Concepción del Tío', 'CÓRDOBA'], ['RED INTERCABLE DIGITAL S.A.', '(5411) 6091.5600', 'www.redintercable.com.ar', 'Villa Cura Brochero', 'CÓRDOBA'], ['COOPERATIVAS DE CALAMUCHITA – CONSORCIO DE', 'C(0O3O5P4E6R) A4C20IO1N43', '', 'Villa del Dique', 'CÓRDOBA'], ['COOPERATIVA DE SERVICIOS PUBLICOS Y SOCIALES V', 'I0L3L5A7 D3E 4L5 R3O00SA0RIO LIMITADA (COOV', 'IwLRwOwS.)coovilros.com', 'Villa del Rosario', 'CÓRDOBA'], ['IMAGEN ONCATIVO SA (CANAL 6 – IMAGINET)', '(03572) 466933', 'www.imagen-oncativo.com', 'Villa del Rosario', 'CÓRDOBA'], ['RED INTERCABLE DIGITAL S.A.', '(5411) 6091.5600', 'www.redintercable.com.ar', 'Villa del Rosario', 'CÓRDOBA'], ['COOPERATIVA TELEFONICA DE SERVICIO PUBLICO Y', 'C(O0M35U2N4)I C4A7C0I0O0N0/E4S7 D0E9 0V0ILLA DEL TO', 'TwOwRwAL.c LoToDpAto.toral.com', 'Villa del Totoral', 'CÓRDOBA'], ['RED INTERCABLE DIGITAL S.A.', '(5411) 6091.5600', 'www.redintercable.com.ar', 'Villa Fontana', 'CÓRDOBA'], ['COOPERATIVAS DE CALAMUCHITA – CONSORCIO DE', 'C(0O3O5P4E6R) A4C20IO1N43', '', 'Villa General Belgrano', 'CÓRDOBA'], ['POGLIOTTI & POGLIOTTI CONSTRUCCIONES SA (SITSA', '()0353) 4531146', 'www.sitsa.com.ar', 'Villa Maria', 'CÓRDOBA'], ['GLOBAL TECHNOLOGY S.R.L.', '(02657) 431014', 'www.globaltechsrl.com.ar', 'Villa Mercedes', 'CÓRDOBA'], ['POGLIOTTI & POGLIOTTI CONSTRUCCIONES SA (SITSA', '()0353) 4531146', 'www.sitsa.com.ar', 'Villa Nueva', 'CÓRDOBA'], ['LESCANO SRL', '(03541) - 15 527858', 'www.lescom.com.ar', 'Villa Parque Síquiman', 'CÓRDOBA'], ['COOPERATIVAS DE CALAMUCHITA – CONSORCIO DE', 'C(0O3O5P4E6R) A4C20IO1N43', '', 'Villa Rumipal', 'CÓRDOBA']]\n",
      "(36, 5)\n",
      "Tabla 1 en la página 46: [['SION SA', '0810 999 0100', 'www.sion.com', 'Villa Santa Isabel', 'CÓRDOBA'], ['GLOBAL TECHNOLOGY S.R.L.', '(02657) 431014', 'www.globaltechsrl.com.ar', 'Villa Valeria', 'CÓRDOBA'], ['GLOBAL TECHNOLOGY S.R.L.', '(02657) 431014', 'www.globaltechsrl.com.ar', 'Washington', 'CÓRDOBA'], ['NODOSUD S.A.', '(03537) 431111', 'www.nodosud.com.ar', 'Wenceslao Escalante', 'CÓRDOBA'], ['COOPERATIVAS DE CALAMUCHITA – CONSORCIO DE', 'C(0O3O5P4E6R) A4C20IO1N43', '', 'Yacanto', 'CÓRDOBA'], ['ALTEC S.E.', '(54 294) 4420807 / 4422696', 'www.altec.com.ar', '', 'CÓRDOBA'], ['COOPERATIVA DE PROVISION Y COMERCIALIZACION', 'D0E3 5S1E R4V8I1C2I0O0S0 COMUNITARIOS DE R', 'AwDwIOwD.cIFoUlsSeIcOoNr. cCoOmLS.aErCOR LTDA (C', 'OLSECOR)', 'CÓRDOBA'], ['SERVICIOS PARA EL TRANSPORTE DE INFORMACION', 'S4.A30. 9(S-P5T4I0)0', 'www.boldt.com.ar', '', 'CÓRDOBA'], ['INTERNET SERVICES SA', '011-781-5417', 'www. is.com.ar', 'Colonia Garabi', 'CORRIENTES'], ['INTERNET SERVICES SA', '011-781-5417', 'www. is.com.ar', 'Santo Tome', 'CORRIENTES'], ['BVCOM INTERNET CONSULTORIA IT', '+54 9 3777206839', 'www.bvcom.com.ar', 'Bella Vista', 'CORRIENTES'], ['GUAZU GROUP SRL', '(03777) 452000', '', 'Bella Vista', 'CORRIENTES'], ['RED INTERCABLE DIGITAL S.A.', '(5411) 6091.5600', 'www.redintercable.com.ar', 'Bella Vista', 'CORRIENTES'], ['ENLACE SOLUCIONES INFORMATICAS S.R.L.', '(0379) 4437149', 'www.enlacesrl.com.ar', 'Caá Catí', 'CORRIENTES'], ['ASA DIGITAL SRL', '(03754) 423590', 'www.asadigital.com.ar', 'Colonia Liebig', 'CORRIENTES'], ['TELMEX ARGENTINA S.A.', '', 'www.claro.com.ar', 'CÓRDOBA', 'CORRIENTES'], ['TELMEX ARGENTINA S.A.', '', 'www.claro.com.ar', 'Córdoba', 'CORRIENTES'], ['ALIANZA PYMES S.A. (CONNECTTO)', '379 4437149', 'www.connectto.com.ar', 'Corrientes', 'CORRIENTES'], ['ENLACE SOLUCIONES INFORMATICAS S.R.L.', '(0379) 4437149', 'www.enlacesrl.com.ar', 'Corrientes', 'CORRIENTES'], ['GIGARED S.A.', '6310-6000', 'www.gigared.com', 'Corrientes', 'CORRIENTES'], ['MEGATRANS SA', '4343-5657', 'www.megatrans.com.ar', 'Corrientes', 'CORRIENTES'], ['MULTITRUNK SA (YEAP!)', '5236-5200', 'www.yeap.com.ar', 'Corrientes', 'CORRIENTES'], ['SION SA', '0810 999 0100', 'www.sion.com', 'Corrientes', 'CORRIENTES'], ['TELMEX ARGENTINA S.A.', '', 'www.claro.com.ar', 'Corrientes', 'CORRIENTES'], ['RED INTERCABLE DIGITAL S.A.', '(5411) 6091.5600', 'www.redintercable.com.ar', 'Curuzu Cuatia', 'CORRIENTES'], ['VHG SISTEMAS SOCIEDAD DE RESPONSABILIDAD LIM', 'I0T3A7D7A4.-424618', 'www.vhg.com.ar', 'Curuzu Cuatia', 'CORRIENTES'], ['ENLACE SOLUCIONES INFORMATICAS S.R.L.', '(0379) 4437149', 'www.enlacesrl.com.ar', 'El Sombrero', 'CORRIENTES'], ['ENLACE SOLUCIONES INFORMATICAS S.R.L.', '(0379) 4437149', 'www.enlacesrl.com.ar', 'Empedrado', 'CORRIENTES'], ['GUAZU GROUP SRL', '(03777) 452000', '', 'Empedrado', 'CORRIENTES'], ['RED INTERCABLE DIGITAL S.A.', '(5411) 6091.5600', 'www.redintercable.com.ar', 'Esquina', 'CORRIENTES'], ['GUAZU GROUP SRL', '(03777) 452000', '', 'Goya', 'CORRIENTES'], ['SION SA', '0810 999 0100', 'www.sion.com', 'Independencia', 'CORRIENTES'], ['ENLACE SOLUCIONES INFORMATICAS S.R.L.', '(0379) 4437149', 'www.enlacesrl.com.ar', 'Ita Ibaté', 'CORRIENTES'], ['RED INTERCABLE DIGITAL S.A.', '(5411) 6091.5600', 'www.redintercable.com.ar', 'Ita Ibaté', 'CORRIENTES'], ['CAÑETE GLADIS ROXANA (ENREDADOS)', '3794 622084', 'www.enredadosdelpaso.com', 'Itati', 'CORRIENTES'], ['ENLACE SOLUCIONES INFORMATICAS S.R.L.', '(0379) 4437149', 'www.enlacesrl.com.ar', 'Loreto', 'CORRIENTES'], ['ENLACE SOLUCIONES INFORMATICAS S.R.L.', '(0379) 4437149', 'www.enlacesrl.com.ar', 'Mburucuya', 'CORRIENTES']]\n",
      "(36, 5)\n",
      "Tabla 1 en la página 47: [['NETCOMM ARGENTINA SRL (INFINET FIBRA)', '345-4226440', 'www.infinet.com.ar', 'Mercedes', 'CORRIENTES'], ['RED INTERCABLE DIGITAL S.A.', '(5411) 6091.5600', 'www.redintercable.com.ar', 'Mocoretá', 'CORRIENTES'], ['ENLACE SOLUCIONES INFORMATICAS S.R.L.', '(0379) 4437149', 'www.enlacesrl.com.ar', 'Pago de los Deseos', 'CORRIENTES'], ['ENLACE SOLUCIONES INFORMATICAS S.R.L.', '(0379) 4437149', 'www.enlacesrl.com.ar', 'Palmar Grande', 'CORRIENTES'], ['CAÑETE GLADIS ROXANA (ENREDADOS)', '3794 622084', 'www.enredadosdelpaso.com', 'Paso de la Patria', 'CORRIENTES'], ['CAÑETE GLADIS ROXANA (ENREDADOS)', '3794 622084', 'www.enredadosdelpaso.com', 'PASO DE LA PATRIA', 'CORRIENTES'], ['NETCOMM ARGENTINA SRL (INFINET FIBRA)', '345-4226440', 'www.infinet.com.ar', 'Paso de los Libres', 'CORRIENTES'], ['ENLACE SOLUCIONES INFORMATICAS S.R.L.', '(0379) 4437149', 'www.enlacesrl.com.ar', 'Riachuelo', 'CORRIENTES'], ['TELMEX ARGENTINA S.A.', '', 'www.claro.com.ar', 'Rio Cuarto', 'CORRIENTES'], ['GALARED SRL (GALAXIA)', '03782 15 44 4694', 'www.galaxia.com.ar', 'Saladas', 'CORRIENTES'], ['CAÑETE GLADIS ROXANA (ENREDADOS)', '3794 622084', 'www.enredadosdelpaso.com', 'San Cosme', 'CORRIENTES'], ['ENLACE SOLUCIONES INFORMATICAS S.R.L.', '(0379) 4437149', 'www.enlacesrl.com.ar', 'San Lorenzo', 'CORRIENTES'], ['CAÑETE GLADIS ROXANA (ENREDADOS)', '3794 622084', 'www.enredadosdelpaso.com', 'San Luis del Palmar', 'CORRIENTES'], ['ENLACE SOLUCIONES INFORMATICAS S.R.L.', '(0379) 4437149', 'www.enlacesrl.com.ar', 'San Miguel', 'CORRIENTES'], ['ENLACE SOLUCIONES INFORMATICAS S.R.L.', '(0379) 4437149', 'www.enlacesrl.com.ar', 'Santa Ana', 'CORRIENTES'], ['GUAZU GROUP SRL', '(03777) 452000', '', 'Santa Lucía', 'CORRIENTES'], ['RED INTERCABLE DIGITAL S.A.', '(5411) 6091.5600', 'www.redintercable.com.ar', 'Santa Lucía', 'CORRIENTES'], ['TELMEX ARGENTINA S.A.', '', 'www.claro.com.ar', 'Villa Maria', 'CORRIENTES'], ['INTERNET SERVICES SA', '011-781-5417', 'www. is.com.ar', 'Basavilbaso', 'ENTRE RIOS'], ['INTERNET SERVICES SA', '011-781-5417', 'www. is.com.ar', 'Colon', 'ENTRE RIOS'], ['INTERNET SERVICES SA', '011-781-5417', 'www. is.com.ar', 'Colon', 'ENTRE RIOS'], ['INTERNET SERVICES SA', '011-781-5417', 'www. is.com.ar', 'Colonia Caseros ,est.caseros', 'ENTRE RIOS'], ['INTERNET SERVICES SA', '011-781-5417', 'www. is.com.ar', 'Colonia Hughes', 'ENTRE RIOS'], ['INTERNET SERVICES SA', '011-781-5417', 'www. is.com.ar', 'Concepcion Del Uruguay', 'ENTRE RIOS'], ['INTERNET SERVICES SA', '011-781-5417', 'www. is.com.ar', 'El Brillante', 'ENTRE RIOS'], ['INTERNET SERVICES SA', '011-781-5417', 'www. is.com.ar', 'Rocamora', 'ENTRE RIOS'], ['INTERNET SERVICES SA', '011-781-5417', 'www. is.com.ar', 'San Justo', 'ENTRE RIOS'], ['INTERNET SERVICES SA', '011-781-5417', 'www. is.com.ar', 'Santa Anita', 'ENTRE RIOS'], ['INTERNET SERVICES SA', '011-781-5417', 'www. is.com.ar', 'Villa Mantero', 'ENTRE RIOS'], ['INTERNET SERVICES SA', '011-781-5417', 'www. is.com.ar', 'Villa San Marcial ,est.gdr.urquiza', 'ENTRE RIOS'], ['INTERNET SERVICES SA', '011-781-5417', 'www. is.com.ar', 'Villa Urquiza', 'ENTRE RIOS'], ['FASTER SRL', '0343 4920220', 'www.fasterenlinea.com.ar', 'Alcaraz', 'ENTRE RIOS'], ['RED INTERCABLE DIGITAL S.A.', '(5411) 6091.5600', 'www.redintercable.com.ar', 'Alcaraz', 'ENTRE RIOS'], ['RED INTERCABLE DIGITAL S.A.', '(5411) 6091.5600', 'www.redintercable.com.ar', 'Aldea San Antonio', 'ENTRE RIOS'], ['SION SA', '0810 999 0100', 'www.sion.com', 'Almafuerte', 'ENTRE RIOS'], ['NETIUM S.A.', '0810 888 6384', 'www.netium.com.ar', 'Aranguren', 'ENTRE RIOS'], ['RED INTERCABLE DIGITAL S.A.', '(5411) 6091.5600', 'www.redintercable.com.ar', 'Basavilbaso', 'ENTRE RIOS']]\n",
      "(36, 5)\n",
      "Tabla 1 en la página 48: [['RED INTERCABLE DIGITAL S.A.', '(5411) 6091.5600', 'www.redintercable.com.ar', 'Bovril', 'ENTRE RIOS'], ['FONZO CRISTIAN JAVIER', '3446 15 558285', '', 'Carbo', 'ENTRE RIOS'], ['RED INTERCABLE DIGITAL S.A.', '(5411) 6091.5600', 'www.redintercable.com.ar', 'Cerrito', 'ENTRE RIOS'], ['RADIODIFUSORA CHAJARI S.A. (MULTIMEDIOS CHAJA', '0R3I)456-420002', '', 'Chajarí', 'ENTRE RIOS'], ['RED INTERCABLE DIGITAL S.A.', '(5411) 6091.5600', 'www.redintercable.com.ar', 'Chajarí', 'ENTRE RIOS'], ['URUNET SRL', '03442-420600 / 482123', 'www.urunetargentina.com', 'Colon', 'ENTRE RIOS'], ['RED INTERCABLE DIGITAL S.A.', '(5411) 6091.5600', 'www.redintercable.com.ar', 'Colón', 'ENTRE RIOS'], ['SION SA', '0810 999 0100', 'www.sion.com', 'Crespo', 'ENTRE RIOS'], ['FASTER SRL', '0343 4920220', 'www.fasterenlinea.com.ar', 'Crucesitas', 'ENTRE RIOS'], ['RED INTERCABLE DIGITAL S.A.', '(5411) 6091.5600', 'www.redintercable.com.ar', 'Diamante', 'ENTRE RIOS'], ['FONZO CRISTIAN JAVIER', '3446 15 558285', '', 'Dos Hermanas', 'ENTRE RIOS'], ['FASTER SRL', '0343 4920220', 'www.fasterenlinea.com.ar', 'El Ramblon', 'ENTRE RIOS'], ['RED INTERCABLE DIGITAL S.A.', '(5411) 6091.5600', 'www.redintercable.com.ar', 'Enrique Carbo', 'ENTRE RIOS'], ['RED INTERCABLE DIGITAL S.A.', '(5411) 6091.5600', 'www.redintercable.com.ar', 'Federal', 'ENTRE RIOS'], ['MULTITRUNK SA (YEAP!)', '5236-5200', 'www.yeap.com.ar', 'General Galarza', 'ENTRE RIOS'], ['NETIUM S.A.', '0810 888 6384', 'www.netium.com.ar', 'General Galarza', 'ENTRE RIOS'], ['NETIUM S.A.', '0810 888 6384', 'www.netium.com.ar', 'General Ramirez', 'ENTRE RIOS'], ['RED INTERCABLE DIGITAL S.A.', '(5411) 6091.5600', 'www.redintercable.com.ar', 'General Ramírez', 'ENTRE RIOS'], ['RED INTERCABLE DIGITAL S.A.', '(5411) 6091.5600', 'www.redintercable.com.ar', 'Gilbert', 'ENTRE RIOS'], ['NETIUM S.A.', '0810 888 6384', 'www.netium.com.ar', 'Gobernador Mansilla', 'ENTRE RIOS'], ['MULTITRUNK SA (YEAP!)', '5236-5200', 'www.yeap.com.ar', 'Gualeguay', 'ENTRE RIOS'], ['ADVANTUN SRL', '5365-8800', 'www.advantun.com', 'Gualeguaychu', 'ENTRE RIOS'], ['CAGNOLI CONRADO ATILIO (ENTRERIOS.NET)', '(03446) 426555/427049', 'www.entrerios.net', 'Gualeguaychu', 'ENTRE RIOS'], ['MULTITRUNK SA (YEAP!)', '5236-5200', 'www.yeap.com.ar', 'Gualeguaychu', 'ENTRE RIOS'], ['URUNET SRL', '03442-420600 / 482123', 'www.urunetargentina.com', 'Gualeguaychu', 'ENTRE RIOS'], ['FASTER SRL', '0343 4920220', 'www.fasterenlinea.com.ar', 'Hasenkamp', 'ENTRE RIOS'], ['NETIUM S.A.', '0810 888 6384', 'www.netium.com.ar', 'Hernandez', 'ENTRE RIOS'], ['RED INTERCABLE DIGITAL S.A.', '(5411) 6091.5600', 'www.redintercable.com.ar', 'Ibicuy', 'ENTRE RIOS'], ['SISTA S.A.', '(0221) 4275510', 'www.sista.com.ar', 'Ibicuy', 'ENTRE RIOS'], ['RED INTERCABLE DIGITAL S.A.', '(5411) 6091.5600', 'www.redintercable.com.ar', 'Irazusta', 'ENTRE RIOS'], ['FONZO CRISTIAN JAVIER', '3446 15 558285', '', 'Irazusta', 'ENTRE RIOS'], ['RED INTERCABLE DIGITAL S.A.', '(5411) 6091.5600', 'www.redintercable.com.ar', 'La Paz', 'ENTRE RIOS'], ['CAGNOLI CONRADO ATILIO (ENTRERIOS.NET)', '(03446) 426555/427049', 'www.entrerios.net', 'Larroque', 'ENTRE RIOS'], ['FONZO CRISTIAN JAVIER', '3446 15 558285', '', 'Larroque', 'ENTRE RIOS'], ['RED INTERCABLE DIGITAL S.A.', '(5411) 6091.5600', 'www.redintercable.com.ar', 'Larroque', 'ENTRE RIOS'], ['FASTER SRL', '0343 4920220', 'www.fasterenlinea.com.ar', 'Las Tunas', 'ENTRE RIOS'], ['RADIODIFUSORA CHAJARI S.A. (MULTIMEDIOS CHAJA', '0R3I)456-420002', '', 'Los Conquistadores', 'ENTRE RIOS']]\n",
      "(36, 5)\n",
      "Tabla 1 en la página 49: [['RED INTERCABLE DIGITAL S.A.', '(5411) 6091.5600', 'www.redintercable.com.ar', 'Los Conquistadores', 'ENTRE RIOS'], ['NETIUM S.A.', '0810 888 6384', 'www.netium.com.ar', 'Lucas Gonzalez', 'ENTRE RIOS'], ['RED INTERCABLE DIGITAL S.A.', '(5411) 6091.5600', 'www.redintercable.com.ar', 'Macia', 'ENTRE RIOS'], ['RED INTERCABLE DIGITAL S.A.', '(5411) 6091.5600', 'www.redintercable.com.ar', 'Mansilla', 'ENTRE RIOS'], ['FASTER SRL', '0343 4920220', 'www.fasterenlinea.com.ar', 'Maria Grande', 'ENTRE RIOS'], ['NETIUM S.A.', '0810 888 6384', 'www.netium.com.ar', 'Nogoya', 'ENTRE RIOS'], ['GIGARED S.A.', '6310-6000', 'www.gigared.com', 'Paraná', 'ENTRE RIOS'], ['SION SA', '0810 999 0100', 'www.sion.com', 'Paraná', 'ENTRE RIOS'], ['TELMEX ARGENTINA S.A.', '', 'www.claro.com.ar', 'Paraná', 'ENTRE RIOS'], ['RED INTERCABLE DIGITAL S.A.', '(5411) 6091.5600', 'www.redintercable.com.ar', 'Rosario del Tala', 'ENTRE RIOS'], ['SION SA', '0810 999 0100', 'www.sion.com', 'San Agustín', 'ENTRE RIOS'], ['RADIODIFUSORA CHAJARI S.A. (MULTIMEDIOS CHAJA', '0R3I)456-420002', '', 'San Jaime', 'ENTRE RIOS'], ['RED INTERCABLE DIGITAL S.A.', '(5411) 6091.5600', 'www.redintercable.com.ar', 'San Jaime', 'ENTRE RIOS'], ['RED INTERCABLE DIGITAL S.A.', '(5411) 6091.5600', 'www.redintercable.com.ar', 'San José', 'ENTRE RIOS'], ['RED INTERCABLE DIGITAL S.A.', '(5411) 6091.5600', 'www.redintercable.com.ar', 'San José de Feliciano', 'ENTRE RIOS'], ['RED INTERCABLE DIGITAL S.A.', '(5411) 6091.5600', 'www.redintercable.com.ar', 'San Salvador', 'ENTRE RIOS'], ['RADIODIFUSORA CHAJARI S.A. (MULTIMEDIOS CHAJA', '0R3I)456-420002', '', 'Santa Ana', 'ENTRE RIOS'], ['RED INTERCABLE DIGITAL S.A.', '(5411) 6091.5600', 'www.redintercable.com.ar', 'Santa Ana', 'ENTRE RIOS'], ['RED INTERCABLE DIGITAL S.A.', '(5411) 6091.5600', 'www.redintercable.com.ar', 'Santa Elena', 'ENTRE RIOS'], ['FASTER SRL', '0343 4920220', 'www.fasterenlinea.com.ar', 'Seguí', 'ENTRE RIOS'], ['RED INTERCABLE DIGITAL S.A.', '(5411) 6091.5600', 'www.redintercable.com.ar', 'Seguí', 'ENTRE RIOS'], ['FASTER SRL', '0343 4920220', 'www.fasterenlinea.com.ar', 'Tabossi', 'ENTRE RIOS'], ['FONZO CRISTIAN JAVIER', '3446 15 558285', '', 'Talitas', 'ENTRE RIOS'], ['RED INTERCABLE DIGITAL S.A.', '(5411) 6091.5600', 'www.redintercable.com.ar', 'Urdinarrain', 'ENTRE RIOS'], ['URUNET SRL', '03442-420600 / 482123', 'www.urunetargentina.com', 'Uruguay', 'ENTRE RIOS'], ['FASTER SRL', '0343 4920220', 'www.fasterenlinea.com.ar', 'Viale', 'ENTRE RIOS'], ['RED INTERCABLE DIGITAL S.A.', '(5411) 6091.5600', 'www.redintercable.com.ar', 'Villa Aranguren', 'ENTRE RIOS'], ['RED INTERCABLE DIGITAL S.A.', '(5411) 6091.5600', 'www.redintercable.com.ar', 'Villa Clara', 'ENTRE RIOS'], ['RADIODIFUSORA CHAJARI S.A. (MULTIMEDIOS CHAJA', '0R3I)456-420002', '', 'Villa del Rosario', 'ENTRE RIOS'], ['RED INTERCABLE DIGITAL S.A.', '(5411) 6091.5600', 'www.redintercable.com.ar', 'Villa del Rosario', 'ENTRE RIOS'], ['RED INTERCABLE DIGITAL S.A.', '(5411) 6091.5600', 'www.redintercable.com.ar', 'Villa Dominguez', 'ENTRE RIOS'], ['RED INTERCABLE DIGITAL S.A.', '(5411) 6091.5600', 'www.redintercable.com.ar', 'Villa Elisa', 'ENTRE RIOS'], ['RED INTERCABLE DIGITAL S.A.', '(5411) 6091.5600', 'www.redintercable.com.ar', 'Villa Mantero', 'ENTRE RIOS'], ['RED INTERCABLE DIGITAL S.A.', '(5411) 6091.5600', 'www.redintercable.com.ar', 'Villa Paranacito', 'ENTRE RIOS'], ['SION SA', '0810 999 0100', 'www.sion.com', 'Villa Uranga', 'ENTRE RIOS'], ['NETCOMM ARGENTINA SRL (INFINET FIBRA)', '345-4226440', 'www.infinet.com.ar', 'Villaguay', 'ENTRE RIOS'], ['RED INTERCABLE DIGITAL S.A.', '(5411) 6091.5600', 'www.redintercable.com.ar', 'Villaguay', 'ENTRE RIOS']]\n",
      "(36, 5)\n",
      "Tabla 1 en la página 50: [['ALTEC S.E.', '(54 294) 4420807 / 4422696', 'www.altec.com.ar', '', 'ENTRE RIOS'], ['SERVICIOS PARA EL TRANSPORTE DE INFORMACION', 'S4.A30. 9(S-P5T4I0)0', 'www.boldt.com.ar', '', 'ENTRE RIOS'], ['TELEVISION ORIENTADA SA (TVO DIGITAL)', '0370-4473650-4434244', 'www.tvofiber.com.ar', 'CIUDAD DE FORMOSA', 'FORMOSA'], ['RED INTERCABLE DIGITAL S.A.', '(5411) 6091.5600', 'www.redintercable.com.ar', 'El Colorado', 'FORMOSA'], ['RUBEN OSCAR MOSSO (INTERZONA WIFI)', '3725 421330', 'www.interzonawifi.com.ar', 'El Colorado', 'FORMOSA'], ['BROADBANDTECH SA (BBT)', '011 6385-9100', 'www.bbt.com.ar', 'Formosa', 'FORMOSA'], ['TELEVISION ORIENTADA SA (TVO DIGITAL)', '0370-4473650-4434244', 'www.tvofiber.com.ar', 'HERRADURA', 'FORMOSA'], ['TELEVISION ORIENTADA SA (TVO DIGITAL)', '0370-4473650-4434244', 'www.tvofiber.com.ar', 'MOJÓN DE FIERRO', 'FORMOSA'], ['RUBEN OSCAR MOSSO (INTERZONA WIFI)', '3725 421330', 'www.interzonawifi.com.ar', 'Pirane', 'FORMOSA'], ['TELEVISION ORIENTADA SA (TVO DIGITAL)', '0370-4473650-4434244', 'www.tvofiber.com.ar', 'SAN HILARIO', 'FORMOSA'], ['TELEVISION ORIENTADA SA (TVO DIGITAL)', '0370-4473650-4434244', 'www.tvofiber.com.ar', 'VILLA DEL CARMEN', 'FORMOSA'], ['RUBEN OSCAR MOSSO (INTERZONA WIFI)', '3725 421330', 'www.interzonawifi.com.ar', 'Villa Dos Trece', 'FORMOSA'], ['RUBEN OSCAR MOSSO (INTERZONA WIFI)', '3725 421330', 'www.interzonawifi.com.ar', 'Villafanie', 'FORMOSA'], ['SERVICIOS PARA EL TRANSPORTE DE INFORMACION', 'S4.A30. 9(S-P5T4I0)0', 'www.boldt.com.ar', '', 'FORMOSA'], ['VEGA SILVERIO (SILVER CHANNEL)', '3886 457901', 'www.silverchannel.tv', 'CAIMANCITO', 'JUJUY'], ['RED INTERCABLE DIGITAL S.A.', '(5411) 6091.5600', 'www.redintercable.com.ar', 'Calilegua', 'JUJUY'], ['VEGA SILVERIO (SILVER CHANNEL)', '3886 457901', 'www.silverchannel.tv', 'CALILEGUA', 'JUJUY'], ['VEGA SILVERIO (SILVER CHANNEL)', '3886 457901', 'www.silverchannel.tv', 'CHALICAN', 'JUJUY'], ['TECNOVISION S.A. CANAL 2 PERICO', '0388-4911452', 'www.canal2perico.com.ar/canal2', 'Ciudad Perico', 'JUJUY'], ['VEGA SILVERIO (SILVER CHANNEL)', '3886 457901', 'www.silverchannel.tv', 'EL BANANAL', 'JUJUY'], ['TECNOVISION S.A. CANAL 2 PERICO', '0388-4911452', 'www.canal2perico.com.ar/canal2', 'El Cadillal', 'JUJUY'], ['DESE TECHNOLOGIES ARGENTINA S.A. (DESEMAX)', '0291-4066200', 'www.desetech.com.ar', 'El Carmen', 'JUJUY'], ['RED INTERCABLE DIGITAL S.A.', '(5411) 6091.5600', 'www.redintercable.com.ar', 'El Carmen', 'JUJUY'], ['TECNOVISION S.A. CANAL 2 PERICO', '0388-4911452', 'www.canal2perico.com.ar/canal2', 'El Carmen', 'JUJUY'], ['VEGA SILVERIO (SILVER CHANNEL)', '3886 457901', 'www.silverchannel.tv', 'EL TALAR', 'JUJUY'], ['VEGA SILVERIO (SILVER CHANNEL)', '3886 457901', 'www.silverchannel.tv', 'FRAILE PINTADO', 'JUJUY'], ['RED INTERCABLE DIGITAL S.A.', '(5411) 6091.5600', 'www.redintercable.com.ar', 'Humahuaca', 'JUJUY'], ['RED INTERCABLE DIGITAL S.A.', '(5411) 6091.5600', 'www.redintercable.com.ar', 'La Esperanza', 'JUJUY'], ['VEGA SILVERIO (SILVER CHANNEL)', '3886 457901', 'www.silverchannel.tv', 'LA LUCRECIA', 'JUJUY'], ['RED INTERCABLE DIGITAL S.A.', '(5411) 6091.5600', 'www.redintercable.com.ar', 'La Mendieta', 'JUJUY'], ['VEGA SILVERIO (SILVER CHANNEL)', '3886 457901', 'www.silverchannel.tv', 'LIBERTADOR GENERAL SAN MAR', 'TJIUNJUY'], ['DESE TECHNOLOGIES ARGENTINA S.A. (DESEMAX)', '0291-4066200', 'www.desetech.com.ar', 'Libertador General San Martín', 'JUJUY'], ['RED INTERCABLE DIGITAL S.A.', '(5411) 6091.5600', 'www.redintercable.com.ar', 'Libertador General San Martín', 'JUJUY'], ['TECNOVISION S.A. CANAL 2 PERICO', '0388-4911452', 'www.canal2perico.com.ar/canal2', 'Los Lapachos', 'JUJUY'], ['DESE TECHNOLOGIES ARGENTINA S.A. (DESEMAX)', '0291-4066200', 'www.desetech.com.ar', 'Monterrico', 'JUJUY'], ['RED INTERCABLE DIGITAL S.A.', '(5411) 6091.5600', 'www.redintercable.com.ar', 'Monterrico', 'JUJUY'], ['TECNOVISION S.A. CANAL 2 PERICO', '0388-4911452', 'www.canal2perico.com.ar/canal2', 'Monterrico', 'JUJUY']]\n",
      "(36, 5)\n",
      "Tabla 1 en la página 51: [['RED INTERCABLE DIGITAL S.A.', '(5411) 6091.5600', 'www.redintercable.com.ar', 'Palma Sola', 'JUJUY'], ['DESE TECHNOLOGIES ARGENTINA S.A. (DESEMAX)', '0291-4066200', 'www.desetech.com.ar', 'Palpalá', 'JUJUY'], ['VIDEOTEL S.R.L.', '0388-4271123', 'www.videotel.com.ar', 'Palpalá', 'JUJUY'], ['TECNOVISION S.A. CANAL 2 PERICO', '0388-4911452', 'www.canal2perico.com.ar/canal2', 'Pampa Blanca', 'JUJUY'], ['DESE TECHNOLOGIES ARGENTINA S.A. (DESEMAX)', '0291-4066200', 'www.desetech.com.ar', 'Perico', 'JUJUY'], ['RED INTERCABLE DIGITAL S.A.', '(5411) 6091.5600', 'www.redintercable.com.ar', 'Perico', 'JUJUY'], ['TECNOVISION S.A. CANAL 2 PERICO', '0388-4911452', 'www.canal2perico.com.ar/canal2', 'Puesto Viejo', 'JUJUY'], ['DESE TECHNOLOGIES ARGENTINA S.A. (DESEMAX)', '0291-4066200', 'www.desetech.com.ar', 'San Antonio', 'JUJUY'], ['TECNOVISION S.A. CANAL 2 PERICO', '0388-4911452', 'www.canal2perico.com.ar/canal2', 'San Antonio', 'JUJUY'], ['CABLE AUDIO VISION S.R.L.', '03888 420120', 'www.cableaudiovision.com.ar', 'San Pedro', 'JUJUY'], ['DESE TECHNOLOGIES ARGENTINA S.A. (DESEMAX)', '0291-4066200', 'www.desetech.com.ar', 'San Pedro', 'JUJUY'], ['RED INTERCABLE DIGITAL S.A.', '(5411) 6091.5600', 'www.redintercable.com.ar', 'San Pedro', 'JUJUY'], ['AZUL NETWORKS S.R.L.', '3885 702089', 'www.azulnet.com.ar', 'San Salvador de Jujuy', 'JUJUY'], ['MULTITRUNK SA (YEAP!)', '5236-5200', 'www.yeap.com.ar', 'San Salvador de Jujuy', 'Jujuy'], ['MUNICIPALIDAD DE SAN SALVADOR DE JUJUY', '0388 4000000', 'www.sansalvadordejujuy.gob.ar', 'San Salvador de Jujuy', 'JUJUY'], ['TELMEX ARGENTINA S.A.', '', 'www.claro.com.ar', 'San Salvador de Jujuy', 'JUJUY'], ['UNIVERSIDAD NACIONAL DE JUJUY', '0388-4221602', 'www.unju.edu.ar', 'San Salvador de Jujuy', 'JUJUY'], ['WARI.NET COMUNICACIONES S.R.L.', '54-388-4222877', 'www.wari.net.ar', 'San Salvador de Jujuy', 'JUJUY'], ['VEGA SILVERIO (SILVER CHANNEL)', '3886 457901', 'www.silverchannel.tv', 'VINALITO', 'JUJUY'], ['VEGA SILVERIO (SILVER CHANNEL)', '3886 457901', 'www.silverchannel.tv', 'YUTO', 'JUJUY'], ['RED INTERCABLE DIGITAL S.A.', '(5411) 6091.5600', 'www.redintercable.com.ar', 'Agustoni', 'LA PAMPA'], ['RED INTERCABLE DIGITAL S.A.', '(5411) 6091.5600', 'www.redintercable.com.ar', 'Alpachiri', 'LA PAMPA'], ['DE AMBROSIO MARCELO MATIAS (VELONET)', '(02302) 436605', 'www.velonet.com.ar', 'Alta Italia', 'LA PAMPA'], ['RED INTERCABLE DIGITAL S.A.', '(5411) 6091.5600', 'www.redintercable.com.ar', 'Alta Italia', 'LA PAMPA'], ['RED INTERCABLE DIGITAL S.A.', '(5411) 6091.5600', 'www.redintercable.com.ar', 'Anguil', 'LA PAMPA'], ['RED INTERCABLE DIGITAL S.A.', '(5411) 6091.5600', 'www.redintercable.com.ar', 'Ataliva Roca', 'LA PAMPA'], ['RED INTERCABLE DIGITAL S.A.', '(5411) 6091.5600', 'www.redintercable.com.ar', 'Carro Quemado', 'LA PAMPA'], ['RED INTERCABLE DIGITAL S.A.', '(5411) 6091.5600', 'www.redintercable.com.ar', 'Catriló', 'LA PAMPA'], ['RED INTERCABLE DIGITAL S.A.', '(5411) 6091.5600', 'www.redintercable.com.ar', 'Ceballos', 'LA PAMPA'], ['RED INTERCABLE DIGITAL S.A.', '(5411) 6091.5600', 'www.redintercable.com.ar', 'Colonia 25 de Mayo', 'LA PAMPA'], ['DE AMBROSIO MARCELO MATIAS (VELONET)', '(02302) 436605', 'www.velonet.com.ar', 'Colonia Baron', 'LA PAMPA'], ['RED INTERCABLE DIGITAL S.A.', '(5411) 6091.5600', 'www.redintercable.com.ar', 'Colonia Baron', 'LA PAMPA'], ['RED INTERCABLE DIGITAL S.A.', '(5411) 6091.5600', 'www.redintercable.com.ar', 'Colonia Sta. Teresa', 'LA PAMPA'], ['RED INTERCABLE DIGITAL S.A.', '(5411) 6091.5600', 'www.redintercable.com.ar', 'Damián Maisonnave', 'LA PAMPA'], ['RED INTERCABLE DIGITAL S.A.', '(5411) 6091.5600', 'www.redintercable.com.ar', 'Dorila', 'LA PAMPA'], ['DE AMBROSIO MARCELO MATIAS (VELONET)', '(02302) 436605', 'www.velonet.com.ar', 'Eduardo Castex', 'LA PAMPA'], ['RED INTERCABLE DIGITAL S.A.', '(5411) 6091.5600', 'www.redintercable.com.ar', 'Eduardo Castex', 'LA PAMPA']]\n",
      "(36, 5)\n",
      "Tabla 1 en la página 52: [['RED INTERCABLE DIGITAL S.A.', '(5411) 6091.5600', 'www.redintercable.com.ar', 'Embajador Martini', 'LA PAMPA'], ['RED INTERCABLE DIGITAL S.A.', '(5411) 6091.5600', 'www.redintercable.com.ar', 'Falucho', 'LA PAMPA'], ['RED INTERCABLE DIGITAL S.A.', '(5411) 6091.5600', 'www.redintercable.com.ar', 'Fortín Olavarría', 'LA PAMPA'], ['RED INTERCABLE DIGITAL S.A.', '(5411) 6091.5600', 'www.redintercable.com.ar', 'General Acha', 'LA PAMPA'], ['RED INTERCABLE DIGITAL S.A.', '(5411) 6091.5600', 'www.redintercable.com.ar', 'General Manuel J. Campos', 'LA PAMPA'], ['COOPERATIVA REGIONAL DE ELECTRICIDAD DE OBRA', '0S 2Y3 O02T-R3O3S5 5S5E5RVICIOS DE GENERAL', 'PwICwOw L.IcMorIpTAicDoA.c o“mCO.aRrPICO”', 'General Pico', 'LA PAMPA'], ['DE AMBROSIO MARCELO MATIAS (VELONET)', '(02302) 436605', 'www.velonet.com.ar', 'General Pico', 'LA PAMPA'], ['TELMEX ARGENTINA S.A.', '', 'www.claro.com.ar', 'General Pico', 'LA PAMPA'], ['RED INTERCABLE DIGITAL S.A.', '(5411) 6091.5600', 'www.redintercable.com.ar', 'Guatraché', 'LA PAMPA'], ['DE AMBROSIO MARCELO MATIAS (VELONET)', '(02302) 436605', 'www.velonet.com.ar', 'Ingeniero Luiggi', 'LA PAMPA'], ['RED INTERCABLE DIGITAL S.A.', '(5411) 6091.5600', 'www.redintercable.com.ar', 'Intendente Alvear', 'LA PAMPA'], ['RED INTERCABLE DIGITAL S.A.', '(5411) 6091.5600', 'www.redintercable.com.ar', 'La Adela', 'LA PAMPA'], ['RED INTERCABLE DIGITAL S.A.', '(5411) 6091.5600', 'www.redintercable.com.ar', 'La Maruja', 'LA PAMPA'], ['RED INTERCABLE DIGITAL S.A.', '(5411) 6091.5600', 'www.redintercable.com.ar', 'Lonquimay', 'LA PAMPA'], ['DE AMBROSIO MARCELO MATIAS (VELONET)', '(02302) 436605', 'www.velonet.com.ar', 'Luan Toro', 'LA PAMPA'], ['RED INTERCABLE DIGITAL S.A.', '(5411) 6091.5600', 'www.redintercable.com.ar', 'Luan Toro', 'LA PAMPA'], ['RED INTERCABLE DIGITAL S.A.', '(5411) 6091.5600', 'www.redintercable.com.ar', 'Macachín', 'LA PAMPA'], ['RED INTERCABLE DIGITAL S.A.', '(5411) 6091.5600', 'www.redintercable.com.ar', 'Mauricio Mayer', 'LA PAMPA'], ['RED INTERCABLE DIGITAL S.A.', '(5411) 6091.5600', 'www.redintercable.com.ar', 'Metileo', 'LA PAMPA'], ['RED INTERCABLE DIGITAL S.A.', '(5411) 6091.5600', 'www.redintercable.com.ar', 'Miguel Cane', 'LA PAMPA'], ['RED INTERCABLE DIGITAL S.A.', '(5411) 6091.5600', 'www.redintercable.com.ar', 'Miguel Riglos', 'LA PAMPA'], ['DE AMBROSIO MARCELO MATIAS (VELONET)', '(02302) 436605', 'www.velonet.com.ar', 'Monte Nievas', 'LA PAMPA'], ['RED INTERCABLE DIGITAL S.A.', '(5411) 6091.5600', 'www.redintercable.com.ar', 'Monte Nievas', 'LA PAMPA'], ['DE AMBROSIO MARCELO MATIAS (VELONET)', '(02302) 436605', 'www.velonet.com.ar', 'Quemu Quemu', 'LA PAMPA'], ['RED INTERCABLE DIGITAL S.A.', '(5411) 6091.5600', 'www.redintercable.com.ar', 'Quemu Quemu', 'LA PAMPA'], ['RED INTERCABLE DIGITAL S.A.', '(5411) 6091.5600', 'www.redintercable.com.ar', 'Quetrequen', 'LA PAMPA'], ['RED INTERCABLE DIGITAL S.A.', '(5411) 6091.5600', 'www.redintercable.com.ar', 'Rancul', 'LA PAMPA'], ['DE AMBROSIO MARCELO MATIAS (VELONET)', '(02302) 436605', 'www.velonet.com.ar', 'Realico', 'LA PAMPA'], ['RED INTERCABLE DIGITAL S.A.', '(5411) 6091.5600', 'www.redintercable.com.ar', 'Relmo', 'LA PAMPA'], ['RED INTERCABLE DIGITAL S.A.', '(5411) 6091.5600', 'www.redintercable.com.ar', 'Rolón', 'LA PAMPA'], ['DE AMBROSIO MARCELO MATIAS (VELONET)', '(02302) 436605', 'www.velonet.com.ar', 'Runcanello', 'LA PAMPA'], ['RED INTERCABLE DIGITAL S.A.', '(5411) 6091.5600', 'www.redintercable.com.ar', 'San Miguel Arcángel', 'LA PAMPA'], ['RED INTERCABLE DIGITAL S.A.', '(5411) 6091.5600', 'www.redintercable.com.ar', 'Santa Isabel', 'LA PAMPA'], ['MULTITRUNK SA (YEAP!)', '5236-5200', 'www.yeap.com.ar', 'Santa Rosa', 'LA PAMPA'], ['TELMEX ARGENTINA S.A.', '', 'www.claro.com.ar', 'Santa Rosa', 'LA PAMPA'], ['RED INTERCABLE DIGITAL S.A.', '(5411) 6091.5600', 'www.redintercable.com.ar', 'Sarha', 'LA PAMPA'], ['RED INTERCABLE DIGITAL S.A.', '(5411) 6091.5600', 'www.redintercable.com.ar', 'Sauce', 'LA PAMPA']]\n",
      "(36, 5)\n",
      "Tabla 1 en la página 53: [['RED INTERCABLE DIGITAL S.A.', '(5411) 6091.5600', 'www.redintercable.com.ar', 'Telén', 'LA PAMPA'], ['DE AMBROSIO MARCELO MATIAS (VELONET)', '(02302) 436605', 'www.velonet.com.ar', 'Trenel', 'LA PAMPA'], ['RED INTERCABLE DIGITAL S.A.', '(5411) 6091.5600', 'www.redintercable.com.ar', 'Uriburu', 'LA PAMPA'], ['RED INTERCABLE DIGITAL S.A.', '(5411) 6091.5600', 'www.redintercable.com.ar', 'Van Praet', 'LA PAMPA'], ['DE AMBROSIO MARCELO MATIAS (VELONET)', '(02302) 436605', 'www.velonet.com.ar', 'Vertiz', 'LA PAMPA'], ['RED INTERCABLE DIGITAL S.A.', '(5411) 6091.5600', 'www.redintercable.com.ar', 'Vertiz', 'LA PAMPA'], ['DE AMBROSIO MARCELO MATIAS (VELONET)', '(02302) 436605', 'www.velonet.com.ar', 'Victoria', 'LA PAMPA'], ['RED INTERCABLE DIGITAL S.A.', '(5411) 6091.5600', 'www.redintercable.com.ar', 'Victoria', 'LA PAMPA'], ['RED INTERCABLE DIGITAL S.A.', '(5411) 6091.5600', 'www.redintercable.com.ar', 'Villa Mirasol', 'LA PAMPA'], ['RED INTERCABLE DIGITAL S.A.', '(5411) 6091.5600', 'www.redintercable.com.ar', 'Winifreda', 'LA PAMPA'], ['GONZALO HOURCADE COMUNICACIONES S.R.L. (GH', 'C5O4 M9 U29N9IC 4A4C8I O2N50E9S)', 'www.ghcomunicaciones.com.ar', '', 'LA PAMPA'], ['SION SA', '0810 999 0100', 'www.sion.com', 'La Rioja', 'LA RIOJA'], ['TELMEX ARGENTINA S.A.', '', 'www.claro.com.ar', 'La Rioja', 'LA RIOJA'], ['TECHTRON ARGENTINA S.A. (CELER INTERNET)', '8103335113', 'www.celerargentina.com.ar', 'Alto Salvador', 'MENDOZA'], ['TECHTRON ARGENTINA S.A. (CELER INTERNET)', '8103335113', 'www.celerargentina.com.ar', 'Alto Verde', 'MENDOZA'], ['TECHTRON ARGENTINA S.A. (CELER INTERNET)', '8103335113', 'www.celerargentina.com.ar', 'Barriales', 'MENDOZA'], ['SION SA', '0810 999 0100', 'www.sion.com', 'Bermejo', 'MENDOZA'], ['TECHTRON ARGENTINA S.A. (CELER INTERNET)', '8103335113', 'www.celerargentina.com.ar', 'Buen Orden', 'MENDOZA'], ['WAYCOM S.A. (MICOM)', '261 5550022', 'www.micom.com.ar', 'Buena Nueva', 'MENDOZA'], ['SION SA', '0810 999 0100', 'www.sion.com', 'Carrodilla la Punilla', 'MENDOZA'], ['TECHTRON ARGENTINA S.A. (CELER INTERNET)', '8103335113', 'www.celerargentina.com.ar', 'Carrodilla la Punilla', 'MENDOZA'], ['WAYCOM S.A. (MICOM)', '261 5550022', 'www.micom.com.ar', 'Carrodilla la Punilla', 'MENDOZA'], ['SION SA', '0810 999 0100', 'www.sion.com', 'Chacras de Coria', 'MENDOZA'], ['TECHTRON ARGENTINA S.A. (CELER INTERNET)', '8103335113', 'www.celerargentina.com.ar', 'Chapanay', 'MENDOZA'], ['TECHTRON ARGENTINA S.A. (CELER INTERNET)', '8103335113', 'www.celerargentina.com.ar', 'Coquimbito', 'MENDOZA'], ['WAYCOM S.A. (MICOM)', '261 5550022', 'www.micom.com.ar', 'Coquimbito', 'MENDOZA'], ['TECHTRON ARGENTINA S.A. (CELER INTERNET)', '8103335113', 'www.celerargentina.com.ar', 'Cruz de Piedra', 'MENDOZA'], ['WAYCOM S.A. (MICOM)', '261 5550022', 'www.micom.com.ar', 'Cuarta Seccion', 'MENDOZA'], ['WAYCOM S.A. (MICOM)', '261 5550022', 'www.micom.com.ar', 'Fray Luis Beltran', 'MENDOZA'], ['COOP. DE ELECT.CONSUMO COMERCIALIZACION VIVIENDA Y SERVICIO ASISTENCIALES G', None, 'EwNwEwRA.cLe AcsLaVgEaAl.Rc o(CmE.CaSrAGAL)', 'General Alvear', 'MENDOZA'], ['SION SA', '0810 999 0100', 'www.sion.com', 'General Alvear', 'MENDOZA'], ['TECHTRON ARGENTINA S.A. (CELER INTERNET)', '8103335113', 'www.celerargentina.com.ar', 'General Gutierrez', 'MENDOZA'], ['TECHTRON ARGENTINA S.A. (CELER INTERNET)', '8103335113', 'www.celerargentina.com.ar', 'General Ortega', 'MENDOZA'], ['TECHTRON ARGENTINA S.A. (CELER INTERNET)', '8103335113', 'www.celerargentina.com.ar', 'General San Martin', 'MENDOZA'], ['TECHTRON ARGENTINA S.A. (CELER INTERNET)', '8103335113', 'www.celerargentina.com.ar', 'Gobernador Benegas', 'MENDOZA'], ['ARLINK SA', '(0261) 4496000', 'www.supercanal-arlink.com.ar', 'Godoy Cruz', 'MENDOZA'], ['IFX NETWORKS ARGENTINA SRL', '(011) 5031-2400', 'www.ifxnetworks.com', 'Godoy Cruz', 'MENDOZA']]\n",
      "(36, 5)\n",
      "Tabla 1 en la página 54: [['INFORMATICA Y TELECOMUNICACIONES S.A.', '(0261) 4134500', 'www.itcsa.net.ar', 'Godoy Cruz', 'MENDOZA'], ['INTELA S.A. (NETLINK)', '2616606291', 'www.netlink.com.ar', 'Godoy Cruz', 'MENDOZA'], ['INTELISIS S.A.', '54 261 4877000', 'www.intelisis.com.ar', 'Godoy Cruz', 'MENDOZA'], ['MULTITRUNK SA (YEAP!)', '5236-5200', 'www.yeap.com.ar', 'Godoy Cruz', 'MENDOZA'], ['SION SA', '0810 999 0100', 'www.sion.com', 'Godoy Cruz', 'MENDOZA'], ['TECHTRON ARGENTINA S.A. (CELER INTERNET)', '8103335113', 'www.celerargentina.com.ar', 'Godoy Cruz', 'MENDOZA'], ['VELAZQUEZ HERNANDEZ RAFAEL (JETCOM ISP)', '261 510 1206', 'www.jetcom.com.ar', 'Guaymallen', 'MENDOZA'], ['ANDRES POZZI (PUNTO NET INTERNET)', '', 'www.puntonetinternet.com', 'Guaymallén', 'MENDOZA'], ['ARLINK SA', '(0261) 4496000', 'www.supercanal-arlink.com.ar', 'Guaymallén', 'MENDOZA'], ['IFX NETWORKS ARGENTINA SRL', '(011) 5031-2400', 'www.ifxnetworks.com', 'Guaymallén', 'MENDOZA'], ['INFORMATICA Y TELECOMUNICACIONES S.A.', '(0261) 4134500', 'www.itcsa.net.ar', 'Guaymallén', 'MENDOZA'], ['INTELA S.A. (NETLINK)', '2616606291', 'www.netlink.com.ar', 'Guaymallén', 'MENDOZA'], ['INTELISIS S.A.', '54 261 4877000', 'www.intelisis.com.ar', 'Guaymallén', 'MENDOZA'], ['SION SA', '0810 999 0100', 'www.sion.com', 'Guaymallén', 'MENDOZA'], ['ULTIMA MILLA S.A', '2614239637', 'www.ultimamilla.com.ar', 'Guaymallén', 'MENDOZA'], ['WAYCOM S.A. (MICOM)', '261 5550022', 'www.micom.com.ar', 'Gutierrez', 'MENDOZA'], ['NEGOCIOS Y SERVICIOS S.A. (GREEN CONECTION)', '26334439400', '', 'Junin', 'MENDOZA'], ['TECHTRON ARGENTINA S.A. (CELER INTERNET)', '8103335113', 'www.celerargentina.com.ar', 'Junin', 'MENDOZA'], ['TECHTRON ARGENTINA S.A. (CELER INTERNET)', '8103335113', 'www.celerargentina.com.ar', 'La Colonia', 'MENDOZA'], ['SILICA NETWORKS ARGENTINA SA', '+54 (11) 4103-1300', 'www.silicanetworks.com', 'La Paz', 'MENDOZA'], ['ARLINK SA', '(0261) 4496000', 'www.supercanal-arlink.com.ar', 'Las Heras', 'MENDOZA'], ['IFX NETWORKS ARGENTINA SRL', '(011) 5031-2400', 'www.ifxnetworks.com', 'Las Heras', 'MENDOZA'], ['INFORMATICA Y TELECOMUNICACIONES S.A.', '(0261) 4134500', 'www.itcsa.net.ar', 'Las Heras', 'MENDOZA'], ['INTELA S.A. (NETLINK)', '2616606291', 'www.netlink.com.ar', 'Las Heras', 'MENDOZA'], ['INTELISIS S.A.', '54 261 4877000', 'www.intelisis.com.ar', 'Las Heras', 'MENDOZA'], ['SION SA', '0810 999 0100', 'www.sion.com', 'Las Heras', 'MENDOZA'], ['WAYCOM S.A. (MICOM)', '261 5550022', 'www.micom.com.ar', 'Las Heras', 'MENDOZA'], ['TECHTRON ARGENTINA S.A. (CELER INTERNET)', '8103335113', 'www.celerargentina.com.ar', 'Las Tortugas', 'MENDOZA'], ['INTELISIS S.A.', '54 261 4877000', 'www.intelisis.com.ar', 'Lavalle', 'MENDOZA'], ['HIDALGO MARIO GABRIEL (TACHICOM REDES & TELECOMUNICACIONES)', None, '', 'Los Corralitos', 'MENDOZA'], ['ARLINK SA', '(0261) 4496000', 'www.supercanal-arlink.com.ar', 'Lujan', 'MENDOZA'], ['BIGMEDIA ARGENTINA S.A. (FIBO)', '0261-4202830', 'www.fibo.net', 'Lujan de Cuyo', 'MENDOZA'], ['FIBRAS OPTICAS DEL OESTE S.A. (FIBRAS NETWORKS)', '0261-476-5500', 'www.fibras.com.ar', 'Lujan de Cuyo', 'MENDOZA'], ['IFX NETWORKS ARGENTINA SRL', '(011) 5031-2400', 'www.ifxnetworks.com', 'Lujan de Cuyo', 'MENDOZA'], ['INFORMATICA Y TELECOMUNICACIONES S.A.', '(0261) 4134500', 'www.itcsa.net.ar', 'Lujan de Cuyo', 'MENDOZA'], ['INTELISIS S.A.', '54 261 4877000', 'www.intelisis.com.ar', 'Lujan de Cuyo', 'MENDOZA'], ['SION SA', '0810 999 0100', 'www.sion.com', 'Lujan de Cuyo', 'MENDOZA']]\n",
      "(36, 5)\n",
      "Tabla 1 en la página 55: [['TECNET ARGENTINA S.A.', '0261-5620300', 'www.tecnetmza.com.ar', 'Lujan de Cuyo', 'MENDOZA'], ['TELMEX ARGENTINA S.A.', '', 'www.claro.com.ar', 'Lujan de Cuyo', 'MENDOZA'], ['WAYCOM S.A. (MICOM)', '261 5550022', 'www.micom.com.ar', 'Lujan de Cuyo', 'MENDOZA'], ['TECHTRON ARGENTINA S.A. (CELER INTERNET)', '8103335113', 'www.celerargentina.com.ar', 'Lulunta', 'MENDOZA'], ['SION SA', '0810 999 0100', 'www.sion.com', 'Luzuriaga', 'MENDOZA'], ['TECHTRON ARGENTINA S.A. (CELER INTERNET)', '8103335113', 'www.celerargentina.com.ar', 'Luzuriaga', 'MENDOZA'], ['WAYCOM S.A. (MICOM)', '261 5550022', 'www.micom.com.ar', 'Luzuriaga', 'MENDOZA'], ['ARLINK SA', '(0261) 4496000', 'www.supercanal-arlink.com.ar', 'Maipú', 'MENDOZA'], ['BIGMEDIA ARGENTINA S.A. (FIBO)', '0261-4202830', 'www.fibo.net', 'Maipú', 'MENDOZA'], ['FIBRAS OPTICAS DEL OESTE S.A. (FIBRAS NETWORKS)', '0261-476-5500', 'www.fibras.com.ar', 'Maipú', 'MENDOZA'], ['IFX NETWORKS ARGENTINA SRL', '(011) 5031-2400', 'www.ifxnetworks.com', 'Maipú', 'MENDOZA'], ['INFORMATICA Y TELECOMUNICACIONES S.A.', '(0261) 4134500', 'www.itcsa.net.ar', 'Maipú', 'MENDOZA'], ['INTELA S.A. (NETLINK)', '2616606291', 'www.netlink.com.ar', 'Maipú', 'MENDOZA'], ['INTELISIS S.A.', '54 261 4877000', 'www.intelisis.com.ar', 'Maipú', 'MENDOZA'], ['SION SA', '0810 999 0100', 'www.sion.com', 'Maipú', 'MENDOZA'], ['TECHTRON ARGENTINA S.A. (CELER INTERNET)', '8103335113', 'www.celerargentina.com.ar', 'Maipú', 'MENDOZA'], ['VELAZQUEZ HERNANDEZ RAFAEL (JETCOM ISP)', '261 510 1206', 'www.jetcom.com.ar', 'Maipú', 'MENDOZA'], ['WAYCOM S.A. (MICOM)', '261 5550022', 'www.micom.com.ar', 'Maipú', 'MENDOZA'], ['CABLE TELEVISORA COLOR SA', '(0260) 4421097', 'www.cabletelevisoracolor.com', 'Malargüe', 'MENDOZA'], ['FDJ S.A.', '(0260) 4471245', 'www.malargueonline.com.ar', 'Malargüe', 'MENDOZA'], ['FUNDACION INNOVAT (INNOVARED)', '4322-8488', 'www.innova-red.net/', 'Malargüe', 'MENDOZA'], ['SILICA NETWORKS ARGENTINA SA', '+54 (11) 4103-1300', 'www.silicanetworks.com', 'Malargüe', 'MENDOZA'], ['VARAS ALEJANDRA PAOLA (SURNET)', '2604006088', '', 'Malargüe', 'MENDOZA'], ['FIBRAS OPTICAS DEL OESTE S.A. (FIBRAS NETWORKS)', '0261-476-5500', 'www.fibras.com.ar', 'Mayor Drummond', 'MENDOZA'], ['ARLINK SA', '(0261) 4496000', 'www.supercanal-arlink.com.ar', 'Mendoza', 'MENDOZA'], ['FUNDACION INNOVAT (INNOVARED)', '4322-8488', 'www.innova-red.net/', 'Mendoza', 'MENDOZA'], ['IFX NETWORKS ARGENTINA SRL', '(011) 5031-2400', 'www.ifxnetworks.com', 'Mendoza', 'MENDOZA'], ['INFORMATICA Y TELECOMUNICACIONES S.A.', '(0261) 4134500', 'www.itcsa.net.ar', 'Mendoza', 'MENDOZA'], ['MEGATRANS SA', '4343-5657', 'www.megatrans.com.ar', 'Mendoza', 'MENDOZA'], ['MULTITRUNK SA (YEAP!)', '5236-5200', 'www.yeap.com.ar', 'Mendoza', 'MENDOZA'], ['PRONETWORK COMUNICACIONES S.A.', '(0261) 4200729', '', 'Mendoza', 'MENDOZA'], ['RECAUDACIONES ELECTRONICAS S.A. (ELDAR)', '', '', 'Mendoza', 'MENDOZA'], ['REDES DEL OESTE SA', '(0261) 4200997', 'www.wesnet.com.ar', 'Mendoza', 'MENDOZA'], ['SILICA NETWORKS ARGENTINA SA', '+54 (11) 4103-1300', 'www.silicanetworks.com', 'Mendoza', 'MENDOZA'], ['SION SA', '0810 999 0100', 'www.sion.com', 'Mendoza', 'MENDOZA'], ['TELMEX ARGENTINA S.A.', '', 'www.claro.com.ar', 'Mendoza', 'MENDOZA'], ['WAN DEVELOPMENTS SAS (WAN INTERNET)', '54 261 4340101', 'www.waninternet.com', 'Mendoza', 'MENDOZA']]\n",
      "(36, 5)\n",
      "Tabla 1 en la página 56: [['WAYCOM S.A. (MICOM)', '261 5550022', 'www.micom.com.ar', 'Mendoza', 'MENDOZA'], ['TECHTRON ARGENTINA S.A. (CELER INTERNET)', '8103335113', 'www.celerargentina.com.ar', 'Montecaseros', 'MENDOZA'], ['TECHTRON ARGENTINA S.A. (CELER INTERNET)', '8103335113', 'www.celerargentina.com.ar', 'Palmira', 'MENDOZA'], ['SION SA', '0810 999 0100', 'www.sion.com', 'Panquehua', 'MENDOZA'], ['SILICA NETWORKS ARGENTINA SA', '+54 (11) 4103-1300', 'www.silicanetworks.com', 'Paso de las Carretas', 'MENDOZA'], ['TECHTRON ARGENTINA S.A. (CELER INTERNET)', '8103335113', 'www.celerargentina.com.ar', 'Philips', 'MENDOZA'], ['CREA SERVICIOS TECNOLOGICOS S.A.P.E.M. (ONE INT', '2E6R3N E4T4)44 5162 / 63', 'www.oneinternet.com.ar', 'RIVADAVIA', 'MENDOZA'], ['NEGOCIOS Y SERVICIOS S.A. (GREEN CONECTION)', '26334439400', '', 'Rivadavia', 'MENDOZA'], ['TECHTRON ARGENTINA S.A. (CELER INTERNET)', '8103335113', 'www.celerargentina.com.ar', 'Rivadavia', 'MENDOZA'], ['SION SA', '0810 999 0100', 'www.sion.com', 'Rodeo de la Cruz', 'MENDOZA'], ['TECHTRON ARGENTINA S.A. (CELER INTERNET)', '8103335113', 'www.celerargentina.com.ar', 'Rodeo de la Cruz', 'MENDOZA'], ['TECHTRON ARGENTINA S.A. (CELER INTERNET)', '8103335113', 'www.celerargentina.com.ar', 'Rodeo del Medio', 'MENDOZA'], ['VELAZQUEZ HERNANDEZ RAFAEL (JETCOM ISP)', '261 510 1206', 'www.jetcom.com.ar', 'Rodeo del Medio', 'MENDOZA'], ['WAYCOM S.A. (MICOM)', '261 5550022', 'www.micom.com.ar', 'Rodeo del Medio', 'MENDOZA'], ['TECHTRON ARGENTINA S.A. (CELER INTERNET)', '8103335113', 'www.celerargentina.com.ar', 'Rodriguez Peña', 'MENDOZA'], ['TECHTRON ARGENTINA S.A. (CELER INTERNET)', '8103335113', 'www.celerargentina.com.ar', 'Russell', 'MENDOZA'], ['IFX NETWORKS ARGENTINA SRL', '(011) 5031-2400', 'www.ifxnetworks.com', 'San Carlos', 'MENDOZA'], ['INTELISIS S.A.', '54 261 4877000', 'www.intelisis.com.ar', 'San Carlos', 'MENDOZA'], ['WAYCOM S.A. (MICOM)', '261 5550022', 'www.micom.com.ar', 'San Jose', 'MENDOZA'], ['ARLINK SA', '(0261) 4496000', 'www.supercanal-arlink.com.ar', 'San Martin', 'MENDOZA'], ['INFORMATICA Y TELECOMUNICACIONES S.A.', '(0261) 4134500', 'www.itcsa.net.ar', 'San Martin', 'MENDOZA'], ['NEGOCIOS Y SERVICIOS S.A. (GREEN CONECTION)', '26334439400', '', 'San Martin', 'MENDOZA'], ['SION SA', '0810 999 0100', 'www.sion.com', 'San Martin', 'MENDOZA'], ['CABLE TELEVISORA COLOR SA', '(0260) 4421097', 'www.cabletelevisoracolor.com', 'San Rafael', 'MENDOZA'], ['COOP. DE ELECT.CONSUMO COMERCIALIZACION VIVIENDA Y SERVICIO ASISTENCIALES G', None, 'EwNwEwRA.cLe AcsLaVgEaAl.Rc o(CmE.CaSrAGAL)', 'San Rafael', 'MENDOZA'], ['MULTITRUNK SA (YEAP!)', '5236-5200', 'www.yeap.com.ar', 'San Rafael', 'MENDOZA'], ['NEUNET S.A.', '(0299) 4894000', 'www.neunet.com.ar', 'San Rafael', 'MENDOZA'], ['OFICINA PYME SA', '0810 333 1000', 'www.oficinapyme.com.ar', 'San Rafael', 'MENDOZA'], ['SILICA NETWORKS ARGENTINA SA', '+54 (11) 4103-1300', 'www.silicanetworks.com', 'San Rafael', 'MENDOZA'], ['SION SA', '0810 999 0100', 'www.sion.com', 'San Rafael', 'MENDOZA'], ['TELMEX ARGENTINA S.A.', '', 'www.claro.com.ar', 'San Rafael', 'MENDOZA'], ['TECHTRON ARGENTINA S.A. (CELER INTERNET)', '8103335113', 'www.celerargentina.com.ar', 'San Roque', 'MENDOZA'], ['SILICA NETWORKS ARGENTINA SA', '+54 (11) 4103-1300', 'www.silicanetworks.com', 'Santa Rosa', 'MENDOZA'], ['CABLE TELEVISORA COLOR SA', '(0260) 4421097', 'www.cabletelevisoracolor.com', 'Tunuyán', 'MENDOZA'], ['IFX NETWORKS ARGENTINA SRL', '(011) 5031-2400', 'www.ifxnetworks.com', 'Tunuyán', 'MENDOZA'], ['INTELISIS S.A.', '54 261 4877000', 'www.intelisis.com.ar', 'Tunuyán', 'MENDOZA'], ['LENIO ARIEL HORAS (SYSTEMAS MICROINFORMATIC', 'O0S2)622-424650', '', 'Tunuyán', 'MENDOZA']]\n",
      "(36, 5)\n",
      "Tabla 1 en la página 57: [['SILICA NETWORKS ARGENTINA SA', '+54 (11) 4103-1300', 'www.silicanetworks.com', 'Tunuyán', 'MENDOZA'], ['SION SA', '0810 999 0100', 'www.sion.com', 'Tunuyán', 'MENDOZA'], ['INTELISIS S.A.', '54 261 4877000', 'www.intelisis.com.ar', 'Tupungato', 'MENDOZA'], ['SILICA NETWORKS ARGENTINA SA', '+54 (11) 4103-1300', 'www.silicanetworks.com', 'Valvula 9', 'MENDOZA'], ['SION SA', '0810 999 0100', 'www.sion.com', 'Villa Hipodromo', 'MENDOZA'], ['SION SA', '0810 999 0100', 'www.sion.com', 'Villa Nueba de Guaymallén', 'MENDOZA'], ['PROTEC ARGENTINA S.A. (MEGAS MAYORISTAS )', '261-6658864', 'www.megasmayoristas.com', '', 'MENDOZA'], ['UNIVERSIDAD TECNOLOGICA NACIONAL', '5371-5600', 'www.utn.edu.ar', '', 'MENDOZA'], ['HOFFMANNBECK OSVALDO ARIEL (FULL INTERNET)', '261-5692282', '', '25 de mayo', 'MISIONES'], ['RED INTERCABLE DIGITAL S.A.', '(5411) 6091.5600', 'www.redintercable.com.ar', '25 de mayo', 'MISIONES'], ['RED INTERCABLE DIGITAL S.A.', '(5411) 6091.5600', 'www.redintercable.com.ar', 'Alem', 'MISIONES'], ['ASA DIGITAL SRL', '(03754) 423590', 'www.asadigital.com.ar', 'Apóstoles', 'MISIONES'], ['RED INTERCABLE DIGITAL S.A.', '(5411) 6091.5600', 'www.redintercable.com.ar', 'Apóstoles', 'MISIONES'], ['COMUNICACIONES Y SERVICIOS SRL', '(0376) 443 3333', 'www.cys.net.ar', 'Aristobulo del Valle', 'MISIONES'], ['INFOMASTER SRL', '(03755) 15650932', '', 'Aristobulo del Valle', 'MISIONES'], ['RED INTERCABLE DIGITAL S.A.', '(5411) 6091.5600', 'www.redintercable.com.ar', 'Aristobulo del Valle', 'MISIONES'], ['SGS VALLE VISION SRL', '03755-470700', 'www.vallevision.com.ar', 'Aristobulo del Valle', 'MISIONES'], ['COMUNICACIONES Y SERVICIOS SRL', '(0376) 443 3333', 'www.cys.net.ar', 'Bonpland', 'MISIONES'], ['RED INTERCABLE DIGITAL S.A.', '(5411) 6091.5600', 'www.redintercable.com.ar', 'Campo Grande', 'MISIONES'], ['RED INTERCABLE DIGITAL S.A.', '(5411) 6091.5600', 'www.redintercable.com.ar', 'Campo Viera', 'MISIONES'], ['COMUNICACIONES Y SERVICIOS SRL', '(0376) 443 3333', 'www.cys.net.ar', 'Candelaria', 'MISIONES'], ['RED INTERCABLE DIGITAL S.A.', '(5411) 6091.5600', 'www.redintercable.com.ar', 'Candelaria', 'MISIONES'], ['COOPERATIVA LUZ Y FUERZA DE LIBERTADOR GENER', 'A(0L3 S7A4N6 )M 47A6R0T0IN0 LIMITADA', 'www.cooprico.com.ar', 'Capioví', 'MISIONES'], ['ASA DIGITAL SRL', '(03754) 423590', 'www.asadigital.com.ar', 'Cerro Azul', 'MISIONES'], ['RED INTERCABLE DIGITAL S.A.', '(5411) 6091.5600', 'www.redintercable.com.ar', 'Cerro Azul', 'MISIONES'], ['COMUNICACIONES Y SERVICIOS SRL', '(0376) 443 3333', 'www.cys.net.ar', 'Cerro Corá', 'MISIONES'], ['ASA DIGITAL SRL', '(03754) 423590', 'www.asadigital.com.ar', 'Concepción de la Sierra', 'MISIONES'], ['RED INTERCABLE DIGITAL S.A.', '(5411) 6091.5600', 'www.redintercable.com.ar', 'Corpus', 'MISIONES'], ['INFOMASTER SRL', '(03755) 15650932', '', 'Dos de Mayo', 'MISIONES'], ['RED INTERCABLE DIGITAL S.A.', '(5411) 6091.5600', 'www.redintercable.com.ar', 'Dos de Mayo', 'MISIONES'], ['INFOMASTER SRL', '(03755) 15650932', '', 'El Soberbio', 'MISIONES'], ['COOPERATIVA LUZ Y FUERZA DE LIBERTADOR GENER', 'A(0L3 S7A4N6 )M 47A6R0T0IN0 LIMITADA', 'www.cooprico.com.ar', 'Garuhapé', 'MISIONES'], ['BROADBANDTECH SA (BBT)', '011 6385-9100', 'www.bbt.com.ar', 'Garupa', 'MISIONES'], ['COMUNICACIONES Y SERVICIOS SRL', '(0376) 443 3333', 'www.cys.net.ar', 'Garupa', 'MISIONES'], ['DATANET SRL', '+549 376 4191498', 'www.datanetsrl.com.ar', 'Garupa', 'MISIONES'], ['COMUNICACIONES Y SERVICIOS SRL', '(0376) 443 3333', 'www.cys.net.ar', 'Gobernador Roca', 'MISIONES'], ['RED INTERCABLE DIGITAL S.A.', '(5411) 6091.5600', 'www.redintercable.com.ar', 'Gobernador Roca', 'MISIONES']]\n",
      "(36, 5)\n",
      "Tabla 1 en la página 58: [['COMUNICACIONES Y SERVICIOS SRL', '(0376) 443 3333', 'www.cys.net.ar', 'Hipolito Yrigoyen', 'MISIONES'], ['ANDY TARON (SWISS-NET ENERGIA & TELECOMUNIC', 'A0C3I7O4N3-E4S6)1500/0810-555-7947', 'www.swiss-net.com.ar', 'Jardín de América', 'MISIONES'], ['COMUNICACIONES Y SERVICIOS SRL', '(0376) 443 3333', 'www.cys.net.ar', 'Jardín de América', 'MISIONES'], ['DATANET SRL', '+549 376 4191498', 'www.datanetsrl.com.ar', 'Jardín de América', 'MISIONES'], ['INFOMASTER SRL', '(03755) 15650932', '', 'Jardín de América', 'MISIONES'], ['RED INTERCABLE DIGITAL S.A.', '(5411) 6091.5600', 'www.redintercable.com.ar', 'Jardín de América', 'MISIONES'], ['SION SA', '0810 999 0100', 'www.sion.com', 'La Rotonda', 'MISIONES'], ['ASA DIGITAL SRL', '(03754) 423590', 'www.asadigital.com.ar', 'Leandro N. Alem', 'MISIONES'], ['COOPERATIVA ELECTRICA LIMITADA DE OBERÁ', '+54 03755 400000', 'www.ceobera.com.ar', 'Obera', 'MISIONES'], ['BALBI BRUNO (INTRARED)', '+54 376 4351515', 'www.intrared.com.ar', 'Posadas', 'MISIONES'], ['COMUNICACIONES Y SERVICIOS SRL', '(0376) 443 3333', 'www.cys.net.ar', 'Posadas', 'MISIONES'], ['DATANET SRL', '+549 376 4191498\\n3764-421600', 'www.datanetsrl.com.ar', 'Posadas', 'MISIONES'], ['MARANDU COMUNICACIONES S.E.', None, 'www.marandu.com.ar', 'Posadas', 'MISIONES'], ['MULTIMEDIOS SAPEM', '(0376) 4421040', 'www.tv12misiones.com.ar', 'Posadas', 'MISIONES'], ['RESEARCH SRL', '0376-4440008/4759164 / 4246052', 'www.researchsrl.com.ar', 'Posadas', 'MISIONES'], ['SION SA', '0810 999 0100', 'www.sion.com', 'Posadas', 'MISIONES'], ['TELMEX ARGENTINA S.A.', '', 'www.claro.com.ar', 'Posadas', 'MISIONES'], ['UNIVERSIDAD NACIONAL DE MISIONES', '(0376) 4480200', 'www.unam.edu.ar', 'Posadas', 'MISIONES'], ['COMUNICACIONES Y SERVICIOS SRL', '(0376) 443 3333', 'www.cys.net.ar', 'Profundidad', 'MISIONES'], ['BROADBANDTECH SA (BBT)', '011 6385-9100', 'www.bbt.com.ar', 'Puerto Esperanza', 'MISIONES'], ['ALVES GOES WARLEY (WIKIENET TELECOM)', '3757 614202', 'www.wikienet.com', 'Puerto Iguazú', 'MISIONES'], ['BROADBANDTECH SA (BBT)', '011 6385-9100', 'www.bbt.com.ar', 'Puerto Iguazú', 'MISIONES'], ['CABLE VIDEO IMAGEN CANAL 5 SRL', '03757-421190', 'www.cablevideoimagen.com.ar', 'PUERTO IGUAZÚ', 'MISIONES'], ['COMUNICACIONES Y SERVICIOS SRL', '(0376) 443 3333', 'www.cys.net.ar', 'Puerto Leoni', 'MISIONES'], ['COOPERATIVA LUZ Y FUERZA DE LIBERTADOR GENER', 'A(0L3 S7A4N6 )M 47A6R0T0IN0 LIMITADA', 'www.cooprico.com.ar', 'Puerto Leoni', 'MISIONES'], ['RED INTERCABLE DIGITAL S.A.', '(5411) 6091.5600', 'www.redintercable.com.ar', 'Puerto Piray', 'MISIONES'], ['COOPERATIVA LUZ Y FUERZA DE LIBERTADOR GENER', 'A(0L3 S7A4N6 )M 47A6R0T0IN0 LIMITADA', 'www.cooprico.com.ar', 'Puerto Rico', 'MISIONES'], ['COOPERATIVA LUZ Y FUERZA DE LIBERTADOR GENER', 'A(0L3 S7A4N6 )M 47A6R0T0IN0 LIMITADA', 'www.cooprico.com.ar', 'Ruiz de Montoya', 'MISIONES'], ['COMUNICACIONES Y SERVICIOS SRL', '(0376) 443 3333', 'www.cys.net.ar', 'Salto Encantado', 'MISIONES'], ['RED INTERCABLE DIGITAL S.A.', '(5411) 6091.5600', 'www.redintercable.com.ar', 'Salto Encantado', 'MISIONES'], ['COMUNICACIONES Y SERVICIOS SRL', '(0376) 443 3333', 'www.cys.net.ar', 'San Ignacio', 'MISIONES'], ['ASA DIGITAL SRL', '(03754) 423590', 'www.asadigital.com.ar', 'San Javier', 'MISIONES'], ['RED INTERCABLE DIGITAL S.A.', '(5411) 6091.5600', 'www.redintercable.com.ar', 'San Javier', 'MISIONES'], ['RED INTERCABLE DIGITAL S.A.', '(5411) 6091.5600', 'www.redintercable.com.ar', 'San José', 'MISIONES'], ['INFOMASTER SRL', '(03755) 15650932', '', 'San Pedrito', 'MISIONES'], ['INFOMASTER SRL', '(03755) 15650932', '', 'San Vicente', 'MISIONES'], ['RED INTERCABLE DIGITAL S.A.', '(5411) 6091.5600', 'www.redintercable.com.ar', 'San Vicente', 'MISIONES']]\n",
      "(36, 5)\n",
      "Tabla 1 en la página 59: [['COMUNICACIONES Y SERVICIOS SRL', '(0376) 443 3333', 'www.cys.net.ar', 'Santa Ana', 'MISIONES'], ['COMUNICACIONES Y SERVICIOS SRL', '(0376) 443 3333', 'www.cys.net.ar', 'Santo Pipo', 'MISIONES'], ['SION SA', '0810 999 0100', 'www.sion.com', 'Villa Cabello', 'MISIONES'], ['COOPERATIVA DE PROVISION DE SERVICIOS DE COMUNICACIONES TERACOOP LIMITADA', None, 'w(TwERwA.tCeOraOcPo)op.com.ar', '', 'MISIONES'], ['SERVICIOS PARA EL TRANSPORTE DE INFORMACION', 'S4.A30. 9(S-P5T4I0)0', 'www.boldt.com.ar', '', 'MISIONES'], ['SILICA NETWORKS ARGENTINA SA', '+54 (11) 4103-1300', 'www.silicanetworks.com', 'Alicura', 'NEUQUÉN'], ['RAPONI BEATRIZ (PIEDRA NET)', '029427-493655', '', 'Alumine', 'NEUQUÉN'], ['RED INTERCABLE DIGITAL S.A.', '(5411) 6091.5600', 'www.redintercable.com.ar', 'Aluminé', 'NEUQUÉN'], ['LABORDA JUAN SEBASTIAN (PREMIER)', '299 488-6000', 'www.jslpremier.com.ar', 'Andacollo', 'NEUQUÉN'], ['ADVANTUN SRL', '5365-8800', 'www.advantun.com', 'Añelo', 'NEUQUÉN'], ['COOPERATIVA DE PROVISION DE SERVICIOS TELEFÓN', '0IC2O99S -Y4 8O9T1R1O1S3 SERVICIOS PÚBLICOS', 'Y COMUNITARIOS DE CENTENARI', 'OA LñTeDloA', 'NEUQUÉN'], ['LABORDA JUAN SEBASTIAN (PREMIER)', '299 488-6000', 'www.jslpremier.com.ar', 'Añelo', 'NEUQUÉN'], ['NEUNET S.A.', '(0299) 4894000', 'www.neunet.com.ar', 'Añelo', 'NEUQUÉN'], ['SERVICIOS DE TECNOLOGÍA APLICADA SRL (AFTER W', 'IR(0E2)99) 447-6404', 'www.after-wire.com.ar', 'Añelo', 'NEUQUÉN'], ['TELEFONIA PUBLICA Y PRIVADA S.A.', '4372-3310', 'www.tpp.com.ar', 'Añelo', 'NEUQUÉN'], ['DA.VI.TEL SA', '0810 362 3284', 'www.davitel.com.ar', 'ANELO', 'NEUQUÉN'], ['LABORDA JUAN SEBASTIAN (PREMIER)', '299 488-6000', 'www.jslpremier.com.ar', 'Barrancas', 'NEUQUÉN'], ['COOPERATIVA DE PROVISION DE SERVICIOS TELEFÓN', '0IC2O99S -Y4 8O9T1R1O1S3 SERVICIOS PÚBLICOS', 'Y COMUNITARIOS DE CENTENARI', 'OC LeTnDteAnario', 'NEUQUÉN'], ['NEUNET S.A.', '(0299) 4894000', 'www.neunet.com.ar', 'Centenario', 'NEUQUÉN'], ['NOGUERA MARIA JOSE (MAX INTERNET)', '299-6352600/299-5966172', 'www.max-internet.com.ar', 'Centenario', 'NEUQUÉN'], ['SERVICIOS DE TECNOLOGÍA APLICADA SRL (AFTER W', 'IR(0E2)99) 447-6404', 'www.after-wire.com.ar', 'Centenario', 'NEUQUÉN'], ['TELEFONIA PUBLICA Y PRIVADA S.A.', '4372-3310', 'www.tpp.com.ar', 'Centenario', 'NEUQUÉN'], ['SILICA NETWORKS ARGENTINA SA', '+54 (11) 4103-1300', 'www.silicanetworks.com', 'Cerro Policia', 'NEUQUÉN'], ['NEUNET S.A.', '(0299) 4894000', 'www.neunet.com.ar', 'Chañar', 'NEUQUÉN'], ['NEUNET S.A.', '(0299) 4894000', 'www.neunet.com.ar', 'China Muerta', 'NEUQUÉN'], ['SILICA NETWORKS ARGENTINA SA', '+54 (11) 4103-1300', 'www.silicanetworks.com', 'Choele Choel', 'NEUQUÉN'], ['SION SA', '0810 999 0100', 'www.sion.com', 'Chos Malal', 'NEUQUÉN'], ['COPELCO, COOPERATIVA DE PROVISION DE SERVICIO', '(S0 P2U99B)L 4IC9O6S-7, 1C7R8EDITO Y VIVIENDA C', 'UwTwRwA.Lc oCpOe. lLnTeDt.Acom.ar', 'Cutral Có', 'NEUQUÉN'], ['SERVICIOS DE TECNOLOGÍA APLICADA SRL (AFTER W', 'IR(0E2)99) 447-6404', 'www.after-wire.com.ar', 'Cutral Có', 'NEUQUÉN'], ['TELEFONIA PUBLICA Y PRIVADA S.A.', '4372-3310', 'www.tpp.com.ar', 'Cutral Có', 'NEUQUÉN'], ['SILICA NETWORKS ARGENTINA SA', '+54 (11) 4103-1300', 'www.silicanetworks.com', 'El Bolson', 'NEUQUÉN'], ['LABORDA JUAN SEBASTIAN (PREMIER)', '299 488-6000', 'www.jslpremier.com.ar', 'El Cholar', 'NEUQUÉN'], ['SILICA NETWORKS ARGENTINA SA', '+54 (11) 4103-1300', 'www.silicanetworks.com', 'General Roca', 'NEUQUÉN'], ['LABORDA JUAN SEBASTIAN (PREMIER)', '299 488-6000', 'www.jslpremier.com.ar', 'Huinganco', 'NEUQUÉN'], ['RED INTERCABLE DIGITAL S.A.', '(5411) 6091.5600', 'www.redintercable.com.ar', 'Junín de los Andes', 'NEUQUÉN'], ['NEUNET S.A.', '(0299) 4894000', 'www.neunet.com.ar', 'Lago Mari Menuco', 'NEUQUÉN'], ['SERVICIOS DE TECNOLOGÍA APLICADA SRL (AFTER W', 'IR(0E2)99) 447-6404', 'www.after-wire.com.ar', 'Lago Mari Menuco', 'NEUQUÉN']]\n",
      "(36, 5)\n",
      "Tabla 1 en la página 60: [['RAPONI BEATRIZ (PIEDRA NET)', '029427-493655', '', 'Las Coloradas', 'NEUQUÉN'], ['NOGUERA MARIA JOSE (MAX INTERNET)', '299-6352600/299-5966172', 'www.max-internet.com.ar', 'Las Lajas', 'NEUQUÉN'], ['LABORDA JUAN SEBASTIAN (PREMIER)', '299 488-6000', 'www.jslpremier.com.ar', 'Las Ovejas', 'NEUQUÉN'], ['RED INTERCABLE DIGITAL S.A.', '(5411) 6091.5600', 'www.redintercable.com.ar', 'Loncopué', 'NEUQUÉN'], ['MULTITRUNK SA (YEAP!)', '5236-5200', 'www.yeap.com.ar', 'Neuquen', 'NEUQUÉN'], ['NOGUERA MARIA JOSE (MAX INTERNET)', '299-6352600/299-5966172', 'www.max-internet.com.ar', 'Neuquen', 'NEUQUÉN'], ['ADVANTUN SRL', '5365-8800', 'www.advantun.com', 'Neuquén', 'NEUQUÉN'], ['FUNDACION INNOVAT (INNOVARED)', '4322-8488', 'www.innova-red.net/', 'Neuquén', 'NEUQUÉN'], ['HEDI S.A.', '(0299) 4483497', '', 'Neuquén', 'NEUQUÉN'], ['IFX NETWORKS ARGENTINA SRL', '(011) 5031-2400', 'www.ifxnetworks.com', 'Neuquén', 'NEUQUÉN'], ['NEUTICS S.A.P.E.M.', '0299 4494606', 'www.neutics.com', 'Neuquén', 'NEUQUÉN'], ['RED INTERCABLE DIGITAL S.A.', '(5411) 6091.5600', 'www.redintercable.com.ar', 'Neuquén', 'NEUQUÉN'], ['SECRETARIA DE GESTION PUBLICA', '', '', 'Neuquén', 'NEUQUÉN'], ['SERVICIOS DE TECNOLOGÍA APLICADA SRL (AFTER W', 'IR(0E2)99) 447-6404', 'www.after-wire.com.ar', 'Neuquén', 'NEUQUÉN'], ['SES, SISTEMAS ELECTRONICOS SA', '5453-8469', 'www.ses.com.ar', 'Neuquén', 'NEUQUÉN'], ['SIETE CAPAS S.R.L.', '54-299-4479172', 'www.sietecapas.com.ar', 'Neuquén', 'NEUQUÉN'], ['SILICA NETWORKS ARGENTINA SA', '+54 (11) 4103-1300', 'www.silicanetworks.com', 'Neuquén', 'NEUQUÉN'], ['SION SA', '0810 999 0100', 'www.sion.com', 'Neuquén', 'NEUQUÉN'], ['SISTA S.A.', '(0221) 4275510', 'www.sista.com.ar', 'Neuquén', 'NEUQUÉN'], ['TELMEX ARGENTINA S.A.', '', 'www.claro.com.ar', 'Neuquén', 'NEUQUÉN'], ['COOPERATIVA DE PROVISION DE SERVICIOS TELEFÓN', '0IC2O99S -Y4 8O9T1R1O1S3 SERVICIOS PÚBLICOS', 'Y COMUNITARIOS DE CENTENARI', 'OP LicTuDnA Leufu', 'NEUQUÉN'], ['NEUNET S.A.', '(0299) 4894000', 'www.neunet.com.ar', 'Picun Leufu', 'NEUQUÉN'], ['RAPONI BEATRIZ (PIEDRA NET)', '029427-493655', '', 'Picun Leufu', 'NEUQUÉN'], ['SILICA NETWORKS ARGENTINA SA', '+54 (11) 4103-1300', 'www.silicanetworks.com', 'Piedra del Aguila', 'NEUQUÉN'], ['RAPONI BEATRIZ (PIEDRA NET)', '029427-493655', '', 'Piedra del Aguila', 'NEUQUÉN'], ['COPELCO, COOPERATIVA DE PROVISION DE SERVICIO', '(S0 P2U99B)L 4IC9O6S-7, 1C7R8EDITO Y VIVIENDA C', 'UwTwRwA.Lc oCpOe. lLnTeDt.Acom.ar', 'Plaza Huincul', 'NEUQUÉN'], ['MEGATRANS SA', '4343-5657', 'www.megatrans.com.ar', 'Plaza Huincul', 'NEUQUÉN'], ['SERVICIOS DE TECNOLOGÍA APLICADA SRL (AFTER W', 'IR(0E2)99) 447-6404', 'www.after-wire.com.ar', 'Plaza Huincul', 'NEUQUÉN'], ['TELEFONIA PUBLICA Y PRIVADA S.A.', '4372-3310', 'www.tpp.com.ar', 'Plaza Huincul', 'NEUQUÉN'], ['ADVANTUN SRL', '5365-8800', 'www.advantun.com', 'Plottier', 'NEUQUÉN'], ['COOPERATIVA DE PROVISION DE SERVICIOS TELEFÓN', '0IC2O99S -Y4 8O9T1R1O1S3 SERVICIOS PÚBLICOS', 'Y COMUNITARIOS DE CENTENARI', 'OP LloTtDtiAer', 'NEUQUÉN'], ['DA.VI.TEL SA', '0810 362 3284', 'www.davitel.com.ar', 'PLOTTIER', 'NEUQUÉN'], ['NEUNET S.A.', '(0299) 4894000', 'www.neunet.com.ar', 'Plottier', 'NEUQUÉN'], ['NOGUERA MARIA JOSE (MAX INTERNET)', '299-6352600/299-5966172', 'www.max-internet.com.ar', 'Plottier', 'NEUQUÉN'], ['SERVICIOS DE TECNOLOGÍA APLICADA SRL (AFTER W', 'IR(0E2)99) 447-6404', 'www.after-wire.com.ar', 'Plottier', 'NEUQUÉN'], ['SIETE CAPAS S.R.L.', '54-299-4479172', 'www.sietecapas.com.ar', 'Plottier', 'NEUQUÉN'], ['TELEFONIA PUBLICA Y PRIVADA S.A.', '4372-3310', 'www.tpp.com.ar', 'Plottier', 'NEUQUÉN']]\n",
      "(36, 5)\n",
      "Tabla 1 en la página 61: [['LABORDA JUAN SEBASTIAN (PREMIER)', '299 488-6000', 'www.jslpremier.com.ar', 'Rincon de los Sauces', 'NEUQUÉN'], ['NEUNET S.A.', '(0299) 4894000', 'www.neunet.com.ar', 'Rincon de los Sauces', 'NEUQUÉN'], ['SERVICIOS DE TECNOLOGÍA APLICADA SRL (AFTER W', 'IR(0E2)99) 447-6404', 'www.after-wire.com.ar', 'Rincon de los Sauces', 'NEUQUÉN'], ['SILICA NETWORKS ARGENTINA SA', '+54 (11) 4103-1300', 'www.silicanetworks.com', 'Río Colorado', 'NEUQUÉN'], ['SILICA NETWORKS ARGENTINA SA', '+54 (11) 4103-1300', 'www.silicanetworks.com', 'RÍO NEGRO', 'NEUQUÉN'], ['LABORDA JUAN SEBASTIAN (PREMIER)', '299 488-6000', 'www.jslpremier.com.ar', 'Ruta Ranquil', 'NEUQUÉN'], ['SILICA NETWORKS ARGENTINA SA', '+54 (11) 4103-1300', 'www.silicanetworks.com', 'San Carlos de Bariloche', 'NEUQUÉN'], ['SES, SISTEMAS ELECTRONICOS SA', '5453-8469', 'www.ses.com.ar', 'SAN LUIS', 'NEUQUÉN'], ['SES, SISTEMAS ELECTRONICOS SA', '5453-8469', 'www.ses.com.ar', 'San Luis', 'NEUQUÉN'], ['COOPERATIVA TELEFONICA Y OTROS SERVICIOS PUB', 'L(I0C2O9S7 Y2 )T 4U2R7IS0T0I0COS DE SAN MARTIN', 'wDwE wLO.cSo AteNsDmEaS.c LoToDpA.(COTESMA)', 'San Martín de los Andes', 'NEUQUÉN'], ['COOPERATIVA DE PROVISION DE SERVICIOS TELEFÓN', '0IC2O99S -Y4 8O9T1R1O1S3 SERVICIOS PÚBLICOS', 'Y COMUNITARIOS DE CENTENARI', 'OS aLTnD PAatricio del Chañar', 'NEUQUÉN'], ['SERVICIOS DE TECNOLOGÍA APLICADA SRL (AFTER W', 'IR(0E2)99) 447-6404', 'www.after-wire.com.ar', 'San Patricio del Chañar', 'NEUQUÉN'], ['DA.VI.TEL SA', '0810 362 3284', 'www.davitel.com.ar', 'SAN PATRICIO DEL CHANAR', 'NEUQUÉN'], ['RAPONI BEATRIZ (PIEDRA NET)', '029427-493655', '', 'Santo Tomas', 'NEUQUÉN'], ['ADVANTUN SRL', '5365-8800', 'www.advantun.com', 'Senillosa', 'NEUQUÉN'], ['COOPERATIVA DE PROVISION DE SERVICIOS TELEFÓN', '0IC2O99S -Y4 8O9T1R1O1S3 SERVICIOS PÚBLICOS', 'Y COMUNITARIOS DE CENTENARI', 'OS eLTnDillAosa', 'NEUQUÉN'], ['NEUNET S.A.', '(0299) 4894000', 'www.neunet.com.ar', 'Senillosa', 'NEUQUÉN'], ['SERVICIOS DE TECNOLOGÍA APLICADA SRL (AFTER W', 'IR(0E2)99) 447-6404', 'www.after-wire.com.ar', 'Senillosa', 'NEUQUÉN'], ['TELEFONIA PUBLICA Y PRIVADA S.A.', '4372-3310', 'www.tpp.com.ar', 'Senillosa', 'NEUQUÉN'], ['LABORDA JUAN SEBASTIAN (PREMIER)', '299 488-6000', 'www.jslpremier.com.ar', 'Tricao Malal', 'NEUQUÉN'], ['MULTITRUNK SA (YEAP!)', '5236-5200', 'www.yeap.com.ar', 'Vaca Muerta', 'NEUQUÉN'], ['FERCAS SH (NETPATAGON)', '02944 495226', 'www.netpatagon.net', 'Villa la Angostura', 'NEUQUÉN'], ['LA CORDILLERANA S.A.', '0294 4488381', 'WWW.TREX-VLA.COM.AR', 'Villa la Angostura', 'NEUQUÉN'], ['SILICA NETWORKS ARGENTINA SA', '+54 (11) 4103-1300', 'www.silicanetworks.com', 'Villa la Angostura', 'NEUQUÉN'], ['SISTA S.A.', '(0221) 4275510', 'www.sista.com.ar', 'Villa la Angostura', 'NEUQUÉN'], ['SILICA NETWORKS ARGENTINA SA', '+54 (11) 4103-1300', 'www.silicanetworks.com', 'Villa Regina', 'NEUQUÉN'], ['SERVICIOS DE TECNOLOGÍA APLICADA SRL (AFTER W', 'IR(0E2)99) 447-6404', 'www.after-wire.com.ar', 'Vista Alegre', 'NEUQUÉN'], ['SERVICIOS DE TECNOLOGÍA APLICADA SRL (AFTER W', 'IR(0E2)99) 447-6404', 'www.after-wire.com.ar', 'Zapala', 'NEUQUÉN'], ['SION SA', '0810 999 0100', 'www.sion.com', 'Zapala', 'NEUQUÉN'], ['TELEFONIA PUBLICA Y PRIVADA S.A.', '4372-3310', 'www.tpp.com.ar', 'Zapala', 'NEUQUÉN'], ['SURPORAIRE S.A.', '0221-4912500', 'www.patagondigital.com.ar', 'Zapala', 'NEUQUÉN'], ['GONZALO HOURCADE COMUNICACIONES S.R.L. (GH', 'C5O4 M9 U29N9IC 4A4C8I O2N50E9S)', 'www.ghcomunicaciones.com.ar', '', 'NEUQUÉN'], ['COOPERATIVA DE PROVISION DE SERVICIOS TELEFÓN', '0IC2O99S -Y4 8O9T1R1O1S3 SERVICIOS PÚBLICOS', 'Y COMUNITARIOS DE CENTENARI', 'OA LllTeDnA', 'RIO NEGRO'], ['MULTIMEDIOS DEL VALLE SRL', '0810 333 5354', 'www.telcocom.com.ar', 'ALLEN', 'RIO NEGRO'], ['NEUNET S.A.', '(0299) 4894000', 'www.neunet.com.ar', 'Allen', 'RIO NEGRO'], ['SERVICIOS DE TECNOLOGÍA APLICADA SRL (AFTER W', 'IR(0E2)99) 447-6404', 'www.after-wire.com.ar', 'Allen', 'RIO NEGRO'], ['NOGUERA MARIA JOSE (MAX INTERNET)', '299-6352600/299-5966172', 'www.max-internet.com.ar', 'Balsa las Perlas', 'RIO NEGRO']]\n",
      "(36, 5)\n",
      "Tabla 1 en la página 62: [['SERVICIOS DE TECNOLOGÍA APLICADA SRL (AFTER W', 'IR(0E2)99) 447-6404', 'www.after-wire.com.ar', 'Balsa las Perlas', 'RIO NEGRO'], ['TELEFONIA PUBLICA Y PRIVADA S.A.', '4372-3310', 'www.tpp.com.ar', 'Balsa las Perlas', 'RIO NEGRO'], ['NEUNET S.A.', '(0299) 4894000', 'www.neunet.com.ar', 'Barda del Medio', 'RIO NEGRO'], ['SERVICIOS DE TECNOLOGÍA APLICADA SRL (AFTER W', 'IR(0E2)99) 447-6404', 'www.after-wire.com.ar', 'Barda del Medio', 'RIO NEGRO'], ['SION SA', '0810 999 0100', 'www.sion.com', 'Barrio Mosconi', 'RIO NEGRO'], ['SERVICIOS DE TECNOLOGÍA APLICADA SRL (AFTER W', 'IR(0E2)99) 447-6404', 'www.after-wire.com.ar', 'Campo Grande', 'RIO NEGRO'], ['LABORDA JUAN SEBASTIAN (PREMIER)', '299 488-6000', 'www.jslpremier.com.ar', 'Catriel', 'RIO NEGRO'], ['SERVICIOS DE TECNOLOGÍA APLICADA SRL (AFTER W', 'IR(0E2)99) 447-6404', 'www.after-wire.com.ar', 'Catriel', 'RIO NEGRO'], ['MULTIMEDIOS DEL VALLE SRL', '0810 333 5354', 'www.telcocom.com.ar', 'CERVANTES', 'RIO NEGRO'], ['NEUNET S.A.', '(0299) 4894000', 'www.neunet.com.ar', 'Cervantes', 'RIO NEGRO'], ['MULTIMEDIOS DEL VALLE SRL', '0810 333 5354', 'www.telcocom.com.ar', 'CHICHINALES', 'RIO NEGRO'], ['NARDANONE PEDRO FEDERICO SALVADOR (MAS INT', 'E0R2N98E T4)46-5727', 'www.masinternet.net', 'Chichinales', 'RIO NEGRO'], ['GRUPO EQUIS S.A.', '(+54) 2946 44 2513', 'www.patagoniadata.com.ar', 'Chimpay', 'RIO NEGRO'], ['MULTIMEDIOS DEL VALLE SRL', '0810 333 5354', 'www.telcocom.com.ar', 'CHIMPAY', 'RIO NEGRO'], ['RED INTERCABLE DIGITAL S.A.', '(5411) 6091.5600', 'www.redintercable.com.ar', 'Chimpay', 'RIO NEGRO'], ['GRUPO EQUIS S.A.', '(+54) 2946 44 2513', 'www.patagoniadata.com.ar', 'Choele Choel', 'RIO NEGRO'], ['NEUNET S.A.', '(0299) 4894000', 'www.neunet.com.ar', 'Choele Choel', 'RIO NEGRO'], ['RED INTERCABLE DIGITAL S.A.', '(5411) 6091.5600', 'www.redintercable.com.ar', 'Choele Choel', 'RIO NEGRO'], ['COOPERATIVA DE PROVISION DE SERVICIOS TELEFÓN', '0IC2O99S -Y4 8O9T1R1O1S3 SERVICIOS PÚBLICOS', 'Y COMUNITARIOS DE CENTENARI', 'OC LinTcDoA Saltos', 'RIO NEGRO'], ['NEUNET S.A.', '(0299) 4894000', 'www.neunet.com.ar', 'Cinco Saltos', 'RIO NEGRO'], ['NOGUERA MARIA JOSE (MAX INTERNET)', '299-6352600/299-5966172', 'www.max-internet.com.ar', 'Cinco Saltos', 'RIO NEGRO'], ['SERVICIOS DE TECNOLOGÍA APLICADA SRL (AFTER W', 'IR(0E2)99) 447-6404', 'www.after-wire.com.ar', 'Cinco Saltos', 'RIO NEGRO'], ['TELEFONIA PUBLICA Y PRIVADA S.A.', '4372-3310', 'www.tpp.com.ar', 'Cinco Saltos', 'RIO NEGRO'], ['COOPERATIVA DE PROVISION DE SERVICIOS TELEFÓN', '0IC2O99S -Y4 8O9T1R1O1S3 SERVICIOS PÚBLICOS', 'Y COMUNITARIOS DE CENTENARI', 'OC LipToDlAletti', 'RIO NEGRO'], ['MULTIMEDIOS DEL VALLE SRL', '0810 333 5354', 'www.telcocom.com.ar', 'CIPOLLETTI', 'RIO NEGRO'], ['NEUNET S.A.', '(0299) 4894000', 'www.neunet.com.ar', 'Cipolletti', 'RIO NEGRO'], ['SERVICIOS DE TECNOLOGÍA APLICADA SRL (AFTER W', 'IR(0E2)99) 447-6404', 'www.after-wire.com.ar', 'Cipolletti', 'RIO NEGRO'], ['SION SA', '0810 999 0100', 'www.sion.com', 'Cipolletti', 'RIO NEGRO'], ['TELEFONIA PUBLICA Y PRIVADA S.A.', '4372-3310', 'www.tpp.com.ar', 'Cipolletti', 'RIO NEGRO'], ['DA.VI.TEL SA', '0810 362 3284', 'www.davitel.com.ar', 'CIPOLLETTI', 'RIO NEGRO'], ['SERVICIOS DE TECNOLOGÍA APLICADA SRL (AFTER W', 'IR(0E2)99) 447-6404', 'www.after-wire.com.ar', 'Colonia Catriel', 'RIO NEGRO'], ['RED INTERCABLE DIGITAL S.A.', '(5411) 6091.5600', 'www.redintercable.com.ar', 'Colonia Julia y Echarren', 'RIO NEGRO'], ['NEUNET S.A.', '(0299) 4894000', 'www.neunet.com.ar', 'Contralmirante Cordero', 'RIO NEGRO'], ['SERVICIOS DE TECNOLOGÍA APLICADA SRL (AFTER W', 'IR(0E2)99) 447-6404', 'www.after-wire.com.ar', 'Contralmirante Cordero', 'RIO NEGRO'], ['GRUPO EQUIS S.A.', '(+54) 2946 44 2513', 'www.patagoniadata.com.ar', 'Coronel Belisle', 'RIO NEGRO'], ['RED INTERCABLE DIGITAL S.A.', '(5411) 6091.5600', 'www.redintercable.com.ar', 'Coronel Belisle', 'RIO NEGRO'], ['GRUPO EQUIS S.A.', '(+54) 2946 44 2513', 'www.patagoniadata.com.ar', 'Darwin', 'RIO NEGRO']]\n",
      "(36, 5)\n",
      "Tabla 1 en la página 63: [['NEUNET S.A.', '(0299) 4894000', 'www.neunet.com.ar', 'Darwin', 'RIO NEGRO'], ['RED INTERCABLE DIGITAL S.A.', '(5411) 6091.5600', 'www.redintercable.com.ar', 'Darwin', 'RIO NEGRO'], ['QUASAR INFORMATICA SA', '(0294) 4524080', 'www.quasarbariloche.com.ar', 'Dina Huapi', 'RIO NEGRO'], ['COOPERATIVA DE OBRAS Y SERVICIOS PUBLICOS SOC', 'I+A5L4E S2 9Y4 V 4IV4I9E N22D0A8S EL BOLSON LIMI', 'TwAwDAw .(cCoOoOpPetEeTlE.oLr)g', 'El Bolson', 'RIO NEGRO'], ['RED INTERCABLE DIGITAL S.A.', '(5411) 6091.5600', 'www.redintercable.com.ar', 'El Bolson', 'RIO NEGRO'], ['NEUNET S.A.', '(0299) 4894000', 'www.neunet.com.ar', 'Fernandez Oro', 'RIO NEGRO'], ['SERVICIOS DE TECNOLOGÍA APLICADA SRL (AFTER W', 'IR(0E2)99) 447-6404', 'www.after-wire.com.ar', 'Fernandez Oro', 'RIO NEGRO'], ['TELEFONIA PUBLICA Y PRIVADA S.A.', '4372-3310', 'www.tpp.com.ar', 'Fernandez Oro', 'RIO NEGRO'], ['NEUNET S.A.', '(0299) 4894000', 'www.neunet.com.ar', 'Fray Luis Beltrán', 'RIO NEGRO'], ['RED INTERCABLE DIGITAL S.A.', '(5411) 6091.5600', 'www.redintercable.com.ar', 'Fray Luis Beltrán', 'RIO NEGRO'], ['RED INTERCABLE DIGITAL S.A.', '(5411) 6091.5600', 'www.redintercable.com.ar', 'General Conesa', 'RIO NEGRO'], ['NARDANONE PEDRO FEDERICO SALVADOR (MAS INT', 'E0R2N98E T4)46-5727', 'www.masinternet.net', 'General Enrique Godoy', 'RIO NEGRO'], ['NEUNET S.A.', '(0299) 4894000', 'www.neunet.com.ar', 'General Enrique Godoy', 'RIO NEGRO'], ['DA.VI.TEL SA', '0810 362 3284', 'www.davitel.com.ar', 'GENERAL FERNANDEZ ORO', 'RIO NEGRO'], ['MULTIMEDIOS DEL VALLE SRL', '0810 333 5354', 'www.telcocom.com.ar', 'GENERAL ROCA', 'RIO NEGRO'], ['NEUNET S.A.', '(0299) 4894000', 'www.neunet.com.ar', 'General Roca', 'RIO NEGRO'], ['SION SA', '0810 999 0100', 'www.sion.com', 'General Roca', 'RIO NEGRO'], ['TELEFONIA PUBLICA Y PRIVADA S.A.', '4372-3310', 'www.tpp.com.ar', 'General Roca', 'RIO NEGRO'], ['MULTIMEDIOS DEL VALLE SRL', '0810 333 5354', 'www.telcocom.com.ar', 'GRAL GODOY', 'RIO NEGRO'], ['QUASAR INFORMATICA SA', '(0294) 4524080', 'www.quasarbariloche.com.ar', 'Huemul', 'RIO NEGRO'], ['MULTIMEDIOS DEL VALLE SRL', '0810 333 5354', 'www.telcocom.com.ar', 'ING. HUERGO', 'RIO NEGRO'], ['NEUNET S.A.', '(0299) 4894000', 'www.neunet.com.ar', 'Ingeniero Huergo', 'RIO NEGRO'], ['COOPERATIVA DE OBRAS Y SERVICIOS PUBLICOS SOC', 'I+A5L4E S2 9Y4 V 4IV4I9E N22D0A8S EL BOLSON LIMI', 'TwAwDAw .(cCoOoOpPetEeTlE.oLr)g', 'Lago Puelo', 'RIO NEGRO'], ['GRUPO EQUIS S.A.', '(+54) 2946 44 2513', 'www.patagoniadata.com.ar', 'Lamarque', 'RIO NEGRO'], ['NEUNET S.A.', '(0299) 4894000', 'www.neunet.com.ar', 'Lamarque', 'RIO NEGRO'], ['RED INTERCABLE DIGITAL S.A.', '(5411) 6091.5600', 'www.redintercable.com.ar', 'Lamarque', 'RIO NEGRO'], ['DESE TECHNOLOGIES ARGENTINA S.A. (DESEMAX)', '0291-4066200', 'www.desetech.com.ar', 'Las Grutas', 'RIO NEGRO'], ['RED INTERCABLE DIGITAL S.A.', '(5411) 6091.5600', 'www.redintercable.com.ar', 'Las Grutas', 'RIO NEGRO'], ['RED INTERCABLE DIGITAL S.A.', '(5411) 6091.5600', 'www.redintercable.com.ar', 'Los Menucos', 'RIO NEGRO'], ['GRUPO EQUIS S.A.', '(+54) 2946 44 2513', 'www.patagoniadata.com.ar', 'Luis Beltrán', 'RIO NEGRO'], ['MULTIMEDIOS DEL VALLE SRL', '0810 333 5354', 'www.telcocom.com.ar', 'MAINQUE', 'RIO NEGRO'], ['NEUNET S.A.', '(0299) 4894000', 'www.neunet.com.ar', 'Mainque', 'RIO NEGRO'], ['QUASAR INFORMATICA SA', '(0294) 4524080', 'www.quasarbariloche.com.ar', 'Melipal', 'RIO NEGRO'], ['RAPONI BEATRIZ (PIEDRA NET)', '029427-493655', '', 'Naupahuen', 'RIO NEGRO'], ['COOPERATIVA DE OBRAS Y SERVICIOS PUBLICOS SOC', 'I+A5L4E S2 9Y4 V 4IV4I9E N22D0A8S EL BOLSON LIMI', 'TwAwDAw .(cCoOoOpPetEeTlE.oLr)g', 'Paraje El Foyel', 'RIO NEGRO'], ['COOPERATIVA DE OBRAS Y SERVICIOS PUBLICOS SOC', 'I+A5L4E S2 9Y4 V 4IV4I9E N22D0A8S EL BOLSON LIMI', 'TwAwDAw .(cCoOoOpPetEeTlE.oLr)g', 'Paraje Las Golondrinas', 'RIO NEGRO'], ['COOPERATIVA DE OBRAS Y SERVICIOS PUBLICOS SOC', 'I+A5L4E S2 9Y4 V 4IV4I9E N22D0A8S EL BOLSON LIMI', 'TwAwDAw .(cCoOoOpPetEeTlE.oLr)g', 'Paraje Mallin Ahogado', 'RIO NEGRO']]\n",
      "(36, 5)\n",
      "Tabla 1 en la página 64: [['GRUPO EQUIS S.A.', '(+54) 2946 44 2513', 'www.patagoniadata.com.ar', 'Pomona', 'RIO NEGRO'], ['RED INTERCABLE DIGITAL S.A.', '(5411) 6091.5600', 'www.redintercable.com.ar', 'Pomona', 'RIO NEGRO'], ['RED INTERCABLE DIGITAL S.A.', '(5411) 6091.5600', 'www.redintercable.com.ar', 'Río Colorado', 'RIO NEGRO'], ['SION SA', '0810 999 0100', 'www.sion.com', 'Río Colorado', 'RIO NEGRO'], ['DESE TECHNOLOGIES ARGENTINA S.A. (DESEMAX)', '0291-4066200', 'www.desetech.com.ar', 'San Antonio Oeste', 'RIO NEGRO'], ['BARINET SRL', '0294-154706776', 'www.barinetpatagonia.com.ar', 'San Carlos de Bariloche', 'RIO NEGRO'], ['FUNDACION INNOVAT (INNOVARED)', '4322-8488', 'www.innova-red.net/', 'San Carlos de Bariloche', 'RIO NEGRO'], ['GONZALEZ DANIEL EUGENIO (BARITEL)', '542944429995', 'www.baritel.com.ar', 'San Carlos de Bariloche', 'RIO NEGRO'], ['MULTITRUNK SA (YEAP!)', '5236-5200', 'www.yeap.com.ar', 'San Carlos de Bariloche', 'RIO NEGRO'], ['QUASAR INFORMATICA SA', '(0294) 4524080', 'www.quasarbariloche.com.ar', 'San Carlos de Bariloche', 'RIO NEGRO'], ['TELMEX ARGENTINA S.A.', '', 'www.claro.com.ar', 'San Carlos de Bariloche', 'RIO NEGRO'], ['NEUNET S.A.', '(0299) 4894000', 'www.neunet.com.ar', 'Sargento Vidal', 'RIO NEGRO'], ['SERVICIOS DE TECNOLOGÍA APLICADA SRL (AFTER W', 'IR(0E2)99) 447-6404', 'www.after-wire.com.ar', 'Sargento Vidal', 'RIO NEGRO'], ['GRUPO EQUIS S.A.', '(+54) 2946 44 2513', 'www.patagoniadata.com.ar', 'Valcheta', 'RIO NEGRO'], ['RED INTERCABLE DIGITAL S.A.', '(5411) 6091.5600', 'www.redintercable.com.ar', 'Valcheta', 'RIO NEGRO'], ['ARLINK SA', '(0261) 4496000', 'www.supercanal-arlink.com.ar', 'Viedma', 'RIO NEGRO'], ['FIBERNEXT SRL (AGILNET)', '0800-222-2445', 'www.agilnet.com.ar', 'Viedma', 'RIO NEGRO'], ['KAANIT SRL', '(02920) 428782', 'www.kaanit.com.ar', 'Viedma', 'RIO NEGRO'], ['RELTID CV S.A. (RIONET)', '02920-432999', 'www.rionetweb.com.ar', 'Viedma', 'RIO NEGRO'], ['SION SA', '0810 999 0100', 'www.sion.com', 'Viedma', 'RIO NEGRO'], ['TELMEX ARGENTINA S.A.', '', 'www.claro.com.ar', 'Viedma', 'RIO NEGRO'], ['QUASAR INFORMATICA SA', '(0294) 4524080', 'www.quasarbariloche.com.ar', 'Villa Llanquin', 'RIO NEGRO'], ['NEUNET S.A.', '(0299) 4894000', 'www.neunet.com.ar', 'Villa Manzano', 'RIO NEGRO'], ['COOPERATIVA DE PROVISION DE SERVICIOS TELEFÓN', '0IC2O99S -Y4 8O9T1R1O1S3 SERVICIOS PÚBLICOS', 'Y COMUNITARIOS DE CENTENARI', 'OV LilTlaD RAegina', 'RIO NEGRO'], ['MULTIMEDIOS DEL VALLE SRL', '0810 333 5354', 'www.telcocom.com.ar', 'VILLA REGINA', 'RIO NEGRO'], ['NARDANONE PEDRO FEDERICO SALVADOR (MAS INT', 'E0R2N98E T4)46-5727', 'www.masinternet.net', 'Villa Regina', 'RIO NEGRO'], ['NEUNET S.A.', '(0299) 4894000', 'www.neunet.com.ar', 'Villa Regina', 'RIO NEGRO'], ['SION SA', '0810 999 0100', 'www.sion.com', 'Villa Regina', 'RIO NEGRO'], ['ALTEC S.E.', '(54 294) 4420807 / 4422696', 'www.altec.com.ar', '', 'RIO NEGRO'], ['GONZALO HOURCADE COMUNICACIONES S.R.L. (GH', 'C5O4 M9 U29N9IC 4A4C8I O2N50E9S)', 'www.ghcomunicaciones.com.ar', '', 'RIO NEGRO'], ['RED INTERCABLE DIGITAL S.A.', '(5411) 6091.5600', 'www.redintercable.com.ar', 'Aguaray', 'SALTA'], ['MULTITRUNK SA (YEAP!)', '5236-5200', 'www.yeap.com.ar', 'Anta', 'SALTA'], ['DESE TECHNOLOGIES ARGENTINA S.A. (DESEMAX)', '0291-4066200', 'www.desetech.com.ar', 'Apolinario Saravia', 'SALTA'], ['RED INTERCABLE DIGITAL S.A.', '(5411) 6091.5600', 'www.redintercable.com.ar', 'Apolinario Saravia', 'SALTA'], ['DESE TECHNOLOGIES ARGENTINA S.A. (DESEMAX)', '0291-4066200', 'www.desetech.com.ar', 'Cachi', 'SALTA'], ['RED INTERCABLE DIGITAL S.A.', '(5411) 6091.5600', 'www.redintercable.com.ar', 'Cafayate', 'SALTA'], ['RED INTERCABLE DIGITAL S.A.', '(5411) 6091.5600', 'www.redintercable.com.ar', 'Campo Santo', 'SALTA']]\n",
      "(36, 5)\n",
      "Tabla 1 en la página 65: [['SM COMUNICACIONES S.R.L.', '387 584-6126', '', 'Cerrillos', 'SALTA'], ['RED INTERCABLE DIGITAL S.A.', '(5411) 6091.5600', 'www.redintercable.com.ar', 'Coronel Mollinedo', 'SALTA'], ['RED INTERCABLE DIGITAL S.A.', '(5411) 6091.5600', 'www.redintercable.com.ar', 'El Bordo', 'SALTA'], ['DESE TECHNOLOGIES ARGENTINA S.A. (DESEMAX)', '0291-4066200', 'www.desetech.com.ar', 'El Galpón', 'SALTA'], ['RED INTERCABLE DIGITAL S.A.', '(5411) 6091.5600', 'www.redintercable.com.ar', 'El Galpón', 'SALTA'], ['RED INTERCABLE DIGITAL S.A.', '(5411) 6091.5600', 'www.redintercable.com.ar', 'El Quebrachal', 'SALTA'], ['RED INTERCABLE DIGITAL S.A.', '(5411) 6091.5600', 'www.redintercable.com.ar', 'Embarcación', 'SALTA'], ['RED INTERCABLE DIGITAL S.A.', '(5411) 6091.5600', 'www.redintercable.com.ar', 'General Güemes', 'SALTA'], ['RED INTERCABLE DIGITAL S.A.', '(5411) 6091.5600', 'www.redintercable.com.ar', 'General Pizarro', 'SALTA'], ['RED INTERCABLE DIGITAL S.A.', '(5411) 6091.5600', 'www.redintercable.com.ar', 'Hipólito Yrigoyen', 'SALTA'], ['RED INTERCABLE DIGITAL S.A.', '(5411) 6091.5600', 'www.redintercable.com.ar', 'Joaquín V. González', 'SALTA'], ['SM COMUNICACIONES S.R.L.', '387 584-6126', '', 'La Merced', 'SALTA'], ['LEWTEL SRL', '0810-999-5398', 'www.lewtel.com.ar', 'La Merced', 'SALTA'], ['RED INTERCABLE DIGITAL S.A.', '(5411) 6091.5600', 'www.redintercable.com.ar', 'Las Lajitas', 'SALTA'], ['RED INTERCABLE DIGITAL S.A.', '(5411) 6091.5600', 'www.redintercable.com.ar', 'Luis Burella', 'SALTA'], ['DESE TECHNOLOGIES ARGENTINA S.A. (DESEMAX)', '0291-4066200', 'www.desetech.com.ar', 'Metán', 'SALTA'], ['RED INTERCABLE DIGITAL S.A.', '(5411) 6091.5600', 'www.redintercable.com.ar', 'Metán', 'SALTA'], ['RED INTERCABLE DIGITAL S.A.', '(5411) 6091.5600', 'www.redintercable.com.ar', 'Orán', 'SALTA'], ['RED INTERCABLE DIGITAL S.A.', '(5411) 6091.5600', 'www.redintercable.com.ar', 'Pichanal', 'SALTA'], ['RED INTERCABLE DIGITAL S.A.', '(5411) 6091.5600', 'www.redintercable.com.ar', 'Piquete Cabado', 'SALTA'], ['RED INTERCABLE DIGITAL S.A.', '(5411) 6091.5600', 'www.redintercable.com.ar', 'Río del Valle', 'SALTA'], ['DESE TECHNOLOGIES ARGENTINA S.A. (DESEMAX)', '0291-4066200', 'www.desetech.com.ar', 'Rosario de la Frontera', 'SALTA'], ['BEISAGA OMAR TITO (BEICOM)', '0387-4342608', '', 'Salta', 'SALTA'], ['LEWTEL SRL', '0810-999-5398', 'www.lewtel.com.ar', 'Salta', 'SALTA'], ['MINISTERIO DE HACIENDA Y FINANZAS', '0387-4364340/4324324', 'www.haciendasalta.gob.ar', 'Salta', 'SALTA'], ['MULTITRUNK SA (YEAP!)', '5236-5200', 'www.yeap.com.ar', 'Salta', 'SALTA'], ['NUBICOM SRL', '0810-555-1179', 'www.nubicom.com.ar', 'Salta', 'SALTA'], ['SUBSECRETARIA DE PROYECTOS Y SISTEMAS (SERVIC', 'I0O3 A8D7 M43IN24IS3T9R0ATIVO FINANCIERO D', 'Ew LwAw G.OsaBltEaR.gNoAbC.IaOrN)', 'Salta', 'SALTA'], ['TELMEX ARGENTINA S.A.', '', 'www.claro.com.ar', 'Salta', 'SALTA'], ['UNIVERSIDAD CATOLICA DE SALTA (UCASAL)', '387-4268800', 'www.ucasal.edu.ar', 'Salta', 'SALTA'], ['DESE TECHNOLOGIES ARGENTINA S.A. (DESEMAX)', '0291-4066200', 'www.desetech.com.ar', 'Salvador Mazza', 'SALTA'], ['SM COMUNICACIONES S.R.L.', '387 584-6126', '', 'San Agustin', 'SALTA'], ['RED INTERCABLE DIGITAL S.A.', '(5411) 6091.5600', 'www.redintercable.com.ar', 'San Antonio de los Cobres', 'SALTA'], ['DESE TECHNOLOGIES ARGENTINA S.A. (DESEMAX)', '0291-4066200', 'www.desetech.com.ar', 'San Ramón de la Nueva Orán', 'SALTA'], ['RED INTERCABLE DIGITAL S.A.', '(5411) 6091.5600', 'www.redintercable.com.ar', 'Tartagal', 'SALTA'], ['VEGA SILVERIO (SILVER CHANNEL)', '3886 457901', 'www.silverchannel.tv', 'URUNDEL', 'SALTA'], ['RED INTERCABLE DIGITAL S.A.', '(5411) 6091.5600', 'www.redintercable.com.ar', 'Vaqueros', 'SALTA']]\n",
      "(36, 5)\n",
      "Tabla 1 en la página 66: [['XF COMUNICACIONES S.A.', '264 4201413', 'www.xfcomunicaciones.com.ar', 'Casuarinas', 'SAN JUAN'], ['TELEFONIA PUBLICA Y PRIVADA S.A.', '4372-3310', 'www.tpp.com.ar', 'Caucete', 'SAN JUAN'], ['XF COMUNICACIONES S.A.', '264 4201413', 'www.xfcomunicaciones.com.ar', 'Caucete', 'SAN JUAN'], ['CASELLES COSTA FACUNDO JAVIER (ONPOWER)', '2644393096', 'www.onpower.com.ar', 'Chimbas', 'SAN JUAN'], ['SION SA', '0810 999 0100', 'www.sion.com', 'Chimbas', 'SAN JUAN'], ['XF COMUNICACIONES S.A.', '264 4201413', 'www.xfcomunicaciones.com.ar', 'Chimbas', 'SAN JUAN'], ['SION SA', '0810 999 0100', 'www.sion.com', 'Desamparados', 'SAN JUAN'], ['CASCONE RICARDO HORACIO (JACHAL VISION)', '02647-421026', 'www.jachalvision.com.ar', 'Jachal', 'SAN JUAN'], ['XF COMUNICACIONES S.A.', '264 4201413', 'www.xfcomunicaciones.com.ar', 'La Bebida', 'SAN JUAN'], ['XF COMUNICACIONES S.A.', '264 4201413', 'www.xfcomunicaciones.com.ar', 'Los Berros', 'SAN JUAN'], ['XF COMUNICACIONES S.A.', '264 4201413', 'www.xfcomunicaciones.com.ar', 'Marquezado', 'SAN JUAN'], ['XF COMUNICACIONES S.A.', '264 4201413', 'www.xfcomunicaciones.com.ar', 'Medano de Oro', 'SAN JUAN'], ['CORTEZ RAUL OMAR (ZETRO)', '0264-4922203', 'www.zetro.com.ar', 'Pocito', 'SAN JUAN'], ['GANTE S.A. (TECNORED)', '264-4240488', 'www.tecnored.net.ar', 'Rawson', 'SAN JUAN'], ['GPS SAN JUAN S.R.L. (GPS COMUNICACIONES)', '264 4425657', 'www.gpscom.com.ar', 'Rawson', 'SAN JUAN'], ['SION SA', '0810 999 0100', 'www.sion.com', 'Rawson', 'SAN JUAN'], ['TELEFONIA PUBLICA Y PRIVADA S.A.', '4372-3310', 'www.tpp.com.ar', 'Rawson', 'SAN JUAN'], ['CASELLES COSTA FACUNDO JAVIER (ONPOWER)', '2644393096', 'www.onpower.com.ar', 'Rivadavia', 'SAN JUAN'], ['XF COMUNICACIONES S.A.', '264 4201413', 'www.xfcomunicaciones.com.ar', 'Rivadavia', 'SAN JUAN'], ['CARRASCO LEONARDO JAVIER (NETLINK)', '2974045438', 'www.netlink-internet.com.ar', 'Rivadavia,', 'SAN JUAN'], ['ARLINK SA', '(0261) 4496000', 'www.supercanal-arlink.com.ar', 'San Juan', 'SAN JUAN'], ['INTERREDES S.A.', '264 4275700', 'www.interredes.com.ar', 'San Juan', 'SAN JUAN'], ['MULTITRUNK SA (YEAP!)', '5236-5200', 'www.yeap.com.ar', 'San Juan', 'SAN JUAN'], ['NETROPOLYS S.A.', '264 408 4003/4005', '', 'San Juan', 'SAN JUAN'], ['PECHIEU GASTON (NETLINK WIRELESS INTERNET)', '0264-4308800', 'www.netlink-internet.com.ar', 'San Juan', 'SAN JUAN'], ['SION SA', '0810 999 0100', 'www.sion.com', 'San Juan', 'SAN JUAN'], ['TELEFONIA PUBLICA Y PRIVADA S.A.', '4372-3310', 'www.tpp.com.ar', 'San Juan', 'SAN JUAN'], ['TELMEX ARGENTINA S.A.', '', 'www.claro.com.ar', 'San Juan', 'SAN JUAN'], ['UNIVERSIDAD NACIONAL DE SAN JUAN', '264 4295000', 'www.unsj.edu.ar', 'San Juan', 'SAN JUAN'], ['INTERSAT S.A.', '0264-4216510/4220531', 'www.intersatargentina.com.ar', 'San Juan', 'SAN JUAN'], ['CARRASCO LEONARDO JAVIER (NETLINK)', '2974045438', 'www.netlink-internet.com.ar', 'San Juan Capital', 'SAN JUAN'], ['CASELLES COSTA FACUNDO JAVIER (ONPOWER)', '2644393096', 'www.onpower.com.ar', 'San Juan Capital', 'SAN JUAN'], ['XF COMUNICACIONES S.A.', '264 4201413', 'www.xfcomunicaciones.com.ar', 'San Martin', 'SAN JUAN'], ['XF COMUNICACIONES S.A.', '264 4201413', 'www.xfcomunicaciones.com.ar', 'Santa Lucía', 'SAN JUAN'], ['XF COMUNICACIONES S.A.', '264 4201413', 'www.xfcomunicaciones.com.ar', 'Santa Rosa', 'SAN JUAN'], ['XF COMUNICACIONES S.A.', '264 4201413', 'www.xfcomunicaciones.com.ar', 'Ullum', 'SAN JUAN'], ['XF COMUNICACIONES S.A.', '264 4201413', 'www.xfcomunicaciones.com.ar', 'Villa Aberastain', 'SAN JUAN']]\n",
      "(36, 5)\n",
      "Tabla 1 en la página 67: [['XF COMUNICACIONES S.A.', '264 4201413', 'www.xfcomunicaciones.com.ar', 'Villa Krause', 'SAN JUAN'], ['XF COMUNICACIONES S.A.', '264 4201413', 'www.xfcomunicaciones.com.ar', 'Villa Media Agua', 'SAN JUAN'], ['XF COMUNICACIONES S.A.', '264 4201413', 'www.xfcomunicaciones.com.ar', 'Villa Salvador', 'SAN JUAN'], ['XF COMUNICACIONES S.A.', '264 4201413', 'www.xfcomunicaciones.com.ar', 'Zonda', 'SAN JUAN'], ['SIDECOM SRL (FAST Internet Banda Ancha)', '02657 - 668400 - 0810-345-3278', 'www.fast.com.ar', 'Ciudad de la Punta', 'SAN LUIS'], ['SION SA', '0810 999 0100', 'www.sion.com', 'El Chorrillo', 'SAN LUIS'], ['SIDECOM SRL (FAST Internet Banda Ancha)', '02657 - 668400 - 0810-345-3278', 'www.fast.com.ar', 'Fraga', 'SAN LUIS'], ['SIDECOM SRL (FAST Internet Banda Ancha)', '02657 - 668400 - 0810-345-3278', 'www.fast.com.ar', 'Justo Daract', 'SAN LUIS'], ['SION SA', '0810 999 0100', 'www.sion.com', 'Nogoli', 'SAN LUIS'], ['FUNDACION INNOVAT (INNOVARED)', '4322-8488', 'www.innova-red.net/', 'San Luis', 'SAN LUIS'], ['IFX NETWORKS ARGENTINA SRL', '(011) 5031-2400', 'www.ifxnetworks.com', 'San Luis', 'SAN LUIS'], ['MULTITRUNK SA (YEAP!)', '5236-5200', 'www.yeap.com.ar', 'San Luis', 'SAN LUIS'], ['SILICA NETWORKS ARGENTINA SA', '+54 (11) 4103-1300', 'www.silicanetworks.com', 'San Luis', 'SAN LUIS'], ['TELMEX ARGENTINA S.A.', '', 'www.claro.com.ar', 'San Luis', 'SAN LUIS'], ['UNIVERSIDAD NACIONAL DE SAN LUIS', '54-2664520300', 'www.unsp.edu.ar', 'San Luis', 'SAN LUIS'], ['SIDECOM SRL (FAST Internet Banda Ancha)', '02657 - 668400 - 0810-345-3278', 'www.fast.com.ar', 'San Luis (Capital)', 'SAN LUIS'], ['ARLINK SA', '(0261) 4496000', 'www.supercanal-arlink.com.ar', 'Villa Mercedes', 'SAN LUIS'], ['IFX NETWORKS ARGENTINA SRL', '(011) 5031-2400', 'www.ifxnetworks.com', 'Villa Mercedes', 'SAN LUIS'], ['MORENO MARTIN GASTON (NETWORKING SOLUTIO', 'N0S2)657-15294838', '', 'Villa Mercedes', 'SAN LUIS'], ['SIDECOM SRL (FAST Internet Banda Ancha)', '02657 - 668400 - 0810-345-3278', 'www.fast.com.ar', 'Villa Mercedes', 'SAN LUIS'], ['SILICA NETWORKS ARGENTINA SA', '+54 (11) 4103-1300', 'www.silicanetworks.com', 'Villa Mercedes', 'SAN LUIS'], ['SION SA', '0810 999 0100', 'www.sion.com', 'Villa Mercedes', 'SAN LUIS'], ['RED INTERCABLE DIGITAL S.A.', '(5411) 6091.5600', 'www.redintercable.com.ar', '28 de Noviembre', 'SANTA CRUZ'], ['CALETA VIDEO CABLE SRL', '0297-4851002', 'www.caletavideocable.com.ar', 'Caleta Olivia', 'SANTA CRUZ'], ['TELEFONIA PUBLICA Y PRIVADA S.A.', '4372-3310', 'www.tpp.com.ar', 'Caleta Olivia', 'SANTA CRUZ'], ['SERVICIOS DE TECNOLOGÍA APLICADA SRL (AFTER W', 'IR(0E2)99) 447-6404', 'www.after-wire.com.ar', 'Cañadon Seco', 'SANTA CRUZ'], ['RED INTERCABLE DIGITAL S.A.', '(5411) 6091.5600', 'www.redintercable.com.ar', 'Co. Luis Piedrabuena', 'SANTA CRUZ'], ['COOPERATIVA TELEFONICA DE CALAFATE LTDA', '02902-491011', 'www.cotecal.com.ar', 'El Calafate', 'SANTA CRUZ'], ['RED INTERCABLE DIGITAL S.A.', '(5411) 6091.5600', 'www.redintercable.com.ar', 'El Calafate', 'SANTA CRUZ'], ['LUJAN LOZA RAMIRO ANTONIO (GREGORES VISION)', '02966 690825 / 2962 491902', 'www.gregoresvision.com.ar', 'GOBERNADOR GREGORES', 'SANTA CRUZ'], ['HERNANDEZ RUBEN', '(0297) 497410', 'www.goldernet.com.ar', 'Las Heras', 'SANTA CRUZ'], ['SERVICIOS DE TECNOLOGÍA APLICADA SRL (AFTER W', 'IR(0E2)99) 447-6404', 'www.after-wire.com.ar', 'Las Heras', 'SANTA CRUZ'], ['TELEFONIA PUBLICA Y PRIVADA S.A.', '4372-3310', 'www.tpp.com.ar', 'Las Heras', 'SANTA CRUZ'], ['SERVICIOS DE TECNOLOGÍA APLICADA SRL (AFTER W', 'IR(0E2)99) 447-6404', 'www.after-wire.com.ar', 'Los Perales', 'SANTA CRUZ'], ['SERVICIOS DE TECNOLOGÍA APLICADA SRL (AFTER W', 'IR(0E2)99) 447-6404', 'www.after-wire.com.ar', 'Pico Truncado', 'SANTA CRUZ'], ['TELEFONIA PUBLICA Y PRIVADA S.A.', '4372-3310', 'www.tpp.com.ar', 'Pico Truncado', 'SANTA CRUZ'], ['RED INTERCABLE DIGITAL S.A.', '(5411) 6091.5600', 'www.redintercable.com.ar', 'Puerto Deseado', 'SANTA CRUZ']]\n",
      "(36, 5)\n",
      "Tabla 1 en la página 68: [['SION SA', '0810 999 0100', 'www.sion.com', 'Puerto Deseado', 'SANTA CRUZ'], ['RED INTERCABLE DIGITAL S.A.', '(5411) 6091.5600', 'www.redintercable.com.ar', 'Puerto San Julián', 'SANTA CRUZ'], ['RED INTERCABLE DIGITAL S.A.', '(5411) 6091.5600', 'www.redintercable.com.ar', 'Puerto Santa Cruz', 'SANTA CRUZ'], ['ARLINK SA', '(0261) 4496000', 'www.supercanal-arlink.com.ar', 'Río Gallegos', 'SANTA CRUZ'], ['PARALELO 52 TV SA (CABLE10)', '2966 431433', 'www.cable10.com', 'Río Gallegos', 'SANTA CRUZ'], ['SERVICIOS DE TECNOLOGÍA APLICADA SRL (AFTER W', 'IR(0E2)99) 447-6404', 'www.after-wire.com.ar', 'Río Gallegos', 'SANTA CRUZ'], ['SICSATEL SRL (GRIIP)', '351 675 1602', 'www.griip.com.ar', 'Río Gallegos', 'SANTA CRUZ'], ['SOUTO SEBASTIAN (SSSERVICIOS)', '02966 511532', 'www.ssservicios.com.ar', 'Río Gallegos', 'SANTA CRUZ'], ['TELMEX ARGENTINA S.A.', '', 'www.claro.com.ar', 'Río Gallegos', 'SANTA CRUZ'], ['UNIVERSIDAD NACIONAL DE LA PATAGONIA AUSTRA', 'L02966 442376', 'www.unpa.edu.ar', 'Río Gallegos', 'SANTA CRUZ'], ['COOPERATIVA TELEFÓNICA OYIKIL LTDA', '02902-422800', 'www.oyikil.com.ar', 'Río Turbio', 'SANTA CRUZ'], ['RED INTERCABLE DIGITAL S.A.', '(5411) 6091.5600', 'www.redintercable.com.ar', 'Río Turbio', 'SANTA CRUZ'], ['INTERNET SERVICES SA', '011-781-5417', 'www. is.com.ar', 'Arijon ,dv.', 'SANTA FE'], ['INTERNET SERVICES SA', '011-781-5417', 'www. is.com.ar', 'Coronda', 'SANTA FE'], ['INTERNET SERVICES SA', '011-781-5417', 'www. is.com.ar', 'Empalme Villa Constitucion', 'SANTA FE'], ['INTERNET SERVICES SA', '011-781-5417', 'www. is.com.ar', 'Frontera', 'SANTA FE'], ['INTERNET SERVICES SA', '011-781-5417', 'www. is.com.ar', 'Gessler', 'SANTA FE'], ['INTERNET SERVICES SA', '011-781-5417', 'www. is.com.ar', 'Huanqueros', 'SANTA FE'], ['INTERNET SERVICES SA', '011-781-5417', 'www. is.com.ar', 'Josefina', 'SANTA FE'], ['INTERNET SERVICES SA', '011-781-5417', 'www. is.com.ar', 'La Lucila', 'SANTA FE'], ['INTERNET SERVICES SA', '011-781-5417', 'www. is.com.ar', 'Larrechea', 'SANTA FE'], ['INTERNET SERVICES SA', '011-781-5417', 'www. is.com.ar', 'Monte Vera', 'SANTA FE'], ['INTERNET SERVICES SA', '011-781-5417', 'www. is.com.ar', 'Ñanducita', 'SANTA FE'], ['INTERNET SERVICES SA', '011-781-5417', 'www. is.com.ar', 'Recreo', 'SANTA FE'], ['INTERNET SERVICES SA', '011-781-5417', 'www. is.com.ar', 'San Cristobal', 'SANTA FE'], ['INTERNET SERVICES SA', '011-781-5417', 'www. is.com.ar', 'Santo Tome', 'SANTA FE'], ['INTERNET SERVICES SA', '011-781-5417', 'www. is.com.ar', 'Santo Tome', 'SANTA FE'], ['INTERNET SERVICES SA', '011-781-5417', 'www. is.com.ar', 'Santo Tome', 'SANTA FE'], ['INTERNET SERVICES SA', '011-781-5417', 'www. is.com.ar', 'Santurce', 'SANTA FE'], ['INTERNET SERVICES SA', '011-781-5417', 'www. is.com.ar', 'Sauce Viejo', 'SANTA FE'], ['INTERNET SERVICES SA', '011-781-5417', 'www. is.com.ar', 'Villa Constitucion', 'SANTA FE'], ['ALVAREZ CABLE HOGAR S.A.', '03402-462210', 'www.alvarezcablehogar.com.ar', 'Acebal', 'SANTA FE'], ['RED INTERCABLE DIGITAL S.A.', '(5411) 6091.5600', 'www.redintercable.com.ar', 'Acebal', 'SANTA FE'], ['SION SA', '0810 999 0100', 'www.sion.com', 'Aeropuerto', 'SANTA FE'], ['RED INTERCABLE DIGITAL S.A.', '(5411) 6091.5600', 'www.redintercable.com.ar', 'Aldao', 'SANTA FE'], ['RED INTERCABLE DIGITAL S.A.', '(5411) 6091.5600', 'www.redintercable.com.ar', 'Alejandra', 'SANTA FE'], ['ALVAREZ CABLE HOGAR S.A.', '03402-462210', 'www.alvarezcablehogar.com.ar', 'Alvarez', 'SANTA FE']]\n",
      "(36, 5)\n",
      "Tabla 1 en la página 69: [['IP RED SRL ( antes BUNAR S.R.L.)', '0341-5587020/ 08102680102', 'www.ipred.com.ar', 'Alvarez', 'SANTA FE'], ['RED INTERCABLE DIGITAL S.A.', '(5411) 6091.5600', 'www.redintercable.com.ar', 'Alvarez', 'SANTA FE'], ['COOPERATIVA TELEFONICA de VILLA GDOR GALVEZ L', 'T(5D4A-341) 4921299', 'www.telvgg.coop', 'Alvear', 'SANTA FE'], ['RED INTERCABLE DIGITAL S.A.', '(5411) 6091.5600', 'www.redintercable.com.ar', 'Alvear', 'SANTA FE'], ['RED INTERCABLE DIGITAL S.A.', '(5411) 6091.5600', 'www.redintercable.com.ar', 'Ambrosetti', 'SANTA FE'], ['RED INTERCABLE DIGITAL S.A.', '(5411) 6091.5600', 'www.redintercable.com.ar', 'Angélica', 'SANTA FE'], ['CABLETEL S. A.', '(0346) 4470280', 'www.cabletel.net.ar', 'Arequito', 'SANTA FE'], ['RED INTERCABLE DIGITAL S.A.', '(5411) 6091.5600', 'www.redintercable.com.ar', 'Arequito', 'SANTA FE'], ['SION SA', '0810 999 0100', 'www.sion.com', 'Arijón', 'SANTA FE'], ['ALVAREZ CABLE HOGAR S.A.', '03402-462210', 'www.alvarezcablehogar.com.ar', 'Arminda', 'SANTA FE'], ['RED INTERCABLE DIGITAL S.A.', '(5411) 6091.5600', 'www.redintercable.com.ar', 'Arminda', 'SANTA FE'], ['CABLENET SA', '03492-470736', 'www.cablenet.com.ar', 'Arocena', 'SANTA FE'], ['RED INTERCABLE DIGITAL S.A.', '(5411) 6091.5600', 'www.redintercable.com.ar', 'Arocena', 'SANTA FE'], ['IP RED SRL ( antes BUNAR S.R.L.)', '0341-5587020/ 08102680102', 'www.ipred.com.ar', 'Arroyo Seco', 'SANTA FE'], ['RED INTERCABLE DIGITAL S.A.', '(5411) 6091.5600', 'www.redintercable.com.ar', 'Arroyo Seco', 'SANTA FE'], ['RED INTERCABLE DIGITAL S.A.', '(5411) 6091.5600', 'www.redintercable.com.ar', 'Arrufo', 'SANTA FE'], ['CABLETEL S. A.', '(0346) 4470280', 'www.cabletel.net.ar', 'Arteaga', 'SANTA FE'], ['RED INTERCABLE DIGITAL S.A.', '(5411) 6091.5600', 'www.redintercable.com.ar', 'Arteaga', 'SANTA FE'], ['RED INTERCABLE DIGITAL S.A.', '(5411) 6091.5600', 'www.redintercable.com.ar', 'Ataliva', 'SANTA FE'], ['ARLINK SA', '(0261) 4496000', 'www.supercanal-arlink.com.ar', 'Avellaneda', 'SANTA FE'], ['WILTEL COMUNICACIONES S.A.', '03492 50-1000', 'www.wiltel.com.ar', 'Bauer y Sigel', 'SANTA FE'], ['CABLENET SA', '03492-470736', 'www.cablenet.com.ar', 'Bernardo de Irigoyen', 'SANTA FE'], ['RED INTERCABLE DIGITAL S.A.', '(5411) 6091.5600', 'www.redintercable.com.ar', 'Bernardo de Irigoyen', 'SANTA FE'], ['COOPERATIVA REGIONAL DE PROVISION DE SERVICI', 'O(S0 3D4E0 T1R) A4N48S9M1I0SION DE DATOS Y CR', 'EwDwITwO.r LeTdDeArs.com.ar', 'Bouquet', 'SANTA FE'], ['RED INTERCABLE DIGITAL S.A.', '(5411) 6091.5600', 'www.redintercable.com.ar', 'Campo Garay', 'SANTA FE'], ['SILICA NETWORKS ARGENTINA SA', '+54 (11) 4103-1300', 'www.silicanetworks.com', 'Cañada de Gomez', 'SANTA FE'], ['COOPERATIVA TELEFONICA de VILLA GDOR GALVEZ L', 'T(5D4A-341) 4921299', 'www.telvgg.coop', 'Cañada Rica', 'SANTA FE'], ['EMPRESA TIC NORTE S.A.S.(CONECTA)', '3401-422169 int 502', '', 'Cañada Rosquín', 'SANTA FE'], ['RED INTERCABLE DIGITAL S.A.', '(5411) 6091.5600', 'www.redintercable.com.ar', 'Cañada Rosquín', 'SANTA FE'], ['COOPERATIVA TELEFONICA, OBRAS Y SERVICIOS DE C', '(A0P3I4T1A)N 4 B91E R2M20U0DEZ, FRAY LUIS BEL', 'TwRAwNw .Yn SeUtc oZOopN.Aco LmIM.aIrTADA.', 'Capitán Bermudez', 'SANTA FE'], ['IPTEL S.A.', '0351-5890000', 'www.iptel.com.ar', 'Capitan Bermudez', 'SANTA FE'], ['RED INTERCABLE DIGITAL S.A.', '(5411) 6091.5600', 'www.redintercable.com.ar', 'Carcarañá', 'SANTA FE'], ['SION SA', '0810 999 0100', 'www.sion.com', 'Carcarañá', 'SANTA FE'], ['EMPRESA TIC NORTE S.A.S.(CONECTA)', '3401-422169 int 502', '', 'Carlos Pellegrini', 'SANTA FE'], ['RED INTERCABLE DIGITAL S.A.', '(5411) 6091.5600', 'www.redintercable.com.ar', 'Carlos Pellegrini', 'SANTA FE'], ['RED INTERCABLE DIGITAL S.A.', '(5411) 6091.5600', 'www.redintercable.com.ar', 'Casas', 'SANTA FE'], ['COOPERATIVA REGIONAL DE PROVISION DE SERVICI', 'O(S0 3D4E0 T1R) A4N48S9M1I0SION DE DATOS Y CR', 'EwDwITwO.r LeTdDeArs.com.ar', 'Centeno', 'SANTA FE']]\n",
      "(36, 5)\n",
      "Tabla 1 en la página 70: [['RED INTERCABLE DIGITAL S.A.', '(5411) 6091.5600', 'www.redintercable.com.ar', 'Ceres', 'SANTA FE'], ['SERVICIOS S.A.', '03491 421295', 'www.cnvceres.tv', 'Ceres', 'SANTA FE'], ['COOPERATIVA REGIONAL DE PROVISION DE SERVICI', 'O(S0 3D4E0 T1R) A4N48S9M1I0SION DE DATOS Y CR', 'EwDwITwO.r LeTdDeArs.com.ar', 'Clarke', 'SANTA FE'], ['MM COMUNICACIONES SA', '', '', 'Clucellas', 'SANTA FE'], ['RED INTERCABLE DIGITAL S.A.', '(5411) 6091.5600', 'www.redintercable.com.ar', 'Colastine', 'SANTA FE'], ['CABLENET SA', '03492-470736', 'www.cablenet.com.ar', 'Colonia Belgrano', 'SANTA FE'], ['RED INTERCABLE DIGITAL S.A.', '(5411) 6091.5600', 'www.redintercable.com.ar', 'Colonia Belgrano', 'SANTA FE'], ['RED INTERCABLE DIGITAL S.A.', '(5411) 6091.5600', 'www.redintercable.com.ar', 'Colonia Castelar', 'SANTA FE'], ['TRYNET S.R.L.', '03406-441447', 'www.trynet.com.ar', 'Colonia Castelar', 'SANTA FE'], ['CABLENET SA', '03492-470736', 'www.cablenet.com.ar', 'Colonia Margarita', 'SANTA FE'], ['RED INTERCABLE DIGITAL S.A.', '(5411) 6091.5600', 'www.redintercable.com.ar', 'Colonia Margarita', 'SANTA FE'], ['RED INTERCABLE DIGITAL S.A.', None, 'www.redintercable.com.ar', 'Colonia Raquel', 'SANTA FE'], ['RED INTERCABLE DIGITAL S.A.', None, 'www.redintercable.com.ar', 'Colonia Rosa', 'SANTA FE'], ['CABLEVIDEO DIGITAL SA', None, 'www.cablevideodigitalbionik.com', '.aCroronda', 'SANTA FE'], ['RED INTERCABLE DIGITAL S.A.', None, 'www.redintercable.com.ar', 'Coronda', 'SANTA FE'], ['RED INTERCABLE DIGITAL S.A.', None, 'www.redintercable.com.ar', 'Coronel Arnold', 'SANTA FE'], ['ALVAREZ CABLE HOGAR S.A.', None, 'www.alvarezcablehogar.com.ar', 'Coronel Dominguez', 'SANTA FE'], ['RED INTERCABLE DIGITAL S.A.', None, 'www.redintercable.com.ar', 'Coronel Dominguez', 'SANTA FE'], ['RED INTERCABLE DIGITAL S.A.', None, 'www.redintercable.com.ar', 'Correa', 'SANTA FE'], ['RED INTERCABLE DIGITAL S.A.', None, 'www.redintercable.com.ar', 'Crispi', 'SANTA FE'], ['TRYNET S.R.L.', None, 'www.trynet.com.ar', 'Crispi', 'SANTA FE'], ['RED INTERCABLE DIGITAL S.A.', None, 'www.redintercable.com.ar', 'Curupaytí', 'SANTA FE'], ['EMPRESA TIC NORTE S.A.S.(CONECTA)', None, '', 'El Trébol', 'SANTA FE'], ['RED INTERCABLE DIGITAL S.A.', None, 'www.redintercable.com.ar', 'El Trébol', 'SANTA FE'], ['RED INTERCABLE DIGITAL S.A.', None, 'www.redintercable.com.ar', 'Elisa', 'SANTA FE'], ['WILTEL COMUNICACIONES S.A.', None, 'www.wiltel.com.ar', 'Esperanza', 'SANTA FE'], ['RED INTERCABLE DIGITAL S.A.', None, 'www.redintercable.com.ar', 'Estación Clucellas', 'SANTA FE'], ['RED INTERCABLE DIGITAL S.A.', None, 'www.redintercable.com.ar', 'Esteban Rams', 'SANTA FE'], ['RIPOLL OMAR ANSELMO (TDC NET)', None, '', 'Firmat', 'SANTA FE'], ['RED INTERCABLE DIGITAL S.A.', None, 'www.redintercable.com.ar', 'Franck', 'SANTA FE'], ['WILTEL COMUNICACIONES S.A.', None, 'www.wiltel.com.ar', 'Franck', 'SANTA FE'], ['COOPERATIVA TELEFONICA, OBRAS Y SERVICIOS DE C', None, 'TwRAwNw .Yn SeUtc oZOopN.Aco LmIM.aIrTADA.', 'Fray Luis Beltran', 'SANTA FE'], ['IPTEL S.A.', None, 'www.iptel.com.ar', 'Fray Luis Beltran', 'SANTA FE'], ['COOPERATIVA DE TELECOMUNICACIONES, DE SERVI', None, 'IOwNw wY .CfuOnNeSsUcoMoOp. DcoEm F.U.aNrES LTDA', 'Funes', 'SANTA FE'], ['ITC FUNES S.A.', None, '', 'Funes', 'SANTA FE'], ['SETTEMBRI LUCIANO (LEMMON INTERNET)', None, 'www.redlimon.com.ar', 'Funes', 'SANTA FE'], ['COOPERATIVA TELEFONICA de VILLA GDOR GALVEZ L', None, 'www.telvgg.coop', 'Galvez', 'SANTA FE']]\n",
      "(36, 5)\n",
      "Tabla 1 en la página 71: [['CABLENET SA', None, 'www.cablenet.com.ar', 'Gálvez', 'SANTA FE'], ['IP RED SRL ( antes BUNAR S.R.L.)', None, 'www.ipred.com.ar', 'General Lagos', 'SANTA FE'], ['RED INTERCABLE DIGITAL S.A.', '(5411) 6091.5600', 'www.redintercable.com.ar', 'General Lagos', 'SANTA FE'], ['WILTEL COMUNICACIONES S.A.', '03492 50-1000', 'www.wiltel.com.ar', 'Gessler', 'SANTA FE'], ['RED INTERCABLE DIGITAL S.A.', '(5411) 6091.5600', 'www.redintercable.com.ar', 'Gobernador Crespo', 'SANTA FE'], ['IPTEL S.A.', '0351-5890000', 'www.iptel.com.ar', 'Granadero Baigorria', 'SANTA FE'], ['LARRAURI, GUALBERTO JOSE (INGENIERIA STEEL SA)', '(0341) 471242', 'www.steel.com.ar', 'GRANADERO BAIGORRIA', 'SANTA FE'], ['WICORP S.A. (NUBENET)', '54 (0341) 445-0101', 'www.nubenet.com.ar', 'GRANADERO BAIGORRIA', 'SANTA FE'], ['WILTEL COMUNICACIONES S.A.', '03492 50-1000', 'www.wiltel.com.ar', 'Grutly', 'SANTA FE'], ['SION SA', '0810 999 0100', 'www.sion.com', 'Guadalupe', 'SANTA FE'], ['RED INTERCABLE DIGITAL S.A.', '(5411) 6091.5600', 'www.redintercable.com.ar', 'Helvecia', 'SANTA FE'], ['RED INTERCABLE DIGITAL S.A.', '(5411) 6091.5600', 'www.redintercable.com.ar', 'Hersilia', 'SANTA FE'], ['SION SA', '0810 999 0100', 'www.sion.com', 'Hipodromo', 'SANTA FE'], ['RED INTERCABLE DIGITAL S.A.', '(5411) 6091.5600', 'www.redintercable.com.ar', 'Huanqueros', 'SANTA FE'], ['RED INTERCABLE DIGITAL S.A.', '(5411) 6091.5600', 'www.redintercable.com.ar', 'Humberto Primo', 'SANTA FE'], ['WILTEL COMUNICACIONES S.A.', '03492 50-1000', 'www.wiltel.com.ar', 'Humberto Primo', 'SANTA FE'], ['IP RED SRL ( antes BUNAR S.R.L.)', '0341-5587020/ 08102680102', 'www.ipred.com.ar', 'Ibarlucea', 'SANTA FE'], ['RED INTERCABLE DIGITAL S.A.', '(5411) 6091.5600', 'www.redintercable.com.ar', 'Ibarlucea', 'SANTA FE'], ['RED INTERCABLE DIGITAL S.A.', '(5411) 6091.5600', 'www.redintercable.com.ar', 'La Criolla', 'SANTA FE'], ['RED INTERCABLE DIGITAL S.A.', '(5411) 6091.5600', 'www.redintercable.com.ar', 'La Guardia', 'SANTA FE'], ['RED INTERCABLE DIGITAL S.A.', '(5411) 6091.5600', 'www.redintercable.com.ar', 'La Pelada', 'SANTA FE'], ['RED INTERCABLE DIGITAL S.A.', '(5411) 6091.5600', 'www.redintercable.com.ar', 'La Rubia', 'SANTA FE'], ['COOPERATIVA TELEFONICA de VILLA GDOR GALVEZ L', 'T(5D4A-341) 4921299', 'www.telvgg.coop', 'La Vanguardia', 'SANTA FE'], ['RED INTERCABLE DIGITAL S.A.', '(5411) 6091.5600', 'www.redintercable.com.ar', 'Landeta', 'SANTA FE'], ['RED INTERCABLE DIGITAL S.A.', '(5411) 6091.5600', 'www.redintercable.com.ar', 'Las Palmeras', 'SANTA FE'], ['RED INTERCABLE DIGITAL S.A.', '(5411) 6091.5600', 'www.redintercable.com.ar', 'Las Petacas', 'SANTA FE'], ['TRYNET S.R.L.', '03406-441447', 'www.trynet.com.ar', 'Las Petacas', 'SANTA FE'], ['EMPRESA TIC NORTE S.A.S.(CONECTA)', '3401-422169 int 502', '', 'Las Rosas', 'SANTA FE'], ['RED INTERCABLE DIGITAL S.A.', '(5411) 6091.5600', 'www.redintercable.com.ar', 'Las Rosas', 'SANTA FE'], ['RED INTERCABLE DIGITAL S.A.', '(5411) 6091.5600', 'www.redintercable.com.ar', 'Lehmann', 'SANTA FE'], ['WILTEL COMUNICACIONES S.A.', '03492 50-1000', 'www.wiltel.com.ar', 'Lehmann', 'SANTA FE'], ['RED INTERCABLE DIGITAL S.A.', '(5411) 6091.5600', 'www.redintercable.com.ar', 'Logroño', 'SANTA FE'], ['CABLENET SA', '03492-470736', None, 'Lopez', 'SANTA FE'], ['RED INTERCABLE DIGITAL S.A.', '(5411) 6091.5600', None, 'Lopez', 'SANTA FE'], ['EMPRESA TIC NORTE S.A.S.(CONECTA)', '3401-422169 int 502', None, 'Los Cardos', 'SANTA FE'], ['RED INTERCABLE DIGITAL S.A.', '(5411) 6091.5600', None, 'Los Cardos', 'SANTA FE'], ['CABLETEL S. A.', '(0346) 4470280', None, 'Los Molinos', 'SANTA FE']]\n",
      "(36, 5)\n",
      "Tabla 1 en la página 72: [['RED INTERCABLE DIGITAL S.A.', '(5411) 6091.5600', 'www.redintercable.com.ar', 'Los Molinos', 'SANTA FE'], ['IP RED SRL ( antes BUNAR S.R.L.)', '0341-5587020/ 08102680102', 'www.ipred.com.ar', 'Los Muchachos', 'SANTA FE'], ['CABLETEL S. A.', '(0346) 4470280', 'www.cabletel.net.ar', 'Los Nogales', 'SANTA FE'], ['COOPERATIVA REGIONAL DE PROVISION DE SERVICI', 'O(S0 3D4E0 T1R) A4N48S9M1I0SION DE DATOS Y CR', 'EwDwITwO.r LeTdDeArs.com.ar', 'Maria Susana', 'SANTA FE'], ['MARIA TERESA VISION COLOR S.R.L.', '03465-480323', 'www.mtvc.com.ar', 'María Teresa', 'SANTA FE'], ['RED INTERCABLE DIGITAL S.A.', '(5411) 6091.5600', 'www.redintercable.com.ar', 'María Teresa', 'SANTA FE'], ['WILTEL COMUNICACIONES S.A.', '03492 50-1000', 'www.wiltel.com.ar', 'Matilde', 'SANTA FE'], ['RED INTERCABLE DIGITAL S.A.', '(5411) 6091.5600', 'www.redintercable.com.ar', 'Moisés Ville', 'SANTA FE'], ['RED INTERCABLE DIGITAL S.A.', '(5411) 6091.5600', 'www.redintercable.com.ar', 'Monigotes', 'SANTA FE'], ['RED INTERCABLE DIGITAL S.A.', '(5411) 6091.5600', 'www.redintercable.com.ar', 'Montefiore', 'SANTA FE'], ['COOPERATIVA REGIONAL DE PROVISION DE SERVICI', 'O(S0 3D4E0 T1R) A4N48S9M1I0SION DE DATOS Y CR', 'EwDwITwO.r LeTdDeArs.com.ar', 'Montes de Oca', 'SANTA FE'], ['RED INTERCABLE DIGITAL S.A.', '(5411) 6091.5600', 'www.redintercable.com.ar', 'Montes de Oca', 'SANTA FE'], ['RED INTERCABLE DIGITAL S.A.', '(5411) 6091.5600', 'www.redintercable.com.ar', 'Palacios', 'SANTA FE'], ['RED INTERCABLE DIGITAL S.A.', '(5411) 6091.5600', 'www.redintercable.com.ar', 'Pavón Arriba', 'SANTA FE'], ['COOPERATIVA REGIONAL DE PROVISION DE SERVICI', 'O(S0 3D4E0 T1R) A4N48S9M1I0SION DE DATOS Y CR', 'EwDwITwO.r LeTdDeArs.com.ar', 'Piamonte', 'SANTA FE'], ['EMPRESA TIC NORTE S.A.S.(CONECTA)', '3401-422169 int 502', '', 'Piamonte', 'SANTA FE'], ['RED INTERCABLE DIGITAL S.A.', '(5411) 6091.5600', 'www.redintercable.com.ar', 'Piamonte', 'SANTA FE'], ['WILTEL COMUNICACIONES S.A.', '03492 50-1000', 'www.wiltel.com.ar', 'Pilar', 'SANTA FE'], ['ALVAREZ CABLE HOGAR S.A.', '03402-462210', 'www.alvarezcablehogar.com.ar', 'Piñero', 'SANTA FE'], ['RED INTERCABLE DIGITAL S.A.', '(5411) 6091.5600', 'www.redintercable.com.ar', 'Piñero', 'SANTA FE'], ['RED INTERCABLE DIGITAL S.A.', '(5411) 6091.5600', 'www.redintercable.com.ar', 'Plaza Clucellas', 'SANTA FE'], ['RED INTERCABLE DIGITAL S.A.', '(5411) 6091.5600', 'www.redintercable.com.ar', 'Pozo Borrado', 'SANTA FE'], ['RED INTERCABLE DIGITAL S.A.', '(5411) 6091.5600', 'www.redintercable.com.ar', 'Progreso', 'SANTA FE'], ['RED INTERCABLE DIGITAL S.A.', '(5411) 6091.5600', 'www.redintercable.com.ar', 'Providencia', 'SANTA FE'], ['COOPERATIVA TELEFONICA de VILLA GDOR GALVEZ L', 'T(5D4A-341) 4921299', 'www.telvgg.coop', 'Pueblo Esther', 'SANTA FE'], ['CABLENET SA', '03492-470736', 'www.cablenet.com.ar', 'Pueblo Irigoyen', 'SANTA FE'], ['ALVAREZ CABLE HOGAR S.A.', '03402-462210', 'www.alvarezcablehogar.com.ar', 'Pueblo Muñoz', 'SANTA FE'], ['RED INTERCABLE DIGITAL S.A.', '(5411) 6091.5600', 'www.redintercable.com.ar', 'Pueblo Muñoz', 'SANTA FE'], ['WILTEL COMUNICACIONES S.A.', '03492 50-1000', 'www.wiltel.com.ar', 'Rafaela', 'SANTA FE'], ['WILTEL COMUNICACIONES S.A.', '03492 50-1000', 'www.wiltel.com.ar', 'Ramona', 'SANTA FE'], ['ARLINK SA', '(0261) 4496000', 'www.supercanal-arlink.com.ar', 'Reconquista', 'SANTA FE'], ['RED INTERCABLE DIGITAL S.A.', '(5411) 6091.5600', 'www.redintercable.com.ar', 'Ricardone', 'SANTA FE'], ['SETTEMBRI LUCIANO (LEMMON INTERNET)', '8103451004', 'www.redlimon.com.ar', 'Roldan', 'SANTA FE'], ['RED INTERCABLE DIGITAL S.A.', '(5411) 6091.5600', 'www.redintercable.com.ar', 'Roldán', 'SANTA FE'], ['VILLENUEVE GROUP S.A. (FIBRANET)', '0341-4962600', 'www.fibranet.com.ar', 'Roldán', 'SANTA FE'], ['ADVANTUN SRL', '5365-8800', 'www.advantun.com', 'Rosario', 'SANTA FE'], ['FUNDACION INNOVAT (INNOVARED)', '4322-8488', 'www.innova-red.net/', 'Rosario', 'SANTA FE']]\n",
      "(36, 5)\n",
      "Tabla 1 en la página 73: [['IFX NETWORKS ARGENTINA SRL', '(011) 5031-2400', 'www.ifxnetworks.com', 'Rosario', 'SANTA FE'], ['IP RED SRL ( antes BUNAR S.R.L.)', '0341-5587020/ 08102680102', 'www.ipred.com.ar', 'Rosario', 'SANTA FE'], ['IPTEL S.A.', '0351-5890000', 'www.iptel.com.ar', 'Rosario', 'SANTA FE'], ['MEGATRANS SA', '4343-5657', 'www.megatrans.com.ar', 'Rosario', 'SANTA FE'], ['MULTITRUNK SA (YEAP!)', '5236-5200', 'www.yeap.com.ar', 'Rosario', 'SANTA FE'], ['NEURALSOFT S.R.L.', '(0341) 4090555', 'www.neuralsoft.com', 'Rosario', 'SANTA FE'], ['NSS SA / IPLAN', '0800 345 0000', 'www.iplan.com.ar', 'Rosario', 'SANTA FE'], ['SETTEMBRI LUCIANO (LEMMON INTERNET)', '8103451004', 'www.redlimon.com.ar', 'Rosario', 'SANTA FE'], ['SILICA NETWORKS ARGENTINA SA', '+54 (11) 4103-1300', 'www.silicanetworks.com', 'Rosario', 'SANTA FE'], ['TELEVISION LITORAL S.A.', '(0341) 4575415', 'www.rosario3.com', 'Rosario', 'SANTA FE'], ['TELMEX ARGENTINA S.A.', '', 'www.claro.com.ar', 'Rosario', 'SANTA FE'], ['TRANSDATOS S.A.', '54 341 5271397 / 1591 / 1507', 'www.transdatos.com.ar', 'Rosario', 'SANTA FE'], ['WICORP S.A. (NUBENET)', '54 (0341) 445-0101', 'www.nubenet.com.ar', 'Rosario', 'SANTA FE'], ['WN INTERNET S.R.L.', '0341 5230000', 'www.wninternet.com', 'Rosario', 'SANTA FE'], ['SION SA', '0810 999 0100', 'www.sion.com', 'Saavedra', 'SANTA FE'], ['RED INTERCABLE DIGITAL S.A.', '(5411) 6091.5600', 'www.redintercable.com.ar', 'Saguier', 'SANTA FE'], ['RED INTERCABLE DIGITAL S.A.', '(5411) 6091.5600', 'www.redintercable.com.ar', 'Salto Grande', 'SANTA FE'], ['WILTEL COMUNICACIONES S.A.', '03492 50-1000', 'www.wiltel.com.ar', 'San Carlos Centro', 'SANTA FE'], ['RED INTERCABLE DIGITAL S.A.', '(5411) 6091.5600', 'www.redintercable.com.ar', 'San Cristóbal', 'SANTA FE'], ['CABLENET SA', '03492-470736', 'www.cablenet.com.ar', 'San Eugenio', 'SANTA FE'], ['CABLENET SA', '03492-470736', 'www.cablenet.com.ar', 'San Fabián', 'SANTA FE'], ['RED INTERCABLE DIGITAL S.A.', '(5411) 6091.5600', 'www.redintercable.com.ar', 'San Fabián', 'SANTA FE'], ['COOPERATIVA REGIONAL DE PROVISION DE SERVICI', 'O(S0 3D4E0 T1R) A4N48S9M1I0SION DE DATOS Y CR', 'EwDwITwO.r LeTdDeArs.com.ar', 'San Genaro', 'SANTA FE'], ['RED INTERCABLE DIGITAL S.A.', '(5411) 6091.5600', 'www.redintercable.com.ar', 'San Genaro', 'SANTA FE'], ['RED INTERCABLE DIGITAL S.A.', '(5411) 6091.5600', 'www.redintercable.com.ar', 'San Gregorio', 'SANTA FE'], ['RED INTERCABLE DIGITAL S.A.', '(5411) 6091.5600', 'www.redintercable.com.ar', 'San Guillermo', 'SANTA FE'], ['RED INTERCABLE DIGITAL S.A.', '(5411) 6091.5600', 'www.redintercable.com.ar', 'San Javier', 'SANTA FE'], ['RED INTERCABLE DIGITAL S.A.', '(5411) 6091.5600', 'www.redintercable.com.ar', 'San Jerónimo del Sauce', 'SANTA FE'], ['RED INTERCABLE DIGITAL S.A.', '(5411) 6091.5600', 'www.redintercable.com.ar', 'San Jerónimo Norte', 'SANTA FE'], ['WILTEL COMUNICACIONES S.A.', '03492 50-1000', 'www.wiltel.com.ar', 'San Jerónimo Norte', 'SANTA FE'], ['SETTEMBRI LUCIANO (LEMMON INTERNET)', '8103451004', 'www.redlimon.com.ar', 'San Jeronimo Sud', 'SANTA FE'], ['RED INTERCABLE DIGITAL S.A.', '(5411) 6091.5600', 'www.redintercable.com.ar', 'San Jerónimo Sud', 'SANTA FE'], ['TRYNET S.R.L.', '03406-441447', 'www.trynet.com.ar', 'San Jorge', 'SANTA FE'], ['WILTEL COMUNICACIONES S.A.', '03492 50-1000', 'www.wiltel.com.ar', 'San Jorge', 'SANTA FE'], ['RED INTERCABLE DIGITAL S.A.', '(5411) 6091.5600', 'www.redintercable.com.ar', 'San Jose De La Esquina', 'SANTA FE'], ['CABLETEL S. A.', '(0346) 4470280', 'www.cabletel.net.ar', 'San José de la Esquina', 'SANTA FE'], ['RED INTERCABLE DIGITAL S.A.', '(5411) 6091.5600', 'www.redintercable.com.ar', 'San José del Rincón', 'SANTA FE']]\n",
      "(36, 5)\n",
      "Tabla 1 en la página 74: [['RED INTERCABLE DIGITAL S.A.', '(5411) 6091.5600', 'www.redintercable.com.ar', 'San Mariano', 'SANTA FE'], ['CABLENET SA', '03492-470736', 'www.cablenet.com.ar', 'San Martín de las Escobas', 'SANTA FE'], ['RED INTERCABLE DIGITAL S.A.', '(5411) 6091.5600', 'www.redintercable.com.ar', 'San Martín de las Escobas', 'SANTA FE'], ['WILTEL COMUNICACIONES S.A.', '03492 50-1000', 'www.wiltel.com.ar', 'San Pereyra', 'SANTA FE'], ['CABLENET SA', '03492-470736', 'www.cablenet.com.ar', 'San Vicente', 'SANTA FE'], ['RED INTERCABLE DIGITAL S.A.', '(5411) 6091.5600', 'www.redintercable.com.ar', 'Santa Clara Buena Vista', 'SANTA FE'], ['CABLENET SA', '03492-470736', 'www.cablenet.com.ar', 'Santa Clara de Buena Vista', 'SANTA FE'], ['RED INTERCABLE DIGITAL S.A.', '(5411) 6091.5600', 'www.redintercable.com.ar', 'Santa Clara de Saguier', 'SANTA FE'], ['CABLEVIDEO DIGITAL SA', '(0342) 4560909', 'www.cablevideodigitalbionik.com', '.aSarnta Fe', 'SANTA FE'], ['GIGARED S.A.', '6310-6000', 'www.gigared.com', 'Santa Fe', 'SANTA FE'], ['SION SA', '0810 999 0100', 'www.sion.com', 'Santa Fe', 'SANTA FE'], ['TELMEX ARGENTINA S.A.', '', 'www.claro.com.ar', 'Santa Fe', 'SANTA FE'], ['UNIVERSIDAD NACIONAL DEL LITORAL', '(0342) 4571110', 'www.unl.edu.ar', 'Santa Fe', 'SANTA FE'], ['MULTITRUNK SA (YEAP!)', '5236-5200', 'www.yeap.com.ar', 'Santa Fe Capital', 'SANTA FE'], ['IPTEL S.A.', '0351-5890000', 'www.iptel.com.ar', 'Santa Isabel', 'SANTA FE'], ['RED INTERCABLE DIGITAL S.A.', '(5411) 6091.5600', 'www.redintercable.com.ar', 'Santa Rosa de Calchines', 'SANTA FE'], ['RED INTERCABLE DIGITAL S.A.', '(5411) 6091.5600', 'www.redintercable.com.ar', 'Santa Teresa', 'SANTA FE'], ['CABLEVIDEO DIGITAL SA', '(0342) 4560909', 'www.cablevideodigitalbionik.com', '.aSarnto Tome', 'SANTA FE'], ['SION SA', '0810 999 0100', 'www.sion.com', 'Santo Tome', 'SANTA FE'], ['WILTEL COMUNICACIONES S.A.', '03492 50-1000', 'www.wiltel.com.ar', 'Sarmiento', 'SANTA FE'], ['TRYNET S.R.L.', '03406-441447', 'www.trynet.com.ar', 'Sastre', 'SANTA FE'], ['ALVAREZ CABLE HOGAR S.A.', '03402-462210', 'www.alvarezcablehogar.com.ar', 'Soldini', 'SANTA FE'], ['RED INTERCABLE DIGITAL S.A.', '(5411) 6091.5600', 'www.redintercable.com.ar', 'Soledad', 'SANTA FE'], ['NETCOMM ARGENTINA SRL (INFINET FIBRA)', '345-4226440', 'www.infinet.com.ar', 'Suardi', 'SANTA FE'], ['RED INTERCABLE DIGITAL S.A.', '(5411) 6091.5600', 'www.redintercable.com.ar', 'Suardi', 'SANTA FE'], ['RED INTERCABLE DIGITAL S.A.', '(5411) 6091.5600', 'www.redintercable.com.ar', 'Sunchales', 'SANTA FE'], ['WILTEL COMUNICACIONES S.A.', '03492 50-1000', 'www.wiltel.com.ar', 'Sunchales', 'SANTA FE'], ['RED INTERCABLE DIGITAL S.A.', '(5411) 6091.5600', 'www.redintercable.com.ar', 'Susana', 'SANTA FE'], ['RED INTERCABLE DIGITAL S.A.', '(5411) 6091.5600', 'www.redintercable.com.ar', 'Tacural', 'SANTA FE'], ['WILTEL COMUNICACIONES S.A.', '03492 50-1000', 'www.wiltel.com.ar', 'Tacural', 'SANTA FE'], ['EMPRESA DE SERVICIOS DE TELEVISION POR CABLE S', '.5A2.17-6427', '', 'Teodelina', 'SANTA FE'], ['RED INTERCABLE DIGITAL S.A.', '(5411) 6091.5600', 'www.redintercable.com.ar', 'Tortugas', 'SANTA FE'], ['RED INTERCABLE DIGITAL S.A.', '(5411) 6091.5600', 'www.redintercable.com.ar', 'Tostado', 'SANTA FE'], ['IPTEL S.A.', '0351-5890000', 'www.iptel.com.ar', 'Venado Tuerto', 'SANTA FE'], ['SITERNET S.R.L.', '(0249) 44336000/636', 'www.ruralink.com.ar', 'Venado Tuerto', 'SANTA FE'], ['WEHRLI NORBERTO CARLOS (INFORMATICA VENADO', '0)3462 432243', 'www.informaticavenado.com.ar', 'Venado Tuerto', 'SANTA FE'], ['RED INTERCABLE DIGITAL S.A.', '(5411) 6091.5600', 'www.redintercable.com.ar', 'Vera y Pintado', 'SANTA FE']]\n",
      "(36, 5)\n",
      "Tabla 1 en la página 75: [['CH SISTEMAS SRL', '03498-490200', 'www.chsistemas.com.ar', 'Videla', 'SANTA FE'], ['RED INTERCABLE DIGITAL S.A.', '(5411) 6091.5600 www.redintercable.com.ar', None, 'Vila', 'SANTA FE'], ['RED INTERCABLE DIGITAL S.A.', '(5411) 6091.5600', 'www.redintercable.com.ar', 'Villa Amelia', 'SANTA FE'], ['RED INTERCABLE DIGITAL S.A.', '(5411) 6091.5600', 'www.redintercable.com.ar', 'Villa Cañas', 'SANTA FE'], ['SITERNET S.R.L.', '(0249) 44336000/636', 'www.ruralink.com.ar', 'Villa Cañas', 'SANTA FE'], ['CABLETEL S. A.', '(0346) 4470280', 'www.cabletel.net.ar', 'Villa Eloísa', 'SANTA FE'], ['COOPERATIVA TELEFONICA de VILLA GDOR GALVEZ L', 'T(5D4A-341) 4921299', 'www.telvgg.coop', 'Villa Gobernador Gálvez', 'SANTA FE'], ['RED INTERCABLE DIGITAL S.A.', '(5411) 6091.5600', 'www.redintercable.com.ar', 'Villa Minetti', 'SANTA FE'], ['RED INTERCABLE DIGITAL S.A.', '(5411) 6091.5600', 'www.redintercable.com.ar', 'Villa Ocampo', 'SANTA FE'], ['RED INTERCABLE DIGITAL S.A.', '(5411) 6091.5600', 'www.redintercable.com.ar', 'Villa San José', 'SANTA FE'], ['RED INTERCABLE DIGITAL S.A.', '(5411) 6091.5600', 'www.redintercable.com.ar', 'Villa Trinidad', 'SANTA FE'], ['SETTEMBRI LUCIANO (LEMMON INTERNET)', '8103451004', 'www.redlimon.com.ar', 'Zavalla', 'SANTA FE'], ['RED INTERCABLE DIGITAL S.A.', '(5411) 6091.5600', 'www.redintercable.com.ar', 'Zenón Pereyra', 'SANTA FE'], ['ALTEC S.E.', '(54 294) 4420807 / 4422696', 'www.altec.com.ar', '', 'SANTA FE'], ['SERVICIOS PARA EL TRANSPORTE DE INFORMACION', 'S4.A30. 9(S-P5T4I0)0', 'www.boldt.com.ar', '', 'SANTA FE'], ['GODOY LUIS ALBERTO (PRO-DATA)', '03731-421729-422486', '', 'Bajo Hondo', 'SANTIAGO DEL ESTERO'], ['RED INTERCABLE DIGITAL S.A.', '(5411) 6091.5600', 'www.redintercable.com.ar', 'Colonia Alpina', 'SANTIAGO DEL ESTERO'], ['ARLINK SA', None, 'www.supercanal-arlink.com.ar', 'La Banda', 'SANTIAGO DEL ESTERO'], ['GODOY LUIS ALBERTO (PRO-DATA)', None, '', 'La Paloma', 'SANTIAGO DEL ESTERO'], ['RED INTERCABLE DIGITAL S.A.', None, 'www.redintercable.com.ar', 'Palo Negro', 'SANTIAGO DEL ESTERO'], ['LE FAVI DANIEL OSVALDO', None, '', 'Pampa de los guanacos', 'SANTIAGO DEL ESTERO'], ['GODOY LUIS ALBERTO (PRO-DATA)', None, '', 'Pozo del Toba', 'SANTIAGO DEL ESTERO'], ['RED INTERCABLE DIGITAL S.A.', None, 'www.redintercable.com.ar', 'Quimilí', 'SANTIAGO DEL ESTERO'], ['GODOY LUIS ALBERTO (PRO-DATA)', None, '', 'Roversi', 'SANTIAGO DEL ESTERO'], ['LE FAVI DANIEL OSVALDO', None, '', 'Sachayoj', 'SANTIAGO DEL ESTERO'], ['ARLINK SA', None, 'www.supercanal-arlink.com.ar', 'Santiago del Estero', 'SANTIAGO DEL ESTERO'], ['MULTITRUNK SA (YEAP!)', None, 'www.yeap.com.ar', 'Santiago del Estero', 'SANTIAGO DEL ESTERO'], ['TELMEX ARGENTINA S.A.', None, 'www.claro.com.ar', 'Santiago del Estero', 'SANTIAGO DEL ESTERO'], ['RED INTERCABLE DIGITAL S.A.', None, 'www.redintercable.com.ar', 'Selva', 'SANTIAGO DEL ESTERO'], ['RED INTERCABLE DIGITAL S.A.', None, 'www.redintercable.com.ar', 'Termas de Río Hondo', 'SANTIAGO DEL ESTERO'], ['RED INTERCABLE DIGITAL S.A.', None, 'www.redintercable.com.ar', 'Villa Ojo de Agua', 'SANTIAGO DEL ESTERO'], ['RED INTERCABLE DIGITAL S.A.', None, 'www.redintercable.com.ar', 'Río Grande', 'TIERRA DEL FUEGO'], ['SION SA', None, 'www.sion.com', 'Río Grande', 'TIERRA DEL FUEGO'], ['ARLINK SA', None, 'www.supercanal-arlink.com.ar', 'Ushuaia', 'TIERRA DEL FUEGO'], ['RED INTERCABLE DIGITAL S.A.', None, 'www.redintercable.com.ar', 'Ushuaia', 'TIERRA DEL FUEGO'], ['TELMEX ARGENTINA S.A.', None, 'www.claro.com.ar', 'Ushuaia', 'TIERRA DEL FUEGO'], ['TUCUMAN BBS SRL', None, 'www.tucbbs.com.ar', 'Aguilares', 'TUCUMÁN']]\n",
      "(36, 5)\n",
      "Tabla 1 en la página 76: [['SITERNET S.R.L.', None, 'www.ruralink.com.ar', 'Alberti', 'TUCUMÁN'], ['SION SA', None, 'www.sion.com', 'Banda del Rio Sali', 'TUCUMÁN'], ['TUCUMAN BBS SRL', None, 'www.tucbbs.com.ar', 'Banda del Rio Sali', 'TUCUMÁN'], ['TUCUMAN BBS SRL', None, 'www.tucbbs.com.ar', 'Concepción', 'TUCUMÁN'], ['SION SA', None, 'www.sion.com', 'Cristo', 'TUCUMÁN'], ['RED INTERCABLE DIGITAL S.A.', None, 'www.redintercable.com.ar', 'El Mollar', 'TUCUMÁN'], ['RED INTERCABLE DIGITAL S.A.', '(5411) 6091.5600', 'www.redintercable.com.ar', 'El Tala', 'TUCUMÁN'], ['TUCUMAN BBS SRL', '0381-4530950', 'www.tucbbs.com.ar', 'Famailla', 'TUCUMÁN'], ['RED INTERCABLE DIGITAL S.A.', '(5411) 6091.5600', 'www.redintercable.com.ar', 'Graneros', 'TUCUMÁN'], ['TUCUMAN BBS SRL', '0381-4530950', 'www.tucbbs.com.ar', 'JB Alberdi', 'TUCUMÁN'], ['SION SA', '0810 999 0100', 'www.sion.com', 'Judiciales', 'TUCUMÁN'], ['SION SA', '0810 999 0100', 'www.sion.com', 'Kennedy', 'TUCUMÁN'], ['RED INTERCABLE DIGITAL S.A.', '(5411) 6091.5600', 'www.redintercable.com.ar', 'Lamadrid', 'TUCUMÁN'], ['TUCUMAN BBS SRL', '0381-4530950', 'www.tucbbs.com.ar', 'Lules', 'TUCUMÁN'], ['RED INTERCABLE DIGITAL S.A.', '(5411) 6091.5600', 'www.redintercable.com.ar', 'Monteagudo', 'TUCUMÁN'], ['TUCUMAN BBS SRL', '0381-4530950', 'www.tucbbs.com.ar', 'Monteros', 'TUCUMÁN'], ['RED INTERCABLE DIGITAL S.A.', '(5411) 6091.5600', 'www.redintercable.com.ar', 'Río Colorado', 'TUCUMÁN'], ['AREVALO CARLOS ALBERTO (GIGANET)', '0381-4241458', '', 'San Miguel de Tucuman', 'TUCUMÁN'], ['ARLINK SA', '(0261) 4496000', 'www.supercanal-arlink.com.ar', 'San Miguel de Tucuman', 'TUCUMÁN'], ['CONNET SRL', '0381-4397700', 'www.connetsrl.com.ar', 'San Miguel de Tucuman', 'TUCUMÁN'], ['LEVEL SEVEN S.R.L. (ARLAB TECNOLOGIA INFORMATI', 'C0A3)81-4530600/4307715', 'www.arlab.com.ar', 'San Miguel de Tucuman', 'TUCUMÁN'], ['MEGATRANS SA', '4343-5657', 'www.megatrans.com.ar', 'San Miguel de Tucuman', 'TUCUMÁN'], ['MULTITRUNK SA (YEAP!)', '5236-5200', 'www.yeap.com.ar', 'San Miguel de Tucuman', 'TUCUMÁN'], ['TELMEX ARGENTINA S.A.', '', 'www.claro.com.ar', 'San Miguel de Tucuman', 'TUCUMÁN'], ['TUCUMAN BBS SRL', '0381-4530950', 'www.tucbbs.com.ar', 'San Miguel de Tucuman', 'TUCUMÁN'], ['RED INTERCABLE DIGITAL S.A.', '(5411) 6091.5600', 'www.redintercable.com.ar', 'Santa Rosa de Leales', 'TUCUMÁN'], ['RED INTERCABLE DIGITAL S.A.', '(5411) 6091.5600', 'www.redintercable.com.ar', 'Simoca', 'TUCUMÁN'], ['TUCUMAN BBS SRL', '0381-4530950', 'www.tucbbs.com.ar', 'Simoca', 'TUCUMÁN'], ['RED INTERCABLE DIGITAL S.A.', '(5411) 6091.5600', 'www.redintercable.com.ar', 'Taco Ralo', 'TUCUMÁN'], ['TUCUMAN BBS SRL', '0381-4530950', 'www.tucbbs.com.ar', 'Tafi del Valle', 'TUCUMÁN'], ['TUCUMAN BBS SRL', '0381-4530950', 'www.tucbbs.com.ar', 'Tafi Viejo', 'TUCUMÁN'], ['RED INTERCABLE DIGITAL S.A.', '(5411) 6091.5600', 'www.redintercable.com.ar', 'Trancas', 'TUCUMÁN'], ['TUCUMAN BBS SRL', '0381-4530950', 'www.tucbbs.com.ar', 'Trancas', 'TUCUMÁN'], ['SION SA', '0810 999 0100', 'www.sion.com', 'Universidad', 'TUCUMÁN'], ['RED INTERCABLE DIGITAL S.A.', '(5411) 6091.5600', 'www.redintercable.com.ar', 'Villa Burruyaco', 'TUCUMÁN'], ['RED INTERCABLE DIGITAL S.A.', '(5411) 6091.5600', 'www.redintercable.com.ar', 'Villa Leales', 'TUCUMÁN'], ['SION SA', '0810 999 0100', 'www.sion.com', 'Villa Luján', 'TUCUMÁN']]\n",
      "(36, 5)\n"
     ]
    }
   ],
   "source": [
    "dfs = []\n",
    "# Función para verificar si una tabla tiene una estructura válida\n",
    "def is_valid_table(table):\n",
    "    if not table:\n",
    "        return False\n",
    "    if len(table) < 2:\n",
    "        return False\n",
    "    if any(len(row) != len(table[0]) for row in table):\n",
    "        return False\n",
    "    return True\n",
    "\n",
    "# Abre el archivo PDF con pdfplumber\n",
    "with pdfplumber.open(pdf_path) as pdf:\n",
    "    pages = pdf.pages[1:-2]\n",
    "    # Iterar a través de cada página\n",
    "    for page in pages:\n",
    "        # Extrae las tablas de la página\n",
    "        tables = page.extract_tables()\n",
    "        \n",
    "        # Depuración: Imprimir las tablas extraídas\n",
    "        for i, table in enumerate(tables):\n",
    "            print(f\"Tabla {i+1} en la página {page.page_number}: {table}\")\n",
    "\n",
    "        # Convierte cada tabla en un DataFrame de pandas y añádela a la lista si es válida\n",
    "        for table in tables:\n",
    "            if is_valid_table(table):\n",
    "                df = pd.DataFrame(table[1:], columns=table[0])\n",
    "                #df.columns = df.columns.str.strip()  # Eliminar espacios en blanco de los nombres de las columnas\n",
    "                print(df.shape)\n",
    "                dfs.append(df.reset_index(drop=True))# Resetea los índices "
   ]
  },
  {
   "cell_type": "code",
   "execution_count": 6,
   "metadata": {},
   "outputs": [
    {
     "name": "stdout",
     "output_type": "stream",
     "text": [
      "Procesando tabla 1...\n",
      "Primera fila: ['GLOBALSAT ARGENTINA TELECOMUNICACIONES SRL', '54 11 3987 7728 www.globalsatgroup.com.ar', None, '', 'ARGENTINA']\n",
      "Procesando tabla 2...\n",
      "Primera fila: ['CATTANEO LUIS E. (BBL-Net / Velostar )', '0291 452-4444', 'www.bbl-net.com.ar', 'Algarrobo', 'BUENOS AIRES']\n",
      "Procesando tabla 3...\n",
      "Primera fila: ['NODO NET S.A.', '', '', 'Bahia Blanca', 'BUENOS AIRES']\n",
      "Procesando tabla 4...\n",
      "Primera fila: ['ADVANTUN SRL', '5365-8800', 'www.advantun.com', 'Bella Vista', 'BUENOS AIRES']\n",
      "Procesando tabla 5...\n",
      "Primera fila: ['IFX NETWORKS ARGENTINA SRL', '(011) 5031-2400', 'www.ifxnetworks.com', 'Bernal', 'BUENOS AIRES']\n",
      "Procesando tabla 6...\n",
      "Primera fila: ['SION SA', '0810 999 0100', 'www.sion.com', 'Canning', 'BUENOS AIRES']\n",
      "Procesando tabla 7...\n",
      "Primera fila: ['IPNEXT S.A.', '5368-4000', 'www.ipnext.net.ar', 'Chacabuco', 'BUENOS AIRES']\n",
      "Procesando tabla 8...\n",
      "Primera fila: ['FACEBOOK ARGENTINA S.R.L.', '541150773400', 'www.facebook.com', 'Ciudad Autónoma de Buenos Air', 'eBsUENOS AIRES']\n",
      "Procesando tabla 9...\n",
      "Primera fila: ['TELEMUNDO 10 SRL', '(011) 4305-2121', 'www.telemundo10.com.ar', 'Ciudad Autónoma de Buenos Air', 'eBsUENOS AIRES']\n",
      "Procesando tabla 10...\n",
      "Primera fila: ['ETERNET SRL', '(02983) 513040', 'www.eternet.cc', 'Coronel Dorrego', 'BUENOS AIRES']\n",
      "Procesando tabla 11...\n",
      "Primera fila: ['VISIO RED SRL', '1151993126', 'www.visio.red', 'Dock Sud', 'BUENOS AIRES']\n",
      "Procesando tabla 12...\n",
      "Primera fila: ['SOLUCIONES WISP S.A. (INTERNET WISP)', '0221-4453445', 'www.wisp.com.ar', 'ENSENADA', 'BUENOS AIRES']\n",
      "Procesando tabla 13...\n",
      "Primera fila: ['SION SA', '0810 999 0100', 'www.sion.com', 'Fortin Tiburcio', 'BUENOS AIRES']\n",
      "Procesando tabla 14...\n",
      "Primera fila: ['VER TV SA/TELERED', '0810-810-22253', 'www.telered.com.ar', 'General Rodriguez', 'BUENOS AIRES']\n",
      "Procesando tabla 15...\n",
      "Primera fila: ['ADVANTUN SRL', '5365-8800', 'www.advantun.com', 'Guillermo E. Hudson', 'BUENOS AIRES']\n",
      "Procesando tabla 16...\n",
      "Primera fila: ['ADVANTUN SRL', '5365-8800', 'www.advantun.com', 'Ituzaingo', 'BUENOS AIRES']\n",
      "Procesando tabla 17...\n",
      "Primera fila: ['RED INTERCABLE DIGITAL S.A.', '(5411) 6091.5600', 'www.redintercable.com.ar', 'La Lucila', 'BUENOS AIRES']\n",
      "Procesando tabla 18...\n",
      "Primera fila: ['MULTITRUNK SA (YEAP!)', '5236-5200', 'www.yeap.com.ar', 'Lanus', 'BUENOS AIRES']\n",
      "Procesando tabla 19...\n",
      "Primera fila: ['RED INTERCABLE DIGITAL S.A.', '(5411) 6091.5600', 'www.redintercable.com.ar', 'Loma Verde', 'BUENOS AIRES']\n",
      "Procesando tabla 20...\n",
      "Primera fila: ['INTERNET WINDS AG SA', '(0221) 5130100', 'www.iwinds.com.ar', 'Magdalena', 'BUENOS AIRES']\n",
      "Procesando tabla 21...\n",
      "Primera fila: ['UNIVERSIDAD NACIONAL DE MAR DEL PLATA', '0223-492-1700', '', 'Mar del Plata', 'BUENOS AIRES']\n",
      "Procesando tabla 22...\n",
      "Primera fila: ['VER TV SA/TELERED', '0810-810-22253', 'www.telered.com.ar', 'Mercedes', 'BUENOS AIRES']\n",
      "Procesando tabla 23...\n",
      "Primera fila: ['SES, SISTEMAS ELECTRONICOS SA', '5453-8469', 'www.ses.com.ar', 'Moron', 'BUENOS AIRES']\n",
      "Procesando tabla 24...\n",
      "Primera fila: ['NODOCOOP FEDERACION DE COOPERATIVAS LTDA', '(02923) 494200', 'www.nodocoop.com.ar', 'Oriente', 'BUENOS AIRES']\n",
      "Procesando tabla 25...\n",
      "Primera fila: ['MUNICIPALIDAD DEL PILAR', '0230-4669200', 'www.pilar.gov.ar', 'Pilar', 'BUENOS AIRES']\n",
      "Procesando tabla 26...\n",
      "Primera fila: ['SES, SISTEMAS ELECTRONICOS SA', '5453-8469', 'www.ses.com.ar', 'Quilmes', 'BUENOS AIRES']\n",
      "Procesando tabla 27...\n",
      "Primera fila: ['NODOCOOP FEDERACION DE COOPERATIVAS LTDA', '(02923) 494200', 'www.nodocoop.com.ar', 'Rivera', 'BUENOS AIRES']\n",
      "Procesando tabla 28...\n",
      "Primera fila: ['IFX NETWORKS ARGENTINA SRL', '(011) 5031-2400', 'www.ifxnetworks.com', 'San Fernando', 'BUENOS AIRES']\n",
      "Procesando tabla 29...\n",
      "Primera fila: ['VER TV SA/TELERED', '0810-810-22253', 'www.telered.com.ar', 'San Miguel', 'BUENOS AIRES']\n",
      "Procesando tabla 30...\n",
      "Primera fila: ['VER TV SA/TELERED', '0810-810-22253', 'www.telered.com.ar', 'Suipacha', 'BUENOS AIRES']\n",
      "Procesando tabla 31...\n",
      "Primera fila: ['SISTA S.A.', '(0221) 4275510', 'www.sista.com.ar', 'Trenque Lauquen', 'BUENOS AIRES']\n",
      "Procesando tabla 32...\n",
      "Primera fila: ['ADVANTUN SRL', '5365-8800', 'www.advantun.com', 'Villa Bosch', 'BUENOS AIRES']\n",
      "Procesando tabla 33...\n",
      "Primera fila: ['NODOCOOP FEDERACION DE COOPERATIVAS LTDA', '(02923) 494200', 'www.nodocoop.com.ar', 'Villa Maza', 'BUENOS AIRES']\n",
      "Procesando tabla 34...\n",
      "Primera fila: ['BREÑAS CABLE COLOR S.R.L.', '3731460865', '', '', 'BUENOS AIRES']\n",
      "Procesando tabla 35...\n",
      "Primera fila: ['RUBEN OSCAR MOSSO (INTERZONA WIFI)', '3725 421330', 'www.interzonawifi.com.ar', 'Colonias Unidas', 'CHACO']\n",
      "Procesando tabla 36...\n",
      "Primera fila: ['ECOM CHACO S.A.', '0362-4193000 int 3506-3601', 'www.ecomchaco.com.ar', 'La Eduvigis', 'CHACO']\n",
      "Procesando tabla 37...\n",
      "Primera fila: ['RED INTERCABLE DIGITAL S.A.', '(5411) 6091.5600', 'www.redintercable.com.ar', 'Presidencia Roca', 'CHACO']\n",
      "Procesando tabla 38...\n",
      "Primera fila: ['GODOY LUIS ALBERTO (PRO-DATA)', '03731-421729-422486', '', 'Tres Estacas', 'CHACO']\n",
      "Procesando tabla 39...\n",
      "Primera fila: ['INTERNET SERVICES SA', '011-781-5417', 'www. is.com.ar', 'San Francisco', 'CÓRDOBA']\n",
      "Procesando tabla 40...\n",
      "Primera fila: ['NODOSUD S.A.', '(03537) 431111', 'www.nodosud.com.ar', 'Cintra', 'CÓRDOBA']\n",
      "Procesando tabla 41...\n",
      "Primera fila: ['COOPERATIVA ELECTRICA DE GENERAL DEHEZA LTDA', '(.0358) 4057000', 'www.cgdweb.com.ar', 'General Deheza', 'CÓRDOBA']\n",
      "Procesando tabla 42...\n",
      "Primera fila: ['POGLIOTTI & POGLIOTTI CONSTRUCCIONES SA (SITSA', '()0353) 4531146', 'www.sitsa.com.ar', 'Las Perdices', 'CÓRDOBA']\n",
      "Procesando tabla 43...\n",
      "Primera fila: ['NODOSUD S.A.', '(03537) 431111', 'www.nodosud.com.ar', 'Ordoñez', 'CÓRDOBA']\n",
      "Procesando tabla 44...\n",
      "Primera fila: ['MIRETTI MAURO ROMAN (SPEED INTERNET BANDA', 'A0N3C5H7A4-)481777', 'www.mauromiretti.com.ar', 'Santiago Temple', 'CÓRDOBA']\n",
      "Procesando tabla 45...\n",
      "Primera fila: ['GLOBAL TECHNOLOGY S.R.L.', '(02657) 431014', 'www.globaltechsrl.com.ar', 'Villa Valeria', 'CÓRDOBA']\n",
      "Procesando tabla 46...\n",
      "Primera fila: ['RED INTERCABLE DIGITAL S.A.', '(5411) 6091.5600', 'www.redintercable.com.ar', 'Mocoretá', 'CORRIENTES']\n",
      "Procesando tabla 47...\n",
      "Primera fila: ['FONZO CRISTIAN JAVIER', '3446 15 558285', '', 'Carbo', 'ENTRE RIOS']\n",
      "Procesando tabla 48...\n",
      "Primera fila: ['NETIUM S.A.', '0810 888 6384', 'www.netium.com.ar', 'Lucas Gonzalez', 'ENTRE RIOS']\n",
      "Procesando tabla 49...\n",
      "Primera fila: ['SERVICIOS PARA EL TRANSPORTE DE INFORMACION', 'S4.A30. 9(S-P5T4I0)0', 'www.boldt.com.ar', '', 'ENTRE RIOS']\n",
      "Procesando tabla 50...\n",
      "Primera fila: ['DESE TECHNOLOGIES ARGENTINA S.A. (DESEMAX)', '0291-4066200', 'www.desetech.com.ar', 'Palpalá', 'JUJUY']\n",
      "Procesando tabla 51...\n",
      "Primera fila: ['RED INTERCABLE DIGITAL S.A.', '(5411) 6091.5600', 'www.redintercable.com.ar', 'Falucho', 'LA PAMPA']\n",
      "Procesando tabla 52...\n",
      "Primera fila: ['DE AMBROSIO MARCELO MATIAS (VELONET)', '(02302) 436605', 'www.velonet.com.ar', 'Trenel', 'LA PAMPA']\n",
      "Procesando tabla 53...\n",
      "Primera fila: ['INTELA S.A. (NETLINK)', '2616606291', 'www.netlink.com.ar', 'Godoy Cruz', 'MENDOZA']\n",
      "Procesando tabla 54...\n",
      "Primera fila: ['TELMEX ARGENTINA S.A.', '', 'www.claro.com.ar', 'Lujan de Cuyo', 'MENDOZA']\n",
      "Procesando tabla 55...\n",
      "Primera fila: ['TECHTRON ARGENTINA S.A. (CELER INTERNET)', '8103335113', 'www.celerargentina.com.ar', 'Montecaseros', 'MENDOZA']\n",
      "Procesando tabla 56...\n",
      "Primera fila: ['SION SA', '0810 999 0100', 'www.sion.com', 'Tunuyán', 'MENDOZA']\n",
      "Procesando tabla 57...\n",
      "Primera fila: ['ANDY TARON (SWISS-NET ENERGIA & TELECOMUNIC', 'A0C3I7O4N3-E4S6)1500/0810-555-7947', 'www.swiss-net.com.ar', 'Jardín de América', 'MISIONES']\n",
      "Procesando tabla 58...\n",
      "Primera fila: ['COMUNICACIONES Y SERVICIOS SRL', '(0376) 443 3333', 'www.cys.net.ar', 'Santo Pipo', 'MISIONES']\n",
      "Procesando tabla 59...\n",
      "Primera fila: ['NOGUERA MARIA JOSE (MAX INTERNET)', '299-6352600/299-5966172', 'www.max-internet.com.ar', 'Las Lajas', 'NEUQUÉN']\n",
      "Procesando tabla 60...\n",
      "Primera fila: ['NEUNET S.A.', '(0299) 4894000', 'www.neunet.com.ar', 'Rincon de los Sauces', 'NEUQUÉN']\n",
      "Procesando tabla 61...\n",
      "Primera fila: ['TELEFONIA PUBLICA Y PRIVADA S.A.', '4372-3310', 'www.tpp.com.ar', 'Balsa las Perlas', 'RIO NEGRO']\n",
      "Procesando tabla 62...\n",
      "Primera fila: ['RED INTERCABLE DIGITAL S.A.', '(5411) 6091.5600', 'www.redintercable.com.ar', 'Darwin', 'RIO NEGRO']\n",
      "Procesando tabla 63...\n",
      "Primera fila: ['RED INTERCABLE DIGITAL S.A.', '(5411) 6091.5600', 'www.redintercable.com.ar', 'Pomona', 'RIO NEGRO']\n",
      "Procesando tabla 64...\n",
      "Primera fila: ['RED INTERCABLE DIGITAL S.A.', '(5411) 6091.5600', 'www.redintercable.com.ar', 'Coronel Mollinedo', 'SALTA']\n",
      "Procesando tabla 65...\n",
      "Primera fila: ['TELEFONIA PUBLICA Y PRIVADA S.A.', '4372-3310', 'www.tpp.com.ar', 'Caucete', 'SAN JUAN']\n",
      "Procesando tabla 66...\n",
      "Primera fila: ['XF COMUNICACIONES S.A.', '264 4201413', 'www.xfcomunicaciones.com.ar', 'Villa Media Agua', 'SAN JUAN']\n",
      "Procesando tabla 67...\n",
      "Primera fila: ['RED INTERCABLE DIGITAL S.A.', '(5411) 6091.5600', 'www.redintercable.com.ar', 'Puerto San Julián', 'SANTA CRUZ']\n",
      "Procesando tabla 68...\n",
      "Primera fila: ['RED INTERCABLE DIGITAL S.A.', '(5411) 6091.5600', 'www.redintercable.com.ar', 'Alvarez', 'SANTA FE']\n",
      "Procesando tabla 69...\n",
      "Primera fila: ['SERVICIOS S.A.', '03491 421295', 'www.cnvceres.tv', 'Ceres', 'SANTA FE']\n",
      "Procesando tabla 70...\n",
      "Primera fila: ['IP RED SRL ( antes BUNAR S.R.L.)', None, 'www.ipred.com.ar', 'General Lagos', 'SANTA FE']\n",
      "Procesando tabla 71...\n",
      "Primera fila: ['IP RED SRL ( antes BUNAR S.R.L.)', '0341-5587020/ 08102680102', 'www.ipred.com.ar', 'Los Muchachos', 'SANTA FE']\n",
      "Procesando tabla 72...\n",
      "Primera fila: ['IP RED SRL ( antes BUNAR S.R.L.)', '0341-5587020/ 08102680102', 'www.ipred.com.ar', 'Rosario', 'SANTA FE']\n",
      "Procesando tabla 73...\n",
      "Primera fila: ['CABLENET SA', '03492-470736', 'www.cablenet.com.ar', 'San Martín de las Escobas', 'SANTA FE']\n",
      "Procesando tabla 74...\n",
      "Primera fila: ['RED INTERCABLE DIGITAL S.A.', '(5411) 6091.5600 www.redintercable.com.ar', None, 'Vila', 'SANTA FE']\n",
      "Procesando tabla 75...\n",
      "Primera fila: ['SION SA', None, 'www.sion.com', 'Banda del Rio Sali', 'TUCUMÁN']\n"
     ]
    }
   ],
   "source": [
    "column_names = ['empresa', 'telefono', 'web', 'localidad', 'provincia']\n",
    "\n",
    "dfs_adjusted = []\n",
    "\n",
    "# Procesar cada DataFrame\n",
    "for i, data in enumerate(dfs):\n",
    "    print(f\"Procesando tabla {i+1}...\")\n",
    "\n",
    "    if data.empty:\n",
    "        print(\"Tabla vacía.\")\n",
    "        continue\n",
    "\n",
    "    # Depuración: Imprimir la primera fila de datos\n",
    "    print(\"Primera fila:\", data.iloc[0].tolist())\n",
    "\n",
    "    if data.iloc[0].tolist() == column_names:\n",
    "        # Si el primer registro es el encabezado, eliminar el primer registro\n",
    "        print(\"Encabezado detectado.\")\n",
    "        data = data.iloc[1:].reset_index(drop=True)\n",
    "    \n",
    "    # Asignar los nombres de las columnas\n",
    "    data.columns = column_names\n",
    "    dfs_adjusted.append(data)\n",
    "\n",
    "# Concatenar todos los DataFrames ajustados en uno solo\n",
    "final_df = pd.concat(dfs_adjusted, ignore_index=True)"
   ]
  },
  {
   "cell_type": "code",
   "execution_count": 36,
   "metadata": {},
   "outputs": [],
   "source": [
    "engine = crear_conexion_mysql()"
   ]
  },
  {
   "cell_type": "code",
   "execution_count": 37,
   "metadata": {},
   "outputs": [],
   "source": [
    "#Crear un objeto MetaData\n",
    "metadata = MetaData()"
   ]
  },
  {
   "cell_type": "code",
   "execution_count": 38,
   "metadata": {},
   "outputs": [
    {
     "name": "stdout",
     "output_type": "stream",
     "text": [
      "<class 'pandas.core.frame.DataFrame'>\n",
      "RangeIndex: 2700 entries, 0 to 2699\n",
      "Data columns (total 5 columns):\n",
      " #   Column     Non-Null Count  Dtype \n",
      "---  ------     --------------  ----- \n",
      " 0   empresa    2700 non-null   object\n",
      " 1   telefono   2627 non-null   object\n",
      " 2   web        2692 non-null   object\n",
      " 3   localidad  2700 non-null   object\n",
      " 4   provincia  2700 non-null   object\n",
      "dtypes: object(5)\n",
      "memory usage: 105.6+ KB\n"
     ]
    }
   ],
   "source": [
    "final_df.info()"
   ]
  },
  {
   "cell_type": "code",
   "execution_count": 39,
   "metadata": {},
   "outputs": [],
   "source": [
    "# Definir la estructura de la tabla df_acceso_por_velocidad\n",
    "tabla = Table(\n",
    "    'internet_empresas', metadata,\n",
    "    Column('idTabla', Integer, primary_key=True,autoincrement=\"auto\" ),\n",
    "    Column('empresa', String(150)),\n",
    "    Column('telefono', String(100)),\n",
    "    Column('web', String(80)),\n",
    "    Column('localidad', String(80)),\n",
    "    Column('provincia', String(50))\n",
    ")\n"
   ]
  },
  {
   "cell_type": "code",
   "execution_count": 40,
   "metadata": {},
   "outputs": [],
   "source": [
    "metadata.create_all(engine)"
   ]
  },
  {
   "cell_type": "code",
   "execution_count": null,
   "metadata": {},
   "outputs": [],
   "source": []
  },
  {
   "cell_type": "code",
   "execution_count": 41,
   "metadata": {},
   "outputs": [
    {
     "data": {
      "text/plain": [
       "2700"
      ]
     },
     "execution_count": 41,
     "metadata": {},
     "output_type": "execute_result"
    }
   ],
   "source": [
    "# Nombre de la tabla en la base de datos\n",
    "tablename = 'internet_empresas'\n",
    "# Subir el DataFrame a la base de datos\n",
    "final_df.to_sql(tablename, con=engine, if_exists='append', index=False)"
   ]
  },
  {
   "cell_type": "markdown",
   "metadata": {},
   "source": [
    "# Funciones"
   ]
  },
  {
   "cell_type": "code",
   "execution_count": 42,
   "metadata": {},
   "outputs": [],
   "source": [
    "def crear_conexion_mysql():\n",
    "    load_dotenv('conexion.env')\n",
    "    # Leer variables de entorno\n",
    "    username = os.getenv('DB_USERNAME')\n",
    "    password = os.getenv('DB_PASSWORD')\n",
    "    hostname = os.getenv('DB_HOST')\n",
    "    dbname = os.getenv('DB_NAME')\n",
    "    # Crear la conexión a la base de datos\n",
    "    engine = create_engine(f'mysql+mysqlconnector://{username}:{password}@{hostname}/{dbname}')\n",
    "    return engine"
   ]
  }
 ],
 "metadata": {
  "kernelspec": {
   "display_name": ".venv",
   "language": "python",
   "name": "python3"
  },
  "language_info": {
   "codemirror_mode": {
    "name": "ipython",
    "version": 3
   },
   "file_extension": ".py",
   "mimetype": "text/x-python",
   "name": "python",
   "nbconvert_exporter": "python",
   "pygments_lexer": "ipython3",
   "version": "3.10.0"
  }
 },
 "nbformat": 4,
 "nbformat_minor": 2
}
